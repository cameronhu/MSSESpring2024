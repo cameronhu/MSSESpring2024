{
 "cells": [
  {
   "cell_type": "markdown",
   "metadata": {},
   "source": [
    "# Discussion 11: SQL"
   ]
  },
  {
   "cell_type": "code",
   "execution_count": 1,
   "metadata": {},
   "outputs": [],
   "source": [
    "import pandas as pd\n",
    "import numpy as np\n",
    "import duckdb"
   ]
  },
  {
   "cell_type": "code",
   "execution_count": 2,
   "metadata": {},
   "outputs": [
    {
     "name": "stdout",
     "output_type": "stream",
     "text": [
      "There's a new jupysql version available (0.10.10), you're running 0.8.0. To upgrade: pip install jupysql --upgrade\n",
      "Deploy Dash apps for free on Ploomber Cloud! Learn more: https://ploomber.io/s/signup\n"
     ]
    }
   ],
   "source": [
    "# Run this cell to set up SQL.\n",
    "%load_ext sql"
   ]
  },
  {
   "cell_type": "code",
   "execution_count": 3,
   "metadata": {},
   "outputs": [],
   "source": [
    "# Run this cell to connect to duckdb\n",
    "conn = duckdb.connect()\n",
    "conn.query(\"INSTALL sqlite\")\n",
    "%sql conn --alias duckdb"
   ]
  },
  {
   "cell_type": "code",
   "execution_count": 4,
   "metadata": {},
   "outputs": [],
   "source": [
    "# Connect to the database\n",
    "%sql duckdb:///test_database --alias test"
   ]
  },
  {
   "cell_type": "markdown",
   "metadata": {},
   "source": [
    "## SQL Syntax\n",
    "### Q1 \n",
    "Create the `survey` table that we'll work with in this question."
   ]
  },
  {
   "cell_type": "code",
   "execution_count": 5,
   "metadata": {},
   "outputs": [
    {
     "data": {
      "text/html": [
       "<div>\n",
       "<style scoped>\n",
       "    .dataframe tbody tr th:only-of-type {\n",
       "        vertical-align: middle;\n",
       "    }\n",
       "\n",
       "    .dataframe tbody tr th {\n",
       "        vertical-align: top;\n",
       "    }\n",
       "\n",
       "    .dataframe thead th {\n",
       "        text-align: right;\n",
       "    }\n",
       "</style>\n",
       "<table border=\"1\" class=\"dataframe\">\n",
       "  <thead>\n",
       "    <tr style=\"text-align: right;\">\n",
       "      <th></th>\n",
       "      <th>j_name</th>\n",
       "      <th>c_name</th>\n",
       "      <th>c_location</th>\n",
       "      <th>m_name</th>\n",
       "    </tr>\n",
       "  </thead>\n",
       "  <tbody>\n",
       "    <tr>\n",
       "      <th>0</th>\n",
       "      <td>Llama Technician</td>\n",
       "      <td>Google</td>\n",
       "      <td>Mountain View</td>\n",
       "      <td>Applied Math</td>\n",
       "    </tr>\n",
       "    <tr>\n",
       "      <th>1</th>\n",
       "      <td>Software Engineer</td>\n",
       "      <td>Salesforce</td>\n",
       "      <td>SF</td>\n",
       "      <td>ORMS</td>\n",
       "    </tr>\n",
       "    <tr>\n",
       "      <th>2</th>\n",
       "      <td>Open Source Maintainer</td>\n",
       "      <td>Github</td>\n",
       "      <td>SF</td>\n",
       "      <td>Computer Science</td>\n",
       "    </tr>\n",
       "    <tr>\n",
       "      <th>3</th>\n",
       "      <td>Big Data Engineer</td>\n",
       "      <td>Microsoft</td>\n",
       "      <td>Redmond</td>\n",
       "      <td>Data Science</td>\n",
       "    </tr>\n",
       "    <tr>\n",
       "      <th>4</th>\n",
       "      <td>Data Analyst</td>\n",
       "      <td>Startup</td>\n",
       "      <td>Berkeley</td>\n",
       "      <td>Data Science</td>\n",
       "    </tr>\n",
       "    <tr>\n",
       "      <th>5</th>\n",
       "      <td>Analyst Intern</td>\n",
       "      <td>Google</td>\n",
       "      <td>SF</td>\n",
       "      <td>Philosophy</td>\n",
       "    </tr>\n",
       "  </tbody>\n",
       "</table>\n",
       "</div>"
      ],
      "text/plain": [
       "                   j_name      c_name     c_location            m_name\n",
       "0        Llama Technician      Google  Mountain View      Applied Math\n",
       "1       Software Engineer  Salesforce             SF              ORMS\n",
       "2  Open Source Maintainer      Github             SF  Computer Science\n",
       "3       Big Data Engineer   Microsoft        Redmond      Data Science\n",
       "4            Data Analyst     Startup       Berkeley      Data Science\n",
       "5          Analyst Intern      Google             SF        Philosophy"
      ]
     },
     "execution_count": 5,
     "metadata": {},
     "output_type": "execute_result"
    }
   ],
   "source": [
    "data = {'j_name': ['Llama Technician','Software Engineer','Open Source Maintainer','Big Data Engineer', 'Data Analyst', 'Analyst Intern'],\n",
    "        'c_name': [\"Google\",\"Salesforce\", \"Github\",\"Microsoft\",\"Startup\",\"Google\"],\n",
    "        'c_location' : ['Mountain View', 'SF', 'SF', 'Redmond', 'Berkeley', 'SF'],\n",
    "        'm_name': [\"Applied Math\",\"ORMS\",\"Computer Science\", \"Data Science\", \"Data Science\",\"Philosophy\"]\n",
    "        }\n",
    "\n",
    "survey = pd.DataFrame(data, columns = list(data.keys()))\n",
    "survey"
   ]
  },
  {
   "cell_type": "markdown",
   "metadata": {},
   "source": [
    "#### 1a\n",
    "Write an SQL query that selects all data science major graduates that got jobs in Berkeley.\n",
    "The result generated by your query should include all 4 columns."
   ]
  },
  {
   "cell_type": "code",
   "execution_count": 6,
   "metadata": {},
   "outputs": [
    {
     "data": {
      "text/html": [
       "<span style=\"None\">Running query in &#x27;test&#x27;</span>"
      ],
      "text/plain": [
       "Running query in 'test'"
      ]
     },
     "metadata": {},
     "output_type": "display_data"
    },
    {
     "data": {
      "text/html": [
       "<table>\n",
       "    <thead>\n",
       "        <tr>\n",
       "            <th>j_name</th>\n",
       "            <th>c_name</th>\n",
       "            <th>c_location</th>\n",
       "            <th>m_name</th>\n",
       "        </tr>\n",
       "    </thead>\n",
       "    <tbody>\n",
       "        <tr>\n",
       "            <td>Data Analyst</td>\n",
       "            <td>Startup</td>\n",
       "            <td>Berkeley</td>\n",
       "            <td>Data Science</td>\n",
       "        </tr>\n",
       "    </tbody>\n",
       "</table>\n",
       "<span style='font-style:italic;font-size:11px'><code>ResultSet</code> : to convert to pandas, call <a href='https://jupysql.ploomber.io/en/latest/integrations/pandas.html'><code>.DataFrame()</code></a> or to polars, call <a href='https://jupysql.ploomber.io/en/latest/integrations/polars.html'><code>.PolarsDataFrame()</code></a></span><br>"
      ],
      "text/plain": [
       "+--------------+---------+------------+--------------+\n",
       "|    j_name    |  c_name | c_location |    m_name    |\n",
       "+--------------+---------+------------+--------------+\n",
       "| Data Analyst | Startup |  Berkeley  | Data Science |\n",
       "+--------------+---------+------------+--------------+"
      ]
     },
     "execution_count": 6,
     "metadata": {},
     "output_type": "execute_result"
    }
   ],
   "source": [
    "%%sql \n",
    "-- write your query here --\n",
    "SELECT * \n",
    "FROM survey\n",
    "WHERE m_name = 'Data Science' \n",
    "AND c_location = 'Berkeley';"
   ]
  },
  {
   "cell_type": "markdown",
   "metadata": {},
   "source": [
    "#### 1b\n",
    "Write an SQL query to find the top 2 most popular companies that data science graduates will work at, from most popular to 2nd most popular."
   ]
  },
  {
   "cell_type": "code",
   "execution_count": 7,
   "metadata": {
    "scrolled": true
   },
   "outputs": [
    {
     "data": {
      "text/html": [
       "<span style=\"None\">Running query in &#x27;test&#x27;</span>"
      ],
      "text/plain": [
       "Running query in 'test'"
      ]
     },
     "metadata": {},
     "output_type": "display_data"
    },
    {
     "data": {
      "text/html": [
       "<table>\n",
       "    <thead>\n",
       "        <tr>\n",
       "            <th>c_name</th>\n",
       "            <th>count</th>\n",
       "        </tr>\n",
       "    </thead>\n",
       "    <tbody>\n",
       "        <tr>\n",
       "            <td>Microsoft</td>\n",
       "            <td>1</td>\n",
       "        </tr>\n",
       "        <tr>\n",
       "            <td>Startup</td>\n",
       "            <td>1</td>\n",
       "        </tr>\n",
       "    </tbody>\n",
       "</table>\n",
       "<span style='font-style:italic;font-size:11px'><code>ResultSet</code> : to convert to pandas, call <a href='https://jupysql.ploomber.io/en/latest/integrations/pandas.html'><code>.DataFrame()</code></a> or to polars, call <a href='https://jupysql.ploomber.io/en/latest/integrations/polars.html'><code>.PolarsDataFrame()</code></a></span><br>"
      ],
      "text/plain": [
       "+-----------+-------+\n",
       "|   c_name  | count |\n",
       "+-----------+-------+\n",
       "| Microsoft |   1   |\n",
       "|  Startup  |   1   |\n",
       "+-----------+-------+"
      ]
     },
     "execution_count": 7,
     "metadata": {},
     "output_type": "execute_result"
    }
   ],
   "source": [
    "%%sql \n",
    "-- write your query here --\n",
    "SELECT c_name, COUNT(*) AS count\n",
    "FROM survey\n",
    "WHERE m_name = 'Data Science'\n",
    "GROUP BY c_name\n",
    "ORDER BY count DESC\n",
    "LIMIT 2;"
   ]
  },
  {
   "cell_type": "markdown",
   "metadata": {},
   "source": [
    "### Q2\n",
    "\n",
    "Create the tables that we'll work with in this question."
   ]
  },
  {
   "cell_type": "code",
   "execution_count": 8,
   "metadata": {},
   "outputs": [],
   "source": [
    "homes_data = {'home_id': [1,2,3,4,5,6],\n",
    "        'city': [\"Berkeley\",\"San Jose\",\"Berkeley\",\"Berkeley\",\"Berkeley\", \"Sunnyvale\"],\n",
    "        'bedrooms': [2,1,5,3,4,1],\n",
    "        'bathrooms': [2,2,1,1,3,2],\n",
    "        'area': [str(i) for i in [500,750,1000,1500,500,1000]] \n",
    "        }\n",
    "\n",
    "homes = pd.DataFrame(homes_data, columns = list(homes_data.keys()))\n",
    "\n",
    "transactions_data = {'home_id': [1,2,3,5],\n",
    "        'buyer_id': [5,6,7,8],\n",
    "        'seller_id': [8,7,6,5],\n",
    "        'transaction_data': ['1/12/2001','4/14/2001','8/11/2001','12/21/2001'],\n",
    "        'sale_price': [1000,500,750,1200]\n",
    "        }\n",
    "\n",
    "transactions = pd.DataFrame(transactions_data, columns = list(transactions_data.keys()))\n",
    "\n",
    "\n",
    "buyers_data = {'buyer_id': [5,6,7,8],\n",
    "        'name': [\"Lillian\",\"Ishani\",\"Arman\",\"Yash\"],\n",
    "        }\n",
    "\n",
    "buyers = pd.DataFrame(buyers_data, columns = list(buyers_data.keys()))\n",
    "\n",
    "seller_data = {'seller_id': [8,7,6,5],\n",
    "        'name': [\"Mir\",\"Shiny\",\"Pragnay\",\"Ian\"],\n",
    "        }\n",
    "\n",
    "seller = pd.DataFrame(seller_data, columns = list(seller_data.keys()))"
   ]
  },
  {
   "cell_type": "code",
   "execution_count": 9,
   "metadata": {
    "scrolled": true
   },
   "outputs": [
    {
     "data": {
      "text/html": [
       "<div>\n",
       "<style scoped>\n",
       "    .dataframe tbody tr th:only-of-type {\n",
       "        vertical-align: middle;\n",
       "    }\n",
       "\n",
       "    .dataframe tbody tr th {\n",
       "        vertical-align: top;\n",
       "    }\n",
       "\n",
       "    .dataframe thead th {\n",
       "        text-align: right;\n",
       "    }\n",
       "</style>\n",
       "<table border=\"1\" class=\"dataframe\">\n",
       "  <thead>\n",
       "    <tr style=\"text-align: right;\">\n",
       "      <th></th>\n",
       "      <th>home_id</th>\n",
       "      <th>city</th>\n",
       "      <th>bedrooms</th>\n",
       "      <th>bathrooms</th>\n",
       "      <th>area</th>\n",
       "    </tr>\n",
       "  </thead>\n",
       "  <tbody>\n",
       "    <tr>\n",
       "      <th>0</th>\n",
       "      <td>1</td>\n",
       "      <td>Berkeley</td>\n",
       "      <td>2</td>\n",
       "      <td>2</td>\n",
       "      <td>500</td>\n",
       "    </tr>\n",
       "    <tr>\n",
       "      <th>1</th>\n",
       "      <td>2</td>\n",
       "      <td>San Jose</td>\n",
       "      <td>1</td>\n",
       "      <td>2</td>\n",
       "      <td>750</td>\n",
       "    </tr>\n",
       "    <tr>\n",
       "      <th>2</th>\n",
       "      <td>3</td>\n",
       "      <td>Berkeley</td>\n",
       "      <td>5</td>\n",
       "      <td>1</td>\n",
       "      <td>1000</td>\n",
       "    </tr>\n",
       "    <tr>\n",
       "      <th>3</th>\n",
       "      <td>4</td>\n",
       "      <td>Berkeley</td>\n",
       "      <td>3</td>\n",
       "      <td>1</td>\n",
       "      <td>1500</td>\n",
       "    </tr>\n",
       "    <tr>\n",
       "      <th>4</th>\n",
       "      <td>5</td>\n",
       "      <td>Berkeley</td>\n",
       "      <td>4</td>\n",
       "      <td>3</td>\n",
       "      <td>500</td>\n",
       "    </tr>\n",
       "    <tr>\n",
       "      <th>5</th>\n",
       "      <td>6</td>\n",
       "      <td>Sunnyvale</td>\n",
       "      <td>1</td>\n",
       "      <td>2</td>\n",
       "      <td>1000</td>\n",
       "    </tr>\n",
       "  </tbody>\n",
       "</table>\n",
       "</div>"
      ],
      "text/plain": [
       "   home_id       city  bedrooms  bathrooms  area\n",
       "0        1   Berkeley         2          2   500\n",
       "1        2   San Jose         1          2   750\n",
       "2        3   Berkeley         5          1  1000\n",
       "3        4   Berkeley         3          1  1500\n",
       "4        5   Berkeley         4          3   500\n",
       "5        6  Sunnyvale         1          2  1000"
      ]
     },
     "execution_count": 9,
     "metadata": {},
     "output_type": "execute_result"
    }
   ],
   "source": [
    "homes"
   ]
  },
  {
   "cell_type": "code",
   "execution_count": 10,
   "metadata": {},
   "outputs": [
    {
     "data": {
      "text/html": [
       "<div>\n",
       "<style scoped>\n",
       "    .dataframe tbody tr th:only-of-type {\n",
       "        vertical-align: middle;\n",
       "    }\n",
       "\n",
       "    .dataframe tbody tr th {\n",
       "        vertical-align: top;\n",
       "    }\n",
       "\n",
       "    .dataframe thead th {\n",
       "        text-align: right;\n",
       "    }\n",
       "</style>\n",
       "<table border=\"1\" class=\"dataframe\">\n",
       "  <thead>\n",
       "    <tr style=\"text-align: right;\">\n",
       "      <th></th>\n",
       "      <th>home_id</th>\n",
       "      <th>buyer_id</th>\n",
       "      <th>seller_id</th>\n",
       "      <th>transaction_data</th>\n",
       "      <th>sale_price</th>\n",
       "    </tr>\n",
       "  </thead>\n",
       "  <tbody>\n",
       "    <tr>\n",
       "      <th>0</th>\n",
       "      <td>1</td>\n",
       "      <td>5</td>\n",
       "      <td>8</td>\n",
       "      <td>1/12/2001</td>\n",
       "      <td>1000</td>\n",
       "    </tr>\n",
       "    <tr>\n",
       "      <th>1</th>\n",
       "      <td>2</td>\n",
       "      <td>6</td>\n",
       "      <td>7</td>\n",
       "      <td>4/14/2001</td>\n",
       "      <td>500</td>\n",
       "    </tr>\n",
       "    <tr>\n",
       "      <th>2</th>\n",
       "      <td>3</td>\n",
       "      <td>7</td>\n",
       "      <td>6</td>\n",
       "      <td>8/11/2001</td>\n",
       "      <td>750</td>\n",
       "    </tr>\n",
       "    <tr>\n",
       "      <th>3</th>\n",
       "      <td>5</td>\n",
       "      <td>8</td>\n",
       "      <td>5</td>\n",
       "      <td>12/21/2001</td>\n",
       "      <td>1200</td>\n",
       "    </tr>\n",
       "  </tbody>\n",
       "</table>\n",
       "</div>"
      ],
      "text/plain": [
       "   home_id  buyer_id  seller_id transaction_data  sale_price\n",
       "0        1         5          8        1/12/2001        1000\n",
       "1        2         6          7        4/14/2001         500\n",
       "2        3         7          6        8/11/2001         750\n",
       "3        5         8          5       12/21/2001        1200"
      ]
     },
     "execution_count": 10,
     "metadata": {},
     "output_type": "execute_result"
    }
   ],
   "source": [
    "transactions"
   ]
  },
  {
   "cell_type": "code",
   "execution_count": 11,
   "metadata": {},
   "outputs": [
    {
     "data": {
      "text/html": [
       "<div>\n",
       "<style scoped>\n",
       "    .dataframe tbody tr th:only-of-type {\n",
       "        vertical-align: middle;\n",
       "    }\n",
       "\n",
       "    .dataframe tbody tr th {\n",
       "        vertical-align: top;\n",
       "    }\n",
       "\n",
       "    .dataframe thead th {\n",
       "        text-align: right;\n",
       "    }\n",
       "</style>\n",
       "<table border=\"1\" class=\"dataframe\">\n",
       "  <thead>\n",
       "    <tr style=\"text-align: right;\">\n",
       "      <th></th>\n",
       "      <th>buyer_id</th>\n",
       "      <th>name</th>\n",
       "    </tr>\n",
       "  </thead>\n",
       "  <tbody>\n",
       "    <tr>\n",
       "      <th>0</th>\n",
       "      <td>5</td>\n",
       "      <td>Lillian</td>\n",
       "    </tr>\n",
       "    <tr>\n",
       "      <th>1</th>\n",
       "      <td>6</td>\n",
       "      <td>Ishani</td>\n",
       "    </tr>\n",
       "    <tr>\n",
       "      <th>2</th>\n",
       "      <td>7</td>\n",
       "      <td>Arman</td>\n",
       "    </tr>\n",
       "    <tr>\n",
       "      <th>3</th>\n",
       "      <td>8</td>\n",
       "      <td>Yash</td>\n",
       "    </tr>\n",
       "  </tbody>\n",
       "</table>\n",
       "</div>"
      ],
      "text/plain": [
       "   buyer_id     name\n",
       "0         5  Lillian\n",
       "1         6   Ishani\n",
       "2         7    Arman\n",
       "3         8     Yash"
      ]
     },
     "execution_count": 11,
     "metadata": {},
     "output_type": "execute_result"
    }
   ],
   "source": [
    "buyers"
   ]
  },
  {
   "cell_type": "code",
   "execution_count": 12,
   "metadata": {},
   "outputs": [
    {
     "data": {
      "text/html": [
       "<div>\n",
       "<style scoped>\n",
       "    .dataframe tbody tr th:only-of-type {\n",
       "        vertical-align: middle;\n",
       "    }\n",
       "\n",
       "    .dataframe tbody tr th {\n",
       "        vertical-align: top;\n",
       "    }\n",
       "\n",
       "    .dataframe thead th {\n",
       "        text-align: right;\n",
       "    }\n",
       "</style>\n",
       "<table border=\"1\" class=\"dataframe\">\n",
       "  <thead>\n",
       "    <tr style=\"text-align: right;\">\n",
       "      <th></th>\n",
       "      <th>seller_id</th>\n",
       "      <th>name</th>\n",
       "    </tr>\n",
       "  </thead>\n",
       "  <tbody>\n",
       "    <tr>\n",
       "      <th>0</th>\n",
       "      <td>8</td>\n",
       "      <td>Mir</td>\n",
       "    </tr>\n",
       "    <tr>\n",
       "      <th>1</th>\n",
       "      <td>7</td>\n",
       "      <td>Shiny</td>\n",
       "    </tr>\n",
       "    <tr>\n",
       "      <th>2</th>\n",
       "      <td>6</td>\n",
       "      <td>Pragnay</td>\n",
       "    </tr>\n",
       "    <tr>\n",
       "      <th>3</th>\n",
       "      <td>5</td>\n",
       "      <td>Ian</td>\n",
       "    </tr>\n",
       "  </tbody>\n",
       "</table>\n",
       "</div>"
      ],
      "text/plain": [
       "   seller_id     name\n",
       "0          8      Mir\n",
       "1          7    Shiny\n",
       "2          6  Pragnay\n",
       "3          5      Ian"
      ]
     },
     "execution_count": 12,
     "metadata": {},
     "output_type": "execute_result"
    }
   ],
   "source": [
    "seller"
   ]
  },
  {
   "cell_type": "markdown",
   "metadata": {
    "jp-MarkdownHeadingCollapsed": true
   },
   "source": [
    "\n",
    "\n",
    "Consider the following real estate schema (underlined column names have unique values and no duplicates):\n",
    "\n",
    "<code>\n",
    "Homes(<u>home_id int</u>, city text, bedrooms int, bathrooms int,\n",
    "area text)\n",
    "Transactions(<u>home_id int, buyer_id int, seller_id int, transaction_date date</u>, sale_price int)\n",
    "Buyers(<u>buyer_id int</u>, name text)\n",
    "Sellers(<u>seller_id int</u>, name text)\n",
    "</code>\n",
    "<br>\n",
    "\n",
    "Fill in the blanks in the SQL query to find the home_id, selling price, and area for each home in Berkeley with an area greater than 600. If the home has not been sold yet and has an area greater than 600, it should still be included in the table with **the price as None**.\n"
   ]
  },
  {
   "cell_type": "code",
   "execution_count": 13,
   "metadata": {},
   "outputs": [
    {
     "data": {
      "text/html": [
       "<span style=\"None\">Running query in &#x27;test&#x27;</span>"
      ],
      "text/plain": [
       "Running query in 'test'"
      ]
     },
     "metadata": {},
     "output_type": "display_data"
    },
    {
     "data": {
      "text/html": [
       "<table>\n",
       "    <thead>\n",
       "        <tr>\n",
       "            <th>home_id</th>\n",
       "            <th>sale_price</th>\n",
       "            <th>int_area</th>\n",
       "        </tr>\n",
       "    </thead>\n",
       "    <tbody>\n",
       "        <tr>\n",
       "            <td>3</td>\n",
       "            <td>750</td>\n",
       "            <td>1000</td>\n",
       "        </tr>\n",
       "        <tr>\n",
       "            <td>4</td>\n",
       "            <td>None</td>\n",
       "            <td>1500</td>\n",
       "        </tr>\n",
       "    </tbody>\n",
       "</table>\n",
       "<span style='font-style:italic;font-size:11px'><code>ResultSet</code> : to convert to pandas, call <a href='https://jupysql.ploomber.io/en/latest/integrations/pandas.html'><code>.DataFrame()</code></a> or to polars, call <a href='https://jupysql.ploomber.io/en/latest/integrations/polars.html'><code>.PolarsDataFrame()</code></a></span><br>"
      ],
      "text/plain": [
       "+---------+------------+----------+\n",
       "| home_id | sale_price | int_area |\n",
       "+---------+------------+----------+\n",
       "|    3    |    750     |   1000   |\n",
       "|    4    |    None    |   1500   |\n",
       "+---------+------------+----------+"
      ]
     },
     "execution_count": 13,
     "metadata": {},
     "output_type": "execute_result"
    }
   ],
   "source": [
    "%%sql \n",
    "-- fill in the blanks --\n",
    "SELECT H.home_id, T.sale_price, CAST(H.area as INT) as int_area\n",
    "FROM Homes AS H\n",
    "LEFT JOIN Transactions AS T\n",
    "ON H.home_id = T.home_id\n",
    "WHERE H.city = 'Berkeley'\n",
    "AND int_area > 600;"
   ]
  },
  {
   "cell_type": "code",
   "execution_count": 14,
   "metadata": {
    "scrolled": true
   },
   "outputs": [
    {
     "data": {
      "text/html": [
       "<span style=\"None\">Running query in &#x27;test&#x27;</span>"
      ],
      "text/plain": [
       "Running query in 'test'"
      ]
     },
     "metadata": {},
     "output_type": "display_data"
    },
    {
     "data": {
      "text/html": [
       "<table>\n",
       "    <thead>\n",
       "        <tr>\n",
       "            <th>home_id</th>\n",
       "            <th>sale_price</th>\n",
       "            <th>area</th>\n",
       "        </tr>\n",
       "    </thead>\n",
       "    <tbody>\n",
       "        <tr>\n",
       "            <td>3</td>\n",
       "            <td>750</td>\n",
       "            <td>1000</td>\n",
       "        </tr>\n",
       "        <tr>\n",
       "            <td>4</td>\n",
       "            <td>None</td>\n",
       "            <td>1500</td>\n",
       "        </tr>\n",
       "    </tbody>\n",
       "</table>\n",
       "<span style='font-style:italic;font-size:11px'><code>ResultSet</code> : to convert to pandas, call <a href='https://jupysql.ploomber.io/en/latest/integrations/pandas.html'><code>.DataFrame()</code></a> or to polars, call <a href='https://jupysql.ploomber.io/en/latest/integrations/polars.html'><code>.PolarsDataFrame()</code></a></span><br>"
      ],
      "text/plain": [
       "+---------+------------+------+\n",
       "| home_id | sale_price | area |\n",
       "+---------+------------+------+\n",
       "|    3    |    750     | 1000 |\n",
       "|    4    |    None    | 1500 |\n",
       "+---------+------------+------+"
      ]
     },
     "execution_count": 14,
     "metadata": {},
     "output_type": "execute_result"
    }
   ],
   "source": [
    "%%sql \n",
    "-- alternate solution using RIGHT JOIN and casting only when making a comparison--\n",
    "SELECT H.home_id, T.sale_price, H.area\n",
    "FROM Transactions AS T\n",
    "RIGHT JOIN Homes AS H\n",
    "ON H.home_id = T.home_id\n",
    "WHERE H.city = 'Berkeley'\n",
    "AND CAST(area AS INT) > 600;"
   ]
  },
  {
   "cell_type": "markdown",
   "metadata": {},
   "source": [
    "## Joins \n",
    "\n",
    "![](joins.png)\n",
    "\n",
    "Note: You do not need the JOIN keyword to join SQL tables. The following are equivalent:\n",
    "\n",
    "    SELECT column1, column2\n",
    "    FROM table1, table2\n",
    "    WHERE table1.id = table2.id;\n",
    "    \n",
    "    SELECT column1, column2\n",
    "    FROM table1 JOIN table2 \n",
    "    ON table1.id = table2.id;\n",
    "\n",
    "### Q3 \n",
    "\n",
    "In the figure above, assume `table1` has $m$ records, while `table2` has $n$ records. Describe which records are returned from each type of join. What is the **maximum** possible number of records returned in each join? Consider the cases where on the joined field, (1) both tables have unique values, and (2) both tables have duplicated values. As a bonus, what is the **minimum** possible number of records returned in each join?\n"
   ]
  },
  {
   "cell_type": "markdown",
   "metadata": {},
   "source": [
    "_Write your answer in this cell_ "
   ]
  },
  {
   "cell_type": "markdown",
   "metadata": {},
   "source": [
    "## More SQL Queries\n",
    "### Q4\n",
    "\n",
    "Examine this schema for these two tables:\n",
    "\n",
    "    CREATE TABLE cat_owners (\n",
    "        id integer, \n",
    "        name text, \n",
    "        age integer,\n",
    "        PRIMARY KEY (id)\n",
    "    ); \n",
    "\n",
    "    CREATE TABLE cats (\n",
    "        id integer\n",
    "        owner_id integer, \n",
    "        name text, \n",
    "        breed text, \n",
    "        age integer, \n",
    "        PRIMARY KEY (id),\n",
    "        FOREIGN KEY (owner_id) REFERENCES cat_owners\n",
    "    );\n"
   ]
  },
  {
   "cell_type": "code",
   "execution_count": 15,
   "metadata": {},
   "outputs": [],
   "source": [
    "cat_owners_data = {'id': [10,11,12],\n",
    "        'name': [\"Alice\",\"Bob\",\"Candice\"],\n",
    "        }\n",
    "\n",
    "cat_owners = pd.DataFrame(cat_owners_data, columns = list(cat_owners_data.keys()))\n",
    "\n",
    "cats_data = {'id': [51,52,53,54,55],\n",
    "        'owner_id': [\"Alice\",\"Alice\",\"Bob\",\"Bob\",\"Candice\"],\n",
    "        'name': [\"Mittens\",\"Whisker\",\"Felix\",\"Lucky\",\"Fluffy\"],\n",
    "        'breed' : [\"Tabby\",\"Black\",\"Orange\",\"Tabby\",\"Black\"],\n",
    "        'age': [2,3,1,2,16]\n",
    "        }\n",
    "\n",
    "cats = pd.DataFrame(cats_data, columns = list(cats_data.keys()))"
   ]
  },
  {
   "cell_type": "code",
   "execution_count": 16,
   "metadata": {},
   "outputs": [
    {
     "data": {
      "text/html": [
       "<div>\n",
       "<style scoped>\n",
       "    .dataframe tbody tr th:only-of-type {\n",
       "        vertical-align: middle;\n",
       "    }\n",
       "\n",
       "    .dataframe tbody tr th {\n",
       "        vertical-align: top;\n",
       "    }\n",
       "\n",
       "    .dataframe thead th {\n",
       "        text-align: right;\n",
       "    }\n",
       "</style>\n",
       "<table border=\"1\" class=\"dataframe\">\n",
       "  <thead>\n",
       "    <tr style=\"text-align: right;\">\n",
       "      <th></th>\n",
       "      <th>id</th>\n",
       "      <th>name</th>\n",
       "    </tr>\n",
       "  </thead>\n",
       "  <tbody>\n",
       "    <tr>\n",
       "      <th>0</th>\n",
       "      <td>10</td>\n",
       "      <td>Alice</td>\n",
       "    </tr>\n",
       "    <tr>\n",
       "      <th>1</th>\n",
       "      <td>11</td>\n",
       "      <td>Bob</td>\n",
       "    </tr>\n",
       "    <tr>\n",
       "      <th>2</th>\n",
       "      <td>12</td>\n",
       "      <td>Candice</td>\n",
       "    </tr>\n",
       "  </tbody>\n",
       "</table>\n",
       "</div>"
      ],
      "text/plain": [
       "   id     name\n",
       "0  10    Alice\n",
       "1  11      Bob\n",
       "2  12  Candice"
      ]
     },
     "execution_count": 16,
     "metadata": {},
     "output_type": "execute_result"
    }
   ],
   "source": [
    "cat_owners "
   ]
  },
  {
   "cell_type": "code",
   "execution_count": 17,
   "metadata": {},
   "outputs": [
    {
     "data": {
      "text/html": [
       "<div>\n",
       "<style scoped>\n",
       "    .dataframe tbody tr th:only-of-type {\n",
       "        vertical-align: middle;\n",
       "    }\n",
       "\n",
       "    .dataframe tbody tr th {\n",
       "        vertical-align: top;\n",
       "    }\n",
       "\n",
       "    .dataframe thead th {\n",
       "        text-align: right;\n",
       "    }\n",
       "</style>\n",
       "<table border=\"1\" class=\"dataframe\">\n",
       "  <thead>\n",
       "    <tr style=\"text-align: right;\">\n",
       "      <th></th>\n",
       "      <th>id</th>\n",
       "      <th>owner_id</th>\n",
       "      <th>name</th>\n",
       "      <th>breed</th>\n",
       "      <th>age</th>\n",
       "    </tr>\n",
       "  </thead>\n",
       "  <tbody>\n",
       "    <tr>\n",
       "      <th>0</th>\n",
       "      <td>51</td>\n",
       "      <td>Alice</td>\n",
       "      <td>Mittens</td>\n",
       "      <td>Tabby</td>\n",
       "      <td>2</td>\n",
       "    </tr>\n",
       "    <tr>\n",
       "      <th>1</th>\n",
       "      <td>52</td>\n",
       "      <td>Alice</td>\n",
       "      <td>Whisker</td>\n",
       "      <td>Black</td>\n",
       "      <td>3</td>\n",
       "    </tr>\n",
       "    <tr>\n",
       "      <th>2</th>\n",
       "      <td>53</td>\n",
       "      <td>Bob</td>\n",
       "      <td>Felix</td>\n",
       "      <td>Orange</td>\n",
       "      <td>1</td>\n",
       "    </tr>\n",
       "    <tr>\n",
       "      <th>3</th>\n",
       "      <td>54</td>\n",
       "      <td>Bob</td>\n",
       "      <td>Lucky</td>\n",
       "      <td>Tabby</td>\n",
       "      <td>2</td>\n",
       "    </tr>\n",
       "    <tr>\n",
       "      <th>4</th>\n",
       "      <td>55</td>\n",
       "      <td>Candice</td>\n",
       "      <td>Fluffy</td>\n",
       "      <td>Black</td>\n",
       "      <td>16</td>\n",
       "    </tr>\n",
       "  </tbody>\n",
       "</table>\n",
       "</div>"
      ],
      "text/plain": [
       "   id owner_id     name   breed  age\n",
       "0  51    Alice  Mittens   Tabby    2\n",
       "1  52    Alice  Whisker   Black    3\n",
       "2  53      Bob    Felix  Orange    1\n",
       "3  54      Bob    Lucky   Tabby    2\n",
       "4  55  Candice   Fluffy   Black   16"
      ]
     },
     "execution_count": 17,
     "metadata": {},
     "output_type": "execute_result"
    }
   ],
   "source": [
    "cats"
   ]
  },
  {
   "cell_type": "markdown",
   "metadata": {},
   "source": [
    "#### 4a\n",
    "Write an SQL query to create an almost identical table as cats, except with an additional\n",
    "column `Nickname` that has the value 'Kitten' for cats less than or equal to the age of 1,\n",
    "'Catto' for cats between 1 and 15, and 'Wise One' for cats older than or equal to 15"
   ]
  },
  {
   "cell_type": "code",
   "execution_count": 18,
   "metadata": {},
   "outputs": [
    {
     "data": {
      "text/html": [
       "<span style=\"None\">Running query in &#x27;test&#x27;</span>"
      ],
      "text/plain": [
       "Running query in 'test'"
      ]
     },
     "metadata": {},
     "output_type": "display_data"
    },
    {
     "data": {
      "text/html": [
       "<table>\n",
       "    <thead>\n",
       "        <tr>\n",
       "            <th>id</th>\n",
       "            <th>owner_id</th>\n",
       "            <th>name</th>\n",
       "            <th>breed</th>\n",
       "            <th>age</th>\n",
       "            <th>Nickname</th>\n",
       "        </tr>\n",
       "    </thead>\n",
       "    <tbody>\n",
       "        <tr>\n",
       "            <td>51</td>\n",
       "            <td>Alice</td>\n",
       "            <td>Mittens</td>\n",
       "            <td>Tabby</td>\n",
       "            <td>2</td>\n",
       "            <td>Catto</td>\n",
       "        </tr>\n",
       "        <tr>\n",
       "            <td>52</td>\n",
       "            <td>Alice</td>\n",
       "            <td>Whisker</td>\n",
       "            <td>Black</td>\n",
       "            <td>3</td>\n",
       "            <td>Catto</td>\n",
       "        </tr>\n",
       "        <tr>\n",
       "            <td>53</td>\n",
       "            <td>Bob</td>\n",
       "            <td>Felix</td>\n",
       "            <td>Orange</td>\n",
       "            <td>1</td>\n",
       "            <td>Kitten</td>\n",
       "        </tr>\n",
       "        <tr>\n",
       "            <td>54</td>\n",
       "            <td>Bob</td>\n",
       "            <td>Lucky</td>\n",
       "            <td>Tabby</td>\n",
       "            <td>2</td>\n",
       "            <td>Catto</td>\n",
       "        </tr>\n",
       "        <tr>\n",
       "            <td>55</td>\n",
       "            <td>Candice</td>\n",
       "            <td>Fluffy</td>\n",
       "            <td>Black</td>\n",
       "            <td>16</td>\n",
       "            <td>Wise One</td>\n",
       "        </tr>\n",
       "    </tbody>\n",
       "</table>\n",
       "<span style='font-style:italic;font-size:11px'><code>ResultSet</code> : to convert to pandas, call <a href='https://jupysql.ploomber.io/en/latest/integrations/pandas.html'><code>.DataFrame()</code></a> or to polars, call <a href='https://jupysql.ploomber.io/en/latest/integrations/polars.html'><code>.PolarsDataFrame()</code></a></span><br>"
      ],
      "text/plain": [
       "+----+----------+---------+--------+-----+----------+\n",
       "| id | owner_id |   name  | breed  | age | Nickname |\n",
       "+----+----------+---------+--------+-----+----------+\n",
       "| 51 |  Alice   | Mittens | Tabby  |  2  |  Catto   |\n",
       "| 52 |  Alice   | Whisker | Black  |  3  |  Catto   |\n",
       "| 53 |   Bob    |  Felix  | Orange |  1  |  Kitten  |\n",
       "| 54 |   Bob    |  Lucky  | Tabby  |  2  |  Catto   |\n",
       "| 55 | Candice  |  Fluffy | Black  |  16 | Wise One |\n",
       "+----+----------+---------+--------+-----+----------+"
      ]
     },
     "execution_count": 18,
     "metadata": {},
     "output_type": "execute_result"
    }
   ],
   "source": [
    "%%sql \n",
    "-- write your query here --\n",
    "SELECT C.id, owner_id, name, breed, age,\n",
    "    CASE\n",
    "        WHEN age <= 1 THEN 'Kitten'\n",
    "        WHEN age >= 15 THEN 'Wise One'\n",
    "        ELSE 'Catto'\n",
    "    END AS Nickname\n",
    "FROM Cats AS C;"
   ]
  },
  {
   "cell_type": "markdown",
   "metadata": {},
   "source": [
    "#### 4b\n",
    "Considering only cats with ages strictly greater than 1, write an SQL query that returns the names of owners that own more than one cat."
   ]
  },
  {
   "cell_type": "code",
   "execution_count": 23,
   "metadata": {},
   "outputs": [
    {
     "data": {
      "text/html": [
       "<span style=\"None\">Running query in &#x27;test&#x27;</span>"
      ],
      "text/plain": [
       "Running query in 'test'"
      ]
     },
     "metadata": {},
     "output_type": "display_data"
    },
    {
     "data": {
      "text/html": [
       "<table>\n",
       "    <thead>\n",
       "        <tr>\n",
       "            <th>owner_id</th>\n",
       "        </tr>\n",
       "    </thead>\n",
       "    <tbody>\n",
       "        <tr>\n",
       "            <td>Alice</td>\n",
       "        </tr>\n",
       "    </tbody>\n",
       "</table>\n",
       "<span style='font-style:italic;font-size:11px'><code>ResultSet</code> : to convert to pandas, call <a href='https://jupysql.ploomber.io/en/latest/integrations/pandas.html'><code>.DataFrame()</code></a> or to polars, call <a href='https://jupysql.ploomber.io/en/latest/integrations/polars.html'><code>.PolarsDataFrame()</code></a></span><br>"
      ],
      "text/plain": [
       "+----------+\n",
       "| owner_id |\n",
       "+----------+\n",
       "|  Alice   |\n",
       "+----------+"
      ]
     },
     "execution_count": 23,
     "metadata": {},
     "output_type": "execute_result"
    }
   ],
   "source": [
    "%%sql \n",
    "-- write your query here --\n",
    "SELECT owner_id\n",
    "FROM Cats AS C\n",
    "WHERE C.age > 1\n",
    "GROUP BY C.owner_id\n",
    "HAVING COUNT(*) > 1;"
   ]
  },
  {
   "cell_type": "markdown",
   "metadata": {},
   "source": [
    "#### 4c\n",
    "Write an SQL query to figure out the `owner_id`/owner of the cat owner who owns the most cats."
   ]
  },
  {
   "cell_type": "code",
   "execution_count": 20,
   "metadata": {},
   "outputs": [
    {
     "data": {
      "text/html": [
       "<span style=\"None\">Running query in &#x27;test&#x27;</span>"
      ],
      "text/plain": [
       "Running query in 'test'"
      ]
     },
     "metadata": {},
     "output_type": "display_data"
    },
    {
     "data": {
      "text/html": [
       "<table>\n",
       "    <thead>\n",
       "        <tr>\n",
       "            <th>owner_id</th>\n",
       "        </tr>\n",
       "    </thead>\n",
       "    <tbody>\n",
       "        <tr>\n",
       "            <td>Alice</td>\n",
       "        </tr>\n",
       "    </tbody>\n",
       "</table>\n",
       "<span style='font-style:italic;font-size:11px'><code>ResultSet</code> : to convert to pandas, call <a href='https://jupysql.ploomber.io/en/latest/integrations/pandas.html'><code>.DataFrame()</code></a> or to polars, call <a href='https://jupysql.ploomber.io/en/latest/integrations/polars.html'><code>.PolarsDataFrame()</code></a></span><br>"
      ],
      "text/plain": [
       "+----------+\n",
       "| owner_id |\n",
       "+----------+\n",
       "|  Alice   |\n",
       "+----------+"
      ]
     },
     "execution_count": 20,
     "metadata": {},
     "output_type": "execute_result"
    }
   ],
   "source": [
    "%%sql \n",
    "-- write your query here --\n",
    "SELECT owner_id \n",
    "FROM Cats \n",
    "GROUP BY owner_id\n",
    "ORDER BY COUNT(*) DESC \n",
    "LIMIT 1;"
   ]
  },
  {
   "cell_type": "markdown",
   "metadata": {},
   "source": [
    "#### 4d\n",
    "Write an SQL query to figure out the names of all of the cat owners who have a cat\n",
    "named Pishi. "
   ]
  },
  {
   "cell_type": "code",
   "execution_count": 21,
   "metadata": {},
   "outputs": [
    {
     "data": {
      "text/html": [
       "<span style=\"None\">Running query in &#x27;test&#x27;</span>"
      ],
      "text/plain": [
       "Running query in 'test'"
      ]
     },
     "metadata": {},
     "output_type": "display_data"
    },
    {
     "data": {
      "text/html": [
       "<table>\n",
       "    <thead>\n",
       "        <tr>\n",
       "            <th>name</th>\n",
       "        </tr>\n",
       "    </thead>\n",
       "    <tbody>\n",
       "    </tbody>\n",
       "</table>\n",
       "<span style='font-style:italic;font-size:11px'><code>ResultSet</code> : to convert to pandas, call <a href='https://jupysql.ploomber.io/en/latest/integrations/pandas.html'><code>.DataFrame()</code></a> or to polars, call <a href='https://jupysql.ploomber.io/en/latest/integrations/polars.html'><code>.PolarsDataFrame()</code></a></span><br>"
      ],
      "text/plain": [
       "+------+\n",
       "| name |\n",
       "+------+\n",
       "+------+"
      ]
     },
     "execution_count": 21,
     "metadata": {},
     "output_type": "execute_result"
    }
   ],
   "source": [
    "%%sql \n",
    "-- write your query here --\n",
    "SELECT O.name \n",
    "FROM Cats AS C\n",
    "JOIN Cat_owners AS O\n",
    "ON C.owner_id = O.id \n",
    "WHERE C.name = 'Pishi'"
   ]
  },
  {
   "cell_type": "markdown",
   "metadata": {},
   "source": [
    "#### 4e\n",
    "It is possible to have a cat with an owner not in the `cat_owners` table? Explain your answer."
   ]
  },
  {
   "cell_type": "markdown",
   "metadata": {},
   "source": [
    "_Write your answer in this cell_ "
   ]
  },
  {
   "cell_type": "markdown",
   "metadata": {},
   "source": [
    "#### 4f\n",
    "Write an SQL query to select all rows from the `cats` table that have cats of\n",
    "the top 2 most popular cat breeds."
   ]
  },
  {
   "cell_type": "code",
   "execution_count": 22,
   "metadata": {},
   "outputs": [
    {
     "data": {
      "text/html": [
       "<span style=\"None\">Running query in &#x27;test&#x27;</span>"
      ],
      "text/plain": [
       "Running query in 'test'"
      ]
     },
     "metadata": {},
     "output_type": "display_data"
    },
    {
     "data": {
      "text/html": [
       "<table>\n",
       "    <thead>\n",
       "        <tr>\n",
       "            <th>id</th>\n",
       "            <th>owner_id</th>\n",
       "            <th>name</th>\n",
       "            <th>breed</th>\n",
       "            <th>age</th>\n",
       "        </tr>\n",
       "    </thead>\n",
       "    <tbody>\n",
       "        <tr>\n",
       "            <td>51</td>\n",
       "            <td>Alice</td>\n",
       "            <td>Mittens</td>\n",
       "            <td>Tabby</td>\n",
       "            <td>2</td>\n",
       "        </tr>\n",
       "        <tr>\n",
       "            <td>52</td>\n",
       "            <td>Alice</td>\n",
       "            <td>Whisker</td>\n",
       "            <td>Black</td>\n",
       "            <td>3</td>\n",
       "        </tr>\n",
       "        <tr>\n",
       "            <td>54</td>\n",
       "            <td>Bob</td>\n",
       "            <td>Lucky</td>\n",
       "            <td>Tabby</td>\n",
       "            <td>2</td>\n",
       "        </tr>\n",
       "        <tr>\n",
       "            <td>55</td>\n",
       "            <td>Candice</td>\n",
       "            <td>Fluffy</td>\n",
       "            <td>Black</td>\n",
       "            <td>16</td>\n",
       "        </tr>\n",
       "    </tbody>\n",
       "</table>\n",
       "<span style='font-style:italic;font-size:11px'><code>ResultSet</code> : to convert to pandas, call <a href='https://jupysql.ploomber.io/en/latest/integrations/pandas.html'><code>.DataFrame()</code></a> or to polars, call <a href='https://jupysql.ploomber.io/en/latest/integrations/polars.html'><code>.PolarsDataFrame()</code></a></span><br>"
      ],
      "text/plain": [
       "+----+----------+---------+-------+-----+\n",
       "| id | owner_id |   name  | breed | age |\n",
       "+----+----------+---------+-------+-----+\n",
       "| 51 |  Alice   | Mittens | Tabby |  2  |\n",
       "| 52 |  Alice   | Whisker | Black |  3  |\n",
       "| 54 |   Bob    |  Lucky  | Tabby |  2  |\n",
       "| 55 | Candice  |  Fluffy | Black |  16 |\n",
       "+----+----------+---------+-------+-----+"
      ]
     },
     "execution_count": 22,
     "metadata": {},
     "output_type": "execute_result"
    }
   ],
   "source": [
    "%%sql \n",
    "-- write your query here --\n",
    "SELECT *\n",
    "FROM Cats WHERE breed IN\n",
    "    (SELECT breed\n",
    "    FROM Cats\n",
    "    GROUP BY breed\n",
    "    ORDER BY COUNT(*) DESC\n",
    "    LIMIT 2);"
   ]
  }
 ],
 "metadata": {
  "history": [
   {
    "code": "import numpy as np",
    "id": "e03ee822cc7941e5863f0723eca7b32f",
    "idx": 0,
    "time": "2021-02-01T23:27:15.701Z",
    "type": "execution"
   },
   {
    "id": "e03ee822cc7941e5863f0723eca7b32f",
    "time": "2021-02-01T23:27:16.012Z",
    "type": "completion"
   },
   {
    "code": "psum = 0\nfor i in np.arange(1,25):\n    psum += i",
    "id": "a99f4962d8764231858c8662c0eda629",
    "idx": 1,
    "time": "2021-02-01T23:27:40.950Z",
    "type": "execution"
   },
   {
    "id": "a99f4962d8764231858c8662c0eda629",
    "time": "2021-02-01T23:27:42.055Z",
    "type": "completion"
   },
   {
    "code": "psum",
    "id": "42ea2fe1dcfb42178b4db5cbad763b27",
    "idx": 2,
    "time": "2021-02-01T23:27:44.325Z",
    "type": "execution"
   },
   {
    "id": "42ea2fe1dcfb42178b4db5cbad763b27",
    "time": "2021-02-01T23:27:44.419Z",
    "type": "completion"
   },
   {
    "code": "def foo(t, c, o):\n    return t + c + o",
    "id": "8babcdfe4430400abec0840f90a19be2",
    "idx": 1,
    "time": "2021-02-02T00:05:27.779Z",
    "type": "execution"
   },
   {
    "id": "8babcdfe4430400abec0840f90a19be2",
    "time": "2021-02-02T00:05:27.852Z",
    "type": "completion"
   },
   {
    "code": "psum = 0\nfor t in range(0, 25):\n    for c in range(0, 25-t):\n        o = 24 - t -c\n        psum += foo(t, c, o)\npsum",
    "id": "f23e1481f10b4f03a9a1af1daced3232",
    "idx": 3,
    "time": "2021-02-02T00:06:12.517Z",
    "type": "execution"
   },
   {
    "id": "f23e1481f10b4f03a9a1af1daced3232",
    "time": "2021-02-02T00:06:12.593Z",
    "type": "completion"
   },
   {
    "code": "import numpy as np\nimport matplotlib.pyplot as plt\n%matplotlib inline",
    "id": "06ffec8eed2f4a27b109de801c9e979b",
    "idx": 0,
    "time": "2021-02-08T22:29:47.543Z",
    "type": "execution"
   },
   {
    "id": "06ffec8eed2f4a27b109de801c9e979b",
    "time": "2021-02-08T22:29:48.050Z",
    "type": "completion"
   },
   {
    "code": "x =  np.random.choice(np.arange(10), 10000)",
    "id": "4fe735effc854b38867c42ca2f125d47",
    "idx": 1,
    "time": "2021-02-08T22:30:56.492Z",
    "type": "execution"
   },
   {
    "id": "4fe735effc854b38867c42ca2f125d47",
    "time": "2021-02-08T22:30:56.558Z",
    "type": "completion"
   },
   {
    "code": "x",
    "id": "b2d1b0807a8641c9803595eca99bc556",
    "idx": 2,
    "time": "2021-02-08T22:30:59.899Z",
    "type": "execution"
   },
   {
    "id": "b2d1b0807a8641c9803595eca99bc556",
    "time": "2021-02-08T22:30:59.976Z",
    "type": "completion"
   },
   {
    "code": "x_bias =  x + np.random.normal(size=10000)",
    "id": "18cd4fe3ba4e459f8feabc6d297a1a6d",
    "idx": 3,
    "time": "2021-02-08T22:31:20.570Z",
    "type": "execution"
   },
   {
    "id": "18cd4fe3ba4e459f8feabc6d297a1a6d",
    "time": "2021-02-08T22:31:20.645Z",
    "type": "completion"
   },
   {
    "code": "x_bias",
    "id": "ebeef9a125e24f858a7eb0bd63c41748",
    "idx": 4,
    "time": "2021-02-08T22:31:21.852Z",
    "type": "execution"
   },
   {
    "id": "ebeef9a125e24f858a7eb0bd63c41748",
    "time": "2021-02-08T22:31:21.920Z",
    "type": "completion"
   },
   {
    "code": "x_bias = x + np.random.choice([-1, 0, 1, 2], size=10000)",
    "id": "18cd4fe3ba4e459f8feabc6d297a1a6d",
    "idx": 3,
    "time": "2021-02-08T22:31:58.985Z",
    "type": "execution"
   },
   {
    "id": "18cd4fe3ba4e459f8feabc6d297a1a6d",
    "time": "2021-02-08T22:31:59.091Z",
    "type": "completion"
   },
   {
    "code": "x_bias",
    "id": "ebeef9a125e24f858a7eb0bd63c41748",
    "idx": 4,
    "time": "2021-02-08T22:31:59.857Z",
    "type": "execution"
   },
   {
    "id": "ebeef9a125e24f858a7eb0bd63c41748",
    "time": "2021-02-08T22:31:59.960Z",
    "type": "completion"
   },
   {
    "code": "np.mean(x)",
    "id": "35e1a08427744f458ae6df6cbbe76b43",
    "idx": 5,
    "time": "2021-02-08T22:32:10.910Z",
    "type": "execution"
   },
   {
    "id": "35e1a08427744f458ae6df6cbbe76b43",
    "time": "2021-02-08T22:32:13.118Z",
    "type": "completion"
   },
   {
    "code": "means = []\nn = 10\nfor _ in range(1000):\n    sam = np.random.choice(x_bias, size=n)\n    means.append(np.mean(sam))",
    "id": "d8146f43f8de4d32900171422fa79676",
    "idx": 6,
    "time": "2021-02-08T22:32:55.821Z",
    "type": "execution"
   },
   {
    "id": "d8146f43f8de4d32900171422fa79676",
    "time": "2021-02-08T22:32:55.983Z",
    "type": "completion"
   },
   {
    "code": "plt.hist(means)",
    "id": "d9355ed602a64c008badc48996df4e13",
    "idx": 7,
    "time": "2021-02-08T22:32:58.406Z",
    "type": "execution"
   },
   {
    "id": "d9355ed602a64c008badc48996df4e13",
    "time": "2021-02-08T22:32:58.841Z",
    "type": "completion"
   },
   {
    "code": "means = []\nn = 100\nfor _ in range(1000):\n    sam = np.random.choice(x_bias, size=n)\n    means.append(np.mean(sam))",
    "id": "d8146f43f8de4d32900171422fa79676",
    "idx": 6,
    "time": "2021-02-08T22:33:03.668Z",
    "type": "execution"
   },
   {
    "id": "d8146f43f8de4d32900171422fa79676",
    "time": "2021-02-08T22:33:03.856Z",
    "type": "completion"
   },
   {
    "code": "plt.hist(means)",
    "id": "d9355ed602a64c008badc48996df4e13",
    "idx": 7,
    "time": "2021-02-08T22:33:04.064Z",
    "type": "execution"
   },
   {
    "id": "d9355ed602a64c008badc48996df4e13",
    "time": "2021-02-08T22:33:04.329Z",
    "type": "completion"
   },
   {
    "code": "means = []\nn = 100\nfor n in [10, 50, 100, 300, 500]:\n    means = []\n    for _ in range(1000):\n        sam = np.random.choice(x_bias, size=n)\n        means.append(np.mean(sam))\n    plt.hist(means)",
    "id": "d8146f43f8de4d32900171422fa79676",
    "idx": 6,
    "time": "2021-02-08T22:33:29.042Z",
    "type": "execution"
   },
   {
    "id": "d8146f43f8de4d32900171422fa79676",
    "time": "2021-02-08T22:33:29.678Z",
    "type": "completion"
   },
   {
    "code": "means = []\nn = 100\nfor n in [10, 50, 100, 300, 500]:\n    means = []\n    for _ in range(1000):\n        sam = np.random.choice(x, size=n)\n        means.append(np.mean(sam))\n    plt.hist(means)",
    "id": "2afd6ab47d784e24ad5196d21087cce0",
    "idx": 7,
    "time": "2021-02-08T22:33:49.689Z",
    "type": "execution"
   },
   {
    "id": "2afd6ab47d784e24ad5196d21087cce0",
    "time": "2021-02-08T22:33:50.360Z",
    "type": "completion"
   },
   {
    "code": "means = []\nn = 100\nfor n in [10, 50, 100, 300, 500]:\n    means = []\n    for _ in range(1000):\n        sam = np.random.choice(x_bias, size=n)\n        means.append(np.mean(sam))\n    plt.hist(means)\n    plt.xlim(1, 9)",
    "id": "05d972515cea4580886753b9ab5fdf3b",
    "idx": 14,
    "time": "2021-02-09T19:17:58.105Z",
    "type": "execution"
   },
   {
    "id": "05d972515cea4580886753b9ab5fdf3b",
    "time": "2021-02-09T19:17:58.255Z",
    "type": "completion"
   },
   {
    "code": "import numpy as np\nimport matplotlib.pyplot as plt\n%matplotlib inline",
    "id": "bd55791b6cc644c79509ae8671d5ff5b",
    "idx": 0,
    "time": "2021-02-09T19:18:04.311Z",
    "type": "execution"
   },
   {
    "code": "x = np.random.choice(np.arange(10), 10000)",
    "id": "aadf2b19475c4be0a4d2563e4d29297e",
    "idx": 1,
    "time": "2021-02-09T19:18:04.313Z",
    "type": "execution"
   },
   {
    "code": "x",
    "id": "8f08070f418644508de6c795fb20c2c9",
    "idx": 2,
    "time": "2021-02-09T19:18:04.315Z",
    "type": "execution"
   },
   {
    "code": "x_bias = x + np.random.choice([-1, 0, 1, 2], size=10000)",
    "id": "f2ccf76d197d45099bd62b103840e3ce",
    "idx": 3,
    "time": "2021-02-09T19:18:04.316Z",
    "type": "execution"
   },
   {
    "code": "x_bias",
    "id": "22f916c8254e4e6a8ea3d7918ae2d427",
    "idx": 4,
    "time": "2021-02-09T19:18:04.317Z",
    "type": "execution"
   },
   {
    "code": "np.mean(x)",
    "id": "b0dab4614d5746c783d6902a7ed82212",
    "idx": 5,
    "time": "2021-02-09T19:18:04.318Z",
    "type": "execution"
   },
   {
    "code": "means = []\nn = 100\nfor n in [10, 50, 100, 300, 500]:\n    means = []\n    for _ in range(1000):\n        sam = np.random.choice(x_bias, size=n)\n        means.append(np.mean(sam))\n    plt.hist(means)\n    plt.xlim(1, 9)",
    "id": "05d972515cea4580886753b9ab5fdf3b",
    "idx": 14,
    "time": "2021-02-09T19:18:04.329Z",
    "type": "execution"
   },
   {
    "code": "means = []\nn = 100\nfor n in [10, 50, 100, 300, 500]:\n    means = []\n    for _ in range(1000):\n        sam = np.random.choice(x, size=n)\n        means.append(np.mean(sam))\n    plt.hist(means)\n    plt.xlim(1, 9)",
    "id": "722dc1e6340e42aa8ae45019cfe47c82",
    "idx": 15,
    "time": "2021-02-09T19:18:04.331Z",
    "type": "execution"
   },
   {
    "id": "bd55791b6cc644c79509ae8671d5ff5b",
    "time": "2021-02-09T19:18:04.979Z",
    "type": "completion"
   },
   {
    "id": "aadf2b19475c4be0a4d2563e4d29297e",
    "time": "2021-02-09T19:18:04.985Z",
    "type": "completion"
   },
   {
    "id": "8f08070f418644508de6c795fb20c2c9",
    "time": "2021-02-09T19:18:05.027Z",
    "type": "completion"
   },
   {
    "id": "f2ccf76d197d45099bd62b103840e3ce",
    "time": "2021-02-09T19:18:05.058Z",
    "type": "completion"
   },
   {
    "id": "22f916c8254e4e6a8ea3d7918ae2d427",
    "time": "2021-02-09T19:18:05.103Z",
    "type": "completion"
   },
   {
    "id": "b0dab4614d5746c783d6902a7ed82212",
    "time": "2021-02-09T19:18:05.153Z",
    "type": "completion"
   },
   {
    "id": "05d972515cea4580886753b9ab5fdf3b",
    "time": "2021-02-09T19:18:06.082Z",
    "type": "completion"
   },
   {
    "id": "722dc1e6340e42aa8ae45019cfe47c82",
    "time": "2021-02-09T19:18:06.898Z",
    "type": "completion"
   },
   {
    "code": "means = []\nn = 100\nplt.figure(figsize=[10, 12])\nfor i, pop in enumerate([x_bias, x]):\n    plt.subplot(2, 1, i + 1)\n    for n in [10, 50, 100, 300, 500]:\n        means = []\n        for _ in range(1000):\n            sam = np.random.choice(pop, size=n)\n            means.append(np.mean(sam))\n        plt.hist(means)\n        plt.xlim(1, 9)",
    "id": "05d972515cea4580886753b9ab5fdf3b",
    "idx": 14,
    "time": "2021-02-09T19:19:27.290Z",
    "type": "execution"
   },
   {
    "id": "05d972515cea4580886753b9ab5fdf3b",
    "time": "2021-02-09T19:19:28.587Z",
    "type": "completion"
   },
   {
    "code": "means = []\nn = 100\nplt.figure(figsize=[10, 12])\nfor i, pop in enumerate([x_bias, x]):\n    plt.subplot(2, 1, i + 1)\n    for n in [10, 50, 100, 300, 500]:\n        means = []\n        for _ in range(1000):\n            sam = np.random.choice(pop, size=n)\n            means.append(np.mean(sam))\n        plt.hist(means)\n        plt.xlim(1, 9)\n        if i == 0:\n            plt.title(\"Bias Sampling Procedure\")\n        else:\n            plt.title(\"Unbias Sampling Procedure\")",
    "id": "05d972515cea4580886753b9ab5fdf3b",
    "idx": 14,
    "time": "2021-02-09T19:19:49.527Z",
    "type": "execution"
   },
   {
    "id": "05d972515cea4580886753b9ab5fdf3b",
    "time": "2021-02-09T19:19:50.843Z",
    "type": "completion"
   },
   {
    "code": "means = []\nn = 100\nplt.figure(figsize=[10, 12])\nfor i, pop in enumerate([x_bias, x]):\n    plt.subplot(2, 1, i + 1)\n    for n in [10, 50, 100, 300, 500]:\n        means = []\n        for _ in range(1000):\n            sam = np.random.choice(pop, size=n)\n            means.append(np.mean(sam))\n        plt.hist(means)\n        plt.xlim(1, 9)\n        if i == 0:\n            plt.title(\"Bias Sampling Procedure\")\n        else:\n            plt.title(\"Unbiased Sampling Procedure\")",
    "id": "05d972515cea4580886753b9ab5fdf3b",
    "idx": 14,
    "time": "2021-02-09T19:19:51.357Z",
    "type": "execution"
   },
   {
    "id": "05d972515cea4580886753b9ab5fdf3b",
    "time": "2021-02-09T19:19:52.644Z",
    "type": "completion"
   },
   {
    "code": "means = []\nn = 100\nplt.figure(figsize=[10, 12])\nfor i, pop in enumerate([x_bias, x]):\n    plt.subplot(2, 1, i + 1)\n    for n in [10, 50, 100, 300, 500]:\n        means = []\n        for _ in range(1000):\n            sam = np.random.choice(pop, size=n)\n            means.append(np.mean(sam))\n        plt.hist(means)\n        plt.xlim(1, 9)\n        if i == 0:\n            plt.title(\"Biased Sampling Procedure\")\n        else:\n            plt.title(\"Unbiased Sampling Procedure\")",
    "id": "05d972515cea4580886753b9ab5fdf3b",
    "idx": 14,
    "time": "2021-02-09T19:20:03.045Z",
    "type": "execution"
   },
   {
    "id": "05d972515cea4580886753b9ab5fdf3b",
    "time": "2021-02-09T19:20:04.367Z",
    "type": "completion"
   },
   {
    "code": "np,mean(x_bias)",
    "id": "1cc76e95c4d74d779e7e4b9ed9aa0abf",
    "idx": 6,
    "time": "2021-02-09T19:20:35.284Z",
    "type": "execution"
   },
   {
    "id": "1cc76e95c4d74d779e7e4b9ed9aa0abf",
    "time": "2021-02-09T19:20:35.403Z",
    "type": "completion"
   },
   {
    "code": "np.mean(x_bias)",
    "id": "1cc76e95c4d74d779e7e4b9ed9aa0abf",
    "idx": 6,
    "time": "2021-02-09T19:20:38.077Z",
    "type": "execution"
   },
   {
    "id": "1cc76e95c4d74d779e7e4b9ed9aa0abf",
    "time": "2021-02-09T19:20:38.164Z",
    "type": "completion"
   }
  ],
  "kernelspec": {
   "display_name": "Python 3 (ipykernel)",
   "language": "python",
   "name": "python3"
  },
  "language_info": {
   "codemirror_mode": {
    "name": "ipython",
    "version": 3
   },
   "file_extension": ".py",
   "mimetype": "text/x-python",
   "name": "python",
   "nbconvert_exporter": "python",
   "pygments_lexer": "ipython3",
   "version": "3.11.0"
  }
 },
 "nbformat": 4,
 "nbformat_minor": 4
}
