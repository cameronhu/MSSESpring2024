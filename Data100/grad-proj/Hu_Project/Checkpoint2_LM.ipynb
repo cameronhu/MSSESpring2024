{
 "cells": [
  {
   "cell_type": "markdown",
   "id": "fdec0c6c",
   "metadata": {},
   "source": [
    "# Checkpoint 2 Linear Model"
   ]
  },
  {
   "cell_type": "code",
   "execution_count": 5,
   "id": "3192bb64-ed5f-4c94-9305-5dcdc195d0e1",
   "metadata": {},
   "outputs": [],
   "source": [
    "from data_utils import *\n",
    "from feature_utils import *\n",
    "\n",
    "\n",
    "from pathlib import Path\n",
    "from data_utils import get_images, get_labels\n",
    "import re\n",
    "import numpy as np\n",
    "from matplotlib import pyplot as plt\n",
    "import pandas as pd\n",
    "import warnings\n",
    "from sklearn.ensemble import IsolationForest\n",
    "\n",
    "from sklearn import linear_model as lm\n",
    "from sklearn.model_selection import train_test_split\n",
    "# import cv2"
   ]
  },
  {
   "cell_type": "code",
   "execution_count": 6,
   "id": "e1210d51-7f92-4f43-bca3-4ceffcfdffa5",
   "metadata": {},
   "outputs": [
    {
     "data": {
      "text/plain": [
       "[PosixPath('/home/jovyan/shared/sp24_grad_project_data/satellite-image-data/socal-fire'),\n",
       " PosixPath('/home/jovyan/shared/sp24_grad_project_data/satellite-image-data/midwest-flooding'),\n",
       " PosixPath('/home/jovyan/shared/sp24_grad_project_data/satellite-image-data/test_images_hurricane-matthew.npz'),\n",
       " PosixPath('/home/jovyan/shared/sp24_grad_project_data/satellite-image-data/test_images_flooding-fire.npz'),\n",
       " PosixPath('/home/jovyan/shared/sp24_grad_project_data/satellite-image-data/.ipynb_checkpoints'),\n",
       " PosixPath('/home/jovyan/shared/sp24_grad_project_data/satellite-image-data/hurricane-matthew')]"
      ]
     },
     "execution_count": 6,
     "metadata": {},
     "output_type": "execute_result"
    }
   ],
   "source": [
    "# Getting local data path from config\n",
    "\n",
    "with open('config.json') as config_file:\n",
    "    config = json.load(config_file)\n",
    "    data_dir = Path(config['data_dir'])\n",
    "\n",
    "# Show all files in the data dir\n",
    "list(data_dir.glob(\"*\"))"
   ]
  },
  {
   "cell_type": "code",
   "execution_count": 7,
   "id": "9a328b81",
   "metadata": {
    "scrolled": true
   },
   "outputs": [
    {
     "data": {
      "text/plain": [
       "array([3, 0, 1, ..., 2, 3, 0])"
      ]
     },
     "metadata": {},
     "output_type": "display_data"
    }
   ],
   "source": [
    "# Get Hurricane Matthew Images\n",
    "\n",
    "disaster = \"hurricane-matthew\"\n",
    "split = \"train\"\n",
    "\n",
    "hurricane_train_images = get_images(data_dir, disaster, split=split)\n",
    "hurricane_train_labels = get_labels(data_dir, disaster, split=split)\n",
    "display(hurricane_train_labels)\n",
    "# hurricane_train_images"
   ]
  },
  {
   "cell_type": "code",
   "execution_count": 8,
   "id": "013ada97-01b7-4845-b682-7eab3b743c7a",
   "metadata": {
    "scrolled": true
   },
   "outputs": [
    {
     "data": {
      "text/plain": [
       "array([0, 0, 0, ..., 0, 0, 0])"
      ]
     },
     "metadata": {},
     "output_type": "display_data"
    }
   ],
   "source": [
    "# Get Midwest Flooding\n",
    "\n",
    "disaster = \"midwest-flooding\"\n",
    "split = \"train\"\n",
    "\n",
    "flood_train_images = get_images(data_dir, disaster, split=split)\n",
    "flood_train_labels = get_labels(data_dir, disaster, split=split)\n",
    "display(flood_train_labels)"
   ]
  },
  {
   "cell_type": "code",
   "execution_count": 9,
   "id": "52a4c68a-40a1-4ef5-bfa2-baa1201a8800",
   "metadata": {
    "scrolled": true
   },
   "outputs": [
    {
     "data": {
      "text/plain": [
       "array([0, 0, 0, ..., 0, 0, 0])"
      ]
     },
     "metadata": {},
     "output_type": "display_data"
    }
   ],
   "source": [
    "# Get Socal Fire\n",
    "\n",
    "disaster = \"socal-fire\"\n",
    "split = \"train\"\n",
    "\n",
    "fire_train_images = get_images(data_dir, disaster, split=split)\n",
    "fire_train_labels = get_labels(data_dir, disaster, split=split)\n",
    "display(fire_train_labels)"
   ]
  },
  {
   "cell_type": "code",
   "execution_count": 10,
   "id": "387640f6",
   "metadata": {},
   "outputs": [
    {
     "data": {
      "text/plain": [
       "(65, 54, 3)"
      ]
     },
     "metadata": {},
     "output_type": "display_data"
    },
    {
     "data": {
      "text/plain": [
       "array([58, 94, 83], dtype=uint8)"
      ]
     },
     "execution_count": 10,
     "metadata": {},
     "output_type": "execute_result"
    }
   ],
   "source": [
    "# Get the shape of the first image\n",
    "display(hurricane_train_images[0].shape)\n",
    "\n",
    "# Get the RGB values from the pixel at (0, 0)\n",
    "hurricane_train_images[0][0][0]"
   ]
  },
  {
   "cell_type": "markdown",
   "id": "fa0f8712",
   "metadata": {},
   "source": [
    "## Preprocessing and Feature Engineering"
   ]
  },
  {
   "cell_type": "code",
   "execution_count": 11,
   "id": "bca3f454",
   "metadata": {},
   "outputs": [],
   "source": [
    "hurricane_image_shapes = np.array([i.shape for i in hurricane_train_images])\n",
    "hurricane_heights = hurricane_image_shapes[:, 0]    # Heights are the number of rows\n",
    "hurricane_widths = hurricane_image_shapes[:, 1]     # Widths are the number of columns"
   ]
  },
  {
   "cell_type": "markdown",
   "id": "c07b014b",
   "metadata": {},
   "source": [
    "### 1. Create a Parent Dataframe\n",
    "\n",
    "Create a parente dataframe for every disaster type"
   ]
  },
  {
   "cell_type": "code",
   "execution_count": 12,
   "id": "b1f8f0cd",
   "metadata": {},
   "outputs": [
    {
     "data": {
      "text/html": [
       "<div>\n",
       "<style scoped>\n",
       "    .dataframe tbody tr th:only-of-type {\n",
       "        vertical-align: middle;\n",
       "    }\n",
       "\n",
       "    .dataframe tbody tr th {\n",
       "        vertical-align: top;\n",
       "    }\n",
       "\n",
       "    .dataframe thead th {\n",
       "        text-align: right;\n",
       "    }\n",
       "</style>\n",
       "<table border=\"1\" class=\"dataframe\">\n",
       "  <thead>\n",
       "    <tr style=\"text-align: right;\">\n",
       "      <th></th>\n",
       "      <th>Disaster Level</th>\n",
       "      <th>Fire</th>\n",
       "    </tr>\n",
       "  </thead>\n",
       "  <tbody>\n",
       "    <tr>\n",
       "      <th>0</th>\n",
       "      <td>3</td>\n",
       "      <td>0</td>\n",
       "    </tr>\n",
       "    <tr>\n",
       "      <th>1</th>\n",
       "      <td>0</td>\n",
       "      <td>0</td>\n",
       "    </tr>\n",
       "    <tr>\n",
       "      <th>2</th>\n",
       "      <td>1</td>\n",
       "      <td>0</td>\n",
       "    </tr>\n",
       "    <tr>\n",
       "      <th>3</th>\n",
       "      <td>0</td>\n",
       "      <td>0</td>\n",
       "    </tr>\n",
       "    <tr>\n",
       "      <th>4</th>\n",
       "      <td>2</td>\n",
       "      <td>0</td>\n",
       "    </tr>\n",
       "    <tr>\n",
       "      <th>...</th>\n",
       "      <td>...</td>\n",
       "      <td>...</td>\n",
       "    </tr>\n",
       "    <tr>\n",
       "      <th>11146</th>\n",
       "      <td>3</td>\n",
       "      <td>0</td>\n",
       "    </tr>\n",
       "    <tr>\n",
       "      <th>11147</th>\n",
       "      <td>0</td>\n",
       "      <td>0</td>\n",
       "    </tr>\n",
       "    <tr>\n",
       "      <th>11148</th>\n",
       "      <td>2</td>\n",
       "      <td>0</td>\n",
       "    </tr>\n",
       "    <tr>\n",
       "      <th>11149</th>\n",
       "      <td>3</td>\n",
       "      <td>0</td>\n",
       "    </tr>\n",
       "    <tr>\n",
       "      <th>11150</th>\n",
       "      <td>0</td>\n",
       "      <td>0</td>\n",
       "    </tr>\n",
       "  </tbody>\n",
       "</table>\n",
       "<p>11151 rows × 2 columns</p>\n",
       "</div>"
      ],
      "text/plain": [
       "       Disaster Level  Fire\n",
       "0                   3     0\n",
       "1                   0     0\n",
       "2                   1     0\n",
       "3                   0     0\n",
       "4                   2     0\n",
       "...               ...   ...\n",
       "11146               3     0\n",
       "11147               0     0\n",
       "11148               2     0\n",
       "11149               3     0\n",
       "11150               0     0\n",
       "\n",
       "[11151 rows x 2 columns]"
      ]
     },
     "execution_count": 12,
     "metadata": {},
     "output_type": "execute_result"
    }
   ],
   "source": [
    "hurricane_df = pd.DataFrame(hurricane_train_labels.reshape(-1, 1), columns=['Disaster Level'])\n",
    "hurricane_df['Fire'] = 0\n",
    "hurricane_df"
   ]
  },
  {
   "cell_type": "code",
   "execution_count": 13,
   "id": "4b2bbb74-3be8-4caa-94b6-48d765ec8209",
   "metadata": {},
   "outputs": [
    {
     "data": {
      "text/html": [
       "<div>\n",
       "<style scoped>\n",
       "    .dataframe tbody tr th:only-of-type {\n",
       "        vertical-align: middle;\n",
       "    }\n",
       "\n",
       "    .dataframe tbody tr th {\n",
       "        vertical-align: top;\n",
       "    }\n",
       "\n",
       "    .dataframe thead th {\n",
       "        text-align: right;\n",
       "    }\n",
       "</style>\n",
       "<table border=\"1\" class=\"dataframe\">\n",
       "  <thead>\n",
       "    <tr style=\"text-align: right;\">\n",
       "      <th></th>\n",
       "      <th>Disaster Level</th>\n",
       "      <th>Fire</th>\n",
       "    </tr>\n",
       "  </thead>\n",
       "  <tbody>\n",
       "    <tr>\n",
       "      <th>0</th>\n",
       "      <td>0</td>\n",
       "      <td>0</td>\n",
       "    </tr>\n",
       "    <tr>\n",
       "      <th>1</th>\n",
       "      <td>0</td>\n",
       "      <td>0</td>\n",
       "    </tr>\n",
       "    <tr>\n",
       "      <th>2</th>\n",
       "      <td>0</td>\n",
       "      <td>0</td>\n",
       "    </tr>\n",
       "    <tr>\n",
       "      <th>3</th>\n",
       "      <td>0</td>\n",
       "      <td>0</td>\n",
       "    </tr>\n",
       "    <tr>\n",
       "      <th>4</th>\n",
       "      <td>1</td>\n",
       "      <td>0</td>\n",
       "    </tr>\n",
       "    <tr>\n",
       "      <th>...</th>\n",
       "      <td>...</td>\n",
       "      <td>...</td>\n",
       "    </tr>\n",
       "    <tr>\n",
       "      <th>6999</th>\n",
       "      <td>0</td>\n",
       "      <td>0</td>\n",
       "    </tr>\n",
       "    <tr>\n",
       "      <th>7000</th>\n",
       "      <td>0</td>\n",
       "      <td>0</td>\n",
       "    </tr>\n",
       "    <tr>\n",
       "      <th>7001</th>\n",
       "      <td>0</td>\n",
       "      <td>0</td>\n",
       "    </tr>\n",
       "    <tr>\n",
       "      <th>7002</th>\n",
       "      <td>0</td>\n",
       "      <td>0</td>\n",
       "    </tr>\n",
       "    <tr>\n",
       "      <th>7003</th>\n",
       "      <td>0</td>\n",
       "      <td>0</td>\n",
       "    </tr>\n",
       "  </tbody>\n",
       "</table>\n",
       "<p>7004 rows × 2 columns</p>\n",
       "</div>"
      ],
      "text/plain": [
       "      Disaster Level  Fire\n",
       "0                  0     0\n",
       "1                  0     0\n",
       "2                  0     0\n",
       "3                  0     0\n",
       "4                  1     0\n",
       "...              ...   ...\n",
       "6999               0     0\n",
       "7000               0     0\n",
       "7001               0     0\n",
       "7002               0     0\n",
       "7003               0     0\n",
       "\n",
       "[7004 rows x 2 columns]"
      ]
     },
     "execution_count": 13,
     "metadata": {},
     "output_type": "execute_result"
    }
   ],
   "source": [
    "flood_df = pd.DataFrame(flood_train_labels.reshape(-1, 1), columns=['Disaster Level'])\n",
    "flood_df['Fire'] = 0\n",
    "flood_df"
   ]
  },
  {
   "cell_type": "code",
   "execution_count": 14,
   "id": "c269702b-4a89-4191-82a6-5e06dd582c3c",
   "metadata": {},
   "outputs": [
    {
     "data": {
      "text/html": [
       "<div>\n",
       "<style scoped>\n",
       "    .dataframe tbody tr th:only-of-type {\n",
       "        vertical-align: middle;\n",
       "    }\n",
       "\n",
       "    .dataframe tbody tr th {\n",
       "        vertical-align: top;\n",
       "    }\n",
       "\n",
       "    .dataframe thead th {\n",
       "        text-align: right;\n",
       "    }\n",
       "</style>\n",
       "<table border=\"1\" class=\"dataframe\">\n",
       "  <thead>\n",
       "    <tr style=\"text-align: right;\">\n",
       "      <th></th>\n",
       "      <th>Disaster Level</th>\n",
       "      <th>Fire</th>\n",
       "    </tr>\n",
       "  </thead>\n",
       "  <tbody>\n",
       "    <tr>\n",
       "      <th>0</th>\n",
       "      <td>0</td>\n",
       "      <td>1</td>\n",
       "    </tr>\n",
       "    <tr>\n",
       "      <th>1</th>\n",
       "      <td>0</td>\n",
       "      <td>1</td>\n",
       "    </tr>\n",
       "    <tr>\n",
       "      <th>2</th>\n",
       "      <td>0</td>\n",
       "      <td>1</td>\n",
       "    </tr>\n",
       "    <tr>\n",
       "      <th>3</th>\n",
       "      <td>0</td>\n",
       "      <td>1</td>\n",
       "    </tr>\n",
       "    <tr>\n",
       "      <th>4</th>\n",
       "      <td>0</td>\n",
       "      <td>1</td>\n",
       "    </tr>\n",
       "    <tr>\n",
       "      <th>...</th>\n",
       "      <td>...</td>\n",
       "      <td>...</td>\n",
       "    </tr>\n",
       "    <tr>\n",
       "      <th>8375</th>\n",
       "      <td>0</td>\n",
       "      <td>1</td>\n",
       "    </tr>\n",
       "    <tr>\n",
       "      <th>8376</th>\n",
       "      <td>0</td>\n",
       "      <td>1</td>\n",
       "    </tr>\n",
       "    <tr>\n",
       "      <th>8377</th>\n",
       "      <td>0</td>\n",
       "      <td>1</td>\n",
       "    </tr>\n",
       "    <tr>\n",
       "      <th>8378</th>\n",
       "      <td>0</td>\n",
       "      <td>1</td>\n",
       "    </tr>\n",
       "    <tr>\n",
       "      <th>8379</th>\n",
       "      <td>0</td>\n",
       "      <td>1</td>\n",
       "    </tr>\n",
       "  </tbody>\n",
       "</table>\n",
       "<p>8380 rows × 2 columns</p>\n",
       "</div>"
      ],
      "text/plain": [
       "      Disaster Level  Fire\n",
       "0                  0     1\n",
       "1                  0     1\n",
       "2                  0     1\n",
       "3                  0     1\n",
       "4                  0     1\n",
       "...              ...   ...\n",
       "8375               0     1\n",
       "8376               0     1\n",
       "8377               0     1\n",
       "8378               0     1\n",
       "8379               0     1\n",
       "\n",
       "[8380 rows x 2 columns]"
      ]
     },
     "execution_count": 14,
     "metadata": {},
     "output_type": "execute_result"
    }
   ],
   "source": [
    "fire_df = pd.DataFrame(fire_train_labels.reshape(-1, 1), columns=['Disaster Level'])\n",
    "fire_df['Fire'] = 1\n",
    "fire_df"
   ]
  },
  {
   "cell_type": "markdown",
   "id": "f4a55641-b6f4-453e-92aa-f9a4c66c3b85",
   "metadata": {},
   "source": [
    "Perform feature engineering on each image."
   ]
  },
  {
   "cell_type": "code",
   "execution_count": 15,
   "id": "5c144cb6-6392-415b-80c2-ad440b8b30de",
   "metadata": {},
   "outputs": [],
   "source": [
    "def feature_engine(dataframe: pd.DataFrame,\n",
    "                   image_list: List) -> pd.DataFrame:\n",
    "    \"\"\"\n",
    "    Mutative function that takes in a dataframe and an list of NumPy arrays (images) to perform feature engineering on. \n",
    "    Appends the engineered features back to the dataframe.\n",
    "    The DataFrame and the numpy array must be indexed the same for the features to be linked to the correct images\n",
    "\n",
    "    Features:\n",
    "        Average RGB - the average of the pixels in each of the RGB channels for each image\n",
    "        Average Sobel - the average of the pixels of the image after Sobel filter is applied\n",
    "        Average LBP - the average of the pixels of the Local Binary Pattern of the image\n",
    "    \n",
    "    Parameters:\n",
    "        dataframe: pd.DataFrame\n",
    "            The DataFrame holding the indexes of the images, to which we should append the features back into\n",
    "        image_list: List\n",
    "            The List of numpy array of images to perform feature engineering on. \n",
    "            Shape of NumPY array is (n, p, p, 3), where\n",
    "                n = # of images,\n",
    "                p = perfect_square size of the image,\n",
    "                and 3 for the 3 RGB color channels of the image\n",
    "\n",
    "    Returns:\n",
    "        None - is a mutative function that mutates the passed in DataFrame            \n",
    "    \"\"\"\n",
    "    avg_red = []\n",
    "    avg_green = []\n",
    "    avg_blue = []\n",
    "    avg_sobel = []\n",
    "    avg_lbp = []\n",
    "\n",
    "    num_images = len(image_list)\n",
    "    for image in tqdm(image_list):\n",
    "\n",
    "        avg_red.append(np.mean(image[:, :, 0]))\n",
    "        avg_green.append(np.mean(image[:, :, 1]))\n",
    "        avg_blue.append(np.mean(image[:, :, 2]))\n",
    "    \n",
    "        avg_sobel.append(np.mean(get_sobel_features(image)))\n",
    "        avg_lbp.append(np.mean(get_local_binary_pattern(image)))\n",
    "        # dataframe['Average Sobel'] = np.mean(sobel_images.reshape(num_images, -1), axis=1)\n",
    "\n",
    "    dataframe['Average Red'] = np.array(avg_red) / max(avg_red)\n",
    "    dataframe['Average Green'] = np.array(avg_green) / max(avg_green)\n",
    "    dataframe['Average Blue'] = np.array(avg_blue) / max(avg_blue)\n",
    "    dataframe['Average Sobel'] = np.array(avg_sobel) / max(avg_sobel)\n",
    "    dataframe['Average LBP'] = np.array(avg_lbp) / max(avg_lbp)\n",
    "\n",
    "    return dataframe\n",
    "    "
   ]
  },
  {
   "cell_type": "code",
   "execution_count": 16,
   "id": "53f06608-bc51-4dc0-952d-685271bdf6bd",
   "metadata": {},
   "outputs": [
    {
     "name": "stderr",
     "output_type": "stream",
     "text": [
      "100%|██████████| 11151/11151 [00:13<00:00, 813.50it/s]\n"
     ]
    }
   ],
   "source": [
    "hurricane_df = feature_engine(hurricane_df, hurricane_train_images)"
   ]
  },
  {
   "cell_type": "code",
   "execution_count": 17,
   "id": "99cbd590-a57e-4b74-bc78-6674f0fec53f",
   "metadata": {},
   "outputs": [
    {
     "data": {
      "text/html": [
       "<div>\n",
       "<style scoped>\n",
       "    .dataframe tbody tr th:only-of-type {\n",
       "        vertical-align: middle;\n",
       "    }\n",
       "\n",
       "    .dataframe tbody tr th {\n",
       "        vertical-align: top;\n",
       "    }\n",
       "\n",
       "    .dataframe thead th {\n",
       "        text-align: right;\n",
       "    }\n",
       "</style>\n",
       "<table border=\"1\" class=\"dataframe\">\n",
       "  <thead>\n",
       "    <tr style=\"text-align: right;\">\n",
       "      <th></th>\n",
       "      <th>Disaster Level</th>\n",
       "      <th>Fire</th>\n",
       "      <th>Average Red</th>\n",
       "      <th>Average Green</th>\n",
       "      <th>Average Blue</th>\n",
       "      <th>Average Sobel</th>\n",
       "      <th>Average LBP</th>\n",
       "    </tr>\n",
       "  </thead>\n",
       "  <tbody>\n",
       "    <tr>\n",
       "      <th>0</th>\n",
       "      <td>3</td>\n",
       "      <td>0</td>\n",
       "      <td>0.315719</td>\n",
       "      <td>0.444336</td>\n",
       "      <td>0.445701</td>\n",
       "      <td>0.464934</td>\n",
       "      <td>0.684217</td>\n",
       "    </tr>\n",
       "    <tr>\n",
       "      <th>1</th>\n",
       "      <td>0</td>\n",
       "      <td>0</td>\n",
       "      <td>0.368891</td>\n",
       "      <td>0.504047</td>\n",
       "      <td>0.486109</td>\n",
       "      <td>0.305863</td>\n",
       "      <td>0.652446</td>\n",
       "    </tr>\n",
       "    <tr>\n",
       "      <th>2</th>\n",
       "      <td>1</td>\n",
       "      <td>0</td>\n",
       "      <td>0.466982</td>\n",
       "      <td>0.515602</td>\n",
       "      <td>0.524888</td>\n",
       "      <td>0.544758</td>\n",
       "      <td>0.687097</td>\n",
       "    </tr>\n",
       "    <tr>\n",
       "      <th>3</th>\n",
       "      <td>0</td>\n",
       "      <td>0</td>\n",
       "      <td>0.404457</td>\n",
       "      <td>0.542375</td>\n",
       "      <td>0.563169</td>\n",
       "      <td>0.210994</td>\n",
       "      <td>0.676822</td>\n",
       "    </tr>\n",
       "    <tr>\n",
       "      <th>4</th>\n",
       "      <td>2</td>\n",
       "      <td>0</td>\n",
       "      <td>0.363587</td>\n",
       "      <td>0.459122</td>\n",
       "      <td>0.424658</td>\n",
       "      <td>0.527758</td>\n",
       "      <td>0.610121</td>\n",
       "    </tr>\n",
       "    <tr>\n",
       "      <th>...</th>\n",
       "      <td>...</td>\n",
       "      <td>...</td>\n",
       "      <td>...</td>\n",
       "      <td>...</td>\n",
       "      <td>...</td>\n",
       "      <td>...</td>\n",
       "      <td>...</td>\n",
       "    </tr>\n",
       "    <tr>\n",
       "      <th>11146</th>\n",
       "      <td>3</td>\n",
       "      <td>0</td>\n",
       "      <td>0.343027</td>\n",
       "      <td>0.468564</td>\n",
       "      <td>0.490681</td>\n",
       "      <td>0.406126</td>\n",
       "      <td>0.623638</td>\n",
       "    </tr>\n",
       "    <tr>\n",
       "      <th>11147</th>\n",
       "      <td>0</td>\n",
       "      <td>0</td>\n",
       "      <td>0.305891</td>\n",
       "      <td>0.445628</td>\n",
       "      <td>0.406832</td>\n",
       "      <td>0.253186</td>\n",
       "      <td>0.649653</td>\n",
       "    </tr>\n",
       "    <tr>\n",
       "      <th>11148</th>\n",
       "      <td>2</td>\n",
       "      <td>0</td>\n",
       "      <td>0.363648</td>\n",
       "      <td>0.457029</td>\n",
       "      <td>0.397383</td>\n",
       "      <td>0.585320</td>\n",
       "      <td>0.678602</td>\n",
       "    </tr>\n",
       "    <tr>\n",
       "      <th>11149</th>\n",
       "      <td>3</td>\n",
       "      <td>0</td>\n",
       "      <td>0.224364</td>\n",
       "      <td>0.342550</td>\n",
       "      <td>0.309745</td>\n",
       "      <td>0.257962</td>\n",
       "      <td>0.687520</td>\n",
       "    </tr>\n",
       "    <tr>\n",
       "      <th>11150</th>\n",
       "      <td>0</td>\n",
       "      <td>0</td>\n",
       "      <td>0.440586</td>\n",
       "      <td>0.540667</td>\n",
       "      <td>0.547923</td>\n",
       "      <td>0.568430</td>\n",
       "      <td>0.642426</td>\n",
       "    </tr>\n",
       "  </tbody>\n",
       "</table>\n",
       "<p>11151 rows × 7 columns</p>\n",
       "</div>"
      ],
      "text/plain": [
       "       Disaster Level  Fire  Average Red  Average Green  Average Blue  \\\n",
       "0                   3     0     0.315719       0.444336      0.445701   \n",
       "1                   0     0     0.368891       0.504047      0.486109   \n",
       "2                   1     0     0.466982       0.515602      0.524888   \n",
       "3                   0     0     0.404457       0.542375      0.563169   \n",
       "4                   2     0     0.363587       0.459122      0.424658   \n",
       "...               ...   ...          ...            ...           ...   \n",
       "11146               3     0     0.343027       0.468564      0.490681   \n",
       "11147               0     0     0.305891       0.445628      0.406832   \n",
       "11148               2     0     0.363648       0.457029      0.397383   \n",
       "11149               3     0     0.224364       0.342550      0.309745   \n",
       "11150               0     0     0.440586       0.540667      0.547923   \n",
       "\n",
       "       Average Sobel  Average LBP  \n",
       "0           0.464934     0.684217  \n",
       "1           0.305863     0.652446  \n",
       "2           0.544758     0.687097  \n",
       "3           0.210994     0.676822  \n",
       "4           0.527758     0.610121  \n",
       "...              ...          ...  \n",
       "11146       0.406126     0.623638  \n",
       "11147       0.253186     0.649653  \n",
       "11148       0.585320     0.678602  \n",
       "11149       0.257962     0.687520  \n",
       "11150       0.568430     0.642426  \n",
       "\n",
       "[11151 rows x 7 columns]"
      ]
     },
     "execution_count": 17,
     "metadata": {},
     "output_type": "execute_result"
    }
   ],
   "source": [
    "hurricane_df"
   ]
  },
  {
   "cell_type": "code",
   "execution_count": 18,
   "id": "fd23cab5-6cf0-43c2-9f8e-24e37bb4ceca",
   "metadata": {},
   "outputs": [
    {
     "name": "stderr",
     "output_type": "stream",
     "text": [
      "100%|██████████| 7004/7004 [00:14<00:00, 488.38it/s]\n"
     ]
    },
    {
     "data": {
      "text/html": [
       "<div>\n",
       "<style scoped>\n",
       "    .dataframe tbody tr th:only-of-type {\n",
       "        vertical-align: middle;\n",
       "    }\n",
       "\n",
       "    .dataframe tbody tr th {\n",
       "        vertical-align: top;\n",
       "    }\n",
       "\n",
       "    .dataframe thead th {\n",
       "        text-align: right;\n",
       "    }\n",
       "</style>\n",
       "<table border=\"1\" class=\"dataframe\">\n",
       "  <thead>\n",
       "    <tr style=\"text-align: right;\">\n",
       "      <th></th>\n",
       "      <th>Disaster Level</th>\n",
       "      <th>Fire</th>\n",
       "      <th>Average Red</th>\n",
       "      <th>Average Green</th>\n",
       "      <th>Average Blue</th>\n",
       "      <th>Average Sobel</th>\n",
       "      <th>Average LBP</th>\n",
       "    </tr>\n",
       "  </thead>\n",
       "  <tbody>\n",
       "    <tr>\n",
       "      <th>0</th>\n",
       "      <td>0</td>\n",
       "      <td>0</td>\n",
       "      <td>0.433470</td>\n",
       "      <td>0.504469</td>\n",
       "      <td>0.523070</td>\n",
       "      <td>0.157923</td>\n",
       "      <td>0.803000</td>\n",
       "    </tr>\n",
       "    <tr>\n",
       "      <th>1</th>\n",
       "      <td>0</td>\n",
       "      <td>0</td>\n",
       "      <td>0.402550</td>\n",
       "      <td>0.472104</td>\n",
       "      <td>0.455753</td>\n",
       "      <td>0.148558</td>\n",
       "      <td>0.817881</td>\n",
       "    </tr>\n",
       "    <tr>\n",
       "      <th>2</th>\n",
       "      <td>0</td>\n",
       "      <td>0</td>\n",
       "      <td>0.309034</td>\n",
       "      <td>0.403741</td>\n",
       "      <td>0.358727</td>\n",
       "      <td>0.172898</td>\n",
       "      <td>0.790341</td>\n",
       "    </tr>\n",
       "    <tr>\n",
       "      <th>3</th>\n",
       "      <td>0</td>\n",
       "      <td>0</td>\n",
       "      <td>0.535424</td>\n",
       "      <td>0.595264</td>\n",
       "      <td>0.555391</td>\n",
       "      <td>0.333437</td>\n",
       "      <td>0.773657</td>\n",
       "    </tr>\n",
       "    <tr>\n",
       "      <th>4</th>\n",
       "      <td>1</td>\n",
       "      <td>0</td>\n",
       "      <td>0.215312</td>\n",
       "      <td>0.347903</td>\n",
       "      <td>0.241495</td>\n",
       "      <td>0.181919</td>\n",
       "      <td>0.821750</td>\n",
       "    </tr>\n",
       "    <tr>\n",
       "      <th>...</th>\n",
       "      <td>...</td>\n",
       "      <td>...</td>\n",
       "      <td>...</td>\n",
       "      <td>...</td>\n",
       "      <td>...</td>\n",
       "      <td>...</td>\n",
       "      <td>...</td>\n",
       "    </tr>\n",
       "    <tr>\n",
       "      <th>6999</th>\n",
       "      <td>0</td>\n",
       "      <td>0</td>\n",
       "      <td>0.394024</td>\n",
       "      <td>0.495294</td>\n",
       "      <td>0.452934</td>\n",
       "      <td>0.162953</td>\n",
       "      <td>0.822714</td>\n",
       "    </tr>\n",
       "    <tr>\n",
       "      <th>7000</th>\n",
       "      <td>0</td>\n",
       "      <td>0</td>\n",
       "      <td>0.418615</td>\n",
       "      <td>0.530521</td>\n",
       "      <td>0.506274</td>\n",
       "      <td>0.220387</td>\n",
       "      <td>0.801013</td>\n",
       "    </tr>\n",
       "    <tr>\n",
       "      <th>7001</th>\n",
       "      <td>0</td>\n",
       "      <td>0</td>\n",
       "      <td>0.283374</td>\n",
       "      <td>0.381656</td>\n",
       "      <td>0.322845</td>\n",
       "      <td>0.162741</td>\n",
       "      <td>0.790759</td>\n",
       "    </tr>\n",
       "    <tr>\n",
       "      <th>7002</th>\n",
       "      <td>0</td>\n",
       "      <td>0</td>\n",
       "      <td>0.207397</td>\n",
       "      <td>0.322300</td>\n",
       "      <td>0.246146</td>\n",
       "      <td>0.143309</td>\n",
       "      <td>0.804953</td>\n",
       "    </tr>\n",
       "    <tr>\n",
       "      <th>7003</th>\n",
       "      <td>0</td>\n",
       "      <td>0</td>\n",
       "      <td>0.257041</td>\n",
       "      <td>0.350862</td>\n",
       "      <td>0.287463</td>\n",
       "      <td>0.144414</td>\n",
       "      <td>0.795119</td>\n",
       "    </tr>\n",
       "  </tbody>\n",
       "</table>\n",
       "<p>7004 rows × 7 columns</p>\n",
       "</div>"
      ],
      "text/plain": [
       "      Disaster Level  Fire  Average Red  Average Green  Average Blue  \\\n",
       "0                  0     0     0.433470       0.504469      0.523070   \n",
       "1                  0     0     0.402550       0.472104      0.455753   \n",
       "2                  0     0     0.309034       0.403741      0.358727   \n",
       "3                  0     0     0.535424       0.595264      0.555391   \n",
       "4                  1     0     0.215312       0.347903      0.241495   \n",
       "...              ...   ...          ...            ...           ...   \n",
       "6999               0     0     0.394024       0.495294      0.452934   \n",
       "7000               0     0     0.418615       0.530521      0.506274   \n",
       "7001               0     0     0.283374       0.381656      0.322845   \n",
       "7002               0     0     0.207397       0.322300      0.246146   \n",
       "7003               0     0     0.257041       0.350862      0.287463   \n",
       "\n",
       "      Average Sobel  Average LBP  \n",
       "0          0.157923     0.803000  \n",
       "1          0.148558     0.817881  \n",
       "2          0.172898     0.790341  \n",
       "3          0.333437     0.773657  \n",
       "4          0.181919     0.821750  \n",
       "...             ...          ...  \n",
       "6999       0.162953     0.822714  \n",
       "7000       0.220387     0.801013  \n",
       "7001       0.162741     0.790759  \n",
       "7002       0.143309     0.804953  \n",
       "7003       0.144414     0.795119  \n",
       "\n",
       "[7004 rows x 7 columns]"
      ]
     },
     "execution_count": 18,
     "metadata": {},
     "output_type": "execute_result"
    }
   ],
   "source": [
    "flood_df = feature_engine(flood_df, flood_train_images)\n",
    "flood_df"
   ]
  },
  {
   "cell_type": "code",
   "execution_count": 19,
   "id": "0d36912c-7d03-4462-9162-f756986fddec",
   "metadata": {},
   "outputs": [
    {
     "name": "stderr",
     "output_type": "stream",
     "text": [
      "100%|██████████| 8380/8380 [00:24<00:00, 345.95it/s]\n"
     ]
    }
   ],
   "source": [
    "fire_df = feature_engine(fire_df, fire_train_images)"
   ]
  },
  {
   "cell_type": "code",
   "execution_count": 20,
   "id": "0bd7c48a-c3cb-4bd7-816a-833750925def",
   "metadata": {},
   "outputs": [
    {
     "data": {
      "text/html": [
       "<div>\n",
       "<style scoped>\n",
       "    .dataframe tbody tr th:only-of-type {\n",
       "        vertical-align: middle;\n",
       "    }\n",
       "\n",
       "    .dataframe tbody tr th {\n",
       "        vertical-align: top;\n",
       "    }\n",
       "\n",
       "    .dataframe thead th {\n",
       "        text-align: right;\n",
       "    }\n",
       "</style>\n",
       "<table border=\"1\" class=\"dataframe\">\n",
       "  <thead>\n",
       "    <tr style=\"text-align: right;\">\n",
       "      <th></th>\n",
       "      <th>Disaster Level</th>\n",
       "      <th>Fire</th>\n",
       "      <th>Average Red</th>\n",
       "      <th>Average Green</th>\n",
       "      <th>Average Blue</th>\n",
       "      <th>Average Sobel</th>\n",
       "      <th>Average LBP</th>\n",
       "    </tr>\n",
       "  </thead>\n",
       "  <tbody>\n",
       "    <tr>\n",
       "      <th>0</th>\n",
       "      <td>0</td>\n",
       "      <td>1</td>\n",
       "      <td>0.579382</td>\n",
       "      <td>0.659187</td>\n",
       "      <td>0.628787</td>\n",
       "      <td>0.299332</td>\n",
       "      <td>0.731645</td>\n",
       "    </tr>\n",
       "    <tr>\n",
       "      <th>1</th>\n",
       "      <td>0</td>\n",
       "      <td>1</td>\n",
       "      <td>0.369430</td>\n",
       "      <td>0.450330</td>\n",
       "      <td>0.435473</td>\n",
       "      <td>0.283644</td>\n",
       "      <td>0.713115</td>\n",
       "    </tr>\n",
       "    <tr>\n",
       "      <th>2</th>\n",
       "      <td>0</td>\n",
       "      <td>1</td>\n",
       "      <td>0.510691</td>\n",
       "      <td>0.614722</td>\n",
       "      <td>0.556578</td>\n",
       "      <td>0.264404</td>\n",
       "      <td>0.734214</td>\n",
       "    </tr>\n",
       "    <tr>\n",
       "      <th>3</th>\n",
       "      <td>0</td>\n",
       "      <td>1</td>\n",
       "      <td>0.506770</td>\n",
       "      <td>0.568372</td>\n",
       "      <td>0.538609</td>\n",
       "      <td>0.272281</td>\n",
       "      <td>0.725026</td>\n",
       "    </tr>\n",
       "    <tr>\n",
       "      <th>4</th>\n",
       "      <td>0</td>\n",
       "      <td>1</td>\n",
       "      <td>0.401874</td>\n",
       "      <td>0.519145</td>\n",
       "      <td>0.493923</td>\n",
       "      <td>0.229995</td>\n",
       "      <td>0.743659</td>\n",
       "    </tr>\n",
       "    <tr>\n",
       "      <th>...</th>\n",
       "      <td>...</td>\n",
       "      <td>...</td>\n",
       "      <td>...</td>\n",
       "      <td>...</td>\n",
       "      <td>...</td>\n",
       "      <td>...</td>\n",
       "      <td>...</td>\n",
       "    </tr>\n",
       "    <tr>\n",
       "      <th>8375</th>\n",
       "      <td>0</td>\n",
       "      <td>1</td>\n",
       "      <td>0.516755</td>\n",
       "      <td>0.609571</td>\n",
       "      <td>0.596710</td>\n",
       "      <td>0.276592</td>\n",
       "      <td>0.738321</td>\n",
       "    </tr>\n",
       "    <tr>\n",
       "      <th>8376</th>\n",
       "      <td>0</td>\n",
       "      <td>1</td>\n",
       "      <td>0.486930</td>\n",
       "      <td>0.568288</td>\n",
       "      <td>0.522717</td>\n",
       "      <td>0.206097</td>\n",
       "      <td>0.753503</td>\n",
       "    </tr>\n",
       "    <tr>\n",
       "      <th>8377</th>\n",
       "      <td>0</td>\n",
       "      <td>1</td>\n",
       "      <td>0.415937</td>\n",
       "      <td>0.497151</td>\n",
       "      <td>0.513454</td>\n",
       "      <td>0.254863</td>\n",
       "      <td>0.718321</td>\n",
       "    </tr>\n",
       "    <tr>\n",
       "      <th>8378</th>\n",
       "      <td>0</td>\n",
       "      <td>1</td>\n",
       "      <td>0.455177</td>\n",
       "      <td>0.554696</td>\n",
       "      <td>0.512527</td>\n",
       "      <td>0.285864</td>\n",
       "      <td>0.735451</td>\n",
       "    </tr>\n",
       "    <tr>\n",
       "      <th>8379</th>\n",
       "      <td>0</td>\n",
       "      <td>1</td>\n",
       "      <td>0.534456</td>\n",
       "      <td>0.628319</td>\n",
       "      <td>0.625272</td>\n",
       "      <td>0.335160</td>\n",
       "      <td>0.733666</td>\n",
       "    </tr>\n",
       "  </tbody>\n",
       "</table>\n",
       "<p>8380 rows × 7 columns</p>\n",
       "</div>"
      ],
      "text/plain": [
       "      Disaster Level  Fire  Average Red  Average Green  Average Blue  \\\n",
       "0                  0     1     0.579382       0.659187      0.628787   \n",
       "1                  0     1     0.369430       0.450330      0.435473   \n",
       "2                  0     1     0.510691       0.614722      0.556578   \n",
       "3                  0     1     0.506770       0.568372      0.538609   \n",
       "4                  0     1     0.401874       0.519145      0.493923   \n",
       "...              ...   ...          ...            ...           ...   \n",
       "8375               0     1     0.516755       0.609571      0.596710   \n",
       "8376               0     1     0.486930       0.568288      0.522717   \n",
       "8377               0     1     0.415937       0.497151      0.513454   \n",
       "8378               0     1     0.455177       0.554696      0.512527   \n",
       "8379               0     1     0.534456       0.628319      0.625272   \n",
       "\n",
       "      Average Sobel  Average LBP  \n",
       "0          0.299332     0.731645  \n",
       "1          0.283644     0.713115  \n",
       "2          0.264404     0.734214  \n",
       "3          0.272281     0.725026  \n",
       "4          0.229995     0.743659  \n",
       "...             ...          ...  \n",
       "8375       0.276592     0.738321  \n",
       "8376       0.206097     0.753503  \n",
       "8377       0.254863     0.718321  \n",
       "8378       0.285864     0.735451  \n",
       "8379       0.335160     0.733666  \n",
       "\n",
       "[8380 rows x 7 columns]"
      ]
     },
     "execution_count": 20,
     "metadata": {},
     "output_type": "execute_result"
    }
   ],
   "source": [
    "fire_df"
   ]
  },
  {
   "cell_type": "code",
   "execution_count": 21,
   "id": "23206bcd-0b14-45be-a639-8d0e3e4d45e9",
   "metadata": {},
   "outputs": [
    {
     "data": {
      "text/html": [
       "<div>\n",
       "<style scoped>\n",
       "    .dataframe tbody tr th:only-of-type {\n",
       "        vertical-align: middle;\n",
       "    }\n",
       "\n",
       "    .dataframe tbody tr th {\n",
       "        vertical-align: top;\n",
       "    }\n",
       "\n",
       "    .dataframe thead th {\n",
       "        text-align: right;\n",
       "    }\n",
       "</style>\n",
       "<table border=\"1\" class=\"dataframe\">\n",
       "  <thead>\n",
       "    <tr style=\"text-align: right;\">\n",
       "      <th></th>\n",
       "      <th>Disaster Level</th>\n",
       "      <th>Fire</th>\n",
       "      <th>Average Red</th>\n",
       "      <th>Average Green</th>\n",
       "      <th>Average Blue</th>\n",
       "      <th>Average Sobel</th>\n",
       "      <th>Average LBP</th>\n",
       "    </tr>\n",
       "  </thead>\n",
       "  <tbody>\n",
       "    <tr>\n",
       "      <th>0</th>\n",
       "      <td>0</td>\n",
       "      <td>0</td>\n",
       "      <td>0.433470</td>\n",
       "      <td>0.504469</td>\n",
       "      <td>0.523070</td>\n",
       "      <td>0.157923</td>\n",
       "      <td>0.803000</td>\n",
       "    </tr>\n",
       "    <tr>\n",
       "      <th>1</th>\n",
       "      <td>0</td>\n",
       "      <td>0</td>\n",
       "      <td>0.402550</td>\n",
       "      <td>0.472104</td>\n",
       "      <td>0.455753</td>\n",
       "      <td>0.148558</td>\n",
       "      <td>0.817881</td>\n",
       "    </tr>\n",
       "    <tr>\n",
       "      <th>2</th>\n",
       "      <td>0</td>\n",
       "      <td>0</td>\n",
       "      <td>0.309034</td>\n",
       "      <td>0.403741</td>\n",
       "      <td>0.358727</td>\n",
       "      <td>0.172898</td>\n",
       "      <td>0.790341</td>\n",
       "    </tr>\n",
       "    <tr>\n",
       "      <th>3</th>\n",
       "      <td>0</td>\n",
       "      <td>0</td>\n",
       "      <td>0.535424</td>\n",
       "      <td>0.595264</td>\n",
       "      <td>0.555391</td>\n",
       "      <td>0.333437</td>\n",
       "      <td>0.773657</td>\n",
       "    </tr>\n",
       "    <tr>\n",
       "      <th>4</th>\n",
       "      <td>1</td>\n",
       "      <td>0</td>\n",
       "      <td>0.215312</td>\n",
       "      <td>0.347903</td>\n",
       "      <td>0.241495</td>\n",
       "      <td>0.181919</td>\n",
       "      <td>0.821750</td>\n",
       "    </tr>\n",
       "    <tr>\n",
       "      <th>...</th>\n",
       "      <td>...</td>\n",
       "      <td>...</td>\n",
       "      <td>...</td>\n",
       "      <td>...</td>\n",
       "      <td>...</td>\n",
       "      <td>...</td>\n",
       "      <td>...</td>\n",
       "    </tr>\n",
       "    <tr>\n",
       "      <th>15379</th>\n",
       "      <td>0</td>\n",
       "      <td>1</td>\n",
       "      <td>0.516755</td>\n",
       "      <td>0.609571</td>\n",
       "      <td>0.596710</td>\n",
       "      <td>0.276592</td>\n",
       "      <td>0.738321</td>\n",
       "    </tr>\n",
       "    <tr>\n",
       "      <th>15380</th>\n",
       "      <td>0</td>\n",
       "      <td>1</td>\n",
       "      <td>0.486930</td>\n",
       "      <td>0.568288</td>\n",
       "      <td>0.522717</td>\n",
       "      <td>0.206097</td>\n",
       "      <td>0.753503</td>\n",
       "    </tr>\n",
       "    <tr>\n",
       "      <th>15381</th>\n",
       "      <td>0</td>\n",
       "      <td>1</td>\n",
       "      <td>0.415937</td>\n",
       "      <td>0.497151</td>\n",
       "      <td>0.513454</td>\n",
       "      <td>0.254863</td>\n",
       "      <td>0.718321</td>\n",
       "    </tr>\n",
       "    <tr>\n",
       "      <th>15382</th>\n",
       "      <td>0</td>\n",
       "      <td>1</td>\n",
       "      <td>0.455177</td>\n",
       "      <td>0.554696</td>\n",
       "      <td>0.512527</td>\n",
       "      <td>0.285864</td>\n",
       "      <td>0.735451</td>\n",
       "    </tr>\n",
       "    <tr>\n",
       "      <th>15383</th>\n",
       "      <td>0</td>\n",
       "      <td>1</td>\n",
       "      <td>0.534456</td>\n",
       "      <td>0.628319</td>\n",
       "      <td>0.625272</td>\n",
       "      <td>0.335160</td>\n",
       "      <td>0.733666</td>\n",
       "    </tr>\n",
       "  </tbody>\n",
       "</table>\n",
       "<p>15384 rows × 7 columns</p>\n",
       "</div>"
      ],
      "text/plain": [
       "       Disaster Level  Fire  Average Red  Average Green  Average Blue  \\\n",
       "0                   0     0     0.433470       0.504469      0.523070   \n",
       "1                   0     0     0.402550       0.472104      0.455753   \n",
       "2                   0     0     0.309034       0.403741      0.358727   \n",
       "3                   0     0     0.535424       0.595264      0.555391   \n",
       "4                   1     0     0.215312       0.347903      0.241495   \n",
       "...               ...   ...          ...            ...           ...   \n",
       "15379               0     1     0.516755       0.609571      0.596710   \n",
       "15380               0     1     0.486930       0.568288      0.522717   \n",
       "15381               0     1     0.415937       0.497151      0.513454   \n",
       "15382               0     1     0.455177       0.554696      0.512527   \n",
       "15383               0     1     0.534456       0.628319      0.625272   \n",
       "\n",
       "       Average Sobel  Average LBP  \n",
       "0           0.157923     0.803000  \n",
       "1           0.148558     0.817881  \n",
       "2           0.172898     0.790341  \n",
       "3           0.333437     0.773657  \n",
       "4           0.181919     0.821750  \n",
       "...              ...          ...  \n",
       "15379       0.276592     0.738321  \n",
       "15380       0.206097     0.753503  \n",
       "15381       0.254863     0.718321  \n",
       "15382       0.285864     0.735451  \n",
       "15383       0.335160     0.733666  \n",
       "\n",
       "[15384 rows x 7 columns]"
      ]
     },
     "execution_count": 21,
     "metadata": {},
     "output_type": "execute_result"
    }
   ],
   "source": [
    "flood_fire_df = pd.concat([flood_df, fire_df], ignore_index=True)\n",
    "flood_fire_df"
   ]
  },
  {
   "cell_type": "markdown",
   "id": "c0ca52d3-b9a8-4168-bdea-22b25d0b904e",
   "metadata": {},
   "source": [
    "### Task A: Disaster Type Classification"
   ]
  },
  {
   "cell_type": "code",
   "execution_count": 22,
   "id": "bc7c5ea3-b9f4-45d7-b01c-d76cf9ba7609",
   "metadata": {},
   "outputs": [],
   "source": [
    "from sklearn.linear_model import LogisticRegression\n",
    "from sklearn.metrics import confusion_matrix\n",
    "from sklearn.metrics import f1_score"
   ]
  },
  {
   "cell_type": "code",
   "execution_count": 23,
   "id": "d6250dd5-b0fa-4af9-a73c-647d9c3c2f62",
   "metadata": {},
   "outputs": [],
   "source": [
    "type_design_matrix = flood_fire_df.drop(columns=['Fire', 'Disaster Level'])\n",
    "X_train, X_test, y_train, y_test = train_test_split(type_design_matrix.to_numpy(), \n",
    "                                                    flood_fire_df['Fire'].to_numpy(), \n",
    "                                                    test_size=0.2, \n",
    "                                                    random_state=42)"
   ]
  },
  {
   "cell_type": "code",
   "execution_count": 24,
   "id": "20115ffa-9ae3-4c9d-aed6-111258d7eca7",
   "metadata": {},
   "outputs": [],
   "source": [
    "type_classifier_log = LogisticRegression(max_iter=1000, penalty='l1', solver='liblinear').fit(X_train, y_train)"
   ]
  },
  {
   "cell_type": "code",
   "execution_count": 25,
   "id": "df688904-f706-49cf-94e6-fa93f96b12fb",
   "metadata": {},
   "outputs": [],
   "source": [
    "isfire_train_pred = type_classifier_log.predict(X_train)\n",
    "assert(len(isfire_train_pred) == len(y_train))"
   ]
  },
  {
   "cell_type": "code",
   "execution_count": 26,
   "id": "1a4e4fba-e2a9-4c17-bb31-9c33e1e9a2e6",
   "metadata": {},
   "outputs": [
    {
     "data": {
      "text/plain": [
       "0.9696107906069716"
      ]
     },
     "execution_count": 26,
     "metadata": {},
     "output_type": "execute_result"
    }
   ],
   "source": [
    "np.sum(isfire_train_pred == y_train) / len(y_train)"
   ]
  },
  {
   "cell_type": "code",
   "execution_count": 27,
   "id": "b6d7b6f8-2810-4334-b85e-5f4e2b0adbdf",
   "metadata": {},
   "outputs": [],
   "source": [
    "isfire_test_pred = type_classifier_log.predict(X_test)\n",
    "assert(len(isfire_test_pred) == len(y_test))"
   ]
  },
  {
   "cell_type": "code",
   "execution_count": 28,
   "id": "965454a0-2266-4e78-acf8-62a7e5074a4f",
   "metadata": {},
   "outputs": [
    {
     "name": "stdout",
     "output_type": "stream",
     "text": [
      "Accuracy of Logistic Regression Model for Task A is 0.9652258693532662\n"
     ]
    }
   ],
   "source": [
    "print(f'Accuracy of Logistic Regression Model for Task A is {np.sum(isfire_test_pred == y_test) / len(y_test)}')"
   ]
  },
  {
   "cell_type": "code",
   "execution_count": 29,
   "id": "a2adc3b1-898a-4e87-9e0a-ce56b41a9dfe",
   "metadata": {},
   "outputs": [
    {
     "data": {
      "text/plain": [
       "array([[1336,   64],\n",
       "       [  43, 1634]])"
      ]
     },
     "execution_count": 29,
     "metadata": {},
     "output_type": "execute_result"
    }
   ],
   "source": [
    "cnf_matrix = confusion_matrix(y_test, isfire_test_pred)\n",
    "cnf_matrix"
   ]
  },
  {
   "cell_type": "code",
   "execution_count": 30,
   "id": "416f1fe4-c997-4b85-9dd0-f1d55121b6b0",
   "metadata": {
    "scrolled": true
   },
   "outputs": [
    {
     "data": {
      "image/png": "[encoded data removed]",
      "text/plain": [
       "<Figure size 640x480 with 2 Axes>"
      ]
     },
     "metadata": {},
     "output_type": "display_data"
    }
   ],
   "source": [
    "# Run this cell to plot the confusion matrix; no further action is needed.\n",
    "\n",
    "def plot_confusion_matrix(cm, classes,\n",
    "                          title='Confusion matrix',\n",
    "                          cmap=plt.cm.Blues):\n",
    "    \"\"\"\n",
    "    This function prints and plots the confusion matrix.\n",
    "    \"\"\"\n",
    "    import itertools\n",
    "\n",
    "    plt.imshow(cm, interpolation='nearest', cmap=cmap)\n",
    "    plt.title(title)\n",
    "    plt.colorbar()\n",
    "    tick_marks = np.arange(len(classes))\n",
    "    plt.xticks(tick_marks, classes, rotation=45)\n",
    "    plt.yticks(tick_marks, classes)\n",
    "    plt.grid(False)\n",
    "\n",
    "    thresh = cm.max() / 2.\n",
    "    for i, j in itertools.product(range(cm.shape[0]), range(cm.shape[1])):\n",
    "        plt.text(j, i, np.round(cm[i, j], 2),\n",
    "                 horizontalalignment=\"center\",\n",
    "                 color=\"white\" if cm[i, j] > thresh else \"black\")\n",
    "\n",
    "    plt.tight_layout()\n",
    "    plt.ylabel('True label')\n",
    "    plt.xlabel('Predicted label')\n",
    "    \n",
    "class_names = ['Midwest Flooding', 'SoCal Fire']\n",
    "\n",
    "plot_confusion_matrix(cnf_matrix, classes=class_names,\n",
    "                      title='Confusion Matrix of Logistic Regression \\n Task A')"
   ]
  },
  {
   "cell_type": "code",
   "execution_count": 31,
   "id": "13cda7d5-ffe0-433a-8a99-fd6fc975d97a",
   "metadata": {},
   "outputs": [
    {
     "name": "stdout",
     "output_type": "stream",
     "text": [
      "F1 Score for Task A: 0.9682962962962963\n"
     ]
    }
   ],
   "source": [
    "f1 = f1_score(y_test, isfire_test_pred)\n",
    "\n",
    "print(\"F1 Score for Task A:\", f1)"
   ]
  },
  {
   "cell_type": "markdown",
   "id": "289262a1-1f7c-4a6a-a8d3-f80644226b98",
   "metadata": {},
   "source": [
    "### Task B: Disaster Severity Classification"
   ]
  },
  {
   "cell_type": "code",
   "execution_count": 32,
   "id": "b32baa88-7372-4270-bf5c-d94f9800137f",
   "metadata": {},
   "outputs": [
    {
     "data": {
      "text/html": [
       "<div>\n",
       "<style scoped>\n",
       "    .dataframe tbody tr th:only-of-type {\n",
       "        vertical-align: middle;\n",
       "    }\n",
       "\n",
       "    .dataframe tbody tr th {\n",
       "        vertical-align: top;\n",
       "    }\n",
       "\n",
       "    .dataframe thead th {\n",
       "        text-align: right;\n",
       "    }\n",
       "</style>\n",
       "<table border=\"1\" class=\"dataframe\">\n",
       "  <thead>\n",
       "    <tr style=\"text-align: right;\">\n",
       "      <th></th>\n",
       "      <th>Disaster Level</th>\n",
       "      <th>Fire</th>\n",
       "      <th>Average Red</th>\n",
       "      <th>Average Green</th>\n",
       "      <th>Average Blue</th>\n",
       "      <th>Average Sobel</th>\n",
       "      <th>Average LBP</th>\n",
       "    </tr>\n",
       "  </thead>\n",
       "  <tbody>\n",
       "    <tr>\n",
       "      <th>0</th>\n",
       "      <td>3</td>\n",
       "      <td>0</td>\n",
       "      <td>0.315719</td>\n",
       "      <td>0.444336</td>\n",
       "      <td>0.445701</td>\n",
       "      <td>0.464934</td>\n",
       "      <td>0.684217</td>\n",
       "    </tr>\n",
       "    <tr>\n",
       "      <th>1</th>\n",
       "      <td>0</td>\n",
       "      <td>0</td>\n",
       "      <td>0.368891</td>\n",
       "      <td>0.504047</td>\n",
       "      <td>0.486109</td>\n",
       "      <td>0.305863</td>\n",
       "      <td>0.652446</td>\n",
       "    </tr>\n",
       "    <tr>\n",
       "      <th>2</th>\n",
       "      <td>1</td>\n",
       "      <td>0</td>\n",
       "      <td>0.466982</td>\n",
       "      <td>0.515602</td>\n",
       "      <td>0.524888</td>\n",
       "      <td>0.544758</td>\n",
       "      <td>0.687097</td>\n",
       "    </tr>\n",
       "    <tr>\n",
       "      <th>3</th>\n",
       "      <td>0</td>\n",
       "      <td>0</td>\n",
       "      <td>0.404457</td>\n",
       "      <td>0.542375</td>\n",
       "      <td>0.563169</td>\n",
       "      <td>0.210994</td>\n",
       "      <td>0.676822</td>\n",
       "    </tr>\n",
       "    <tr>\n",
       "      <th>4</th>\n",
       "      <td>2</td>\n",
       "      <td>0</td>\n",
       "      <td>0.363587</td>\n",
       "      <td>0.459122</td>\n",
       "      <td>0.424658</td>\n",
       "      <td>0.527758</td>\n",
       "      <td>0.610121</td>\n",
       "    </tr>\n",
       "    <tr>\n",
       "      <th>...</th>\n",
       "      <td>...</td>\n",
       "      <td>...</td>\n",
       "      <td>...</td>\n",
       "      <td>...</td>\n",
       "      <td>...</td>\n",
       "      <td>...</td>\n",
       "      <td>...</td>\n",
       "    </tr>\n",
       "    <tr>\n",
       "      <th>26530</th>\n",
       "      <td>0</td>\n",
       "      <td>1</td>\n",
       "      <td>0.516755</td>\n",
       "      <td>0.609571</td>\n",
       "      <td>0.596710</td>\n",
       "      <td>0.276592</td>\n",
       "      <td>0.738321</td>\n",
       "    </tr>\n",
       "    <tr>\n",
       "      <th>26531</th>\n",
       "      <td>0</td>\n",
       "      <td>1</td>\n",
       "      <td>0.486930</td>\n",
       "      <td>0.568288</td>\n",
       "      <td>0.522717</td>\n",
       "      <td>0.206097</td>\n",
       "      <td>0.753503</td>\n",
       "    </tr>\n",
       "    <tr>\n",
       "      <th>26532</th>\n",
       "      <td>0</td>\n",
       "      <td>1</td>\n",
       "      <td>0.415937</td>\n",
       "      <td>0.497151</td>\n",
       "      <td>0.513454</td>\n",
       "      <td>0.254863</td>\n",
       "      <td>0.718321</td>\n",
       "    </tr>\n",
       "    <tr>\n",
       "      <th>26533</th>\n",
       "      <td>0</td>\n",
       "      <td>1</td>\n",
       "      <td>0.455177</td>\n",
       "      <td>0.554696</td>\n",
       "      <td>0.512527</td>\n",
       "      <td>0.285864</td>\n",
       "      <td>0.735451</td>\n",
       "    </tr>\n",
       "    <tr>\n",
       "      <th>26534</th>\n",
       "      <td>0</td>\n",
       "      <td>1</td>\n",
       "      <td>0.534456</td>\n",
       "      <td>0.628319</td>\n",
       "      <td>0.625272</td>\n",
       "      <td>0.335160</td>\n",
       "      <td>0.733666</td>\n",
       "    </tr>\n",
       "  </tbody>\n",
       "</table>\n",
       "<p>26535 rows × 7 columns</p>\n",
       "</div>"
      ],
      "text/plain": [
       "       Disaster Level  Fire  Average Red  Average Green  Average Blue  \\\n",
       "0                   3     0     0.315719       0.444336      0.445701   \n",
       "1                   0     0     0.368891       0.504047      0.486109   \n",
       "2                   1     0     0.466982       0.515602      0.524888   \n",
       "3                   0     0     0.404457       0.542375      0.563169   \n",
       "4                   2     0     0.363587       0.459122      0.424658   \n",
       "...               ...   ...          ...            ...           ...   \n",
       "26530               0     1     0.516755       0.609571      0.596710   \n",
       "26531               0     1     0.486930       0.568288      0.522717   \n",
       "26532               0     1     0.415937       0.497151      0.513454   \n",
       "26533               0     1     0.455177       0.554696      0.512527   \n",
       "26534               0     1     0.534456       0.628319      0.625272   \n",
       "\n",
       "       Average Sobel  Average LBP  \n",
       "0           0.464934     0.684217  \n",
       "1           0.305863     0.652446  \n",
       "2           0.544758     0.687097  \n",
       "3           0.210994     0.676822  \n",
       "4           0.527758     0.610121  \n",
       "...              ...          ...  \n",
       "26530       0.276592     0.738321  \n",
       "26531       0.206097     0.753503  \n",
       "26532       0.254863     0.718321  \n",
       "26533       0.285864     0.735451  \n",
       "26534       0.335160     0.733666  \n",
       "\n",
       "[26535 rows x 7 columns]"
      ]
     },
     "execution_count": 32,
     "metadata": {},
     "output_type": "execute_result"
    }
   ],
   "source": [
    "hurricane_fire_flood_df = pd.concat([hurricane_df, flood_df, fire_df], ignore_index=True)\n",
    "hurricane_fire_flood_df"
   ]
  },
  {
   "cell_type": "code",
   "execution_count": 33,
   "id": "75132768",
   "metadata": {},
   "outputs": [],
   "source": [
    "design_matrix = hurricane_fire_flood_df[['Average Red', 'Average Green', 'Average Blue', 'Average Sobel', 'Average LBP']]\n",
    "X_train, X_test, y_train, y_test = train_test_split(design_matrix.to_numpy(), hurricane_fire_flood_df['Disaster Level'].to_numpy(), test_size=0.2, random_state=42)"
   ]
  },
  {
   "cell_type": "code",
   "execution_count": 34,
   "id": "8c22e6bf",
   "metadata": {},
   "outputs": [],
   "source": [
    "image_classifier_lm = lm.LinearRegression().fit(X_train, y_train)"
   ]
  },
  {
   "cell_type": "code",
   "execution_count": 35,
   "id": "bda21710",
   "metadata": {},
   "outputs": [
    {
     "data": {
      "text/plain": [
       "array([1., 0., 0., ..., 1., 0., 0.])"
      ]
     },
     "execution_count": 35,
     "metadata": {},
     "output_type": "execute_result"
    }
   ],
   "source": [
    "results = image_classifier_lm.predict(X_train)\n",
    "results = np.round(results)\n",
    "results"
   ]
  },
  {
   "cell_type": "code",
   "execution_count": 36,
   "id": "c9db53fe",
   "metadata": {},
   "outputs": [],
   "source": [
    "assert(results.shape == y_train.shape)"
   ]
  },
  {
   "cell_type": "code",
   "execution_count": 37,
   "id": "ccd333cf",
   "metadata": {},
   "outputs": [
    {
     "data": {
      "text/plain": [
       "0.6402393065762201"
      ]
     },
     "execution_count": 37,
     "metadata": {},
     "output_type": "execute_result"
    }
   ],
   "source": [
    "np.sum(results == y_train) / len(y_train)"
   ]
  },
  {
   "cell_type": "code",
   "execution_count": 38,
   "id": "45adff1f",
   "metadata": {},
   "outputs": [],
   "source": [
    "test_results = image_classifier_lm.predict(X_test)"
   ]
  },
  {
   "cell_type": "code",
   "execution_count": 39,
   "id": "d3727f68",
   "metadata": {},
   "outputs": [],
   "source": [
    "test_results = np.round(test_results)"
   ]
  },
  {
   "cell_type": "code",
   "execution_count": 40,
   "id": "415bc56e",
   "metadata": {},
   "outputs": [
    {
     "data": {
      "text/plain": [
       "0.625023553796872"
      ]
     },
     "execution_count": 40,
     "metadata": {},
     "output_type": "execute_result"
    }
   ],
   "source": [
    "np.sum(test_results == y_test) / len(y_test)"
   ]
  },
  {
   "cell_type": "code",
   "execution_count": 41,
   "id": "c2328199",
   "metadata": {},
   "outputs": [
    {
     "name": "stdout",
     "output_type": "stream",
     "text": [
      "Ridge Regression-Training set score: 0.26\n",
      "Ridge Regression-Test set score: 0.23\n"
     ]
    }
   ],
   "source": [
    "from sklearn.linear_model import Ridge\n",
    "ridge = Ridge().fit(X_train, y_train)\n",
    "print(f\"Ridge Regression-Training set score: {ridge.score(X_train, y_train):.2f}\")\n",
    "print(f\"Ridge Regression-Test set score: {ridge.score(X_test, y_test):.2f}\")"
   ]
  },
  {
   "cell_type": "code",
   "execution_count": 42,
   "id": "6b51f62b",
   "metadata": {},
   "outputs": [],
   "source": [
    "ridge_results = ridge.predict(X_train)"
   ]
  },
  {
   "cell_type": "code",
   "execution_count": 43,
   "id": "368efa02",
   "metadata": {},
   "outputs": [
    {
     "data": {
      "text/plain": [
       "0.6443847748257019"
      ]
     },
     "execution_count": 43,
     "metadata": {},
     "output_type": "execute_result"
    }
   ],
   "source": [
    "np.sum(np.round(ridge_results) == y_train) / len(y_train)"
   ]
  },
  {
   "cell_type": "code",
   "execution_count": 44,
   "id": "d0648850",
   "metadata": {},
   "outputs": [],
   "source": [
    "ridge_results_test = ridge.predict(X_test)"
   ]
  },
  {
   "cell_type": "code",
   "execution_count": 45,
   "id": "57d90cae",
   "metadata": {
    "scrolled": true
   },
   "outputs": [
    {
     "data": {
      "text/plain": [
       "0.6267194271716601"
      ]
     },
     "execution_count": 45,
     "metadata": {},
     "output_type": "execute_result"
    }
   ],
   "source": [
    "np.sum(np.round(ridge_results_test) == y_test) / len(y_test)"
   ]
  },
  {
   "cell_type": "markdown",
   "id": "cb7805eb-4e7e-4689-bb64-e6e4e7ef061e",
   "metadata": {},
   "source": [
    "#### Utilize Logistic Regression"
   ]
  },
  {
   "cell_type": "code",
   "execution_count": 46,
   "id": "0eff66d0-c204-484f-8fa8-1b1da0794c9b",
   "metadata": {},
   "outputs": [
    {
     "data": {
      "text/html": [
       "<style>#sk-container-id-1 {color: black;background-color: white;}#sk-container-id-1 pre{padding: 0;}#sk-container-id-1 div.sk-toggleable {background-color: white;}#sk-container-id-1 label.sk-toggleable__label {cursor: pointer;display: block;width: 100%;margin-bottom: 0;padding: 0.3em;box-sizing: border-box;text-align: center;}#sk-container-id-1 label.sk-toggleable__label-arrow:before {content: \"▸\";float: left;margin-right: 0.25em;color: #696969;}#sk-container-id-1 label.sk-toggleable__label-arrow:hover:before {color: black;}#sk-container-id-1 div.sk-estimator:hover label.sk-toggleable__label-arrow:before {color: black;}#sk-container-id-1 div.sk-toggleable__content {max-height: 0;max-width: 0;overflow: hidden;text-align: left;background-color: #f0f8ff;}#sk-container-id-1 div.sk-toggleable__content pre {margin: 0.2em;color: black;border-radius: 0.25em;background-color: #f0f8ff;}#sk-container-id-1 input.sk-toggleable__control:checked~div.sk-toggleable__content {max-height: 200px;max-width: 100%;overflow: auto;}#sk-container-id-1 input.sk-toggleable__control:checked~label.sk-toggleable__label-arrow:before {content: \"▾\";}#sk-container-id-1 div.sk-estimator input.sk-toggleable__control:checked~label.sk-toggleable__label {background-color: #d4ebff;}#sk-container-id-1 div.sk-label input.sk-toggleable__control:checked~label.sk-toggleable__label {background-color: #d4ebff;}#sk-container-id-1 input.sk-hidden--visually {border: 0;clip: rect(1px 1px 1px 1px);clip: rect(1px, 1px, 1px, 1px);height: 1px;margin: -1px;overflow: hidden;padding: 0;position: absolute;width: 1px;}#sk-container-id-1 div.sk-estimator {font-family: monospace;background-color: #f0f8ff;border: 1px dotted black;border-radius: 0.25em;box-sizing: border-box;margin-bottom: 0.5em;}#sk-container-id-1 div.sk-estimator:hover {background-color: #d4ebff;}#sk-container-id-1 div.sk-parallel-item::after {content: \"\";width: 100%;border-bottom: 1px solid gray;flex-grow: 1;}#sk-container-id-1 div.sk-label:hover label.sk-toggleable__label {background-color: #d4ebff;}#sk-container-id-1 div.sk-serial::before {content: \"\";position: absolute;border-left: 1px solid gray;box-sizing: border-box;top: 0;bottom: 0;left: 50%;z-index: 0;}#sk-container-id-1 div.sk-serial {display: flex;flex-direction: column;align-items: center;background-color: white;padding-right: 0.2em;padding-left: 0.2em;position: relative;}#sk-container-id-1 div.sk-item {position: relative;z-index: 1;}#sk-container-id-1 div.sk-parallel {display: flex;align-items: stretch;justify-content: center;background-color: white;position: relative;}#sk-container-id-1 div.sk-item::before, #sk-container-id-1 div.sk-parallel-item::before {content: \"\";position: absolute;border-left: 1px solid gray;box-sizing: border-box;top: 0;bottom: 0;left: 50%;z-index: -1;}#sk-container-id-1 div.sk-parallel-item {display: flex;flex-direction: column;z-index: 1;position: relative;background-color: white;}#sk-container-id-1 div.sk-parallel-item:first-child::after {align-self: flex-end;width: 50%;}#sk-container-id-1 div.sk-parallel-item:last-child::after {align-self: flex-start;width: 50%;}#sk-container-id-1 div.sk-parallel-item:only-child::after {width: 0;}#sk-container-id-1 div.sk-dashed-wrapped {border: 1px dashed gray;margin: 0 0.4em 0.5em 0.4em;box-sizing: border-box;padding-bottom: 0.4em;background-color: white;}#sk-container-id-1 div.sk-label label {font-family: monospace;font-weight: bold;display: inline-block;line-height: 1.2em;}#sk-container-id-1 div.sk-label-container {text-align: center;}#sk-container-id-1 div.sk-container {/* jupyter's `normalize.less` sets `[hidden] { display: none; }` but bootstrap.min.css set `[hidden] { display: none !important; }` so we also need the `!important` here to be able to override the default hidden behavior on the sphinx rendered scikit-learn.org. See: https://github.com/scikit-learn/scikit-learn/issues/21755 */display: inline-block !important;position: relative;}#sk-container-id-1 div.sk-text-repr-fallback {display: none;}</style><div id=\"sk-container-id-1\" class=\"sk-top-container\"><div class=\"sk-text-repr-fallback\"><pre>LogisticRegression(max_iter=1000, multi_class=&#x27;multinomial&#x27;)</pre><b>In a Jupyter environment, please rerun this cell to show the HTML representation or trust the notebook. <br />On GitHub, the HTML representation is unable to render, please try loading this page with nbviewer.org.</b></div><div class=\"sk-container\" hidden><div class=\"sk-item\"><div class=\"sk-estimator sk-toggleable\"><input class=\"sk-toggleable__control sk-hidden--visually\" id=\"sk-estimator-id-1\" type=\"checkbox\" checked><label for=\"sk-estimator-id-1\" class=\"sk-toggleable__label sk-toggleable__label-arrow\">LogisticRegression</label><div class=\"sk-toggleable__content\"><pre>LogisticRegression(max_iter=1000, multi_class=&#x27;multinomial&#x27;)</pre></div></div></div></div></div>"
      ],
      "text/plain": [
       "LogisticRegression(max_iter=1000, multi_class='multinomial')"
      ]
     },
     "execution_count": 46,
     "metadata": {},
     "output_type": "execute_result"
    }
   ],
   "source": [
    "image_classifier_logistic = LogisticRegression(multi_class='multinomial', max_iter = 1000).fit(X_train, y_train)\n",
    "image_classifier_logistic"
   ]
  },
  {
   "cell_type": "code",
   "execution_count": 47,
   "id": "f88846b5-4dc5-4af5-8e4e-735b76fafea0",
   "metadata": {},
   "outputs": [],
   "source": [
    "train_predictions = image_classifier_logistic.predict(X_train)\n",
    "assert(train_predictions.shape == y_train.shape)"
   ]
  },
  {
   "cell_type": "code",
   "execution_count": 48,
   "id": "c94278ee-db45-48fe-abc3-8f36458f9cf4",
   "metadata": {},
   "outputs": [
    {
     "data": {
      "text/plain": [
       "0.738599962313925"
      ]
     },
     "execution_count": 48,
     "metadata": {},
     "output_type": "execute_result"
    }
   ],
   "source": [
    "np.sum(train_predictions == y_train) / len(y_train)"
   ]
  },
  {
   "cell_type": "code",
   "execution_count": 49,
   "id": "2f0781ba-9343-4417-b241-bd0ffefd255a",
   "metadata": {},
   "outputs": [],
   "source": [
    "test_predictions = image_classifier_logistic.predict(X_test)\n",
    "assert(test_predictions.shape == y_test.shape)"
   ]
  },
  {
   "cell_type": "code",
   "execution_count": 50,
   "id": "4129d370-4368-4521-9fa1-d2f205bb69c3",
   "metadata": {},
   "outputs": [
    {
     "name": "stdout",
     "output_type": "stream",
     "text": [
      "Accuracy of Logistic Regression Model for Task B is 0.7339363105332579\n"
     ]
    }
   ],
   "source": [
    "print(f'Accuracy of Logistic Regression Model for Task B is {np.sum(test_predictions == y_test) / len(y_test)}')"
   ]
  },
  {
   "cell_type": "code",
   "execution_count": 51,
   "id": "8ed1048d-4910-4875-9c74-28f2191c4839",
   "metadata": {},
   "outputs": [
    {
     "data": {
      "text/plain": [
       "array([[2991,  289,    3,   25],\n",
       "       [ 214,  860,    1,   14],\n",
       "       [  96,  209,    0,   29],\n",
       "       [ 398,  130,    4,   44]])"
      ]
     },
     "execution_count": 51,
     "metadata": {},
     "output_type": "execute_result"
    }
   ],
   "source": [
    "cnf_matrix = confusion_matrix(y_test, test_predictions)\n",
    "cnf_matrix"
   ]
  },
  {
   "cell_type": "code",
   "execution_count": 52,
   "id": "bbe39110-e287-4fc4-a516-0ec3eb310c52",
   "metadata": {},
   "outputs": [
    {
     "data": {
      "image/png": "[encoded data removed]",
      "text/plain": [
       "<Figure size 640x480 with 2 Axes>"
      ]
     },
     "metadata": {},
     "output_type": "display_data"
    }
   ],
   "source": [
    "class_names = ['0', '1', '2', '3']\n",
    "\n",
    "plot_confusion_matrix(cnf_matrix, classes=class_names,\n",
    "                      title='Confusion Matrix of Logistic Regression \\n Task B')"
   ]
  },
  {
   "cell_type": "code",
   "execution_count": 53,
   "id": "e697784e-13ab-4fb5-905b-0a312ad4f918",
   "metadata": {},
   "outputs": [
    {
     "name": "stdout",
     "output_type": "stream",
     "text": [
      "F1 Score for Task B: 0.6829880864767933\n"
     ]
    }
   ],
   "source": [
    "f1 = f1_score(y_test, test_predictions, average='weighted')\n",
    "\n",
    "print(\"F1 Score for Task B:\", f1)"
   ]
  },
  {
   "cell_type": "markdown",
   "id": "11a87967-5cb1-488d-96cd-cbe97bfc5f5d",
   "metadata": {},
   "source": [
    "## Test Set"
   ]
  },
  {
   "cell_type": "code",
   "execution_count": 59,
   "id": "39bfd55c-0da8-4d85-b908-292a4a602c37",
   "metadata": {},
   "outputs": [],
   "source": [
    "data = np.load('/home/jovyan/shared/sp24_grad_project_data/satellite-image-data/test_images_flooding-fire.npz')\n",
    "task_a_images = [data[f\"image_{i}\"] for i in range(len(data.files))]"
   ]
  },
  {
   "cell_type": "code",
   "execution_count": 61,
   "id": "893427db-cf71-4eac-86f7-904bce437376",
   "metadata": {},
   "outputs": [],
   "source": [
    "data = np.load('/home/jovyan/shared/sp24_grad_project_data/satellite-image-data/test_images_hurricane-matthew.npz')\n",
    "task_b_images = [data[f\"image_{i}\"] for i in range(len(data.files))]"
   ]
  },
  {
   "cell_type": "code",
   "execution_count": 69,
   "id": "b8cf9528-5784-4a6b-81bf-288ebb635210",
   "metadata": {},
   "outputs": [
    {
     "name": "stderr",
     "output_type": "stream",
     "text": [
      "100%|██████████| 3847/3847 [00:09<00:00, 389.71it/s]\n",
      "/srv/conda/envs/notebook/lib/python3.11/site-packages/sklearn/base.py:432: UserWarning: X has feature names, but LogisticRegression was fitted without feature names\n",
      "  warnings.warn(\n"
     ]
    }
   ],
   "source": [
    "task_a_features = feature_engine(pd.DataFrame(), task_a_images)\n",
    "task_a = type_classifier_log.predict(task_a_features)"
   ]
  },
  {
   "cell_type": "code",
   "execution_count": 74,
   "id": "52f02d7d-2584-4b28-af16-2498684eb2a6",
   "metadata": {},
   "outputs": [
    {
     "data": {
      "text/plain": [
       "0       1\n",
       "1       0\n",
       "2       0\n",
       "3       1\n",
       "4       1\n",
       "       ..\n",
       "3842    0\n",
       "3843    0\n",
       "3844    0\n",
       "3845    1\n",
       "3846    1\n",
       "Name: pred, Length: 3847, dtype: int64"
      ]
     },
     "execution_count": 74,
     "metadata": {},
     "output_type": "execute_result"
    }
   ],
   "source": [
    "task_a_df = pd.Series(task_a, name='pred')\n",
    "task_a_df"
   ]
  },
  {
   "cell_type": "code",
   "execution_count": 77,
   "id": "f8f0df89-c392-4527-a3d5-4e9b79ea8952",
   "metadata": {},
   "outputs": [],
   "source": [
    "task_a_df.to_csv(\"test_images_flooding-fire_predictions.csv\", index=False)"
   ]
  },
  {
   "cell_type": "code",
   "execution_count": 76,
   "id": "fb51ab3b-1d73-4fc0-9615-46f54fa3723c",
   "metadata": {},
   "outputs": [
    {
     "name": "stderr",
     "output_type": "stream",
     "text": [
      "100%|██████████| 2788/2788 [00:03<00:00, 793.12it/s]\n",
      "/srv/conda/envs/notebook/lib/python3.11/site-packages/sklearn/base.py:432: UserWarning: X has feature names, but LogisticRegression was fitted without feature names\n",
      "  warnings.warn(\n"
     ]
    }
   ],
   "source": [
    "task_b_features = feature_engine(pd.DataFrame(), task_b_images)\n",
    "task_b = image_classifier_logistic.predict(task_b_features)\n",
    "task_b_df = pd.Series(task_b, name='pred')\n"
   ]
  },
  {
   "cell_type": "code",
   "execution_count": 78,
   "id": "dc67439b-30d7-4b50-aa41-3874a50a1170",
   "metadata": {},
   "outputs": [],
   "source": [
    "task_b_df.to_csv(\"test_images_hurricane-matthew_predictions.csv\", index=False)"
   ]
  },
  {
   "cell_type": "markdown",
   "id": "6e548d93-8fa7-4b9d-8fbe-f4a559ab37b9",
   "metadata": {},
   "source": [
    "----------------------------------------"
   ]
  },
  {
   "cell_type": "markdown",
   "id": "f6623d02-ec43-4f42-9930-55f8f9a5d762",
   "metadata": {},
   "source": [
    "Tests for scaling, not actually required"
   ]
  },
  {
   "cell_type": "markdown",
   "id": "595e839f-7d01-4948-bc06-f70823469c25",
   "metadata": {},
   "source": [
    "### Scaling Image to Nearest Perfect Square"
   ]
  },
  {
   "cell_type": "markdown",
   "id": "a215a6b3-2150-4b92-bcf2-db2a3e064676",
   "metadata": {},
   "source": [
    "I want to perform a more advanced scaling operation. The end result is that all images should be square, but what size should the output image be? Determine bins for scaling based off image original area. If an image's original area falls within the bin range, then we shall scale the image to fit the dimensions that are the middle of that bin. eg. an image's area is ~400 pixels^2, and our bin is from 350-450 so we will scale it to a 20x20 image. The middle of the bins must thus all be perfect squares.\n",
    "\n",
    "#### Potential Ideas\n",
    "- Can make 5-10 bins based off the maximum area found in the whole dataset.\n",
    "  - However, a majority of images fall within a certain area. This could create more bins for the outliers and not enough bins for the majority of the dataset\n",
    "- Make more bins for the highest density area values, and less bins for the outliers (really large/small images)\n",
    "\n",
    "Based off the logic above, make a bin for every perfect square up to the perfect square that is >= the largest area in the dataset. Each image will be scaled to its closest perfect square!"
   ]
  },
  {
   "cell_type": "markdown",
   "id": "8e416336-7b69-46cb-84b5-ad8aaa60e91d",
   "metadata": {},
   "source": [
    "#### Potential Steps for Scaling:\n",
    "\n",
    "Create a dictionary where keys are perfect squares, and the values are lists containing all the images that should be scaled to a square image\n",
    "with dimensions of that perfect square. To calculate the nearest perfect square, calculate the area of the original image, then round the square\n",
    "root of the area to the nearest integer = the nearest perfect square of the image.\n",
    "\n",
    "Can then perform scaling for every perfect square in the dictionary, and then perform feature engineering on square images of different dimensions\n",
    "Since the goal is to create simpler features for the model, such as average value for each R/G/B channel or average of the Sobel edge detection filter,\n",
    "the different square pictures will not matter at the end.\n",
    "\n",
    "Must figure out how to link features back to the original images, since they will no longer be in order after sorting images by closest perfect square\n",
    "\n",
    "#### Scaling Pipeline\n",
    "\n",
    "Design a feature engineering pipeline\n",
    "\n",
    "1. Create a parent dataframe with the Y_value (severity level) for each image\n",
    "2. For each image, determine its nearest perfect square. Append that to the parent dataframe\n",
    "3. Create a dictionary with each unique perfect square as a key, and each subset of the parent dataframe with only images of that perfect square as values: perfect_square_df\n",
    "4. For each key:dataframe pair in the dictionary, use the indices to index into the original list of all images to select the corresponding images to be scaled to the key's square size. The scaled images will all be of the same size and can be placed into a numpy array.\n",
    "5. Generate features from those square images. Example features could be:\n",
    "   - The average value of each of the R/G/B color channels.\n",
    "   - The average value of the pixels in the image after Sobel edge filtering\n",
    "6. Append the features back into perfect_square_dataframe. \n",
    "7. Merge back into the parent_df on indices (they should still be the same). Final parent_df will only have features and severity label, not any individual pixel information\n",
    "\n"
   ]
  },
  {
   "cell_type": "markdown",
   "id": "44a1ffa4-f85d-4008-9b4a-2fde525f6bb0",
   "metadata": {},
   "source": [
    "### Feature Functions"
   ]
  },
  {
   "cell_type": "markdown",
   "id": "fee839df-08a3-43a6-bf72-834b9f880fda",
   "metadata": {},
   "source": [
    "def closest_perfect_square(image_shapes: np.ndarray) -> np.array(int):\n",
    "    \"\"\"\n",
    "    Find the nearest perfect square P of the image area, such that we can rescale the image to a new square PxP image.\n",
    "    If an image has an area of 425, we would want to rescale the image to a 20x20 square image, so the nearest perfect square would be 20.\n",
    "\n",
    "    Parameters:\n",
    "        image_shapes (numpy.ndarray): \n",
    "            array of shape (n, 3) for n images. Each image should have 3 (rows, columns, RGB), where the last dimension RGB is an additional\n",
    "            array of shape (3,) for each color channel. Conceptually, an image is a matrix where each entry is an array of (3, )\n",
    "\n",
    "    Returns:\n",
    "        nearest_ps (np.ndarray of ints): the array of integers of the nearest perfect square for each image\n",
    "    \"\"\"\n",
    "    area = image_shapes[:, 0] * image_shapes[:, 1]\n",
    "    nearest_ps = np.round(np.sqrt(area))\n",
    "    return nearest_ps.astype(int)\n",
    "\n",
    "def scale_image(images: List[np.ndarray], \n",
    "                square_size: int\n",
    "                ) -> np.ndarray:\n",
    "    \"\"\"\n",
    "    Using the OpenCV library, perform scaling of each image to a square image that it is closest in area to.\n",
    "    Also returns the pixel values normalized (divided by 255)\n",
    "\n",
    "    Parameters:\n",
    "        images (List[np.ndarray(int)]): List of numpy arrays, each numpy array is an image to be scaled\n",
    "        square_size (int): the new square_size x square_size square image to scale the image to\n",
    "\n",
    "    Returns:\n",
    "        squared_images (np.ndarray(int)): Numpy array of shape (n, square_size, square_size, 3) for n images in images list.\n",
    "            Each entry into the array is now a scaled image\n",
    "    \"\"\"\n",
    "\n",
    "    return np.array([cv2.resize(image, (square_size, square_size)).astype(np.float32) / 255.0 for image in images])\n",
    "\n"
   ]
  },
  {
   "cell_type": "markdown",
   "id": "3358f91a-8b3b-4713-948f-54cf0712c288",
   "metadata": {},
   "source": [
    "# Testing of Feature Functions\n",
    "\n",
    "# Closest_Perfect_Square\n",
    "display(closest_perfect_square(hurricane_image_shapes))\n",
    "assert(closest_perfect_square(np.array([[10, 11, 1]]))[0] == 10)\n",
    "\n",
    "# Scale_Image\n",
    "assert(scale_image(hurricane_train_images, 50).shape[1] == 50)\n",
    "assert(scale_image(hurricane_train_images, 80).shape[1] == 80)\n",
    "scale_image(hurricane_train_images, 10).shape\n"
   ]
  },
  {
   "cell_type": "markdown",
   "id": "2cfc4e79-66e9-4cf3-a006-1deb321e38b2",
   "metadata": {},
   "source": [
    "### 2. Find the nearest perfect square for each image"
   ]
  },
  {
   "cell_type": "markdown",
   "id": "1e3a1b23-86e5-401d-ad2f-b613eced4bb8",
   "metadata": {},
   "source": [
    "hurricane_df['Closest_PS'] = closest_perfect_square(hurricane_image_shapes)\n",
    "hurricane_df.head()"
   ]
  },
  {
   "cell_type": "markdown",
   "id": "bc6f37ee-b5ab-44a1-9332-75fe363ce1d0",
   "metadata": {},
   "source": [
    "### 3. Create perfect square specific dataframes in a dictionary"
   ]
  },
  {
   "cell_type": "markdown",
   "id": "4b19e68a-10ff-4138-8501-ed70aef635aa",
   "metadata": {},
   "source": [
    "ps_dataframes = {}\n",
    "for perfect_square in hurricane_df['Closest_PS'].unique():\n",
    "    ps_dataframes[perfect_square] = hurricane_df[hurricane_df['Closest_PS'] == perfect_square]\n",
    "ps_dataframes[59]"
   ]
  },
  {
   "cell_type": "markdown",
   "id": "1fa6378b-9c98-487b-bd23-969cca03ec92",
   "metadata": {},
   "source": [
    "### 4/5/6\n",
    "\n",
    "Perform scaling for each perfect_square dataframe\n",
    "\n",
    "Use the indices from each ps_dataframe to index into the original dataset list, `hurricane_train_images`. Then use that list subset to scale the image to its closest perfect square (as denoted by its key).\n",
    "\n",
    "Append the features back into the perfect_square dataframe"
   ]
  },
  {
   "cell_type": "code",
   "execution_count": 209,
   "id": "1114b65d",
   "metadata": {},
   "outputs": [
    {
     "data": {
      "text/html": [
       "<div>\n",
       "<style scoped>\n",
       "    .dataframe tbody tr th:only-of-type {\n",
       "        vertical-align: middle;\n",
       "    }\n",
       "\n",
       "    .dataframe tbody tr th {\n",
       "        vertical-align: top;\n",
       "    }\n",
       "\n",
       "    .dataframe thead th {\n",
       "        text-align: right;\n",
       "    }\n",
       "</style>\n",
       "<table border=\"1\" class=\"dataframe\">\n",
       "  <thead>\n",
       "    <tr style=\"text-align: right;\">\n",
       "      <th></th>\n",
       "      <th>Disaster Level</th>\n",
       "      <th>Closest_PS</th>\n",
       "      <th>Average Red</th>\n",
       "      <th>Average Green</th>\n",
       "      <th>Average Blue</th>\n",
       "      <th>Average Sobel</th>\n",
       "    </tr>\n",
       "  </thead>\n",
       "  <tbody>\n",
       "    <tr>\n",
       "      <th>0</th>\n",
       "      <td>3</td>\n",
       "      <td>59</td>\n",
       "      <td>0.296417</td>\n",
       "      <td>0.412363</td>\n",
       "      <td>0.395898</td>\n",
       "      <td>0.049479</td>\n",
       "    </tr>\n",
       "    <tr>\n",
       "      <th>1</th>\n",
       "      <td>0</td>\n",
       "      <td>84</td>\n",
       "      <td>0.346463</td>\n",
       "      <td>0.467902</td>\n",
       "      <td>0.431940</td>\n",
       "      <td>0.036116</td>\n",
       "    </tr>\n",
       "    <tr>\n",
       "      <th>2</th>\n",
       "      <td>1</td>\n",
       "      <td>55</td>\n",
       "      <td>0.438617</td>\n",
       "      <td>0.478575</td>\n",
       "      <td>0.466326</td>\n",
       "      <td>0.058030</td>\n",
       "    </tr>\n",
       "    <tr>\n",
       "      <th>3</th>\n",
       "      <td>0</td>\n",
       "      <td>119</td>\n",
       "      <td>0.379843</td>\n",
       "      <td>0.503448</td>\n",
       "      <td>0.500393</td>\n",
       "      <td>0.023963</td>\n",
       "    </tr>\n",
       "    <tr>\n",
       "      <th>4</th>\n",
       "      <td>2</td>\n",
       "      <td>54</td>\n",
       "      <td>0.341406</td>\n",
       "      <td>0.426117</td>\n",
       "      <td>0.377319</td>\n",
       "      <td>0.061631</td>\n",
       "    </tr>\n",
       "    <tr>\n",
       "      <th>...</th>\n",
       "      <td>...</td>\n",
       "      <td>...</td>\n",
       "      <td>...</td>\n",
       "      <td>...</td>\n",
       "      <td>...</td>\n",
       "      <td>...</td>\n",
       "    </tr>\n",
       "    <tr>\n",
       "      <th>11146</th>\n",
       "      <td>3</td>\n",
       "      <td>52</td>\n",
       "      <td>0.322053</td>\n",
       "      <td>0.434843</td>\n",
       "      <td>0.435957</td>\n",
       "      <td>0.047434</td>\n",
       "    </tr>\n",
       "    <tr>\n",
       "      <th>11147</th>\n",
       "      <td>0</td>\n",
       "      <td>53</td>\n",
       "      <td>0.287214</td>\n",
       "      <td>0.413574</td>\n",
       "      <td>0.361365</td>\n",
       "      <td>0.029131</td>\n",
       "    </tr>\n",
       "    <tr>\n",
       "      <th>11148</th>\n",
       "      <td>2</td>\n",
       "      <td>47</td>\n",
       "      <td>0.341460</td>\n",
       "      <td>0.424133</td>\n",
       "      <td>0.353014</td>\n",
       "      <td>0.061884</td>\n",
       "    </tr>\n",
       "    <tr>\n",
       "      <th>11149</th>\n",
       "      <td>3</td>\n",
       "      <td>43</td>\n",
       "      <td>0.210556</td>\n",
       "      <td>0.317821</td>\n",
       "      <td>0.275061</td>\n",
       "      <td>0.027422</td>\n",
       "    </tr>\n",
       "    <tr>\n",
       "      <th>11150</th>\n",
       "      <td>0</td>\n",
       "      <td>38</td>\n",
       "      <td>0.413636</td>\n",
       "      <td>0.501760</td>\n",
       "      <td>0.486720</td>\n",
       "      <td>0.065743</td>\n",
       "    </tr>\n",
       "  </tbody>\n",
       "</table>\n",
       "<p>11151 rows × 6 columns</p>\n",
       "</div>"
      ],
      "text/plain": [
       "       Disaster Level  Closest_PS  Average Red  Average Green  Average Blue  \\\n",
       "0                   3          59     0.296417       0.412363      0.395898   \n",
       "1                   0          84     0.346463       0.467902      0.431940   \n",
       "2                   1          55     0.438617       0.478575      0.466326   \n",
       "3                   0         119     0.379843       0.503448      0.500393   \n",
       "4                   2          54     0.341406       0.426117      0.377319   \n",
       "...               ...         ...          ...            ...           ...   \n",
       "11146               3          52     0.322053       0.434843      0.435957   \n",
       "11147               0          53     0.287214       0.413574      0.361365   \n",
       "11148               2          47     0.341460       0.424133      0.353014   \n",
       "11149               3          43     0.210556       0.317821      0.275061   \n",
       "11150               0          38     0.413636       0.501760      0.486720   \n",
       "\n",
       "       Average Sobel  \n",
       "0           0.049479  \n",
       "1           0.036116  \n",
       "2           0.058030  \n",
       "3           0.023963  \n",
       "4           0.061631  \n",
       "...              ...  \n",
       "11146       0.047434  \n",
       "11147       0.029131  \n",
       "11148       0.061884  \n",
       "11149       0.027422  \n",
       "11150       0.065743  \n",
       "\n",
       "[11151 rows x 6 columns]"
      ]
     },
     "execution_count": 209,
     "metadata": {},
     "output_type": "execute_result"
    }
   ],
   "source": [
    "final_df = pd.DataFrame()\n",
    "\n",
    "for dataframe in ps_dataframes.values():\n",
    "    final_df = pd.concat([dataframe, final_df])\n",
    "# final_df = pd.concat([ps_dataframes[59], final_df])\n",
    "final_df = final_df.sort_index()\n",
    "final_df"
   ]
  },
  {
   "cell_type": "code",
   "execution_count": 161,
   "id": "491c9f8c",
   "metadata": {},
   "outputs": [
    {
     "data": {
      "text/plain": [
       "(184, 3481)"
      ]
     },
     "execution_count": 161,
     "metadata": {},
     "output_type": "execute_result"
    }
   ],
   "source": [
    "scaled_images[:, :, :, 0].reshape(scaled_images.shape[0], -1).shape"
   ]
  },
  {
   "cell_type": "code",
   "execution_count": 167,
   "id": "c5ac08fa",
   "metadata": {},
   "outputs": [
    {
     "data": {
      "text/plain": [
       "(184,)"
      ]
     },
     "execution_count": 167,
     "metadata": {},
     "output_type": "execute_result"
    }
   ],
   "source": [
    "np.mean(scaled_images[:, :, :, 0].reshape(scaled_images.shape[0], -1), axis=1).shape"
   ]
  },
  {
   "cell_type": "markdown",
   "id": "d9a7bd0b-0690-4886-82ac-a671cbd546ce",
   "metadata": {},
   "source": [
    "#### Feature engineering for every perfect square dataframe"
   ]
  },
  {
   "cell_type": "markdown",
   "id": "7baa5867-6d7f-4c2f-ba77-9abcc941ed01",
   "metadata": {},
   "source": [
    "for ps, dataframe in ps_dataframes.items():\n",
    "    indices = list(ps_dataframes[ps].index)\n",
    "    img_list = [hurricane_train_images[i] for i in indices]\n",
    "    scaled_images = scale_image(img_list, ps)\n",
    "    feature_engine(dataframe, scaled_images)\n"
   ]
  },
  {
   "cell_type": "markdown",
   "id": "de0792f7-6863-4247-a835-8b8719c86344",
   "metadata": {},
   "source": [
    "### 7. Merge each subdf back into main df"
   ]
  }
 ],
 "metadata": {
  "kernelspec": {
   "display_name": "Python 3 (ipykernel)",
   "language": "python",
   "name": "python3"
  },
  "language_info": {
   "codemirror_mode": {
    "name": "ipython",
    "version": 3
   },
   "file_extension": ".py",
   "mimetype": "text/x-python",
   "name": "python",
   "nbconvert_exporter": "python",
   "pygments_lexer": "ipython3",
   "version": "3.11.0"
  }
 },
 "nbformat": 4,
 "nbformat_minor": 5
}
