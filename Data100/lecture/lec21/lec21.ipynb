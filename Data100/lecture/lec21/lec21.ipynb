{
 "cells": [
  {
   "cell_type": "markdown",
   "id": "31f40da4-66a9-4260-a6d6-5bc9e3e8e0f7",
   "metadata": {},
   "source": [
    "# Lecture 21 – Data 100, Spring 2024\n",
    "\n",
    "Data 100, Spring 2024\n",
    "\n",
    "[Acknowledgments Page](https://ds100.org/sp24/acks/)"
   ]
  },
  {
   "cell_type": "markdown",
   "id": "4f59c6a3-9439-47dd-b7de-a4fb1cd793db",
   "metadata": {},
   "source": [
    "### Loading the Data\n",
    "In this lecture, we'll continue our work with the `Dish` table. In the cells below, we connect to the database and query the table."
   ]
  },
  {
   "cell_type": "code",
   "execution_count": null,
   "id": "c02424df-1496-494b-b64b-48c06701588e",
   "metadata": {},
   "outputs": [],
   "source": [
    "%load_ext sql"
   ]
  },
  {
   "cell_type": "markdown",
   "id": "49ea3cfc-4004-4962-9cf1-f70e2d1d8de1",
   "metadata": {},
   "source": [
    "Add support for reading sqlite tables using duckdb"
   ]
  },
  {
   "cell_type": "code",
   "execution_count": null,
   "id": "7ac801e5-de8c-4695-b5ea-6ab920a058cf",
   "metadata": {},
   "outputs": [],
   "source": [
    "import duckdb\n",
    "conn = duckdb.connect()\n",
    "conn.query(\"INSTALL sqlite\")\n",
    "%config SqlMagic.displaylimit = 100"
   ]
  },
  {
   "cell_type": "markdown",
   "id": "61e5ec09-5063-4cbf-afe6-8620b8895577",
   "metadata": {},
   "source": [
    "Loading the SQLite database file using duckdb."
   ]
  },
  {
   "cell_type": "code",
   "execution_count": null,
   "id": "783d46d6-f62e-474c-ac21-6145256e397f",
   "metadata": {},
   "outputs": [],
   "source": [
    "%sql duckdb:///data/basic_examples.db --alias basic"
   ]
  },
  {
   "cell_type": "markdown",
   "id": "73bdc6e1-2223-4749-8c7f-d0c5f2c59526",
   "metadata": {},
   "source": [
    "Get the large IMDB database file "
   ]
  },
  {
   "cell_type": "code",
   "execution_count": null,
   "id": "7c291e42-2589-4d4c-8052-1c2174c57c3f",
   "metadata": {},
   "outputs": [],
   "source": [
    "import os\n",
    "if os.path.exists(\"/home/jovyan/shared/sql/imdb_duck.db\"):\n",
    "    imdbpath = \"duckdb:////home/jovyan/shared/sql/imdb_duck.db\"\n",
    "elif os.path.exists(\"data/imdb_duck.db\"):\n",
    "    imdbpath =  \"duckdb:///data/imdb_duck.db\"\n",
    "else:\n",
    "    import gdown\n",
    "    url = 'https://drive.google.com/uc?id=10tKOHGLt9QoOgq5Ii-FhxpB9lDSQgl1O'\n",
    "    output_path = 'data/imdb_duck.db'\n",
    "    gdown.download(url, output_path, quiet=False)\n",
    "    imdbpath = \"duckdb:///data/imdb_duck.db\"\n",
    "print(imdbpath)"
   ]
  },
  {
   "cell_type": "code",
   "execution_count": null,
   "id": "685c008e-5dfb-4d4e-8219-64988710475a",
   "metadata": {},
   "outputs": [],
   "source": [
    "from sqlalchemy import create_engine\n",
    "imdb_engine = create_engine(imdbpath, connect_args={'read_only': True})\n",
    "%sql imdb_engine --alias imdb"
   ]
  },
  {
   "cell_type": "markdown",
   "id": "16166fbe-6b8c-4ec9-a8bd-7e229f6d2ce9",
   "metadata": {},
   "source": [
    "### Filtering Groups Using `HAVING`"
   ]
  },
  {
   "cell_type": "code",
   "execution_count": null,
   "id": "708a6551-d44b-4359-9598-90ed2f58c06d",
   "metadata": {},
   "outputs": [],
   "source": [
    "%%sql basic\n",
    "    \n",
    "SELECT *\n",
    "FROM Dish;"
   ]
  },
  {
   "cell_type": "code",
   "execution_count": null,
   "id": "b21de9e2-6798-4f3c-bee1-3951dec17ece",
   "metadata": {},
   "outputs": [],
   "source": [
    "%%sql basic\n",
    "    \n",
    "SELECT type, COUNT(*)\n",
    "FROM Dish\n",
    "GROUP BY type\n",
    "HAVING MAX(cost) < 8;"
   ]
  },
  {
   "cell_type": "code",
   "execution_count": null,
   "id": "20281ef4-33cd-437c-b87e-dec8c61112ce",
   "metadata": {},
   "outputs": [],
   "source": [
    "%%sql basic\n",
    "    \n",
    "SELECT type, COUNT(*)\n",
    "FROM Dish\n",
    "WHERE cost < 8\n",
    "GROUP BY type"
   ]
  },
  {
   "cell_type": "code",
   "execution_count": null,
   "id": "58cac6b4-9b64-48c0-92d6-9b88f8f49af3",
   "metadata": {},
   "outputs": [],
   "source": [
    "%%sql basic\n",
    "SELECT type, MAX(name)\n",
    "FROM DishDietary\n",
    "WHERE notes == 'gf'\n",
    "GROUP BY type\n",
    "HAVING MAX(cost) <= 7;\n"
   ]
  },
  {
   "cell_type": "markdown",
   "id": "65a990bb-1c1e-4833-a631-b06f37bb4ba5",
   "metadata": {},
   "source": [
    "### EDA in SQL\n",
    "\n",
    "Our typical workflow when working with \"big data\" is:\n",
    "* Use SQL to query data from a database\n",
    "* Use Python (with `pandas`) to analyze this data in detail\n",
    "\n",
    "We can, however, still perform simple data cleaning and re-structuring using SQL directly. To do so, we'll consider the `Title` table from the IMDB dataset."
   ]
  },
  {
   "cell_type": "code",
   "execution_count": null,
   "id": "396d27bc-dec2-4dd2-a52c-03602e2d2bc2",
   "metadata": {},
   "outputs": [],
   "source": [
    "%%sql imdb\n",
    "SELECT setseed(0.42); -- Setting the random number seed\n",
    "\n",
    "\n",
    "SELECT *\n",
    "FROM Title\n",
    "ORDER BY RANDOM()\n",
    "LIMIT 10;"
   ]
  },
  {
   "cell_type": "markdown",
   "id": "91dffd1a-ea90-42d8-9fdc-9f9527afa26b",
   "metadata": {},
   "source": [
    "#### Matching Text Using `LIKE`"
   ]
  },
  {
   "cell_type": "code",
   "execution_count": null,
   "id": "6b33e667-f757-4201-bceb-b0a8535a8bef",
   "metadata": {},
   "outputs": [],
   "source": [
    "%%sql imdb \n",
    "    \n",
    "SELECT titleType, primaryTitle\n",
    "FROM Title\n",
    "WHERE primaryTitle LIKE '%Star Wars%'"
   ]
  },
  {
   "cell_type": "code",
   "execution_count": null,
   "id": "42ae9f86-4a5d-42ed-b9f8-1a54f52e61f4",
   "metadata": {},
   "outputs": [],
   "source": [
    "%%sql imdb \n",
    "    \n",
    "SELECT titleType, primaryTitle\n",
    "FROM Title\n",
    "WHERE primaryTitle SIMILAR TO '.*Star Wars.*'"
   ]
  },
  {
   "cell_type": "code",
   "execution_count": null,
   "id": "1b3b7f67-ffc9-400f-9149-b5819b76110e",
   "metadata": {},
   "outputs": [],
   "source": [
    "%%sql imdb\n",
    "    \n",
    "SELECT titleType, primaryTitle\n",
    "FROM Title\n",
    "WHERE primaryTitle LIKE 'Harry Potter and the Deathly Hallows: Part _'"
   ]
  },
  {
   "cell_type": "markdown",
   "id": "0672546d-cc65-4391-80f1-0f42f451e42b",
   "metadata": {
    "tags": []
   },
   "source": [
    "#### Converting Data Types Using `CAST`"
   ]
  },
  {
   "cell_type": "code",
   "execution_count": null,
   "id": "ba80cc38-c5fb-4b2b-8b7b-2564b2657d11",
   "metadata": {},
   "outputs": [],
   "source": [
    "%%sql imdb\n",
    "    \n",
    "SELECT primaryTitle, CAST(runtimeMinutes AS REAL)\n",
    "FROM Title\n",
    "LIMIT 10;"
   ]
  },
  {
   "cell_type": "markdown",
   "id": "7c3e867f-ef9b-423e-8bb1-1b39d334fc46",
   "metadata": {},
   "source": [
    "### Applying Conditions With `CASE`\n",
    "\n",
    "Here, we return a random order so we can see the various movie ages (otherwise, the top few entries happen to all be old movies)."
   ]
  },
  {
   "cell_type": "code",
   "execution_count": null,
   "id": "cad982e9-b13d-42bf-868d-050f45c6d269",
   "metadata": {},
   "outputs": [],
   "source": [
    "%%sql imdb\n",
    "\n",
    "SELECT setseed(0.42); -- Setting the random number seed\n",
    "    \n",
    "SELECT titleType, startYear,\n",
    "CASE WHEN startYear < '1950' THEN 'old'\n",
    "     WHEN startYear < '2000' THEN 'mid-aged'\n",
    "     ELSE 'new'\n",
    "     END AS movie_age\n",
    "FROM Title\n",
    "ORDER BY RANDOM()\n",
    "LIMIT 10;"
   ]
  },
  {
   "cell_type": "markdown",
   "id": "6ddf91ce-a73f-43c9-8698-fa4256b19931",
   "metadata": {},
   "source": [
    "<br><br><br>\n",
    "\n",
    "---\n",
    "\n",
    "\n",
    "## Joining Tables\n",
    "\n",
    "We combine data from multiple tables by performing a **join**. We will explore joins using the cats database, which includes two tables: `s` and `t`."
   ]
  },
  {
   "cell_type": "code",
   "execution_count": null,
   "id": "ecc4e0d4-aca9-41d5-ac80-1db1517b3b12",
   "metadata": {},
   "outputs": [],
   "source": [
    "%%sql basic\n",
    "SELECT * FROM s;"
   ]
  },
  {
   "cell_type": "code",
   "execution_count": null,
   "id": "1a09a2e0-183f-42e3-92c6-cbc799268ee8",
   "metadata": {},
   "outputs": [],
   "source": [
    "%%sql basic\n",
    "SELECT * FROM t;"
   ]
  },
  {
   "cell_type": "markdown",
   "id": "117c16ae-866a-41bb-b992-69ab97da61cd",
   "metadata": {},
   "source": [
    "#### Inner Join"
   ]
  },
  {
   "cell_type": "code",
   "execution_count": null,
   "id": "3e5df456-131a-4095-b5e0-fb7a180b9804",
   "metadata": {},
   "outputs": [],
   "source": [
    "%%sql basic\n",
    "SELECT s.id, name, breed\n",
    "FROM s INNER JOIN t ON s.id = t.id;"
   ]
  },
  {
   "cell_type": "markdown",
   "id": "d1270550-9ecf-461d-957b-cbfc00abcd2d",
   "metadata": {},
   "source": [
    "By default, `JOIN`ing without specifying a join type will default to an inner join."
   ]
  },
  {
   "cell_type": "code",
   "execution_count": null,
   "id": "5b66c03f-0019-4bae-8481-30d162983bd4",
   "metadata": {},
   "outputs": [],
   "source": [
    "%%sql basic\n",
    "SELECT s.id, name, breed\n",
    "FROM s JOIN t ON s.id = t.id;"
   ]
  },
  {
   "cell_type": "markdown",
   "id": "9f79b59c-d405-4e52-8e9c-5d7a6d091dd5",
   "metadata": {},
   "source": [
    "### Cross Join"
   ]
  },
  {
   "cell_type": "code",
   "execution_count": null,
   "id": "4c1b6b34-60ac-4705-859d-484ef8433bd3",
   "metadata": {},
   "outputs": [],
   "source": [
    "%%sql basic\n",
    "SELECT *\n",
    "FROM s CROSS JOIN t;"
   ]
  },
  {
   "cell_type": "markdown",
   "id": "9e3e5f03-a5e6-40c5-ae8d-6775b77502d0",
   "metadata": {},
   "source": [
    "Equivalently, a cross join can be performed using the following syntax:"
   ]
  },
  {
   "cell_type": "code",
   "execution_count": null,
   "id": "9251416b-0f2b-43c2-83bc-581229c13c0a",
   "metadata": {},
   "outputs": [],
   "source": [
    "%%sql basic\n",
    "SELECT *\n",
    "FROM s, t"
   ]
  },
  {
   "cell_type": "markdown",
   "id": "f48e8f72-0c3b-4017-aeeb-fb4ace5702ee",
   "metadata": {},
   "source": [
    "Conceptually, an inner join is equivalent to a cross join where irrelevant rows are removed."
   ]
  },
  {
   "cell_type": "code",
   "execution_count": null,
   "id": "470b9184-26ba-4c6c-a246-652a513a1414",
   "metadata": {},
   "outputs": [],
   "source": [
    "%%sql basic\n",
    "    \n",
    "SELECT *\n",
    "FROM s CROSS JOIN t\n",
    "WHERE s.id = t.id;"
   ]
  },
  {
   "cell_type": "markdown",
   "id": "c2285365-516a-44f6-9725-5d2dc01168da",
   "metadata": {},
   "source": [
    "#### Left Outer Join"
   ]
  },
  {
   "cell_type": "code",
   "execution_count": null,
   "id": "614453f4-8bef-4712-b8d0-098e710c93bf",
   "metadata": {},
   "outputs": [],
   "source": [
    "%%sql basic\n",
    "    \n",
    "SELECT *\n",
    "FROM s LEFT JOIN t ON s.id = t.id;"
   ]
  },
  {
   "cell_type": "markdown",
   "id": "11f57bfd-bc80-4ee3-93ab-605a8fb9d6c3",
   "metadata": {},
   "source": [
    "#### Right Outer Join"
   ]
  },
  {
   "cell_type": "code",
   "execution_count": null,
   "id": "4fb1a370-0977-437a-a7c1-a0928c923d8d",
   "metadata": {},
   "outputs": [],
   "source": [
    "%%sql basic\n",
    "    \n",
    "SELECT *\n",
    "FROM s RIGHT JOIN t ON s.id = t.id;"
   ]
  },
  {
   "cell_type": "markdown",
   "id": "49a5f50b-58c9-4dc6-830b-dc95706135eb",
   "metadata": {
    "tags": []
   },
   "source": [
    "#### Full Outer Join"
   ]
  },
  {
   "cell_type": "code",
   "execution_count": null,
   "id": "11c7ba06-37c0-432f-9aa7-d36c5893b0f7",
   "metadata": {},
   "outputs": [],
   "source": [
    "%%sql basic\n",
    "    \n",
    "SELECT *\n",
    "FROM s FULL  JOIN t ON s.id = t.id;"
   ]
  },
  {
   "cell_type": "markdown",
   "id": "c1d48296-f9b7-4b92-9b23-5f3f158a800b",
   "metadata": {},
   "source": [
    "#### Aliasing in Joins\n",
    "\n",
    "Let's return to the IMDB dataset. Now, we'll consider two tables: `Title` and `Rating`."
   ]
  },
  {
   "cell_type": "markdown",
   "id": "604954fa-7fc4-436d-aaa9-7c6e8f815ed5",
   "metadata": {},
   "source": [
    "When working with tables that have long names, we often create an **alias** using the `AS` keyword (much like we did with columns in the previous lecture). This makes it easier to reference these tables when performing a join."
   ]
  },
  {
   "cell_type": "code",
   "execution_count": null,
   "id": "00d37a0f-47ec-4ca5-9cd2-77a4dc5ec83e",
   "metadata": {},
   "outputs": [],
   "source": [
    "%%sql imdb\n",
    "    \n",
    "SELECT primaryTitle, averageRating, genres, \n",
    "FROM Title AS T INNER JOIN Rating AS R\n",
    "    ON T.tconst = R.tconst\n",
    "WHERE numVotes > 100 \n",
    "ORDER BY averageRating DESC\n",
    "LIMIT 10;"
   ]
  },
  {
   "cell_type": "markdown",
   "id": "5df62566-bca9-421b-9ab2-32648a4ae63c",
   "metadata": {},
   "source": [
    "The `AS` keyword is optional – omitting it will still create an alias. We typically include `AS` to make our queries more readable."
   ]
  },
  {
   "cell_type": "code",
   "execution_count": null,
   "id": "cf423d44-e50d-4799-a366-9ac45ad71b37",
   "metadata": {},
   "outputs": [],
   "source": [
    "%%sql imdb \n",
    "    \n",
    "SELECT primaryTitle, averageRating\n",
    "FROM Title T INNER JOIN Rating R\n",
    "    ON T.tconst = R.tconst\n",
    "WHERE numVotes > 100 \n",
    "ORDER BY averageRating DESC\n",
    "LIMIT 10;"
   ]
  },
  {
   "cell_type": "markdown",
   "id": "3ea4cf36-1467-4dd4-b704-f9da045ad153",
   "metadata": {},
   "source": [
    "Referencing columns using the full or aliased table name is important to avoid ambiguity. Suppose the tables we are trying to join both include a column with the same name, like the `tconst` columns present in both the `Title` and `Rating` tables of the IMDB database. If we do not specify which table's column we wish to reference, SQL will not be able to process our query.\n",
    "\n",
    "In the cell below, it is unclear if we are referring to the `tconst` column from the `Title` table or the `tconst` column from the `Rating` table. SQL errors.\n",
    "\n",
    "```sql\n",
    "SELECT primaryTitle, averageRating\n",
    "FROM Title AS T INNER JOIN Rating AS R\n",
    "ON tconst = tconst;\n",
    "```"
   ]
  },
  {
   "cell_type": "markdown",
   "id": "038fcf87-0649-45c4-a5aa-893dbee977d1",
   "metadata": {},
   "source": [
    "## IMDB Case Study\n",
    "\n",
    "Let's perform our first data science task in SQL – we'll explore the IMDB dataset in further detail.\n",
    "\n",
    "First, let's understand what tables are present in the database."
   ]
  },
  {
   "cell_type": "code",
   "execution_count": null,
   "id": "e8c266c3-012f-4087-a723-fe0a2e954cce",
   "metadata": {},
   "outputs": [],
   "source": [
    "%%sql imdb\n",
    "\n",
    "SELECT tbl_name, sql FROM sqlite_master WHERE type='table'"
   ]
  },
  {
   "cell_type": "markdown",
   "id": "2ac7f66f-f75a-42bd-80d4-b11a2151bc4b",
   "metadata": {},
   "source": [
    "Let's take a closer look at the `Title` table. Below, we preview a few rows of interest."
   ]
  },
  {
   "cell_type": "code",
   "execution_count": null,
   "id": "3394b57c-292f-4042-8a89-22d60c255fbd",
   "metadata": {},
   "outputs": [],
   "source": [
    "%%sql imdb \n",
    "    \n",
    "SELECT *\n",
    "FROM Title\n",
    "WHERE primaryTitle IN ('Ginny & Georgia', 'What If...?', 'Succession', 'Veep', 'Tenet')\n",
    "LIMIT 50;"
   ]
  },
  {
   "cell_type": "markdown",
   "id": "67cf3822-4a8f-49c9-9cc0-124277f7c10f",
   "metadata": {},
   "source": [
    "There are a few issues with how this data is stored. Can you spot them?\n",
    "\n",
    "* We see some rows with **missing** `runtimeMinutes`. This suggests malformed data. We could drop these rows in `pandas` using `[]` or `.dropna()`.\n",
    "\n",
    "Instead, let's see how we can can do these fixes in SQL. "
   ]
  },
  {
   "cell_type": "code",
   "execution_count": null,
   "id": "a5976963-832d-4cd8-b3f7-f47b86e81534",
   "metadata": {},
   "outputs": [],
   "source": [
    "%%sql imdb \n",
    "    \n",
    "SELECT \n",
    "    tconst AS id,\n",
    "    primaryTitle AS title, \n",
    "    titleType,\n",
    "    runtimeMinutes,\n",
    "    startYear\n",
    "FROM Title\n",
    "WHERE \n",
    "    runtimeMinutes > 0 AND runtimeMinutes < 300 -- get rid of outliers and missing values --\n",
    "    AND startYear > 0     -- get rid of missing values --\n",
    "LIMIT 10"
   ]
  },
  {
   "cell_type": "markdown",
   "id": "2fbc3c37-5193-4e24-80b0-71b2b66a6ac8",
   "metadata": {},
   "source": [
    "Perhaps we're interested in only **top rated action movies**. We can refine our query results futher."
   ]
  },
  {
   "cell_type": "code",
   "execution_count": null,
   "id": "621f3636-a39a-4cde-a714-aa09849e5e0a",
   "metadata": {},
   "outputs": [],
   "source": [
    "%%sql imdb\n",
    "    \n",
    "SELECT \n",
    "    T.tconst AS id,\n",
    "    primaryTitle AS title, \n",
    "    titleType,\n",
    "    runtimeMinutes,\n",
    "    startYear,\n",
    "    genres,\n",
    "    averageRating, \n",
    "    numVotes\n",
    "FROM Title T, Rating R\n",
    "WHERE \n",
    "    T.tconst = R.tconst \n",
    "    AND runtimeMinutes > 0 AND runtimeMinutes < 300 -- get rid of outliers and missing values --\n",
    "    AND startYear > 0     -- get rid of missing values --\n",
    "    AND titleType = 'movie' -- get movies\n",
    "    AND numVotes >= 1000\n",
    "    AND genres LIKE '%Action%'\n",
    "ORDER BY averageRating DESC\n",
    "LIMIT 10"
   ]
  },
  {
   "cell_type": "markdown",
   "id": "fed0b07e-8508-482d-87ca-235bc708eef2",
   "metadata": {},
   "source": [
    "### Using CTEs to do some complex analysis  \n",
    "Here I will use a common table expression (CTE) to construct a table that I use as an input in another query.\n",
    "\n",
    "This is done with the syntax:\n",
    "\n",
    "```sql\n",
    "WITH table_name as ( \n",
    "    SELECT ...\n",
    ")\n",
    "SELECT ... \n",
    "FROM table_name, ...\n",
    "...    \n",
    "```"
   ]
  },
  {
   "cell_type": "code",
   "execution_count": null,
   "id": "ad2db074-16f9-443b-b63d-91cebb8258e8",
   "metadata": {},
   "outputs": [],
   "source": [
    "%%sql\n",
    "WITH good_action_movies AS (\n",
    "    SELECT *\n",
    "    FROM Title T JOIN Rating R ON T.tconst = R.tconst  \n",
    "    WHERE genres LIKE '%Action%' AND averageRating > 7 AND numVotes > 5000\n",
    "),\n",
    "prolific_actors AS (\n",
    "    SELECT N.nconst, primaryName, COUNT(*) as numRoles\n",
    "    FROM Name N JOIN Principal P ON N.nconst = P.nconst\n",
    "    WHERE category = 'actor'\n",
    "    GROUP BY N.nconst, primaryName\n",
    ")\n",
    "SELECT primaryTitle, primaryName, numRoles, ROUND(averageRating) AS rating\n",
    "FROM good_action_movies m, prolific_actors a, principal p\n",
    "WHERE p.tconst = m.tconst AND p.nconst = a.nconst\n",
    "ORDER BY rating DESC, numRoles DESC\n",
    "LIMIT 10\n",
    "\n"
   ]
  },
  {
   "cell_type": "markdown",
   "id": "f4bfa737-ea71-442f-a122-268fd7d3b046",
   "metadata": {},
   "source": [
    "### How do ratings vary through the years?"
   ]
  },
  {
   "cell_type": "markdown",
   "id": "f0c1cb9b-ea6d-44c6-abbc-ba189347d3cd",
   "metadata": {},
   "source": [
    "If we want to know the critic ratings for each of these action movies, we can join `Title` with the `Rating` table.\n",
    "\n",
    "In the cell below, we use the **`<<` operator** to store the result of our query as a variable."
   ]
  },
  {
   "cell_type": "code",
   "execution_count": null,
   "id": "07552bd6-1ef3-4d38-9a37-5bad508955d1",
   "metadata": {},
   "outputs": [],
   "source": [
    "%sql imdb\n",
    "%config SqlMagic.autopandas = True"
   ]
  },
  {
   "cell_type": "code",
   "execution_count": null,
   "id": "c0435191-9d06-4b90-9c71-bd82c2b3e44c",
   "metadata": {},
   "outputs": [],
   "source": [
    "%%sql action_movies_df << \n",
    "SELECT \n",
    "    T.tconst AS id,\n",
    "    primaryTitle AS title, \n",
    "    titleType,\n",
    "    runtimeMinutes AS time,\n",
    "    startYear AS year,\n",
    "    genres,\n",
    "    averageRating AS rating, \n",
    "    numVotes\n",
    "FROM Title T, Rating R\n",
    "WHERE \n",
    "    T.tconst = R.tconst \n",
    "    AND time > 0 AND time < 300 -- get rid of outliers and missing values --\n",
    "    AND year > 0     -- get rid of missing values --\n",
    "    AND titleType = 'movie' -- get movies\n",
    "    AND numVotes >= 1000\n",
    "    AND genres LIKE '%Action%'\n",
    "ORDER BY startYear"
   ]
  },
  {
   "cell_type": "code",
   "execution_count": null,
   "id": "63dbde89-6a7c-4257-9e3e-3b249f50b29a",
   "metadata": {},
   "outputs": [],
   "source": [
    "action_movies_df"
   ]
  },
  {
   "cell_type": "code",
   "execution_count": null,
   "id": "0be7a6f8-9cb0-411e-9891-3072a5ddf999",
   "metadata": {},
   "outputs": [],
   "source": [
    "import plotly.express as px\n",
    "px.scatter(action_movies_df, x = \"year\", y=\"rating\", opacity=0.5)"
   ]
  },
  {
   "cell_type": "markdown",
   "id": "967c0a04-811e-4cf6-ac4c-ac3975fd6038",
   "metadata": {},
   "source": [
    "Using a common table expression (CTE):"
   ]
  },
  {
   "cell_type": "code",
   "execution_count": null,
   "id": "521d329f-dc41-4402-ab59-30bca4b6e535",
   "metadata": {},
   "outputs": [],
   "source": [
    "%%sql action_grouped_df <<\n",
    "\n",
    "WITH action_movies AS (\n",
    "    SELECT \n",
    "        T.tconst AS id,\n",
    "        primaryTitle AS title, \n",
    "        titleType,\n",
    "        runtimeMinutes AS time,\n",
    "        startYear AS year,\n",
    "        genres,\n",
    "        averageRating AS rating, \n",
    "        numVotes\n",
    "    FROM Title T, Rating R\n",
    "    WHERE \n",
    "        T.tconst = R.tconst \n",
    "        AND time > 0 AND time < 300 -- get rid of outliers and missing values --\n",
    "        AND year > 0     -- get rid of missing values --\n",
    "        AND titleType = 'movie' -- get movies\n",
    "        AND numVotes >= 1000\n",
    "    AND genres LIKE '%Action%'\n",
    ")\n",
    "SELECT \n",
    "    year, \n",
    "    median(rating) AS median_rating,\n",
    "    quantile_cont(rating, .25) AS lower_q,\n",
    "    quantile_cont(rating, .75) AS upper_q,\n",
    "FROM action_movies\n",
    "GROUP BY year\n",
    "ORDER BY year"
   ]
  },
  {
   "cell_type": "markdown",
   "id": "835c1c03-714c-4845-8437-9b4907a28084",
   "metadata": {},
   "source": [
    "Let's look at what we got."
   ]
  },
  {
   "cell_type": "code",
   "execution_count": null,
   "id": "4966a328-ce7c-451e-a60a-33005abfcbe1",
   "metadata": {},
   "outputs": [],
   "source": [
    "import plotly.express as px\n",
    "action_grouped_df['error_p'] = action_grouped_df['upper_q'] - action_grouped_df['median_rating']\n",
    "action_grouped_df['error_m'] = action_grouped_df['median_rating'] - action_grouped_df['lower_q'] \n",
    "fig = px.line(action_grouped_df, x=\"year\", y=\"median_rating\", \n",
    "              error_y=\"error_p\", error_y_minus=\"error_m\")\n",
    "fig"
   ]
  },
  {
   "cell_type": "markdown",
   "id": "48a9418b-87c2-472a-b211-370d3306716d",
   "metadata": {},
   "source": [
    "### How does the runtime of an action movie influence the rating it receives?"
   ]
  },
  {
   "cell_type": "code",
   "execution_count": null,
   "id": "26b65437-87c7-42c8-9f33-fcb59a4ae831",
   "metadata": {},
   "outputs": [],
   "source": [
    "px.scatter(action_movies_df, x=\"time\", y=\"rating\", opacity=0.1)"
   ]
  },
  {
   "cell_type": "code",
   "execution_count": null,
   "id": "59021f69-1a7d-4183-8c8b-6bd768d1a385",
   "metadata": {},
   "outputs": [],
   "source": [
    "px.density_heatmap(action_movies_df, x=\"time\", y=\"rating\",nbinsx=100, nbinsy=100)"
   ]
  },
  {
   "cell_type": "code",
   "execution_count": null,
   "id": "f6c4cf49-4a90-4f53-a4f6-f1148dd876f8",
   "metadata": {},
   "outputs": [],
   "source": [
    "%%sql action_grouped_df << \n",
    "WITH action_movies AS (\n",
    "    SELECT \n",
    "        T.tconst AS id,\n",
    "        primaryTitle AS title, \n",
    "        titleType,\n",
    "        runtimeMinutes AS time,\n",
    "        startYear AS year,\n",
    "        genres,\n",
    "        averageRating AS rating, \n",
    "        numVotes\n",
    "    FROM Title T, Rating R\n",
    "    WHERE \n",
    "        T.tconst = R.tconst \n",
    "        AND time > 0 AND time < 300 -- get rid of outliers and missing values --\n",
    "        AND year > 0     -- get rid of missing values --\n",
    "        AND titleType = 'movie' -- get movies\n",
    "        AND numVotes >= 1000\n",
    "    AND genres LIKE '%Action%'\n",
    ")\n",
    "SELECT \n",
    "    ceil(time / 10) * 10 as time_desc, \n",
    "    median(rating) AS median_rating,\n",
    "    quantile_cont(rating, .25) AS lower_q,\n",
    "    quantile_cont(rating, .75) AS upper_q,\n",
    "FROM action_movies\n",
    "GROUP BY time_desc\n",
    "ORDER BY time_desc"
   ]
  },
  {
   "cell_type": "code",
   "execution_count": null,
   "id": "c83b21cd-e02a-4df5-bf27-8cb9efda9b79",
   "metadata": {},
   "outputs": [],
   "source": [
    "import plotly.express as px\n",
    "action_grouped_df['error_p'] = action_grouped_df['upper_q'] - action_grouped_df['median_rating']\n",
    "action_grouped_df['error_m'] = action_grouped_df['median_rating'] - action_grouped_df['lower_q'] \n",
    "fig = px.line(action_grouped_df, x=\"time_desc\", y=\"median_rating\", \n",
    "              error_y=\"error_p\", error_y_minus=\"error_m\")\n",
    "fig"
   ]
  },
  {
   "cell_type": "markdown",
   "id": "35243ff0-5952-43c7-9a0a-1fb9e92ed225",
   "metadata": {},
   "source": [
    "Could we use a movie's runtime to predict its rating?"
   ]
  },
  {
   "cell_type": "code",
   "execution_count": null,
   "id": "e60f3f27-597e-4037-ad59-fc59f4ad7aad",
   "metadata": {},
   "outputs": [],
   "source": [
    "import sklearn.linear_model as lm\n",
    "import numpy as np\n",
    "X, Y = action_movies_df[\"time\"].to_numpy(), action_movies_df[\"rating\"].to_numpy()\n",
    "\n",
    "model = lm.LinearRegression()\n",
    "model.fit(X[..., np.newaxis], Y)\n",
    "\n",
    "xs = np.linspace(X.min(),X.max())\n",
    "yhats = model.predict(xs[:, np.newaxis])"
   ]
  },
  {
   "cell_type": "code",
   "execution_count": null,
   "id": "68211c77-a7df-48a1-8fd3-eb5f9e7d8ae2",
   "metadata": {},
   "outputs": [],
   "source": [
    "fig = px.scatter(x=X, y=Y, opacity=0.1)\n",
    "fig.add_scatter(x=xs, y=yhats)"
   ]
  },
  {
   "cell_type": "code",
   "execution_count": null,
   "id": "a0e06a40-5653-4d8b-bdf1-163cbec774e6",
   "metadata": {},
   "outputs": [],
   "source": [
    "px.scatter(x=X, y=Y, opacity=0.1, trendline=\"ols\")"
   ]
  },
  {
   "cell_type": "code",
   "execution_count": null,
   "id": "2eb005b3-aebb-4867-8476-5865ad403fe6",
   "metadata": {},
   "outputs": [],
   "source": []
  },
  {
   "cell_type": "code",
   "execution_count": null,
   "id": "29a3985c-3ad6-46a6-bb98-806db1f31ed7",
   "metadata": {},
   "outputs": [],
   "source": []
  },
  {
   "cell_type": "code",
   "execution_count": null,
   "id": "1a345861-b586-40b6-8f84-e4a3e6334f3d",
   "metadata": {},
   "outputs": [],
   "source": []
  }
 ],
 "metadata": {
  "kernelspec": {
   "display_name": "Python 3 (ipykernel)",
   "language": "python",
   "name": "python3"
  },
  "language_info": {
   "codemirror_mode": {
    "name": "ipython",
    "version": 3
   },
   "file_extension": ".py",
   "mimetype": "text/x-python",
   "name": "python",
   "nbconvert_exporter": "python",
   "pygments_lexer": "ipython3",
   "version": "3.11.0"
  }
 },
 "nbformat": 4,
 "nbformat_minor": 5
}
