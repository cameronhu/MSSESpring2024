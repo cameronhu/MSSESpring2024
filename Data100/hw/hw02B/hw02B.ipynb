{
 "cells": [
  {
   "cell_type": "code",
   "execution_count": 1,
   "metadata": {
    "deletable": false,
    "editable": false
   },
   "outputs": [],
   "source": [
    "# Initialize Otter\n",
    "import otter\n",
    "grader = otter.Notebook(\"hw02B.ipynb\")"
   ]
  },
  {
   "cell_type": "markdown",
   "metadata": {
    "nbgrader": {
     "grade": false,
     "grade_id": "intro-hw2",
     "locked": true,
     "schema_version": 2,
     "solution": false
    }
   },
   "source": [
    "# Homework 2B: Food Safety (Continued)\n",
    "\n",
    "## Cleaning and Exploring Data with `pandas`\n",
    "\n",
    "## Due Date: Thursday, February 8, 11:59 PM\n",
    "You must submit this assignment to Gradescope by the on-time deadline, Thursday, February 8, 11:59 PM. Please read the syllabus for the grace period policy. No late submissions beyond the grace period will be accepted. **We strongly encourage you to plan to submit your work to Gradescope several hours before the stated deadline.** This way, you will have ample time to reach out to staff for support if you encounter difficulties with submission. While course staff is happy to help guide you with submitting your assignment ahead of the deadline, we will not respond to last-minute requests for assistance (TAs need to sleep, after all!).\n",
    "\n",
    "Please read the instructions carefully when you are submitting your work to Gradescope.\n",
    "\n",
    "## Collaboration Policy\n",
    "\n",
    "Data science is a collaborative activity. While you may talk with others about the homework, we ask that you **write your solutions individually**. If you do discuss the assignments with others, please **include their names** below."
   ]
  },
  {
   "cell_type": "markdown",
   "metadata": {},
   "source": [
    "**Collaborators**: *list collaborators here*"
   ]
  },
  {
   "cell_type": "markdown",
   "metadata": {},
   "source": [
    "\n",
    "## This Assignment\n",
    "\n",
    "In this homework, we will continue our exploration of restaurant food safety scores for restaurants in San Francisco. The main goal for this assignment is to focus more on the analysis of the dataset, building on the data cleaning we have done earlier in HW 2A. \n",
    "\n",
    "\n",
    "After this homework, you should be comfortable with:\n",
    "* Reading `pandas` documentation and using `pandas` methods\n",
    "* Working with data at different levels of granularity\n",
    "* Using `.groupby` with different aggregation functions\n",
    "* Chaining different `pandas` functions and methods to find answers to exploratory questions\n",
    "\n",
    "\n",
    "## Score Breakdown \n",
    "Question | Manual | Points\n",
    "--- | --- | ---\n",
    "1a | no | 2\n",
    "1b | no | 3\n",
    "1c | no | 3\n",
    "2a | no | 2\n",
    "2b | no | 3\n",
    "2c | no | 1\n",
    "2d | no | 1\n",
    "3a | no | 1\n",
    "3b | no | 2\n",
    "3c | yes | 3\n",
    "3d | no | 3\n",
    "3e | yes | 3\n",
    "4 | no | 3\n",
    "Total | 2 | 30\n"
   ]
  },
  {
   "cell_type": "markdown",
   "metadata": {},
   "source": [
    "## Before You Start\n",
    "\n",
    "For each question in the assignment, please write down your answer in the answer cell(s) right below the question. \n",
    "\n",
    "We understand that it is helpful to have extra cells breaking down the process towards reaching your final answer. If you happen to create new cells below your answer to run code, **NEVER** add cells between a question cell and the answer cell below it. It will cause errors when we run the autograder, and it will sometimes cause a failure to generate the PDF file.\n",
    "\n",
    "**Important note: The local autograder tests will not be comprehensive. You can pass the automated tests in your notebook but still fail tests in the autograder.** Please be sure to check your results carefully.\n",
    "\n",
    "Finally, unless we state otherwise, **do not use for loops or list comprehensions**. The majority of this assignment can be done using built-in commands in `pandas` and `NumPy`.  Our autograder isn't smart enough to check, but you're depriving yourself of key learning objectives if you write loops / comprehensions, and you also won't be ready for the midterm.\n",
    "\n",
    "### Debugging Guide\n",
    "If you run into any technical issues, we highly recommend checking out the [Data 100 Debugging Guide](https://ds100.org/debugging-guide/). In this guide, you can find general questions about Jupyter notebooks / Datahub, Gradescope, and common pandas errors."
   ]
  },
  {
   "cell_type": "code",
   "execution_count": 2,
   "metadata": {
    "nbgrader": {
     "grade": false,
     "grade_id": "import",
     "locked": true,
     "schema_version": 2,
     "solution": false
    }
   },
   "outputs": [],
   "source": [
    "import numpy as np\n",
    "import pandas as pd"
   ]
  },
  {
   "cell_type": "markdown",
   "metadata": {},
   "source": [
    "<hr style=\"border: 5px solid #003262;\" />\n",
    "<hr style=\"border: 1px solid #fdb515;\" />"
   ]
  },
  {
   "cell_type": "markdown",
   "metadata": {},
   "source": [
    "In HW 2A, we took you through the entire process of reading data from a file to perform some exploration of the data. Here, we again load the dataset that we will be using in HW 2B along with some of the columns we had added in HW 2A. For any additional context regarding the dataset, feel free to revisit HW 2A."
   ]
  },
  {
   "cell_type": "code",
   "execution_count": 3,
   "metadata": {},
   "outputs": [],
   "source": [
    "bus = pd.read_csv('data/bus.csv', encoding='ISO-8859-1').rename(columns={\"business id column\": \"bid\"})\n",
    "bus['postal5'] = bus['postal_code'].str[:5]\n",
    "ins = pd.read_csv('data/ins.csv')\n",
    "ins['timestamp'] = pd.to_datetime(ins['date'], format='%m/%d/%Y %I:%M:%S %p')\n",
    "ins['bid'] = ins['iid'].str.split(\"_\", expand=True)[0].astype(int) \n",
    "\n",
    "# This code is essential for the autograder to function properly. Do not edit.\n",
    "ins_test = ins"
   ]
  },
  {
   "cell_type": "markdown",
   "metadata": {
    "nbgrader": {
     "grade": false,
     "grade_id": "business-data",
     "locked": true,
     "schema_version": 2,
     "solution": false
    },
    "tags": []
   },
   "source": [
    "<br/><br/>\n",
    "\n",
    "---\n",
    "\n",
    "\n",
    "# Question 1: Inspecting the Inspections\n",
    "\n",
    "\n",
    "## Question 1a"
   ]
  },
  {
   "cell_type": "markdown",
   "metadata": {
    "deletable": false,
    "editable": false,
    "nbgrader": {
     "grade": false,
     "grade_id": "cell-174ed23c543ad9da",
     "locked": true,
     "schema_version": 2,
     "solution": false
    }
   },
   "source": [
    "Let's start by looking again at the first 5 rows of `ins` to see what we're working with."
   ]
  },
  {
   "cell_type": "code",
   "execution_count": 4,
   "metadata": {
    "deletable": false,
    "editable": false,
    "nbgrader": {
     "grade": false,
     "grade_id": "cell-f0fbe724a2783e33",
     "locked": true,
     "schema_version": 2,
     "solution": false
    }
   },
   "outputs": [
    {
     "data": {
      "text/html": [
       "<div>\n",
       "<style scoped>\n",
       "    .dataframe tbody tr th:only-of-type {\n",
       "        vertical-align: middle;\n",
       "    }\n",
       "\n",
       "    .dataframe tbody tr th {\n",
       "        vertical-align: top;\n",
       "    }\n",
       "\n",
       "    .dataframe thead th {\n",
       "        text-align: right;\n",
       "    }\n",
       "</style>\n",
       "<table border=\"1\" class=\"dataframe\">\n",
       "  <thead>\n",
       "    <tr style=\"text-align: right;\">\n",
       "      <th></th>\n",
       "      <th>iid</th>\n",
       "      <th>date</th>\n",
       "      <th>score</th>\n",
       "      <th>type</th>\n",
       "      <th>timestamp</th>\n",
       "      <th>bid</th>\n",
       "    </tr>\n",
       "  </thead>\n",
       "  <tbody>\n",
       "    <tr>\n",
       "      <th>0</th>\n",
       "      <td>100010_20190329</td>\n",
       "      <td>03/29/2019 12:00:00 AM</td>\n",
       "      <td>-1</td>\n",
       "      <td>New Construction</td>\n",
       "      <td>2019-03-29</td>\n",
       "      <td>100010</td>\n",
       "    </tr>\n",
       "    <tr>\n",
       "      <th>1</th>\n",
       "      <td>100010_20190403</td>\n",
       "      <td>04/03/2019 12:00:00 AM</td>\n",
       "      <td>100</td>\n",
       "      <td>Routine - Unscheduled</td>\n",
       "      <td>2019-04-03</td>\n",
       "      <td>100010</td>\n",
       "    </tr>\n",
       "    <tr>\n",
       "      <th>2</th>\n",
       "      <td>100017_20190417</td>\n",
       "      <td>04/17/2019 12:00:00 AM</td>\n",
       "      <td>-1</td>\n",
       "      <td>New Ownership</td>\n",
       "      <td>2019-04-17</td>\n",
       "      <td>100017</td>\n",
       "    </tr>\n",
       "    <tr>\n",
       "      <th>3</th>\n",
       "      <td>100017_20190816</td>\n",
       "      <td>08/16/2019 12:00:00 AM</td>\n",
       "      <td>91</td>\n",
       "      <td>Routine - Unscheduled</td>\n",
       "      <td>2019-08-16</td>\n",
       "      <td>100017</td>\n",
       "    </tr>\n",
       "    <tr>\n",
       "      <th>4</th>\n",
       "      <td>100017_20190826</td>\n",
       "      <td>08/26/2019 12:00:00 AM</td>\n",
       "      <td>-1</td>\n",
       "      <td>Reinspection/Followup</td>\n",
       "      <td>2019-08-26</td>\n",
       "      <td>100017</td>\n",
       "    </tr>\n",
       "  </tbody>\n",
       "</table>\n",
       "</div>"
      ],
      "text/plain": [
       "               iid                    date  score                   type  \\\n",
       "0  100010_20190329  03/29/2019 12:00:00 AM     -1       New Construction   \n",
       "1  100010_20190403  04/03/2019 12:00:00 AM    100  Routine - Unscheduled   \n",
       "2  100017_20190417  04/17/2019 12:00:00 AM     -1          New Ownership   \n",
       "3  100017_20190816  08/16/2019 12:00:00 AM     91  Routine - Unscheduled   \n",
       "4  100017_20190826  08/26/2019 12:00:00 AM     -1  Reinspection/Followup   \n",
       "\n",
       "   timestamp     bid  \n",
       "0 2019-03-29  100010  \n",
       "1 2019-04-03  100010  \n",
       "2 2019-04-17  100017  \n",
       "3 2019-08-16  100017  \n",
       "4 2019-08-26  100017  "
      ]
     },
     "execution_count": 4,
     "metadata": {},
     "output_type": "execute_result"
    }
   ],
   "source": [
    "ins.head(5)"
   ]
  },
  {
   "cell_type": "markdown",
   "metadata": {
    "deletable": false,
    "editable": false
   },
   "source": [
    "To better understand how the scores have been allocated, examine how the maximum score varies for each type of inspection. Create a `DataFrame` object `ins_score_by_type`, indexed by all the inspection types (e.g., New Construction, Routine - Unscheduled, etc.), with a single column named `max_score` containing the highest score received. You may find `df.rename()` to be useful!"
   ]
  },
  {
   "cell_type": "code",
   "execution_count": null,
   "metadata": {},
   "outputs": [],
   "source": [
    ":"
   ]
  },
  {
   "cell_type": "code",
   "execution_count": 26,
   "metadata": {},
   "outputs": [
    {
     "data": {
      "text/plain": [
       "pandas.core.series.Series"
      ]
     },
     "metadata": {},
     "output_type": "display_data"
    },
    {
     "data": {
      "text/plain": [
       "type\n",
       "Administrative or Document Review        4\n",
       "Community Health Assessment              1\n",
       "Complaint                             1458\n",
       "Complaint Reinspection/Followup        227\n",
       "Foodborne Illness Investigation        115\n",
       "Multi-agency Investigation               3\n",
       "New Construction                       994\n",
       "New Ownership                         1592\n",
       "New Ownership - Followup               499\n",
       "Non-inspection site visit              811\n",
       "Reinspection/Followup                 6439\n",
       "Routine - Scheduled                     46\n",
       "Routine - Unscheduled                14077\n",
       "Special Event                            3\n",
       "Structural Inspection                  394\n",
       "dtype: int64"
      ]
     },
     "metadata": {},
     "output_type": "display_data"
    },
    {
     "data": {
      "text/html": [
       "<div>\n",
       "<style scoped>\n",
       "    .dataframe tbody tr th:only-of-type {\n",
       "        vertical-align: middle;\n",
       "    }\n",
       "\n",
       "    .dataframe tbody tr th {\n",
       "        vertical-align: top;\n",
       "    }\n",
       "\n",
       "    .dataframe thead th {\n",
       "        text-align: right;\n",
       "    }\n",
       "</style>\n",
       "<table border=\"1\" class=\"dataframe\">\n",
       "  <thead>\n",
       "    <tr style=\"text-align: right;\">\n",
       "      <th></th>\n",
       "      <th>score</th>\n",
       "      <th>iid</th>\n",
       "    </tr>\n",
       "    <tr>\n",
       "      <th>type</th>\n",
       "      <th></th>\n",
       "      <th></th>\n",
       "    </tr>\n",
       "  </thead>\n",
       "  <tbody>\n",
       "    <tr>\n",
       "      <th>Administrative or Document Review</th>\n",
       "      <td>4</td>\n",
       "      <td>4</td>\n",
       "    </tr>\n",
       "    <tr>\n",
       "      <th>Community Health Assessment</th>\n",
       "      <td>1</td>\n",
       "      <td>1</td>\n",
       "    </tr>\n",
       "    <tr>\n",
       "      <th>Complaint</th>\n",
       "      <td>1458</td>\n",
       "      <td>1458</td>\n",
       "    </tr>\n",
       "    <tr>\n",
       "      <th>Complaint Reinspection/Followup</th>\n",
       "      <td>227</td>\n",
       "      <td>227</td>\n",
       "    </tr>\n",
       "    <tr>\n",
       "      <th>Foodborne Illness Investigation</th>\n",
       "      <td>115</td>\n",
       "      <td>115</td>\n",
       "    </tr>\n",
       "    <tr>\n",
       "      <th>Multi-agency Investigation</th>\n",
       "      <td>3</td>\n",
       "      <td>3</td>\n",
       "    </tr>\n",
       "    <tr>\n",
       "      <th>New Construction</th>\n",
       "      <td>994</td>\n",
       "      <td>994</td>\n",
       "    </tr>\n",
       "    <tr>\n",
       "      <th>New Ownership</th>\n",
       "      <td>1592</td>\n",
       "      <td>1592</td>\n",
       "    </tr>\n",
       "    <tr>\n",
       "      <th>New Ownership - Followup</th>\n",
       "      <td>499</td>\n",
       "      <td>499</td>\n",
       "    </tr>\n",
       "    <tr>\n",
       "      <th>Non-inspection site visit</th>\n",
       "      <td>811</td>\n",
       "      <td>811</td>\n",
       "    </tr>\n",
       "    <tr>\n",
       "      <th>Reinspection/Followup</th>\n",
       "      <td>6439</td>\n",
       "      <td>6439</td>\n",
       "    </tr>\n",
       "    <tr>\n",
       "      <th>Routine - Scheduled</th>\n",
       "      <td>46</td>\n",
       "      <td>46</td>\n",
       "    </tr>\n",
       "    <tr>\n",
       "      <th>Routine - Unscheduled</th>\n",
       "      <td>14077</td>\n",
       "      <td>14077</td>\n",
       "    </tr>\n",
       "    <tr>\n",
       "      <th>Special Event</th>\n",
       "      <td>3</td>\n",
       "      <td>3</td>\n",
       "    </tr>\n",
       "    <tr>\n",
       "      <th>Structural Inspection</th>\n",
       "      <td>394</td>\n",
       "      <td>394</td>\n",
       "    </tr>\n",
       "  </tbody>\n",
       "</table>\n",
       "</div>"
      ],
      "text/plain": [
       "                                   score    iid\n",
       "type                                           \n",
       "Administrative or Document Review      4      4\n",
       "Community Health Assessment            1      1\n",
       "Complaint                           1458   1458\n",
       "Complaint Reinspection/Followup      227    227\n",
       "Foodborne Illness Investigation      115    115\n",
       "Multi-agency Investigation             3      3\n",
       "New Construction                     994    994\n",
       "New Ownership                       1592   1592\n",
       "New Ownership - Followup             499    499\n",
       "Non-inspection site visit            811    811\n",
       "Reinspection/Followup               6439   6439\n",
       "Routine - Scheduled                   46     46\n",
       "Routine - Unscheduled              14077  14077\n",
       "Special Event                          3      3\n",
       "Structural Inspection                394    394"
      ]
     },
     "metadata": {},
     "output_type": "display_data"
    }
   ],
   "source": [
    "# ins_groupby = ins[['type', 'score', 'iid']].groupby(\"type\").sum(numeric_only=True)\n",
    "# ins_groupby.loc['Complaint']\n",
    "ins_groupby = ins[['type', 'score', 'iid']].groupby(\"type\").size()\n",
    "display(type(ins_groupby))\n",
    "display(ins_groupby)\n",
    "\n",
    "ins_groupby_count = ins[['type', 'score', 'iid']].groupby(\"type\").count()\n",
    "display(ins_groupby_count)"
   ]
  },
  {
   "cell_type": "code",
   "execution_count": 5,
   "metadata": {
    "tags": []
   },
   "outputs": [
    {
     "data": {
      "text/html": [
       "<div>\n",
       "<style scoped>\n",
       "    .dataframe tbody tr th:only-of-type {\n",
       "        vertical-align: middle;\n",
       "    }\n",
       "\n",
       "    .dataframe tbody tr th {\n",
       "        vertical-align: top;\n",
       "    }\n",
       "\n",
       "    .dataframe thead th {\n",
       "        text-align: right;\n",
       "    }\n",
       "</style>\n",
       "<table border=\"1\" class=\"dataframe\">\n",
       "  <thead>\n",
       "    <tr style=\"text-align: right;\">\n",
       "      <th></th>\n",
       "      <th>max_score</th>\n",
       "    </tr>\n",
       "    <tr>\n",
       "      <th>type</th>\n",
       "      <th></th>\n",
       "    </tr>\n",
       "  </thead>\n",
       "  <tbody>\n",
       "    <tr>\n",
       "      <th>Administrative or Document Review</th>\n",
       "      <td>-1</td>\n",
       "    </tr>\n",
       "    <tr>\n",
       "      <th>Community Health Assessment</th>\n",
       "      <td>-1</td>\n",
       "    </tr>\n",
       "    <tr>\n",
       "      <th>Complaint</th>\n",
       "      <td>-1</td>\n",
       "    </tr>\n",
       "    <tr>\n",
       "      <th>Complaint Reinspection/Followup</th>\n",
       "      <td>-1</td>\n",
       "    </tr>\n",
       "    <tr>\n",
       "      <th>Foodborne Illness Investigation</th>\n",
       "      <td>-1</td>\n",
       "    </tr>\n",
       "    <tr>\n",
       "      <th>Multi-agency Investigation</th>\n",
       "      <td>-1</td>\n",
       "    </tr>\n",
       "    <tr>\n",
       "      <th>New Construction</th>\n",
       "      <td>-1</td>\n",
       "    </tr>\n",
       "    <tr>\n",
       "      <th>New Ownership</th>\n",
       "      <td>-1</td>\n",
       "    </tr>\n",
       "    <tr>\n",
       "      <th>New Ownership - Followup</th>\n",
       "      <td>-1</td>\n",
       "    </tr>\n",
       "    <tr>\n",
       "      <th>Non-inspection site visit</th>\n",
       "      <td>-1</td>\n",
       "    </tr>\n",
       "    <tr>\n",
       "      <th>Reinspection/Followup</th>\n",
       "      <td>-1</td>\n",
       "    </tr>\n",
       "    <tr>\n",
       "      <th>Routine - Scheduled</th>\n",
       "      <td>-1</td>\n",
       "    </tr>\n",
       "    <tr>\n",
       "      <th>Routine - Unscheduled</th>\n",
       "      <td>100</td>\n",
       "    </tr>\n",
       "    <tr>\n",
       "      <th>Special Event</th>\n",
       "      <td>-1</td>\n",
       "    </tr>\n",
       "    <tr>\n",
       "      <th>Structural Inspection</th>\n",
       "      <td>-1</td>\n",
       "    </tr>\n",
       "  </tbody>\n",
       "</table>\n",
       "</div>"
      ],
      "text/plain": [
       "                                   max_score\n",
       "type                                        \n",
       "Administrative or Document Review         -1\n",
       "Community Health Assessment               -1\n",
       "Complaint                                 -1\n",
       "Complaint Reinspection/Followup           -1\n",
       "Foodborne Illness Investigation           -1\n",
       "Multi-agency Investigation                -1\n",
       "New Construction                          -1\n",
       "New Ownership                             -1\n",
       "New Ownership - Followup                  -1\n",
       "Non-inspection site visit                 -1\n",
       "Reinspection/Followup                     -1\n",
       "Routine - Scheduled                       -1\n",
       "Routine - Unscheduled                    100\n",
       "Special Event                             -1\n",
       "Structural Inspection                     -1"
      ]
     },
     "execution_count": 5,
     "metadata": {},
     "output_type": "execute_result"
    }
   ],
   "source": [
    "ins_score_by_type = (ins[[\"type\", \"score\"]]\n",
    "                     .groupby(\"type\")\n",
    "                     .max()\n",
    "                     .rename(columns={\"score\":\"max_score\"})\n",
    "                    )\n",
    "ins_score_by_type"
   ]
  },
  {
   "cell_type": "code",
   "execution_count": 6,
   "metadata": {
    "deletable": false,
    "editable": false
   },
   "outputs": [
    {
     "data": {
      "text/html": [
       "<p><strong><pre style='display: inline;'>q1a</pre></strong> passed! 🚀</p>"
      ],
      "text/plain": [
       "q1a results: All test cases passed!"
      ]
     },
     "execution_count": 6,
     "metadata": {},
     "output_type": "execute_result"
    }
   ],
   "source": [
    "grader.check(\"q1a\")"
   ]
  },
  {
   "cell_type": "markdown",
   "metadata": {
    "deletable": false,
    "editable": false
   },
   "source": [
    "<br/>\n",
    "\n",
    "---\n",
    "\n",
    "## Question 1b\n"
   ]
  },
  {
   "cell_type": "markdown",
   "metadata": {
    "deletable": false,
    "editable": false
   },
   "source": [
    "Given the variability of `ins['score']` observed in 1a, let's examine the inspection scores `ins['score']` further."
   ]
  },
  {
   "cell_type": "code",
   "execution_count": 7,
   "metadata": {
    "deletable": false,
    "editable": false
   },
   "outputs": [
    {
     "data": {
      "text/plain": [
       "score\n",
       "-1      12632\n",
       " 100     1993\n",
       " 96      1681\n",
       " 92      1260\n",
       " 94      1250\n",
       "Name: count, dtype: int64"
      ]
     },
     "execution_count": 7,
     "metadata": {},
     "output_type": "execute_result"
    }
   ],
   "source": [
    "ins['score'].value_counts().head()"
   ]
  },
  {
   "cell_type": "markdown",
   "metadata": {
    "deletable": false,
    "editable": false
   },
   "source": [
    "There are a large number of inspections with a `score` of `-1`. These are probably missing values. Let's see what types of inspections have scores and which do not (score of -1).  We have defined for you a new column `'Missing Score'` that shows `True` if the score for that business is `-1` to help you out with the analysis. \n",
    "\n",
    "Use `.groupby` to find out the number of scores that every combination of `type` and `Missing Score` can take on. The result should be a **`DataFrame`** that should look **exactly** as shown below:\n",
    "\n",
    "<center> <img src=\"pics/1b.png\" width=\"400\"/> \n"
   ]
  },
  {
   "cell_type": "code",
   "execution_count": 8,
   "metadata": {
    "tags": []
   },
   "outputs": [
    {
     "data": {
      "text/html": [
       "<div>\n",
       "<style scoped>\n",
       "    .dataframe tbody tr th:only-of-type {\n",
       "        vertical-align: middle;\n",
       "    }\n",
       "\n",
       "    .dataframe tbody tr th {\n",
       "        vertical-align: top;\n",
       "    }\n",
       "\n",
       "    .dataframe thead th {\n",
       "        text-align: right;\n",
       "    }\n",
       "</style>\n",
       "<table border=\"1\" class=\"dataframe\">\n",
       "  <thead>\n",
       "    <tr style=\"text-align: right;\">\n",
       "      <th></th>\n",
       "      <th></th>\n",
       "      <th>Count</th>\n",
       "    </tr>\n",
       "    <tr>\n",
       "      <th>type</th>\n",
       "      <th>Missing Score</th>\n",
       "      <th></th>\n",
       "    </tr>\n",
       "  </thead>\n",
       "  <tbody>\n",
       "    <tr>\n",
       "      <th>Administrative or Document Review</th>\n",
       "      <th>True</th>\n",
       "      <td>4</td>\n",
       "    </tr>\n",
       "    <tr>\n",
       "      <th>Community Health Assessment</th>\n",
       "      <th>True</th>\n",
       "      <td>1</td>\n",
       "    </tr>\n",
       "    <tr>\n",
       "      <th>Complaint</th>\n",
       "      <th>True</th>\n",
       "      <td>1458</td>\n",
       "    </tr>\n",
       "    <tr>\n",
       "      <th>Complaint Reinspection/Followup</th>\n",
       "      <th>True</th>\n",
       "      <td>227</td>\n",
       "    </tr>\n",
       "    <tr>\n",
       "      <th>Foodborne Illness Investigation</th>\n",
       "      <th>True</th>\n",
       "      <td>115</td>\n",
       "    </tr>\n",
       "    <tr>\n",
       "      <th>Multi-agency Investigation</th>\n",
       "      <th>True</th>\n",
       "      <td>3</td>\n",
       "    </tr>\n",
       "    <tr>\n",
       "      <th>New Construction</th>\n",
       "      <th>True</th>\n",
       "      <td>994</td>\n",
       "    </tr>\n",
       "    <tr>\n",
       "      <th>New Ownership</th>\n",
       "      <th>True</th>\n",
       "      <td>1592</td>\n",
       "    </tr>\n",
       "    <tr>\n",
       "      <th>New Ownership - Followup</th>\n",
       "      <th>True</th>\n",
       "      <td>499</td>\n",
       "    </tr>\n",
       "    <tr>\n",
       "      <th>Non-inspection site visit</th>\n",
       "      <th>True</th>\n",
       "      <td>811</td>\n",
       "    </tr>\n",
       "    <tr>\n",
       "      <th>Reinspection/Followup</th>\n",
       "      <th>True</th>\n",
       "      <td>6439</td>\n",
       "    </tr>\n",
       "    <tr>\n",
       "      <th>Routine - Scheduled</th>\n",
       "      <th>True</th>\n",
       "      <td>46</td>\n",
       "    </tr>\n",
       "    <tr>\n",
       "      <th rowspan=\"2\" valign=\"top\">Routine - Unscheduled</th>\n",
       "      <th>False</th>\n",
       "      <td>14031</td>\n",
       "    </tr>\n",
       "    <tr>\n",
       "      <th>True</th>\n",
       "      <td>46</td>\n",
       "    </tr>\n",
       "    <tr>\n",
       "      <th>Special Event</th>\n",
       "      <th>True</th>\n",
       "      <td>3</td>\n",
       "    </tr>\n",
       "    <tr>\n",
       "      <th>Structural Inspection</th>\n",
       "      <th>True</th>\n",
       "      <td>394</td>\n",
       "    </tr>\n",
       "  </tbody>\n",
       "</table>\n",
       "</div>"
      ],
      "text/plain": [
       "                                                 Count\n",
       "type                              Missing Score       \n",
       "Administrative or Document Review True               4\n",
       "Community Health Assessment       True               1\n",
       "Complaint                         True            1458\n",
       "Complaint Reinspection/Followup   True             227\n",
       "Foodborne Illness Investigation   True             115\n",
       "Multi-agency Investigation        True               3\n",
       "New Construction                  True             994\n",
       "New Ownership                     True            1592\n",
       "New Ownership - Followup          True             499\n",
       "Non-inspection site visit         True             811\n",
       "Reinspection/Followup             True            6439\n",
       "Routine - Scheduled               True              46\n",
       "Routine - Unscheduled             False          14031\n",
       "                                  True              46\n",
       "Special Event                     True               3\n",
       "Structural Inspection             True             394"
      ]
     },
     "execution_count": 8,
     "metadata": {},
     "output_type": "execute_result"
    }
   ],
   "source": [
    "ins['Missing Score'] = (ins['score'] == -1).astype(\"str\")\n",
    "ins_missing_score_group = (ins[[\"type\", \"Missing Score\", \"score\"]]\n",
    "                           .groupby([\"type\", \"Missing Score\"])\n",
    "                           .count()\n",
    "                           .rename(columns={\"score\":\"Count\"})\n",
    "    \n",
    ")\n",
    "ins_missing_score_group"
   ]
  },
  {
   "cell_type": "code",
   "execution_count": 9,
   "metadata": {
    "deletable": false,
    "editable": false
   },
   "outputs": [
    {
     "data": {
      "text/html": [
       "<p><strong><pre style='display: inline;'>q1b</pre></strong> passed! 💯</p>"
      ],
      "text/plain": [
       "q1b results: All test cases passed!"
      ]
     },
     "execution_count": 9,
     "metadata": {},
     "output_type": "execute_result"
    }
   ],
   "source": [
    "grader.check(\"q1b\")"
   ]
  },
  {
   "cell_type": "markdown",
   "metadata": {},
   "source": [
    "<br/>\n",
    "\n",
    "---\n",
    "\n",
    "## Question 1c\n"
   ]
  },
  {
   "cell_type": "markdown",
   "metadata": {},
   "source": [
    "Using `.groupby` to perform the above analysis gave us a `DataFrame` that wasn't the most readable at first glance. There are better ways to represent the above information that take advantage of the fact that we are looking at combinations of two variables. It's time to pivot (pun intended)!\n",
    "\n",
    "Create the following `DataFrame`, and assign it to to the variable `ins_missing_score_pivot`. You'll want to use the `pivot_table` method of the `DataFrame` class, which you can read about in the `pivot_table` [documentation](https://pandas.pydata.org/docs/reference/api/pandas.DataFrame.pivot_table.html). Once you create `ins_missing_score_pivot`, add another column titled `'Total'`, which contains the total number of inspections of that `type`. Sort the table by descending order of `'Total'`.\n",
    "\n",
    "**Hint:** Consider what happens if there are no values that correspond to a particular combination of `'Missing Score'` and `'type'`. Looking at the documentation for `pivot_table`, is there any function argument that allows you to specify what value to fill in?\n",
    "\n",
    "If you've done everything right, you should observe that inspection scores appear only to be assigned to `Routine - Unscheduled` inspections and that `ins_missing_score_pivot` looks exactly like below:\n",
    "\n",
    "\n",
    "<table border=\"1\" class=\"dataframe\" >  <thead>    \n",
    "    <tr style=\"text-align: right;\">      <th>Missing Score</th>      <th>False</th>      <th>True</th>      <th>Total</th>    </tr>    <tr align=\"right\">      <th>type</th>      <th></th>      <th></th>      <th></th>    </tr>  </thead>  <tbody>    \n",
    "    <tr  align=\"right\">      <th>Routine - Unscheduled</th>      <td>14031</td>      <td>46</td>      <td>14077</td>    </tr>    \n",
    "    <tr  align=\"right\">      <th>Reinspection/Followup</th>      <td>0</td>      <td>6439</td>      <td>6439</td>    </tr>    \n",
    "    <tr  align=\"right\">      <th>New Ownership</th>      <td>0</td>      <td>1592</td>      <td>1592</td>    </tr>    \n",
    "    <tr  align=\"right\">      <th>Complaint</th>      <td>0</td>      <td>1458</td>      <td>1458</td>    </tr>    \n",
    "    <tr  align=\"right\">      <th>New Construction</th>      <td>0</td>      <td>994</td>      <td>994</td>    </tr>    \n",
    "    <tr  align=\"right\">      <th>Non-inspection site visit</th>      <td>0</td>      <td>811</td>      <td>811</td>    </tr>    \n",
    "    <tr  align=\"right\">      <th>New Ownership - Followup</th>      <td>0</td>      <td>499</td>      <td>499</td>    </tr>    \n",
    "    <tr  align=\"right\">      <th>Structural Inspection</th>      <td>0</td>      <td>394</td>      <td>394</td>    </tr>    \n",
    "    <tr  align=\"right\">      <th>Complaint Reinspection/Followup</th>      <td>0</td>      <td>227</td>      <td>227</td>    </tr>    \n",
    "    <tr  align=\"right\">      <th>Foodborne Illness Investigation</th>      <td>0</td>      <td>115</td>      <td>115</td>    </tr>    \n",
    "    <tr  align=\"right\">      <th>Routine - Scheduled</th>      <td>0</td>      <td>46</td>      <td>46</td>    </tr>    \n",
    "    <tr  align=\"right\">      <th>Administrative or Document Review</th>      <td>0</td>      <td>4</td>      <td>4</td>    </tr>    \n",
    "    <tr  align=\"right\">      <th>Multi-agency Investigation</th>      <td>0</td>      <td>3</td>      <td>3</td>    </tr>    \n",
    "    <tr  align=\"right\">      <th>Special Event</th>      <td>0</td>      <td>3</td>      <td>3</td>    </tr>    \n",
    "    <tr  align=\"right\">      <th>Community Health Assessment</th>      <td>0</td>      <td>1</td>      <td>1</td>    </tr>  </tbody></table>\n"
   ]
  },
  {
   "cell_type": "code",
   "execution_count": 10,
   "metadata": {
    "tags": []
   },
   "outputs": [
    {
     "data": {
      "text/html": [
       "<div>\n",
       "<style scoped>\n",
       "    .dataframe tbody tr th:only-of-type {\n",
       "        vertical-align: middle;\n",
       "    }\n",
       "\n",
       "    .dataframe tbody tr th {\n",
       "        vertical-align: top;\n",
       "    }\n",
       "\n",
       "    .dataframe thead th {\n",
       "        text-align: right;\n",
       "    }\n",
       "</style>\n",
       "<table border=\"1\" class=\"dataframe\">\n",
       "  <thead>\n",
       "    <tr style=\"text-align: right;\">\n",
       "      <th>Missing Score</th>\n",
       "      <th>False</th>\n",
       "      <th>True</th>\n",
       "      <th>Total</th>\n",
       "    </tr>\n",
       "    <tr>\n",
       "      <th>type</th>\n",
       "      <th></th>\n",
       "      <th></th>\n",
       "      <th></th>\n",
       "    </tr>\n",
       "  </thead>\n",
       "  <tbody>\n",
       "    <tr>\n",
       "      <th>Routine - Unscheduled</th>\n",
       "      <td>14031</td>\n",
       "      <td>46</td>\n",
       "      <td>14077</td>\n",
       "    </tr>\n",
       "    <tr>\n",
       "      <th>Reinspection/Followup</th>\n",
       "      <td>0</td>\n",
       "      <td>6439</td>\n",
       "      <td>6439</td>\n",
       "    </tr>\n",
       "    <tr>\n",
       "      <th>New Ownership</th>\n",
       "      <td>0</td>\n",
       "      <td>1592</td>\n",
       "      <td>1592</td>\n",
       "    </tr>\n",
       "    <tr>\n",
       "      <th>Complaint</th>\n",
       "      <td>0</td>\n",
       "      <td>1458</td>\n",
       "      <td>1458</td>\n",
       "    </tr>\n",
       "    <tr>\n",
       "      <th>New Construction</th>\n",
       "      <td>0</td>\n",
       "      <td>994</td>\n",
       "      <td>994</td>\n",
       "    </tr>\n",
       "    <tr>\n",
       "      <th>Non-inspection site visit</th>\n",
       "      <td>0</td>\n",
       "      <td>811</td>\n",
       "      <td>811</td>\n",
       "    </tr>\n",
       "    <tr>\n",
       "      <th>New Ownership - Followup</th>\n",
       "      <td>0</td>\n",
       "      <td>499</td>\n",
       "      <td>499</td>\n",
       "    </tr>\n",
       "    <tr>\n",
       "      <th>Structural Inspection</th>\n",
       "      <td>0</td>\n",
       "      <td>394</td>\n",
       "      <td>394</td>\n",
       "    </tr>\n",
       "    <tr>\n",
       "      <th>Complaint Reinspection/Followup</th>\n",
       "      <td>0</td>\n",
       "      <td>227</td>\n",
       "      <td>227</td>\n",
       "    </tr>\n",
       "    <tr>\n",
       "      <th>Foodborne Illness Investigation</th>\n",
       "      <td>0</td>\n",
       "      <td>115</td>\n",
       "      <td>115</td>\n",
       "    </tr>\n",
       "    <tr>\n",
       "      <th>Routine - Scheduled</th>\n",
       "      <td>0</td>\n",
       "      <td>46</td>\n",
       "      <td>46</td>\n",
       "    </tr>\n",
       "    <tr>\n",
       "      <th>Administrative or Document Review</th>\n",
       "      <td>0</td>\n",
       "      <td>4</td>\n",
       "      <td>4</td>\n",
       "    </tr>\n",
       "    <tr>\n",
       "      <th>Multi-agency Investigation</th>\n",
       "      <td>0</td>\n",
       "      <td>3</td>\n",
       "      <td>3</td>\n",
       "    </tr>\n",
       "    <tr>\n",
       "      <th>Special Event</th>\n",
       "      <td>0</td>\n",
       "      <td>3</td>\n",
       "      <td>3</td>\n",
       "    </tr>\n",
       "    <tr>\n",
       "      <th>Community Health Assessment</th>\n",
       "      <td>0</td>\n",
       "      <td>1</td>\n",
       "      <td>1</td>\n",
       "    </tr>\n",
       "  </tbody>\n",
       "</table>\n",
       "</div>"
      ],
      "text/plain": [
       "Missing Score                      False  True  Total\n",
       "type                                                 \n",
       "Routine - Unscheduled              14031    46  14077\n",
       "Reinspection/Followup                  0  6439   6439\n",
       "New Ownership                          0  1592   1592\n",
       "Complaint                              0  1458   1458\n",
       "New Construction                       0   994    994\n",
       "Non-inspection site visit              0   811    811\n",
       "New Ownership - Followup               0   499    499\n",
       "Structural Inspection                  0   394    394\n",
       "Complaint Reinspection/Followup        0   227    227\n",
       "Foodborne Illness Investigation        0   115    115\n",
       "Routine - Scheduled                    0    46     46\n",
       "Administrative or Document Review      0     4      4\n",
       "Multi-agency Investigation             0     3      3\n",
       "Special Event                          0     3      3\n",
       "Community Health Assessment            0     1      1"
      ]
     },
     "execution_count": 10,
     "metadata": {},
     "output_type": "execute_result"
    }
   ],
   "source": [
    "ins['Missing Score'] = (ins['score'] == -1).astype(\"str\")\n",
    "ins_missing_score_pivot = ins.pivot_table(values=\"score\", \n",
    "                                          index=\"type\", \n",
    "                                          columns=\"Missing Score\", \n",
    "                                          aggfunc=\"count\", \n",
    "                                          fill_value=0, \n",
    "                                          margins=True,\n",
    "                                          margins_name=\"Total\"\n",
    "                                         )\n",
    "ins_missing_score_pivot = ins_missing_score_pivot.iloc[:-1, :].sort_values(by=\"Total\", ascending=False)\n",
    "\n",
    "ins_missing_score_pivot  "
   ]
  },
  {
   "cell_type": "code",
   "execution_count": 11,
   "metadata": {
    "deletable": false,
    "editable": false
   },
   "outputs": [
    {
     "data": {
      "text/html": [
       "<p><strong><pre style='display: inline;'>q1c</pre></strong> passed! 🍀</p>"
      ],
      "text/plain": [
       "q1c results: All test cases passed!"
      ]
     },
     "execution_count": 11,
     "metadata": {},
     "output_type": "execute_result"
    }
   ],
   "source": [
    "grader.check(\"q1c\")"
   ]
  },
  {
   "cell_type": "markdown",
   "metadata": {},
   "source": [
    "Notice that inspection scores appear only to be assigned to `Routine - Unscheduled` inspections. It is reasonable for inspection types such as `New Ownership` and `Complaint` to have no associated inspection scores, but we might be curious why there are no inspection scores for the `Reinspection/Followup` inspection type."
   ]
  },
  {
   "cell_type": "markdown",
   "metadata": {
    "nbgrader": {
     "grade": false,
     "grade_id": "business-data",
     "locked": true,
     "schema_version": 2,
     "solution": false
    },
    "tags": []
   },
   "source": [
    "<br/><br/>\n",
    "\n",
    "---\n",
    "\n",
    "# Question 2: Joining Data Across Tables\n",
    "\n",
    "In this question, we will start to connect data across multiple tables. We will be using the `merge` function. "
   ]
  },
  {
   "cell_type": "markdown",
   "metadata": {},
   "source": [
    "<br/>\n",
    "\n",
    "--- \n",
    "\n",
    "## Question 2a\n",
    "\n",
    "Let's figure out which restaurants had the lowest scores. Before we proceed, let's filter out missing scores from `ins` so that negative scores don't influence our results. \n",
    "\n",
    "Note that there might be something interesting we could learn from businesses with missing scores, but we are omitting such analysis from this homework. You might consider exploring this for the optional question at the end. \n",
    "\n",
    "Note: We have no idea if there is actually anything interesting to learn as we have not attempted this ourselves."
   ]
  },
  {
   "cell_type": "code",
   "execution_count": 12,
   "metadata": {},
   "outputs": [],
   "source": [
    "ins = ins[ins[\"score\"] > 0]"
   ]
  },
  {
   "cell_type": "markdown",
   "metadata": {
    "deletable": false,
    "editable": false
   },
   "source": [
    "We'll start by creating a new `DataFrame` called `ins_named`. It should be exactly the same as `ins`, except that it should have the name and address of every business, as determined by the `bus` `DataFrame`. \n",
    "\n",
    "**Hint**: Use the `merge` method to join the `ins` `DataFrame` with the appropriate portion of the `bus` `DataFrame`. See the official [documentation](https://pandas.pydata.org/pandas-docs/stable/user_guide/merging.html) on how to use `merge`. The first few rows of the resulting `DataFrame` you create are shown below:\n",
    "\n",
    "<img src=\"pics/2a.png\" width=\"1080\"/>"
   ]
  },
  {
   "cell_type": "code",
   "execution_count": 13,
   "metadata": {
    "tags": []
   },
   "outputs": [
    {
     "data": {
      "text/html": [
       "<div>\n",
       "<style scoped>\n",
       "    .dataframe tbody tr th:only-of-type {\n",
       "        vertical-align: middle;\n",
       "    }\n",
       "\n",
       "    .dataframe tbody tr th {\n",
       "        vertical-align: top;\n",
       "    }\n",
       "\n",
       "    .dataframe thead th {\n",
       "        text-align: right;\n",
       "    }\n",
       "</style>\n",
       "<table border=\"1\" class=\"dataframe\">\n",
       "  <thead>\n",
       "    <tr style=\"text-align: right;\">\n",
       "      <th></th>\n",
       "      <th>iid</th>\n",
       "      <th>date</th>\n",
       "      <th>score</th>\n",
       "      <th>type</th>\n",
       "      <th>timestamp</th>\n",
       "      <th>bid</th>\n",
       "      <th>Missing Score</th>\n",
       "      <th>name</th>\n",
       "      <th>address</th>\n",
       "    </tr>\n",
       "  </thead>\n",
       "  <tbody>\n",
       "    <tr>\n",
       "      <th>0</th>\n",
       "      <td>100010_20190403</td>\n",
       "      <td>04/03/2019 12:00:00 AM</td>\n",
       "      <td>100</td>\n",
       "      <td>Routine - Unscheduled</td>\n",
       "      <td>2019-04-03</td>\n",
       "      <td>100010</td>\n",
       "      <td>False</td>\n",
       "      <td>ILLY CAFFE SF_PIER 39</td>\n",
       "      <td>PIER 39  K-106-B</td>\n",
       "    </tr>\n",
       "    <tr>\n",
       "      <th>1</th>\n",
       "      <td>100017_20190816</td>\n",
       "      <td>08/16/2019 12:00:00 AM</td>\n",
       "      <td>91</td>\n",
       "      <td>Routine - Unscheduled</td>\n",
       "      <td>2019-08-16</td>\n",
       "      <td>100017</td>\n",
       "      <td>False</td>\n",
       "      <td>AMICI'S EAST COAST PIZZERIA</td>\n",
       "      <td>475 06th St</td>\n",
       "    </tr>\n",
       "    <tr>\n",
       "      <th>2</th>\n",
       "      <td>100041_20190520</td>\n",
       "      <td>05/20/2019 12:00:00 AM</td>\n",
       "      <td>83</td>\n",
       "      <td>Routine - Unscheduled</td>\n",
       "      <td>2019-05-20</td>\n",
       "      <td>100041</td>\n",
       "      <td>False</td>\n",
       "      <td>UNCLE LEE CAFE</td>\n",
       "      <td>3608 BALBOA ST</td>\n",
       "    </tr>\n",
       "    <tr>\n",
       "      <th>3</th>\n",
       "      <td>100055_20190425</td>\n",
       "      <td>04/25/2019 12:00:00 AM</td>\n",
       "      <td>98</td>\n",
       "      <td>Routine - Unscheduled</td>\n",
       "      <td>2019-04-25</td>\n",
       "      <td>100055</td>\n",
       "      <td>False</td>\n",
       "      <td>Twirl and Dip</td>\n",
       "      <td>335 Martin Luther King Jr. Dr</td>\n",
       "    </tr>\n",
       "    <tr>\n",
       "      <th>4</th>\n",
       "      <td>100055_20190912</td>\n",
       "      <td>09/12/2019 12:00:00 AM</td>\n",
       "      <td>82</td>\n",
       "      <td>Routine - Unscheduled</td>\n",
       "      <td>2019-09-12</td>\n",
       "      <td>100055</td>\n",
       "      <td>False</td>\n",
       "      <td>Twirl and Dip</td>\n",
       "      <td>335 Martin Luther King Jr. Dr</td>\n",
       "    </tr>\n",
       "  </tbody>\n",
       "</table>\n",
       "</div>"
      ],
      "text/plain": [
       "               iid                    date  score                   type  \\\n",
       "0  100010_20190403  04/03/2019 12:00:00 AM    100  Routine - Unscheduled   \n",
       "1  100017_20190816  08/16/2019 12:00:00 AM     91  Routine - Unscheduled   \n",
       "2  100041_20190520  05/20/2019 12:00:00 AM     83  Routine - Unscheduled   \n",
       "3  100055_20190425  04/25/2019 12:00:00 AM     98  Routine - Unscheduled   \n",
       "4  100055_20190912  09/12/2019 12:00:00 AM     82  Routine - Unscheduled   \n",
       "\n",
       "   timestamp     bid Missing Score                         name  \\\n",
       "0 2019-04-03  100010         False        ILLY CAFFE SF_PIER 39   \n",
       "1 2019-08-16  100017         False  AMICI'S EAST COAST PIZZERIA   \n",
       "2 2019-05-20  100041         False               UNCLE LEE CAFE   \n",
       "3 2019-04-25  100055         False                Twirl and Dip   \n",
       "4 2019-09-12  100055         False                Twirl and Dip   \n",
       "\n",
       "                         address  \n",
       "0               PIER 39  K-106-B  \n",
       "1                    475 06th St  \n",
       "2                 3608 BALBOA ST  \n",
       "3  335 Martin Luther King Jr. Dr  \n",
       "4  335 Martin Luther King Jr. Dr  "
      ]
     },
     "execution_count": 13,
     "metadata": {},
     "output_type": "execute_result"
    }
   ],
   "source": [
    "# display(bus.head())\n",
    "# display(ins.head())\n",
    "\n",
    "ins_named = pd.merge(left=ins, \n",
    "                     right=bus[[\"bid\", \"name\", \"address\"]],\n",
    "                     left_on=\"bid\",\n",
    "                     right_on=\"bid\"\n",
    "                    )\n",
    "ins_named.head()"
   ]
  },
  {
   "cell_type": "code",
   "execution_count": 14,
   "metadata": {
    "deletable": false,
    "editable": false
   },
   "outputs": [
    {
     "data": {
      "text/html": [
       "<p><strong><pre style='display: inline;'>q2a</pre></strong> passed! 🍀</p>"
      ],
      "text/plain": [
       "q2a results: All test cases passed!"
      ]
     },
     "execution_count": 14,
     "metadata": {},
     "output_type": "execute_result"
    }
   ],
   "source": [
    "grader.check(\"q2a\")"
   ]
  },
  {
   "cell_type": "markdown",
   "metadata": {},
   "source": [
    "<br/>\n",
    "\n",
    "--- \n",
    "\n",
    "## Question 2b\n",
    "\n",
    "Let's look at the 20 businesses in `ins_named` with the lowest **median** score. Order your results by the median score followed by the business name to break ties. The resulting table should look like the table below.\n",
    "\n",
    "This one is pretty challenging! Don't forget to rename the `score` column. \n",
    "\n",
    "**Hint**: The `agg` function can accept a dictionary as an input. See the [agg documentation](https://pandas.pydata.org/pandas-docs/version/0.22/generated/pandas.core.groupby.DataFrameGroupBy.agg.html). Additionally, when thinking about what aggregation functions to use, ask yourself what value would be in the `\"name\"` column for each entry across the group? Can we select just one of these values to represent the whole group?\n",
    "\n",
    "As usual, **YOU SHOULD NOT USE LOOPS OR LIST COMPREHENSIONS**. Try and break down the problem piece by piece instead, gradually chaining together different `pandas` functions. Feel free to use more than one line!\n",
    "\n",
    "<table border=\"1\" class=\"dataframe\">  <thead>    \n",
    "    <tr style=\"text-align: right;\">      <th></th>      <th>name</th>      <th>median score</th>    </tr> \n",
    "    <tr  align=\"right\">  <th align=\"right\">bid</th>      <th></th>      <th></th>    </tr> </thead>  <tbody>    \n",
    "    <tr  align=\"right\">      <th>84590</th>      <td>Chaat Corner</td>      <td>54.0</td>    </tr>    \n",
    "    <tr  align=\"right\">        <th>90622</th>      <td>Taqueria Lolita</td>      <td>57.0</td>    </tr>    \n",
    "    <tr  align=\"right\">         <th>94351</th>      <td>VBowls LLC</td>      <td>58.0</td>    </tr>    \n",
    "    <tr  align=\"right\">          <th>69282</th>      <td>New Jumbo Seafood Restaurant</td>      <td>60.5</td>    </tr>    \n",
    "    <tr  align=\"right\">         <th>1154</th>      <td>SUNFLOWER RESTAURANT</td>      <td>63.5</td>    </tr>  \n",
    "    <tr  align=\"right\">          <th>93150</th>      <td>Chez Beesen</td>      <td>64.0</td>    </tr>   \n",
    "    <tr  align=\"right\">     <th>39776</th>      <td>Duc Loi Supermarket</td>      <td>64.0</td>    </tr>  \n",
    "    <tr  align=\"right\">         <th>78328</th>      <td>Golden Wok</td>      <td>64.0</td>    </tr>  \n",
    "    <tr  align=\"right\">          <th>69397</th>      <td>Minna SF Group LLC</td>      <td>64.0</td>    </tr>     \n",
    "    <tr  align=\"right\">        <th>93502</th>      <td>Smoky Man</td>      <td>64.0</td>    </tr>    \n",
    "    <tr  align=\"right\">           <th>98995</th>      <td>Vallarta's Taco Bar</td>      <td>64.0</td>    </tr>    \n",
    "    <tr  align=\"right\">         <th>10877</th>      <td>CHINA FIRST INC.</td>      <td>64.5</td>    </tr>    \n",
    "    <tr  align=\"right\">        <th>71310</th>      <td>Golden King Vietnamese Restaurant</td>      <td>64.5</td>    </tr>     \n",
    "    <tr  align=\"right\">          <th>89070</th>      <td>Lafayette Coffee Shop</td>      <td>64.5</td>    </tr>\n",
    "    <tr  align=\"right\">          <th>71008</th>      <td>House of Pancakes</td>      <td>65.0</td>    </tr> \n",
    "    <tr  align=\"right\">         <th>2542</th>      <td>PETER D'S RESTAURANT</td>      <td>65.0</td>    </tr>           \n",
    "    <tr  align=\"right\">        <th>3862</th>      <td>IMPERIAL GARDEN SEAFOOD RESTAURANT</td>      <td>66.0</td>    </tr>   \n",
    "    <tr  align=\"right\">         <th>61427</th>      <td>Nick's Foods</td>      <td>66.0</td>    </tr>    \n",
    "    <tr  align=\"right\">          <th>72176</th>      <td>Wolfes Lunch</td>      <td>66.0</td>    </tr>    \n",
    "    <tr  align=\"right\">        <th>89141</th>      <td>Cha Cha Cha on Mission</td>      <td>66.5</td>    </tr>  </tbody></table>"
   ]
  },
  {
   "cell_type": "code",
   "execution_count": 1,
   "metadata": {
    "tags": []
   },
   "outputs": [
    {
     "ename": "NameError",
     "evalue": "name 'ins_named' is not defined",
     "output_type": "error",
     "traceback": [
      "\u001b[0;31m---------------------------------------------------------------------------\u001b[0m",
      "\u001b[0;31mNameError\u001b[0m                                 Traceback (most recent call last)",
      "Cell \u001b[0;32mIn[1], line 1\u001b[0m\n\u001b[0;32m----> 1\u001b[0m twenty_lowest_scoring \u001b[38;5;241m=\u001b[39m (\u001b[43mins_named\u001b[49m[[\u001b[38;5;124m\"\u001b[39m\u001b[38;5;124mbid\u001b[39m\u001b[38;5;124m\"\u001b[39m, \u001b[38;5;124m\"\u001b[39m\u001b[38;5;124mname\u001b[39m\u001b[38;5;124m\"\u001b[39m, \u001b[38;5;124m\"\u001b[39m\u001b[38;5;124mscore\u001b[39m\u001b[38;5;124m\"\u001b[39m]]\n\u001b[1;32m      2\u001b[0m                          \u001b[38;5;241m.\u001b[39mgroupby(\u001b[38;5;124m\"\u001b[39m\u001b[38;5;124mbid\u001b[39m\u001b[38;5;124m\"\u001b[39m)\n\u001b[1;32m      3\u001b[0m                          \u001b[38;5;241m.\u001b[39magg({\u001b[38;5;124m\"\u001b[39m\u001b[38;5;124mscore\u001b[39m\u001b[38;5;124m\"\u001b[39m:\u001b[38;5;124m\"\u001b[39m\u001b[38;5;124mmedian\u001b[39m\u001b[38;5;124m\"\u001b[39m, \u001b[38;5;124m\"\u001b[39m\u001b[38;5;124mname\u001b[39m\u001b[38;5;124m\"\u001b[39m:\u001b[38;5;124m\"\u001b[39m\u001b[38;5;124mmax\u001b[39m\u001b[38;5;124m\"\u001b[39m})\n\u001b[1;32m      4\u001b[0m                          \u001b[38;5;241m.\u001b[39mrename(columns\u001b[38;5;241m=\u001b[39m{\u001b[38;5;124m\"\u001b[39m\u001b[38;5;124mscore\u001b[39m\u001b[38;5;124m\"\u001b[39m:\u001b[38;5;124m\"\u001b[39m\u001b[38;5;124mmedian score\u001b[39m\u001b[38;5;124m\"\u001b[39m})\n\u001b[1;32m      5\u001b[0m                          \u001b[38;5;241m.\u001b[39msort_values(by\u001b[38;5;241m=\u001b[39m\u001b[38;5;124m\"\u001b[39m\u001b[38;5;124mmedian score\u001b[39m\u001b[38;5;124m\"\u001b[39m, ascending\u001b[38;5;241m=\u001b[39m\u001b[38;5;28;01mTrue\u001b[39;00m)\n\u001b[1;32m      6\u001b[0m                          \u001b[38;5;241m.\u001b[39mhead(\u001b[38;5;241m20\u001b[39m)\n\u001b[1;32m      7\u001b[0m                         )\n\u001b[1;32m      9\u001b[0m twenty_lowest_scoring \u001b[38;5;241m=\u001b[39m twenty_lowest_scoring[[\u001b[38;5;124m\"\u001b[39m\u001b[38;5;124mname\u001b[39m\u001b[38;5;124m\"\u001b[39m, \u001b[38;5;124m\"\u001b[39m\u001b[38;5;124mmedian score\u001b[39m\u001b[38;5;124m\"\u001b[39m]]\n\u001b[1;32m     11\u001b[0m \u001b[38;5;66;03m# DO NOT USE LIST COMPREHENSIONS OR LOOPS OF ANY KIND!!!\u001b[39;00m\n",
      "\u001b[0;31mNameError\u001b[0m: name 'ins_named' is not defined"
     ]
    }
   ],
   "source": [
    "twenty_lowest_scoring = (ins_named[[\"bid\", \"name\", \"score\"]]\n",
    "                         .groupby(\"bid\")\n",
    "                         .agg({\"score\":\"median\", \"name\":\"max\"})\n",
    "                         .rename(columns={\"score\":\"median score\"})\n",
    "                         .sort_values(by=\"median score\", ascending=True)\n",
    "                         .head(20)\n",
    "                        )\n",
    "\n",
    "twenty_lowest_scoring = twenty_lowest_scoring[[\"name\", \"median score\"]]\n",
    "\n",
    "# DO NOT USE LIST COMPREHENSIONS OR LOOPS OF ANY KIND!!!\n",
    "twenty_lowest_scoring"
   ]
  },
  {
   "cell_type": "code",
   "execution_count": 16,
   "metadata": {
    "deletable": false,
    "editable": false
   },
   "outputs": [
    {
     "data": {
      "text/html": [
       "<p><strong><pre style='display: inline;'>q2b</pre></strong> passed! 🌟</p>"
      ],
      "text/plain": [
       "q2b results: All test cases passed!"
      ]
     },
     "execution_count": 16,
     "metadata": {},
     "output_type": "execute_result"
    }
   ],
   "source": [
    "grader.check(\"q2b\")"
   ]
  },
  {
   "cell_type": "markdown",
   "metadata": {
    "deletable": false,
    "editable": false
   },
   "source": [
    "<br/>\n",
    "\n",
    "--- \n",
    "## Question 2c\n",
    "\n",
    "Let's figure out which restaurant had the worst score ever (single lowest score). \n",
    "\n",
    "In the cell below, assign `worst_restaurant` to the name of the restaurant with the **lowest inspection score ever**. We should not be considering restaurants with missing scores, so this should not be a retaurant that has a score of `-1`. For fun: Look up the reviews for this restaurant on Yelp. Do you see any reviews that indicate this restaurant had health inspection issues?\n"
   ]
  },
  {
   "cell_type": "code",
   "execution_count": 17,
   "metadata": {
    "tags": []
   },
   "outputs": [
    {
     "data": {
      "text/html": [
       "<div>\n",
       "<style scoped>\n",
       "    .dataframe tbody tr th:only-of-type {\n",
       "        vertical-align: middle;\n",
       "    }\n",
       "\n",
       "    .dataframe tbody tr th {\n",
       "        vertical-align: top;\n",
       "    }\n",
       "\n",
       "    .dataframe thead th {\n",
       "        text-align: right;\n",
       "    }\n",
       "</style>\n",
       "<table border=\"1\" class=\"dataframe\">\n",
       "  <thead>\n",
       "    <tr style=\"text-align: right;\">\n",
       "      <th></th>\n",
       "      <th>iid</th>\n",
       "      <th>date</th>\n",
       "      <th>score</th>\n",
       "      <th>type</th>\n",
       "      <th>timestamp</th>\n",
       "      <th>bid</th>\n",
       "      <th>Missing Score</th>\n",
       "      <th>name</th>\n",
       "      <th>address</th>\n",
       "    </tr>\n",
       "  </thead>\n",
       "  <tbody>\n",
       "    <tr>\n",
       "      <th>10898</th>\n",
       "      <td>86718_20180522</td>\n",
       "      <td>05/22/2018 12:00:00 AM</td>\n",
       "      <td>45</td>\n",
       "      <td>Routine - Unscheduled</td>\n",
       "      <td>2018-05-22</td>\n",
       "      <td>86718</td>\n",
       "      <td>False</td>\n",
       "      <td>Lollipot</td>\n",
       "      <td>890 Taraval St</td>\n",
       "    </tr>\n",
       "    <tr>\n",
       "      <th>291</th>\n",
       "      <td>1154_20190327</td>\n",
       "      <td>03/27/2019 12:00:00 AM</td>\n",
       "      <td>46</td>\n",
       "      <td>Routine - Unscheduled</td>\n",
       "      <td>2019-03-27</td>\n",
       "      <td>1154</td>\n",
       "      <td>False</td>\n",
       "      <td>SUNFLOWER RESTAURANT</td>\n",
       "      <td>506 Valencia St</td>\n",
       "    </tr>\n",
       "    <tr>\n",
       "      <th>236</th>\n",
       "      <td>10877_20190701</td>\n",
       "      <td>07/01/2019 12:00:00 AM</td>\n",
       "      <td>48</td>\n",
       "      <td>Routine - Unscheduled</td>\n",
       "      <td>2019-07-01</td>\n",
       "      <td>10877</td>\n",
       "      <td>False</td>\n",
       "      <td>CHINA FIRST INC.</td>\n",
       "      <td>336 CLEMENT ST</td>\n",
       "    </tr>\n",
       "    <tr>\n",
       "      <th>6433</th>\n",
       "      <td>67237_20180914</td>\n",
       "      <td>09/14/2018 12:00:00 AM</td>\n",
       "      <td>51</td>\n",
       "      <td>Routine - Unscheduled</td>\n",
       "      <td>2018-09-14</td>\n",
       "      <td>67237</td>\n",
       "      <td>False</td>\n",
       "      <td>La Jefa</td>\n",
       "      <td>445 Bayshore Blvd</td>\n",
       "    </tr>\n",
       "    <tr>\n",
       "      <th>10285</th>\n",
       "      <td>84590_20181001</td>\n",
       "      <td>10/01/2018 12:00:00 AM</td>\n",
       "      <td>54</td>\n",
       "      <td>Routine - Unscheduled</td>\n",
       "      <td>2018-10-01</td>\n",
       "      <td>84590</td>\n",
       "      <td>False</td>\n",
       "      <td>Chaat Corner</td>\n",
       "      <td>320 3rd St</td>\n",
       "    </tr>\n",
       "    <tr>\n",
       "      <th>...</th>\n",
       "      <td>...</td>\n",
       "      <td>...</td>\n",
       "      <td>...</td>\n",
       "      <td>...</td>\n",
       "      <td>...</td>\n",
       "      <td>...</td>\n",
       "      <td>...</td>\n",
       "      <td>...</td>\n",
       "      <td>...</td>\n",
       "    </tr>\n",
       "    <tr>\n",
       "      <th>12365</th>\n",
       "      <td>917_20180509</td>\n",
       "      <td>05/09/2018 12:00:00 AM</td>\n",
       "      <td>100</td>\n",
       "      <td>Routine - Unscheduled</td>\n",
       "      <td>2018-05-09</td>\n",
       "      <td>917</td>\n",
       "      <td>False</td>\n",
       "      <td>Town &amp; Country Club</td>\n",
       "      <td>218 Stockton St</td>\n",
       "    </tr>\n",
       "    <tr>\n",
       "      <th>5467</th>\n",
       "      <td>62251_20180608</td>\n",
       "      <td>06/08/2018 12:00:00 AM</td>\n",
       "      <td>100</td>\n",
       "      <td>Routine - Unscheduled</td>\n",
       "      <td>2018-06-08</td>\n",
       "      <td>62251</td>\n",
       "      <td>False</td>\n",
       "      <td>Mr. and Mrs. Miscellaneous</td>\n",
       "      <td>699 22nd St</td>\n",
       "    </tr>\n",
       "    <tr>\n",
       "      <th>12372</th>\n",
       "      <td>91811_20180205</td>\n",
       "      <td>02/05/2018 12:00:00 AM</td>\n",
       "      <td>100</td>\n",
       "      <td>Routine - Unscheduled</td>\n",
       "      <td>2018-02-05</td>\n",
       "      <td>91811</td>\n",
       "      <td>False</td>\n",
       "      <td>Smitten Ice Cream</td>\n",
       "      <td>121 Capp St</td>\n",
       "    </tr>\n",
       "    <tr>\n",
       "      <th>5577</th>\n",
       "      <td>62797_20181025</td>\n",
       "      <td>10/25/2018 12:00:00 AM</td>\n",
       "      <td>100</td>\n",
       "      <td>Routine - Unscheduled</td>\n",
       "      <td>2018-10-25</td>\n",
       "      <td>62797</td>\n",
       "      <td>False</td>\n",
       "      <td>BHL</td>\n",
       "      <td>2 Embarcadero Center  Street Level</td>\n",
       "    </tr>\n",
       "    <tr>\n",
       "      <th>0</th>\n",
       "      <td>100010_20190403</td>\n",
       "      <td>04/03/2019 12:00:00 AM</td>\n",
       "      <td>100</td>\n",
       "      <td>Routine - Unscheduled</td>\n",
       "      <td>2019-04-03</td>\n",
       "      <td>100010</td>\n",
       "      <td>False</td>\n",
       "      <td>ILLY CAFFE SF_PIER 39</td>\n",
       "      <td>PIER 39  K-106-B</td>\n",
       "    </tr>\n",
       "  </tbody>\n",
       "</table>\n",
       "<p>14031 rows × 9 columns</p>\n",
       "</div>"
      ],
      "text/plain": [
       "                   iid                    date  score                   type  \\\n",
       "10898   86718_20180522  05/22/2018 12:00:00 AM     45  Routine - Unscheduled   \n",
       "291      1154_20190327  03/27/2019 12:00:00 AM     46  Routine - Unscheduled   \n",
       "236     10877_20190701  07/01/2019 12:00:00 AM     48  Routine - Unscheduled   \n",
       "6433    67237_20180914  09/14/2018 12:00:00 AM     51  Routine - Unscheduled   \n",
       "10285   84590_20181001  10/01/2018 12:00:00 AM     54  Routine - Unscheduled   \n",
       "...                ...                     ...    ...                    ...   \n",
       "12365     917_20180509  05/09/2018 12:00:00 AM    100  Routine - Unscheduled   \n",
       "5467    62251_20180608  06/08/2018 12:00:00 AM    100  Routine - Unscheduled   \n",
       "12372   91811_20180205  02/05/2018 12:00:00 AM    100  Routine - Unscheduled   \n",
       "5577    62797_20181025  10/25/2018 12:00:00 AM    100  Routine - Unscheduled   \n",
       "0      100010_20190403  04/03/2019 12:00:00 AM    100  Routine - Unscheduled   \n",
       "\n",
       "       timestamp     bid Missing Score                        name  \\\n",
       "10898 2018-05-22   86718         False                    Lollipot   \n",
       "291   2019-03-27    1154         False        SUNFLOWER RESTAURANT   \n",
       "236   2019-07-01   10877         False            CHINA FIRST INC.   \n",
       "6433  2018-09-14   67237         False                     La Jefa   \n",
       "10285 2018-10-01   84590         False                Chaat Corner   \n",
       "...          ...     ...           ...                         ...   \n",
       "12365 2018-05-09     917         False         Town & Country Club   \n",
       "5467  2018-06-08   62251         False  Mr. and Mrs. Miscellaneous   \n",
       "12372 2018-02-05   91811         False           Smitten Ice Cream   \n",
       "5577  2018-10-25   62797         False                         BHL   \n",
       "0     2019-04-03  100010         False       ILLY CAFFE SF_PIER 39   \n",
       "\n",
       "                                  address  \n",
       "10898                      890 Taraval St  \n",
       "291                       506 Valencia St  \n",
       "236                        336 CLEMENT ST  \n",
       "6433                    445 Bayshore Blvd  \n",
       "10285                          320 3rd St  \n",
       "...                                   ...  \n",
       "12365                     218 Stockton St  \n",
       "5467                          699 22nd St  \n",
       "12372                         121 Capp St  \n",
       "5577   2 Embarcadero Center  Street Level  \n",
       "0                        PIER 39  K-106-B  \n",
       "\n",
       "[14031 rows x 9 columns]"
      ]
     },
     "metadata": {},
     "output_type": "display_data"
    },
    {
     "data": {
      "text/plain": [
       "'Lollipot'"
      ]
     },
     "execution_count": 17,
     "metadata": {},
     "output_type": "execute_result"
    }
   ],
   "source": [
    "display(ins_named.sort_values(by=\"score\"))\n",
    "worst_restaurant = (ins_named.loc[\n",
    "                    ins_named[\"score\"].idxmin()\n",
    "                    ]\n",
    "                    [\"name\"]\n",
    "                   )\n",
    "worst_restaurant"
   ]
  },
  {
   "cell_type": "code",
   "execution_count": 18,
   "metadata": {
    "deletable": false,
    "editable": false
   },
   "outputs": [
    {
     "data": {
      "text/html": [
       "<p><strong><pre style='display: inline;'>q2c</pre></strong> passed! 🌈</p>"
      ],
      "text/plain": [
       "q2c results: All test cases passed!"
      ]
     },
     "execution_count": 18,
     "metadata": {},
     "output_type": "execute_result"
    }
   ],
   "source": [
    "grader.check(\"q2c\")"
   ]
  },
  {
   "cell_type": "markdown",
   "metadata": {
    "deletable": false,
    "editable": false
   },
   "source": [
    "<br/>\n",
    "\n",
    "--- \n",
    "## Question 2d\n",
    "\n",
    "Did this restaurant clean up its act? Look in the database to see if it scored better on its next inspection. Assign `cleaned_up` to `True` or `False`, depending on whether it performed better or not."
   ]
  },
  {
   "cell_type": "code",
   "execution_count": 19,
   "metadata": {
    "tags": []
   },
   "outputs": [
    {
     "data": {
      "text/html": [
       "<div>\n",
       "<style scoped>\n",
       "    .dataframe tbody tr th:only-of-type {\n",
       "        vertical-align: middle;\n",
       "    }\n",
       "\n",
       "    .dataframe tbody tr th {\n",
       "        vertical-align: top;\n",
       "    }\n",
       "\n",
       "    .dataframe thead th {\n",
       "        text-align: right;\n",
       "    }\n",
       "</style>\n",
       "<table border=\"1\" class=\"dataframe\">\n",
       "  <thead>\n",
       "    <tr style=\"text-align: right;\">\n",
       "      <th></th>\n",
       "      <th>iid</th>\n",
       "      <th>date</th>\n",
       "      <th>score</th>\n",
       "      <th>type</th>\n",
       "      <th>timestamp</th>\n",
       "      <th>bid</th>\n",
       "      <th>Missing Score</th>\n",
       "      <th>name</th>\n",
       "      <th>address</th>\n",
       "    </tr>\n",
       "  </thead>\n",
       "  <tbody>\n",
       "    <tr>\n",
       "      <th>10898</th>\n",
       "      <td>86718_20180522</td>\n",
       "      <td>05/22/2018 12:00:00 AM</td>\n",
       "      <td>45</td>\n",
       "      <td>Routine - Unscheduled</td>\n",
       "      <td>2018-05-22</td>\n",
       "      <td>86718</td>\n",
       "      <td>False</td>\n",
       "      <td>Lollipot</td>\n",
       "      <td>890 Taraval St</td>\n",
       "    </tr>\n",
       "    <tr>\n",
       "      <th>10899</th>\n",
       "      <td>86718_20181005</td>\n",
       "      <td>10/05/2018 12:00:00 AM</td>\n",
       "      <td>90</td>\n",
       "      <td>Routine - Unscheduled</td>\n",
       "      <td>2018-10-05</td>\n",
       "      <td>86718</td>\n",
       "      <td>False</td>\n",
       "      <td>Lollipot</td>\n",
       "      <td>890 Taraval St</td>\n",
       "    </tr>\n",
       "    <tr>\n",
       "      <th>10897</th>\n",
       "      <td>86718_20161116</td>\n",
       "      <td>11/16/2016 12:00:00 AM</td>\n",
       "      <td>90</td>\n",
       "      <td>Routine - Unscheduled</td>\n",
       "      <td>2016-11-16</td>\n",
       "      <td>86718</td>\n",
       "      <td>False</td>\n",
       "      <td>Lollipot</td>\n",
       "      <td>890 Taraval St</td>\n",
       "    </tr>\n",
       "  </tbody>\n",
       "</table>\n",
       "</div>"
      ],
      "text/plain": [
       "                  iid                    date  score                   type  \\\n",
       "10898  86718_20180522  05/22/2018 12:00:00 AM     45  Routine - Unscheduled   \n",
       "10899  86718_20181005  10/05/2018 12:00:00 AM     90  Routine - Unscheduled   \n",
       "10897  86718_20161116  11/16/2016 12:00:00 AM     90  Routine - Unscheduled   \n",
       "\n",
       "       timestamp    bid Missing Score      name         address  \n",
       "10898 2018-05-22  86718         False  Lollipot  890 Taraval St  \n",
       "10899 2018-10-05  86718         False  Lollipot  890 Taraval St  \n",
       "10897 2016-11-16  86718         False  Lollipot  890 Taraval St  "
      ]
     },
     "execution_count": 19,
     "metadata": {},
     "output_type": "execute_result"
    }
   ],
   "source": [
    "# SCRATCH WORK\n",
    "ins_named[ins_named[\"name\"] == worst_restaurant].sort_values(by=\"date\")"
   ]
  },
  {
   "cell_type": "code",
   "execution_count": 20,
   "metadata": {
    "tags": []
   },
   "outputs": [],
   "source": [
    "cleaned_up = True\n",
    "# The next inspection on 10/05/2018 showed that they had a score of 90, double their original score"
   ]
  },
  {
   "cell_type": "code",
   "execution_count": 21,
   "metadata": {
    "deletable": false,
    "editable": false
   },
   "outputs": [
    {
     "data": {
      "text/html": [
       "<p><strong><pre style='display: inline;'>q2d</pre></strong> passed! 🚀</p>"
      ],
      "text/plain": [
       "q2d results: All test cases passed!"
      ]
     },
     "execution_count": 21,
     "metadata": {},
     "output_type": "execute_result"
    }
   ],
   "source": [
    "grader.check(\"q2d\")"
   ]
  },
  {
   "cell_type": "markdown",
   "metadata": {},
   "source": [
    "<br/><br/>\n",
    "\n",
    "---\n",
    "# Question 3: Let Them Eat Cake! \n",
    "\n",
    "Now that you've analyzed and found out which restaurants to avoid in SF, we can turn toward the more interesting question of what dessert places are the best! For the purposes of this question, we assume that cake is the best dessert (and rightfully so!)"
   ]
  },
  {
   "cell_type": "markdown",
   "metadata": {
    "deletable": false,
    "editable": false
   },
   "source": [
    "<br/>\n",
    "\n",
    "--- \n",
    "## Question 3a\n",
    "\n",
    "In your quest to find the best cake shop, the first step is to find all the businesses in `ins_named` that **contain the word 'cake'** in their `name`, and assign the resulting `DataFrame` to `cake_shops`. To help you out, we created the `lowercase_name` column so you do not need to worry about checking for capitalized letters when checking if `name` contains `'cake'`.\n",
    "\n",
    "**Hint:** You might find the `.str` accessors useful yet again!"
   ]
  },
  {
   "cell_type": "code",
   "execution_count": 22,
   "metadata": {
    "tags": []
   },
   "outputs": [
    {
     "data": {
      "text/html": [
       "<div>\n",
       "<style scoped>\n",
       "    .dataframe tbody tr th:only-of-type {\n",
       "        vertical-align: middle;\n",
       "    }\n",
       "\n",
       "    .dataframe tbody tr th {\n",
       "        vertical-align: top;\n",
       "    }\n",
       "\n",
       "    .dataframe thead th {\n",
       "        text-align: right;\n",
       "    }\n",
       "</style>\n",
       "<table border=\"1\" class=\"dataframe\">\n",
       "  <thead>\n",
       "    <tr style=\"text-align: right;\">\n",
       "      <th></th>\n",
       "      <th>iid</th>\n",
       "      <th>date</th>\n",
       "      <th>score</th>\n",
       "      <th>type</th>\n",
       "      <th>timestamp</th>\n",
       "      <th>bid</th>\n",
       "      <th>Missing Score</th>\n",
       "      <th>name</th>\n",
       "      <th>address</th>\n",
       "      <th>lowercase_name</th>\n",
       "    </tr>\n",
       "  </thead>\n",
       "  <tbody>\n",
       "    <tr>\n",
       "      <th>1637</th>\n",
       "      <td>26340_20170424</td>\n",
       "      <td>04/24/2017 12:00:00 AM</td>\n",
       "      <td>75</td>\n",
       "      <td>Routine - Unscheduled</td>\n",
       "      <td>2017-04-24</td>\n",
       "      <td>26340</td>\n",
       "      <td>False</td>\n",
       "      <td>VIP Coffee &amp; Cake Shop</td>\n",
       "      <td>671 Broadway St</td>\n",
       "      <td>vip coffee &amp; cake shop</td>\n",
       "    </tr>\n",
       "    <tr>\n",
       "      <th>1638</th>\n",
       "      <td>26340_20180514</td>\n",
       "      <td>05/14/2018 12:00:00 AM</td>\n",
       "      <td>85</td>\n",
       "      <td>Routine - Unscheduled</td>\n",
       "      <td>2018-05-14</td>\n",
       "      <td>26340</td>\n",
       "      <td>False</td>\n",
       "      <td>VIP Coffee &amp; Cake Shop</td>\n",
       "      <td>671 Broadway St</td>\n",
       "      <td>vip coffee &amp; cake shop</td>\n",
       "    </tr>\n",
       "    <tr>\n",
       "      <th>1911</th>\n",
       "      <td>2898_20161103</td>\n",
       "      <td>11/03/2016 12:00:00 AM</td>\n",
       "      <td>94</td>\n",
       "      <td>Routine - Unscheduled</td>\n",
       "      <td>2016-11-03</td>\n",
       "      <td>2898</td>\n",
       "      <td>False</td>\n",
       "      <td>The Cheesecake Factory</td>\n",
       "      <td>251 Geary St, 8th Floor</td>\n",
       "      <td>the cheesecake factory</td>\n",
       "    </tr>\n",
       "    <tr>\n",
       "      <th>1912</th>\n",
       "      <td>2898_20180412</td>\n",
       "      <td>04/12/2018 12:00:00 AM</td>\n",
       "      <td>94</td>\n",
       "      <td>Routine - Unscheduled</td>\n",
       "      <td>2018-04-12</td>\n",
       "      <td>2898</td>\n",
       "      <td>False</td>\n",
       "      <td>The Cheesecake Factory</td>\n",
       "      <td>251 Geary St, 8th Floor</td>\n",
       "      <td>the cheesecake factory</td>\n",
       "    </tr>\n",
       "    <tr>\n",
       "      <th>1913</th>\n",
       "      <td>2898_20190816</td>\n",
       "      <td>08/16/2019 12:00:00 AM</td>\n",
       "      <td>96</td>\n",
       "      <td>Routine - Unscheduled</td>\n",
       "      <td>2019-08-16</td>\n",
       "      <td>2898</td>\n",
       "      <td>False</td>\n",
       "      <td>The Cheesecake Factory</td>\n",
       "      <td>251 Geary St, 8th Floor</td>\n",
       "      <td>the cheesecake factory</td>\n",
       "    </tr>\n",
       "    <tr>\n",
       "      <th>1945</th>\n",
       "      <td>29304_20180112</td>\n",
       "      <td>01/12/2018 12:00:00 AM</td>\n",
       "      <td>92</td>\n",
       "      <td>Routine - Unscheduled</td>\n",
       "      <td>2018-01-12</td>\n",
       "      <td>29304</td>\n",
       "      <td>False</td>\n",
       "      <td>Kara's Cupcakes</td>\n",
       "      <td>3249 SCOTT</td>\n",
       "      <td>kara's cupcakes</td>\n",
       "    </tr>\n",
       "    <tr>\n",
       "      <th>2172</th>\n",
       "      <td>3210_20170110</td>\n",
       "      <td>01/10/2017 12:00:00 AM</td>\n",
       "      <td>96</td>\n",
       "      <td>Routine - Unscheduled</td>\n",
       "      <td>2017-01-10</td>\n",
       "      <td>3210</td>\n",
       "      <td>False</td>\n",
       "      <td>International House of Pancakes</td>\n",
       "      <td>200 Beach St</td>\n",
       "      <td>international house of pancakes</td>\n",
       "    </tr>\n",
       "    <tr>\n",
       "      <th>2173</th>\n",
       "      <td>3210_20170809</td>\n",
       "      <td>08/09/2017 12:00:00 AM</td>\n",
       "      <td>98</td>\n",
       "      <td>Routine - Unscheduled</td>\n",
       "      <td>2017-08-09</td>\n",
       "      <td>3210</td>\n",
       "      <td>False</td>\n",
       "      <td>International House of Pancakes</td>\n",
       "      <td>200 Beach St</td>\n",
       "      <td>international house of pancakes</td>\n",
       "    </tr>\n",
       "    <tr>\n",
       "      <th>2174</th>\n",
       "      <td>3210_20180205</td>\n",
       "      <td>02/05/2018 12:00:00 AM</td>\n",
       "      <td>96</td>\n",
       "      <td>Routine - Unscheduled</td>\n",
       "      <td>2018-02-05</td>\n",
       "      <td>3210</td>\n",
       "      <td>False</td>\n",
       "      <td>International House of Pancakes</td>\n",
       "      <td>200 Beach St</td>\n",
       "      <td>international house of pancakes</td>\n",
       "    </tr>\n",
       "    <tr>\n",
       "      <th>2175</th>\n",
       "      <td>3210_20181106</td>\n",
       "      <td>11/06/2018 12:00:00 AM</td>\n",
       "      <td>98</td>\n",
       "      <td>Routine - Unscheduled</td>\n",
       "      <td>2018-11-06</td>\n",
       "      <td>3210</td>\n",
       "      <td>False</td>\n",
       "      <td>International House of Pancakes</td>\n",
       "      <td>200 Beach St</td>\n",
       "      <td>international house of pancakes</td>\n",
       "    </tr>\n",
       "  </tbody>\n",
       "</table>\n",
       "</div>"
      ],
      "text/plain": [
       "                 iid                    date  score                   type  \\\n",
       "1637  26340_20170424  04/24/2017 12:00:00 AM     75  Routine - Unscheduled   \n",
       "1638  26340_20180514  05/14/2018 12:00:00 AM     85  Routine - Unscheduled   \n",
       "1911   2898_20161103  11/03/2016 12:00:00 AM     94  Routine - Unscheduled   \n",
       "1912   2898_20180412  04/12/2018 12:00:00 AM     94  Routine - Unscheduled   \n",
       "1913   2898_20190816  08/16/2019 12:00:00 AM     96  Routine - Unscheduled   \n",
       "1945  29304_20180112  01/12/2018 12:00:00 AM     92  Routine - Unscheduled   \n",
       "2172   3210_20170110  01/10/2017 12:00:00 AM     96  Routine - Unscheduled   \n",
       "2173   3210_20170809  08/09/2017 12:00:00 AM     98  Routine - Unscheduled   \n",
       "2174   3210_20180205  02/05/2018 12:00:00 AM     96  Routine - Unscheduled   \n",
       "2175   3210_20181106  11/06/2018 12:00:00 AM     98  Routine - Unscheduled   \n",
       "\n",
       "      timestamp    bid Missing Score                             name  \\\n",
       "1637 2017-04-24  26340         False           VIP Coffee & Cake Shop   \n",
       "1638 2018-05-14  26340         False           VIP Coffee & Cake Shop   \n",
       "1911 2016-11-03   2898         False           The Cheesecake Factory   \n",
       "1912 2018-04-12   2898         False           The Cheesecake Factory   \n",
       "1913 2019-08-16   2898         False           The Cheesecake Factory   \n",
       "1945 2018-01-12  29304         False                  Kara's Cupcakes   \n",
       "2172 2017-01-10   3210         False  International House of Pancakes   \n",
       "2173 2017-08-09   3210         False  International House of Pancakes   \n",
       "2174 2018-02-05   3210         False  International House of Pancakes   \n",
       "2175 2018-11-06   3210         False  International House of Pancakes   \n",
       "\n",
       "                      address                   lowercase_name  \n",
       "1637          671 Broadway St           vip coffee & cake shop  \n",
       "1638          671 Broadway St           vip coffee & cake shop  \n",
       "1911  251 Geary St, 8th Floor           the cheesecake factory  \n",
       "1912  251 Geary St, 8th Floor           the cheesecake factory  \n",
       "1913  251 Geary St, 8th Floor           the cheesecake factory  \n",
       "1945               3249 SCOTT                  kara's cupcakes  \n",
       "2172             200 Beach St  international house of pancakes  \n",
       "2173             200 Beach St  international house of pancakes  \n",
       "2174             200 Beach St  international house of pancakes  \n",
       "2175             200 Beach St  international house of pancakes  "
      ]
     },
     "execution_count": 22,
     "metadata": {},
     "output_type": "execute_result"
    }
   ],
   "source": [
    "ins_named['lowercase_name'] = ins_named['name'].str.lower()\n",
    "cake_shops = ins_named[ ins_named[\"lowercase_name\"].str.contains(\"cake\")]\n",
    "cake_shops.head(10)"
   ]
  },
  {
   "cell_type": "code",
   "execution_count": 23,
   "metadata": {
    "deletable": false,
    "editable": false
   },
   "outputs": [
    {
     "data": {
      "text/html": [
       "<p><strong><pre style='display: inline;'>q3a</pre></strong> passed! ✨</p>"
      ],
      "text/plain": [
       "q3a results: All test cases passed!"
      ]
     },
     "execution_count": 23,
     "metadata": {},
     "output_type": "execute_result"
    }
   ],
   "source": [
    "grader.check(\"q3a\")"
   ]
  },
  {
   "cell_type": "markdown",
   "metadata": {
    "deletable": false,
    "editable": false
   },
   "source": [
    "<br/>\n",
    "\n",
    "--- \n",
    "## Question 3b\n",
    "\n",
    "Assign `cake_at_least_3` to a `DataFrame` consisting of only those cake shops that have had at least 3 inspections. Remember, the `bid` uniquely defines a cake shop, not its `name`!"
   ]
  },
  {
   "cell_type": "code",
   "execution_count": 24,
   "metadata": {
    "tags": []
   },
   "outputs": [
    {
     "data": {
      "text/html": [
       "<div>\n",
       "<style scoped>\n",
       "    .dataframe tbody tr th:only-of-type {\n",
       "        vertical-align: middle;\n",
       "    }\n",
       "\n",
       "    .dataframe tbody tr th {\n",
       "        vertical-align: top;\n",
       "    }\n",
       "\n",
       "    .dataframe thead th {\n",
       "        text-align: right;\n",
       "    }\n",
       "</style>\n",
       "<table border=\"1\" class=\"dataframe\">\n",
       "  <thead>\n",
       "    <tr style=\"text-align: right;\">\n",
       "      <th></th>\n",
       "      <th>iid</th>\n",
       "      <th>date</th>\n",
       "      <th>score</th>\n",
       "      <th>type</th>\n",
       "      <th>timestamp</th>\n",
       "      <th>bid</th>\n",
       "      <th>Missing Score</th>\n",
       "      <th>name</th>\n",
       "      <th>address</th>\n",
       "      <th>lowercase_name</th>\n",
       "    </tr>\n",
       "  </thead>\n",
       "  <tbody>\n",
       "    <tr>\n",
       "      <th>1911</th>\n",
       "      <td>2898_20161103</td>\n",
       "      <td>11/03/2016 12:00:00 AM</td>\n",
       "      <td>94</td>\n",
       "      <td>Routine - Unscheduled</td>\n",
       "      <td>2016-11-03</td>\n",
       "      <td>2898</td>\n",
       "      <td>False</td>\n",
       "      <td>The Cheesecake Factory</td>\n",
       "      <td>251 Geary St, 8th Floor</td>\n",
       "      <td>the cheesecake factory</td>\n",
       "    </tr>\n",
       "    <tr>\n",
       "      <th>1912</th>\n",
       "      <td>2898_20180412</td>\n",
       "      <td>04/12/2018 12:00:00 AM</td>\n",
       "      <td>94</td>\n",
       "      <td>Routine - Unscheduled</td>\n",
       "      <td>2018-04-12</td>\n",
       "      <td>2898</td>\n",
       "      <td>False</td>\n",
       "      <td>The Cheesecake Factory</td>\n",
       "      <td>251 Geary St, 8th Floor</td>\n",
       "      <td>the cheesecake factory</td>\n",
       "    </tr>\n",
       "    <tr>\n",
       "      <th>1913</th>\n",
       "      <td>2898_20190816</td>\n",
       "      <td>08/16/2019 12:00:00 AM</td>\n",
       "      <td>96</td>\n",
       "      <td>Routine - Unscheduled</td>\n",
       "      <td>2019-08-16</td>\n",
       "      <td>2898</td>\n",
       "      <td>False</td>\n",
       "      <td>The Cheesecake Factory</td>\n",
       "      <td>251 Geary St, 8th Floor</td>\n",
       "      <td>the cheesecake factory</td>\n",
       "    </tr>\n",
       "    <tr>\n",
       "      <th>2172</th>\n",
       "      <td>3210_20170110</td>\n",
       "      <td>01/10/2017 12:00:00 AM</td>\n",
       "      <td>96</td>\n",
       "      <td>Routine - Unscheduled</td>\n",
       "      <td>2017-01-10</td>\n",
       "      <td>3210</td>\n",
       "      <td>False</td>\n",
       "      <td>International House of Pancakes</td>\n",
       "      <td>200 Beach St</td>\n",
       "      <td>international house of pancakes</td>\n",
       "    </tr>\n",
       "    <tr>\n",
       "      <th>2173</th>\n",
       "      <td>3210_20170809</td>\n",
       "      <td>08/09/2017 12:00:00 AM</td>\n",
       "      <td>98</td>\n",
       "      <td>Routine - Unscheduled</td>\n",
       "      <td>2017-08-09</td>\n",
       "      <td>3210</td>\n",
       "      <td>False</td>\n",
       "      <td>International House of Pancakes</td>\n",
       "      <td>200 Beach St</td>\n",
       "      <td>international house of pancakes</td>\n",
       "    </tr>\n",
       "    <tr>\n",
       "      <th>2174</th>\n",
       "      <td>3210_20180205</td>\n",
       "      <td>02/05/2018 12:00:00 AM</td>\n",
       "      <td>96</td>\n",
       "      <td>Routine - Unscheduled</td>\n",
       "      <td>2018-02-05</td>\n",
       "      <td>3210</td>\n",
       "      <td>False</td>\n",
       "      <td>International House of Pancakes</td>\n",
       "      <td>200 Beach St</td>\n",
       "      <td>international house of pancakes</td>\n",
       "    </tr>\n",
       "    <tr>\n",
       "      <th>2175</th>\n",
       "      <td>3210_20181106</td>\n",
       "      <td>11/06/2018 12:00:00 AM</td>\n",
       "      <td>98</td>\n",
       "      <td>Routine - Unscheduled</td>\n",
       "      <td>2018-11-06</td>\n",
       "      <td>3210</td>\n",
       "      <td>False</td>\n",
       "      <td>International House of Pancakes</td>\n",
       "      <td>200 Beach St</td>\n",
       "      <td>international house of pancakes</td>\n",
       "    </tr>\n",
       "    <tr>\n",
       "      <th>2328</th>\n",
       "      <td>33084_20170815</td>\n",
       "      <td>08/15/2017 12:00:00 AM</td>\n",
       "      <td>96</td>\n",
       "      <td>Routine - Unscheduled</td>\n",
       "      <td>2017-08-15</td>\n",
       "      <td>33084</td>\n",
       "      <td>False</td>\n",
       "      <td>Miette Cakes, LLC</td>\n",
       "      <td>449 Octavia St</td>\n",
       "      <td>miette cakes, llc</td>\n",
       "    </tr>\n",
       "    <tr>\n",
       "      <th>2329</th>\n",
       "      <td>33084_20180411</td>\n",
       "      <td>04/11/2018 12:00:00 AM</td>\n",
       "      <td>94</td>\n",
       "      <td>Routine - Unscheduled</td>\n",
       "      <td>2018-04-11</td>\n",
       "      <td>33084</td>\n",
       "      <td>False</td>\n",
       "      <td>Miette Cakes, LLC</td>\n",
       "      <td>449 Octavia St</td>\n",
       "      <td>miette cakes, llc</td>\n",
       "    </tr>\n",
       "    <tr>\n",
       "      <th>2330</th>\n",
       "      <td>33084_20190102</td>\n",
       "      <td>01/02/2019 12:00:00 AM</td>\n",
       "      <td>90</td>\n",
       "      <td>Routine - Unscheduled</td>\n",
       "      <td>2019-01-02</td>\n",
       "      <td>33084</td>\n",
       "      <td>False</td>\n",
       "      <td>Miette Cakes, LLC</td>\n",
       "      <td>449 Octavia St</td>\n",
       "      <td>miette cakes, llc</td>\n",
       "    </tr>\n",
       "    <tr>\n",
       "      <th>3674</th>\n",
       "      <td>4630_20170304</td>\n",
       "      <td>03/04/2017 12:00:00 AM</td>\n",
       "      <td>96</td>\n",
       "      <td>Routine - Unscheduled</td>\n",
       "      <td>2017-03-04</td>\n",
       "      <td>4630</td>\n",
       "      <td>False</td>\n",
       "      <td>Zanze's Cheesecake</td>\n",
       "      <td>2405 Ocean Ave</td>\n",
       "      <td>zanze's cheesecake</td>\n",
       "    </tr>\n",
       "    <tr>\n",
       "      <th>3675</th>\n",
       "      <td>4630_20180629</td>\n",
       "      <td>06/29/2018 12:00:00 AM</td>\n",
       "      <td>100</td>\n",
       "      <td>Routine - Unscheduled</td>\n",
       "      <td>2018-06-29</td>\n",
       "      <td>4630</td>\n",
       "      <td>False</td>\n",
       "      <td>Zanze's Cheesecake</td>\n",
       "      <td>2405 Ocean Ave</td>\n",
       "      <td>zanze's cheesecake</td>\n",
       "    </tr>\n",
       "    <tr>\n",
       "      <th>3676</th>\n",
       "      <td>4630_20190815</td>\n",
       "      <td>08/15/2019 12:00:00 AM</td>\n",
       "      <td>100</td>\n",
       "      <td>Routine - Unscheduled</td>\n",
       "      <td>2019-08-15</td>\n",
       "      <td>4630</td>\n",
       "      <td>False</td>\n",
       "      <td>Zanze's Cheesecake</td>\n",
       "      <td>2405 Ocean Ave</td>\n",
       "      <td>zanze's cheesecake</td>\n",
       "    </tr>\n",
       "    <tr>\n",
       "      <th>7098</th>\n",
       "      <td>69753_20170508</td>\n",
       "      <td>05/08/2017 12:00:00 AM</td>\n",
       "      <td>98</td>\n",
       "      <td>Routine - Unscheduled</td>\n",
       "      <td>2017-05-08</td>\n",
       "      <td>69753</td>\n",
       "      <td>False</td>\n",
       "      <td>Sift Cupcake &amp; Dessert Bar</td>\n",
       "      <td>2411 California St</td>\n",
       "      <td>sift cupcake &amp; dessert bar</td>\n",
       "    </tr>\n",
       "    <tr>\n",
       "      <th>7099</th>\n",
       "      <td>69753_20180730</td>\n",
       "      <td>07/30/2018 12:00:00 AM</td>\n",
       "      <td>87</td>\n",
       "      <td>Routine - Unscheduled</td>\n",
       "      <td>2018-07-30</td>\n",
       "      <td>69753</td>\n",
       "      <td>False</td>\n",
       "      <td>Sift Cupcake &amp; Dessert Bar</td>\n",
       "      <td>2411 California St</td>\n",
       "      <td>sift cupcake &amp; dessert bar</td>\n",
       "    </tr>\n",
       "    <tr>\n",
       "      <th>7100</th>\n",
       "      <td>69753_20190806</td>\n",
       "      <td>08/06/2019 12:00:00 AM</td>\n",
       "      <td>96</td>\n",
       "      <td>Routine - Unscheduled</td>\n",
       "      <td>2019-08-06</td>\n",
       "      <td>69753</td>\n",
       "      <td>False</td>\n",
       "      <td>Sift Cupcake &amp; Dessert Bar</td>\n",
       "      <td>2411 California St</td>\n",
       "      <td>sift cupcake &amp; dessert bar</td>\n",
       "    </tr>\n",
       "    <tr>\n",
       "      <th>7372</th>\n",
       "      <td>71008_20161205</td>\n",
       "      <td>12/05/2016 12:00:00 AM</td>\n",
       "      <td>83</td>\n",
       "      <td>Routine - Unscheduled</td>\n",
       "      <td>2016-12-05</td>\n",
       "      <td>71008</td>\n",
       "      <td>False</td>\n",
       "      <td>House of Pancakes</td>\n",
       "      <td>937 TARAVAL</td>\n",
       "      <td>house of pancakes</td>\n",
       "    </tr>\n",
       "    <tr>\n",
       "      <th>7373</th>\n",
       "      <td>71008_20180612</td>\n",
       "      <td>06/12/2018 12:00:00 AM</td>\n",
       "      <td>65</td>\n",
       "      <td>Routine - Unscheduled</td>\n",
       "      <td>2018-06-12</td>\n",
       "      <td>71008</td>\n",
       "      <td>False</td>\n",
       "      <td>House of Pancakes</td>\n",
       "      <td>937 TARAVAL</td>\n",
       "      <td>house of pancakes</td>\n",
       "    </tr>\n",
       "    <tr>\n",
       "      <th>7374</th>\n",
       "      <td>71008_20190820</td>\n",
       "      <td>08/20/2019 12:00:00 AM</td>\n",
       "      <td>59</td>\n",
       "      <td>Routine - Unscheduled</td>\n",
       "      <td>2019-08-20</td>\n",
       "      <td>71008</td>\n",
       "      <td>False</td>\n",
       "      <td>House of Pancakes</td>\n",
       "      <td>937 TARAVAL</td>\n",
       "      <td>house of pancakes</td>\n",
       "    </tr>\n",
       "    <tr>\n",
       "      <th>7475</th>\n",
       "      <td>71576_20161220</td>\n",
       "      <td>12/20/2016 12:00:00 AM</td>\n",
       "      <td>89</td>\n",
       "      <td>Routine - Unscheduled</td>\n",
       "      <td>2016-12-20</td>\n",
       "      <td>71576</td>\n",
       "      <td>False</td>\n",
       "      <td>La Luna Cupcakes</td>\n",
       "      <td>50 Post St</td>\n",
       "      <td>la luna cupcakes</td>\n",
       "    </tr>\n",
       "    <tr>\n",
       "      <th>7476</th>\n",
       "      <td>71576_20171215</td>\n",
       "      <td>12/15/2017 12:00:00 AM</td>\n",
       "      <td>92</td>\n",
       "      <td>Routine - Unscheduled</td>\n",
       "      <td>2017-12-15</td>\n",
       "      <td>71576</td>\n",
       "      <td>False</td>\n",
       "      <td>La Luna Cupcakes</td>\n",
       "      <td>50 Post St</td>\n",
       "      <td>la luna cupcakes</td>\n",
       "    </tr>\n",
       "    <tr>\n",
       "      <th>7477</th>\n",
       "      <td>71576_20190517</td>\n",
       "      <td>05/17/2019 12:00:00 AM</td>\n",
       "      <td>92</td>\n",
       "      <td>Routine - Unscheduled</td>\n",
       "      <td>2019-05-17</td>\n",
       "      <td>71576</td>\n",
       "      <td>False</td>\n",
       "      <td>La Luna Cupcakes</td>\n",
       "      <td>50 Post St</td>\n",
       "      <td>la luna cupcakes</td>\n",
       "    </tr>\n",
       "    <tr>\n",
       "      <th>8507</th>\n",
       "      <td>7757_20170131</td>\n",
       "      <td>01/31/2017 12:00:00 AM</td>\n",
       "      <td>92</td>\n",
       "      <td>Routine - Unscheduled</td>\n",
       "      <td>2017-01-31</td>\n",
       "      <td>7757</td>\n",
       "      <td>False</td>\n",
       "      <td>CAKE GALLERY</td>\n",
       "      <td>290 09th St</td>\n",
       "      <td>cake gallery</td>\n",
       "    </tr>\n",
       "    <tr>\n",
       "      <th>8508</th>\n",
       "      <td>7757_20180213</td>\n",
       "      <td>02/13/2018 12:00:00 AM</td>\n",
       "      <td>93</td>\n",
       "      <td>Routine - Unscheduled</td>\n",
       "      <td>2018-02-13</td>\n",
       "      <td>7757</td>\n",
       "      <td>False</td>\n",
       "      <td>CAKE GALLERY</td>\n",
       "      <td>290 09th St</td>\n",
       "      <td>cake gallery</td>\n",
       "    </tr>\n",
       "    <tr>\n",
       "      <th>8509</th>\n",
       "      <td>7757_20181119</td>\n",
       "      <td>11/19/2018 12:00:00 AM</td>\n",
       "      <td>86</td>\n",
       "      <td>Routine - Unscheduled</td>\n",
       "      <td>2018-11-19</td>\n",
       "      <td>7757</td>\n",
       "      <td>False</td>\n",
       "      <td>CAKE GALLERY</td>\n",
       "      <td>290 09th St</td>\n",
       "      <td>cake gallery</td>\n",
       "    </tr>\n",
       "    <tr>\n",
       "      <th>8510</th>\n",
       "      <td>7757_20190829</td>\n",
       "      <td>08/29/2019 12:00:00 AM</td>\n",
       "      <td>94</td>\n",
       "      <td>Routine - Unscheduled</td>\n",
       "      <td>2019-08-29</td>\n",
       "      <td>7757</td>\n",
       "      <td>False</td>\n",
       "      <td>CAKE GALLERY</td>\n",
       "      <td>290 09th St</td>\n",
       "      <td>cake gallery</td>\n",
       "    </tr>\n",
       "    <tr>\n",
       "      <th>8518</th>\n",
       "      <td>7761_20170523</td>\n",
       "      <td>05/23/2017 12:00:00 AM</td>\n",
       "      <td>86</td>\n",
       "      <td>Routine - Unscheduled</td>\n",
       "      <td>2017-05-23</td>\n",
       "      <td>7761</td>\n",
       "      <td>False</td>\n",
       "      <td>LELENITA'S CAKES</td>\n",
       "      <td>3743 MISSION St</td>\n",
       "      <td>lelenita's cakes</td>\n",
       "    </tr>\n",
       "    <tr>\n",
       "      <th>8519</th>\n",
       "      <td>7761_20180103</td>\n",
       "      <td>01/03/2018 12:00:00 AM</td>\n",
       "      <td>90</td>\n",
       "      <td>Routine - Unscheduled</td>\n",
       "      <td>2018-01-03</td>\n",
       "      <td>7761</td>\n",
       "      <td>False</td>\n",
       "      <td>LELENITA'S CAKES</td>\n",
       "      <td>3743 MISSION St</td>\n",
       "      <td>lelenita's cakes</td>\n",
       "    </tr>\n",
       "    <tr>\n",
       "      <th>8520</th>\n",
       "      <td>7761_20190319</td>\n",
       "      <td>03/19/2019 12:00:00 AM</td>\n",
       "      <td>92</td>\n",
       "      <td>Routine - Unscheduled</td>\n",
       "      <td>2019-03-19</td>\n",
       "      <td>7761</td>\n",
       "      <td>False</td>\n",
       "      <td>LELENITA'S CAKES</td>\n",
       "      <td>3743 MISSION St</td>\n",
       "      <td>lelenita's cakes</td>\n",
       "    </tr>\n",
       "    <tr>\n",
       "      <th>8546</th>\n",
       "      <td>7768_20170303</td>\n",
       "      <td>03/03/2017 12:00:00 AM</td>\n",
       "      <td>100</td>\n",
       "      <td>Routine - Unscheduled</td>\n",
       "      <td>2017-03-03</td>\n",
       "      <td>7768</td>\n",
       "      <td>False</td>\n",
       "      <td>THE CAKEMAKER</td>\n",
       "      <td>509 LAGUNA St</td>\n",
       "      <td>the cakemaker</td>\n",
       "    </tr>\n",
       "    <tr>\n",
       "      <th>8547</th>\n",
       "      <td>7768_20180705</td>\n",
       "      <td>07/05/2018 12:00:00 AM</td>\n",
       "      <td>100</td>\n",
       "      <td>Routine - Unscheduled</td>\n",
       "      <td>2018-07-05</td>\n",
       "      <td>7768</td>\n",
       "      <td>False</td>\n",
       "      <td>THE CAKEMAKER</td>\n",
       "      <td>509 LAGUNA St</td>\n",
       "      <td>the cakemaker</td>\n",
       "    </tr>\n",
       "    <tr>\n",
       "      <th>8548</th>\n",
       "      <td>7768_20190802</td>\n",
       "      <td>08/02/2019 12:00:00 AM</td>\n",
       "      <td>90</td>\n",
       "      <td>Routine - Unscheduled</td>\n",
       "      <td>2019-08-02</td>\n",
       "      <td>7768</td>\n",
       "      <td>False</td>\n",
       "      <td>THE CAKEMAKER</td>\n",
       "      <td>509 LAGUNA St</td>\n",
       "      <td>the cakemaker</td>\n",
       "    </tr>\n",
       "    <tr>\n",
       "      <th>11313</th>\n",
       "      <td>88380_20170927</td>\n",
       "      <td>09/27/2017 12:00:00 AM</td>\n",
       "      <td>98</td>\n",
       "      <td>Routine - Unscheduled</td>\n",
       "      <td>2017-09-27</td>\n",
       "      <td>88380</td>\n",
       "      <td>False</td>\n",
       "      <td>SusieCakes Holdings, Inc.</td>\n",
       "      <td>2109 Chestnut St</td>\n",
       "      <td>susiecakes holdings, inc.</td>\n",
       "    </tr>\n",
       "    <tr>\n",
       "      <th>11314</th>\n",
       "      <td>88380_20180314</td>\n",
       "      <td>03/14/2018 12:00:00 AM</td>\n",
       "      <td>100</td>\n",
       "      <td>Routine - Unscheduled</td>\n",
       "      <td>2018-03-14</td>\n",
       "      <td>88380</td>\n",
       "      <td>False</td>\n",
       "      <td>SusieCakes Holdings, Inc.</td>\n",
       "      <td>2109 Chestnut St</td>\n",
       "      <td>susiecakes holdings, inc.</td>\n",
       "    </tr>\n",
       "    <tr>\n",
       "      <th>11315</th>\n",
       "      <td>88380_20190515</td>\n",
       "      <td>05/15/2019 12:00:00 AM</td>\n",
       "      <td>100</td>\n",
       "      <td>Routine - Unscheduled</td>\n",
       "      <td>2019-05-15</td>\n",
       "      <td>88380</td>\n",
       "      <td>False</td>\n",
       "      <td>SusieCakes Holdings, Inc.</td>\n",
       "      <td>2109 Chestnut St</td>\n",
       "      <td>susiecakes holdings, inc.</td>\n",
       "    </tr>\n",
       "  </tbody>\n",
       "</table>\n",
       "</div>"
      ],
      "text/plain": [
       "                  iid                    date  score                   type  \\\n",
       "1911    2898_20161103  11/03/2016 12:00:00 AM     94  Routine - Unscheduled   \n",
       "1912    2898_20180412  04/12/2018 12:00:00 AM     94  Routine - Unscheduled   \n",
       "1913    2898_20190816  08/16/2019 12:00:00 AM     96  Routine - Unscheduled   \n",
       "2172    3210_20170110  01/10/2017 12:00:00 AM     96  Routine - Unscheduled   \n",
       "2173    3210_20170809  08/09/2017 12:00:00 AM     98  Routine - Unscheduled   \n",
       "2174    3210_20180205  02/05/2018 12:00:00 AM     96  Routine - Unscheduled   \n",
       "2175    3210_20181106  11/06/2018 12:00:00 AM     98  Routine - Unscheduled   \n",
       "2328   33084_20170815  08/15/2017 12:00:00 AM     96  Routine - Unscheduled   \n",
       "2329   33084_20180411  04/11/2018 12:00:00 AM     94  Routine - Unscheduled   \n",
       "2330   33084_20190102  01/02/2019 12:00:00 AM     90  Routine - Unscheduled   \n",
       "3674    4630_20170304  03/04/2017 12:00:00 AM     96  Routine - Unscheduled   \n",
       "3675    4630_20180629  06/29/2018 12:00:00 AM    100  Routine - Unscheduled   \n",
       "3676    4630_20190815  08/15/2019 12:00:00 AM    100  Routine - Unscheduled   \n",
       "7098   69753_20170508  05/08/2017 12:00:00 AM     98  Routine - Unscheduled   \n",
       "7099   69753_20180730  07/30/2018 12:00:00 AM     87  Routine - Unscheduled   \n",
       "7100   69753_20190806  08/06/2019 12:00:00 AM     96  Routine - Unscheduled   \n",
       "7372   71008_20161205  12/05/2016 12:00:00 AM     83  Routine - Unscheduled   \n",
       "7373   71008_20180612  06/12/2018 12:00:00 AM     65  Routine - Unscheduled   \n",
       "7374   71008_20190820  08/20/2019 12:00:00 AM     59  Routine - Unscheduled   \n",
       "7475   71576_20161220  12/20/2016 12:00:00 AM     89  Routine - Unscheduled   \n",
       "7476   71576_20171215  12/15/2017 12:00:00 AM     92  Routine - Unscheduled   \n",
       "7477   71576_20190517  05/17/2019 12:00:00 AM     92  Routine - Unscheduled   \n",
       "8507    7757_20170131  01/31/2017 12:00:00 AM     92  Routine - Unscheduled   \n",
       "8508    7757_20180213  02/13/2018 12:00:00 AM     93  Routine - Unscheduled   \n",
       "8509    7757_20181119  11/19/2018 12:00:00 AM     86  Routine - Unscheduled   \n",
       "8510    7757_20190829  08/29/2019 12:00:00 AM     94  Routine - Unscheduled   \n",
       "8518    7761_20170523  05/23/2017 12:00:00 AM     86  Routine - Unscheduled   \n",
       "8519    7761_20180103  01/03/2018 12:00:00 AM     90  Routine - Unscheduled   \n",
       "8520    7761_20190319  03/19/2019 12:00:00 AM     92  Routine - Unscheduled   \n",
       "8546    7768_20170303  03/03/2017 12:00:00 AM    100  Routine - Unscheduled   \n",
       "8547    7768_20180705  07/05/2018 12:00:00 AM    100  Routine - Unscheduled   \n",
       "8548    7768_20190802  08/02/2019 12:00:00 AM     90  Routine - Unscheduled   \n",
       "11313  88380_20170927  09/27/2017 12:00:00 AM     98  Routine - Unscheduled   \n",
       "11314  88380_20180314  03/14/2018 12:00:00 AM    100  Routine - Unscheduled   \n",
       "11315  88380_20190515  05/15/2019 12:00:00 AM    100  Routine - Unscheduled   \n",
       "\n",
       "       timestamp    bid Missing Score                             name  \\\n",
       "1911  2016-11-03   2898         False           The Cheesecake Factory   \n",
       "1912  2018-04-12   2898         False           The Cheesecake Factory   \n",
       "1913  2019-08-16   2898         False           The Cheesecake Factory   \n",
       "2172  2017-01-10   3210         False  International House of Pancakes   \n",
       "2173  2017-08-09   3210         False  International House of Pancakes   \n",
       "2174  2018-02-05   3210         False  International House of Pancakes   \n",
       "2175  2018-11-06   3210         False  International House of Pancakes   \n",
       "2328  2017-08-15  33084         False                Miette Cakes, LLC   \n",
       "2329  2018-04-11  33084         False                Miette Cakes, LLC   \n",
       "2330  2019-01-02  33084         False                Miette Cakes, LLC   \n",
       "3674  2017-03-04   4630         False               Zanze's Cheesecake   \n",
       "3675  2018-06-29   4630         False               Zanze's Cheesecake   \n",
       "3676  2019-08-15   4630         False               Zanze's Cheesecake   \n",
       "7098  2017-05-08  69753         False       Sift Cupcake & Dessert Bar   \n",
       "7099  2018-07-30  69753         False       Sift Cupcake & Dessert Bar   \n",
       "7100  2019-08-06  69753         False       Sift Cupcake & Dessert Bar   \n",
       "7372  2016-12-05  71008         False                House of Pancakes   \n",
       "7373  2018-06-12  71008         False                House of Pancakes   \n",
       "7374  2019-08-20  71008         False                House of Pancakes   \n",
       "7475  2016-12-20  71576         False                 La Luna Cupcakes   \n",
       "7476  2017-12-15  71576         False                 La Luna Cupcakes   \n",
       "7477  2019-05-17  71576         False                 La Luna Cupcakes   \n",
       "8507  2017-01-31   7757         False                     CAKE GALLERY   \n",
       "8508  2018-02-13   7757         False                     CAKE GALLERY   \n",
       "8509  2018-11-19   7757         False                     CAKE GALLERY   \n",
       "8510  2019-08-29   7757         False                     CAKE GALLERY   \n",
       "8518  2017-05-23   7761         False                 LELENITA'S CAKES   \n",
       "8519  2018-01-03   7761         False                 LELENITA'S CAKES   \n",
       "8520  2019-03-19   7761         False                 LELENITA'S CAKES   \n",
       "8546  2017-03-03   7768         False                    THE CAKEMAKER   \n",
       "8547  2018-07-05   7768         False                    THE CAKEMAKER   \n",
       "8548  2019-08-02   7768         False                    THE CAKEMAKER   \n",
       "11313 2017-09-27  88380         False        SusieCakes Holdings, Inc.   \n",
       "11314 2018-03-14  88380         False        SusieCakes Holdings, Inc.   \n",
       "11315 2019-05-15  88380         False        SusieCakes Holdings, Inc.   \n",
       "\n",
       "                       address                   lowercase_name  \n",
       "1911   251 Geary St, 8th Floor           the cheesecake factory  \n",
       "1912   251 Geary St, 8th Floor           the cheesecake factory  \n",
       "1913   251 Geary St, 8th Floor           the cheesecake factory  \n",
       "2172              200 Beach St  international house of pancakes  \n",
       "2173              200 Beach St  international house of pancakes  \n",
       "2174              200 Beach St  international house of pancakes  \n",
       "2175              200 Beach St  international house of pancakes  \n",
       "2328            449 Octavia St                miette cakes, llc  \n",
       "2329            449 Octavia St                miette cakes, llc  \n",
       "2330            449 Octavia St                miette cakes, llc  \n",
       "3674            2405 Ocean Ave               zanze's cheesecake  \n",
       "3675            2405 Ocean Ave               zanze's cheesecake  \n",
       "3676            2405 Ocean Ave               zanze's cheesecake  \n",
       "7098        2411 California St       sift cupcake & dessert bar  \n",
       "7099        2411 California St       sift cupcake & dessert bar  \n",
       "7100        2411 California St       sift cupcake & dessert bar  \n",
       "7372               937 TARAVAL                house of pancakes  \n",
       "7373               937 TARAVAL                house of pancakes  \n",
       "7374               937 TARAVAL                house of pancakes  \n",
       "7475                50 Post St                 la luna cupcakes  \n",
       "7476                50 Post St                 la luna cupcakes  \n",
       "7477                50 Post St                 la luna cupcakes  \n",
       "8507               290 09th St                     cake gallery  \n",
       "8508               290 09th St                     cake gallery  \n",
       "8509               290 09th St                     cake gallery  \n",
       "8510               290 09th St                     cake gallery  \n",
       "8518           3743 MISSION St                 lelenita's cakes  \n",
       "8519           3743 MISSION St                 lelenita's cakes  \n",
       "8520           3743 MISSION St                 lelenita's cakes  \n",
       "8546             509 LAGUNA St                    the cakemaker  \n",
       "8547             509 LAGUNA St                    the cakemaker  \n",
       "8548             509 LAGUNA St                    the cakemaker  \n",
       "11313         2109 Chestnut St        susiecakes holdings, inc.  \n",
       "11314         2109 Chestnut St        susiecakes holdings, inc.  \n",
       "11315         2109 Chestnut St        susiecakes holdings, inc.  "
      ]
     },
     "execution_count": 24,
     "metadata": {},
     "output_type": "execute_result"
    }
   ],
   "source": [
    "# cake_shops_bid = cake_shops[\"bid\"].value_counts()\n",
    "# cake_at_least_3_boolean_series = cake_shops_bid[cake_shops_bid >= 3].reset_index()\n",
    "# bids_at_least_3 = cake_at_least_3_boolean_series[\"bid\"]\n",
    "# cake_at_least_3 = cake_shops[ cake_shops[\"bid\"].isin(bids_at_least_3) ]\n",
    "\n",
    "cake_at_least_3 = cake_shops.groupby(\"bid\").filter(lambda x: len(x) >= 3)\n",
    "\n",
    "cake_at_least_3"
   ]
  },
  {
   "cell_type": "code",
   "execution_count": 25,
   "metadata": {
    "deletable": false,
    "editable": false
   },
   "outputs": [
    {
     "data": {
      "text/html": [
       "<p><strong><pre style='display: inline;'>q3b</pre></strong> passed! 🌈</p>"
      ],
      "text/plain": [
       "q3b results: All test cases passed!"
      ]
     },
     "execution_count": 25,
     "metadata": {},
     "output_type": "execute_result"
    }
   ],
   "source": [
    "grader.check(\"q3b\")"
   ]
  },
  {
   "cell_type": "markdown",
   "metadata": {
    "deletable": false,
    "editable": false
   },
   "source": [
    "<!-- BEGIN QUESTION -->\n",
    "\n",
    "<br/>\n",
    "\n",
    "---\n",
    "## Question 3c\n",
    "\n",
    "In the cell below, run the following line of code: `q3c_df = cake_at_least_3.sort_values('timestamp').groupby('bid').agg('first')`\n",
    "\n",
    "Is the granularity of `cake_at_least_3` the same as the granularity of `q3c_df`? In other words, what does a single row of `q3c_df` represent, and what does a single row in `cake_at_least_3` represent? Explain the granularity of each `DataFrame`. Your answer does not need to be more than 2-3 lines, but you should be specific. \n",
    "\n",
    "**Note**: For more details on what the granularity of a `DataFrame` means, feel free to check [Section 5.2.1](https://ds100.org/course-notes/eda/eda.html#granularity) in the course notes! "
   ]
  },
  {
   "cell_type": "code",
   "execution_count": 26,
   "metadata": {
    "deletable": false,
    "editable": false
   },
   "outputs": [
    {
     "data": {
      "text/html": [
       "<div>\n",
       "<style scoped>\n",
       "    .dataframe tbody tr th:only-of-type {\n",
       "        vertical-align: middle;\n",
       "    }\n",
       "\n",
       "    .dataframe tbody tr th {\n",
       "        vertical-align: top;\n",
       "    }\n",
       "\n",
       "    .dataframe thead th {\n",
       "        text-align: right;\n",
       "    }\n",
       "</style>\n",
       "<table border=\"1\" class=\"dataframe\">\n",
       "  <thead>\n",
       "    <tr style=\"text-align: right;\">\n",
       "      <th></th>\n",
       "      <th>iid</th>\n",
       "      <th>date</th>\n",
       "      <th>score</th>\n",
       "      <th>type</th>\n",
       "      <th>timestamp</th>\n",
       "      <th>Missing Score</th>\n",
       "      <th>name</th>\n",
       "      <th>address</th>\n",
       "      <th>lowercase_name</th>\n",
       "    </tr>\n",
       "    <tr>\n",
       "      <th>bid</th>\n",
       "      <th></th>\n",
       "      <th></th>\n",
       "      <th></th>\n",
       "      <th></th>\n",
       "      <th></th>\n",
       "      <th></th>\n",
       "      <th></th>\n",
       "      <th></th>\n",
       "      <th></th>\n",
       "    </tr>\n",
       "  </thead>\n",
       "  <tbody>\n",
       "    <tr>\n",
       "      <th>2898</th>\n",
       "      <td>2898_20161103</td>\n",
       "      <td>11/03/2016 12:00:00 AM</td>\n",
       "      <td>94</td>\n",
       "      <td>Routine - Unscheduled</td>\n",
       "      <td>2016-11-03</td>\n",
       "      <td>False</td>\n",
       "      <td>The Cheesecake Factory</td>\n",
       "      <td>251 Geary St, 8th Floor</td>\n",
       "      <td>the cheesecake factory</td>\n",
       "    </tr>\n",
       "    <tr>\n",
       "      <th>3210</th>\n",
       "      <td>3210_20170110</td>\n",
       "      <td>01/10/2017 12:00:00 AM</td>\n",
       "      <td>96</td>\n",
       "      <td>Routine - Unscheduled</td>\n",
       "      <td>2017-01-10</td>\n",
       "      <td>False</td>\n",
       "      <td>International House of Pancakes</td>\n",
       "      <td>200 Beach St</td>\n",
       "      <td>international house of pancakes</td>\n",
       "    </tr>\n",
       "    <tr>\n",
       "      <th>4630</th>\n",
       "      <td>4630_20170304</td>\n",
       "      <td>03/04/2017 12:00:00 AM</td>\n",
       "      <td>96</td>\n",
       "      <td>Routine - Unscheduled</td>\n",
       "      <td>2017-03-04</td>\n",
       "      <td>False</td>\n",
       "      <td>Zanze's Cheesecake</td>\n",
       "      <td>2405 Ocean Ave</td>\n",
       "      <td>zanze's cheesecake</td>\n",
       "    </tr>\n",
       "    <tr>\n",
       "      <th>7757</th>\n",
       "      <td>7757_20170131</td>\n",
       "      <td>01/31/2017 12:00:00 AM</td>\n",
       "      <td>92</td>\n",
       "      <td>Routine - Unscheduled</td>\n",
       "      <td>2017-01-31</td>\n",
       "      <td>False</td>\n",
       "      <td>CAKE GALLERY</td>\n",
       "      <td>290 09th St</td>\n",
       "      <td>cake gallery</td>\n",
       "    </tr>\n",
       "    <tr>\n",
       "      <th>7761</th>\n",
       "      <td>7761_20170523</td>\n",
       "      <td>05/23/2017 12:00:00 AM</td>\n",
       "      <td>86</td>\n",
       "      <td>Routine - Unscheduled</td>\n",
       "      <td>2017-05-23</td>\n",
       "      <td>False</td>\n",
       "      <td>LELENITA'S CAKES</td>\n",
       "      <td>3743 MISSION St</td>\n",
       "      <td>lelenita's cakes</td>\n",
       "    </tr>\n",
       "  </tbody>\n",
       "</table>\n",
       "</div>"
      ],
      "text/plain": [
       "                iid                    date  score                   type  \\\n",
       "bid                                                                         \n",
       "2898  2898_20161103  11/03/2016 12:00:00 AM     94  Routine - Unscheduled   \n",
       "3210  3210_20170110  01/10/2017 12:00:00 AM     96  Routine - Unscheduled   \n",
       "4630  4630_20170304  03/04/2017 12:00:00 AM     96  Routine - Unscheduled   \n",
       "7757  7757_20170131  01/31/2017 12:00:00 AM     92  Routine - Unscheduled   \n",
       "7761  7761_20170523  05/23/2017 12:00:00 AM     86  Routine - Unscheduled   \n",
       "\n",
       "      timestamp Missing Score                             name  \\\n",
       "bid                                                              \n",
       "2898 2016-11-03         False           The Cheesecake Factory   \n",
       "3210 2017-01-10         False  International House of Pancakes   \n",
       "4630 2017-03-04         False               Zanze's Cheesecake   \n",
       "7757 2017-01-31         False                     CAKE GALLERY   \n",
       "7761 2017-05-23         False                 LELENITA'S CAKES   \n",
       "\n",
       "                      address                   lowercase_name  \n",
       "bid                                                             \n",
       "2898  251 Geary St, 8th Floor           the cheesecake factory  \n",
       "3210             200 Beach St  international house of pancakes  \n",
       "4630           2405 Ocean Ave               zanze's cheesecake  \n",
       "7757              290 09th St                     cake gallery  \n",
       "7761          3743 MISSION St                 lelenita's cakes  "
      ]
     },
     "execution_count": 26,
     "metadata": {},
     "output_type": "execute_result"
    }
   ],
   "source": [
    "q3c_df = cake_at_least_3.sort_values('timestamp').groupby('bid').agg('first')\n",
    "q3c_df.head()"
   ]
  },
  {
   "cell_type": "markdown",
   "metadata": {},
   "source": [
    "The granularity of `cake_at_least_3` is not the same as `q3c_df`. `cake_at_least_3` contains information from every single inspection for cake shops that had at least 3 total inspections in the whole dataset. Meanwhile, `q3c_df` only contains the data from the very first inspection of cake shops that have had at least 3 total inspections. The data in `q3c_df` is thus contained in `cake_at_least_3`, while `cake_at_least_3` contains additional data (the two or more additional inspections performed for the same cake shop)"
   ]
  },
  {
   "cell_type": "markdown",
   "metadata": {
    "deletable": false,
    "editable": false
   },
   "source": [
    "<!-- END QUESTION -->\n",
    "\n",
    "<br/>\n",
    "\n",
    "---\n",
    "## Question 3d"
   ]
  },
  {
   "cell_type": "markdown",
   "metadata": {
    "deletable": false,
    "editable": false
   },
   "source": [
    "Rather than the inspection scores, you find that the number of vowels present in the business `name` is a better indicator of how good the cake is when it comes to the shops in `cake_at_least_3`. Using the helper function `count_vowels` we have defined for you, sort all the cake shops in `cake_at_least_3` based on the number of vowels in the business's name in descending order. Then, return a **Python `list`** consisting of the top 2 **uniquely named** cake shops using this sorted `DataFrame`. You should break ties using alphabetical ordering. You do not need to stick to the skeleton code provided, but you are **not allowed to do not add any new columns!**\n",
    "\n",
    "This is pretty challenging, but rest assured, the price of knowing the best cake shops is well worth it! \n",
    "\n",
    "**Hint**: When working on this problem, it might be helpful to check out [Section 4.1](https://ds100.org/course-notes/pandas_3/pandas_3.html) in the course notes which touches on custom sorts! "
   ]
  },
  {
   "cell_type": "code",
   "execution_count": 27,
   "metadata": {
    "deletable": false,
    "editable": false
   },
   "outputs": [],
   "source": [
    "def count_vowels(name):\n",
    "    vowels = 'aeiouAEIOU'\n",
    "    count = 0\n",
    "    return sum([letter in vowels for letter in name])"
   ]
  },
  {
   "cell_type": "code",
   "execution_count": 28,
   "metadata": {},
   "outputs": [],
   "source": [
    "def count_vowels_series(series):\n",
    "    return series.map(count_vowels)"
   ]
  },
  {
   "cell_type": "code",
   "execution_count": 29,
   "metadata": {
    "tags": []
   },
   "outputs": [
    {
     "data": {
      "text/html": [
       "<div>\n",
       "<style scoped>\n",
       "    .dataframe tbody tr th:only-of-type {\n",
       "        vertical-align: middle;\n",
       "    }\n",
       "\n",
       "    .dataframe tbody tr th {\n",
       "        vertical-align: top;\n",
       "    }\n",
       "\n",
       "    .dataframe thead th {\n",
       "        text-align: right;\n",
       "    }\n",
       "</style>\n",
       "<table border=\"1\" class=\"dataframe\">\n",
       "  <thead>\n",
       "    <tr style=\"text-align: right;\">\n",
       "      <th></th>\n",
       "      <th>iid</th>\n",
       "      <th>date</th>\n",
       "      <th>score</th>\n",
       "      <th>type</th>\n",
       "      <th>timestamp</th>\n",
       "      <th>bid</th>\n",
       "      <th>Missing Score</th>\n",
       "      <th>name</th>\n",
       "      <th>address</th>\n",
       "      <th>lowercase_name</th>\n",
       "    </tr>\n",
       "  </thead>\n",
       "  <tbody>\n",
       "    <tr>\n",
       "      <th>2172</th>\n",
       "      <td>3210_20170110</td>\n",
       "      <td>01/10/2017 12:00:00 AM</td>\n",
       "      <td>96</td>\n",
       "      <td>Routine - Unscheduled</td>\n",
       "      <td>2017-01-10</td>\n",
       "      <td>3210</td>\n",
       "      <td>False</td>\n",
       "      <td>International House of Pancakes</td>\n",
       "      <td>200 Beach St</td>\n",
       "      <td>international house of pancakes</td>\n",
       "    </tr>\n",
       "    <tr>\n",
       "      <th>1911</th>\n",
       "      <td>2898_20161103</td>\n",
       "      <td>11/03/2016 12:00:00 AM</td>\n",
       "      <td>94</td>\n",
       "      <td>Routine - Unscheduled</td>\n",
       "      <td>2016-11-03</td>\n",
       "      <td>2898</td>\n",
       "      <td>False</td>\n",
       "      <td>The Cheesecake Factory</td>\n",
       "      <td>251 Geary St, 8th Floor</td>\n",
       "      <td>the cheesecake factory</td>\n",
       "    </tr>\n",
       "    <tr>\n",
       "      <th>11313</th>\n",
       "      <td>88380_20170927</td>\n",
       "      <td>09/27/2017 12:00:00 AM</td>\n",
       "      <td>98</td>\n",
       "      <td>Routine - Unscheduled</td>\n",
       "      <td>2017-09-27</td>\n",
       "      <td>88380</td>\n",
       "      <td>False</td>\n",
       "      <td>SusieCakes Holdings, Inc.</td>\n",
       "      <td>2109 Chestnut St</td>\n",
       "      <td>susiecakes holdings, inc.</td>\n",
       "    </tr>\n",
       "    <tr>\n",
       "      <th>3674</th>\n",
       "      <td>4630_20170304</td>\n",
       "      <td>03/04/2017 12:00:00 AM</td>\n",
       "      <td>96</td>\n",
       "      <td>Routine - Unscheduled</td>\n",
       "      <td>2017-03-04</td>\n",
       "      <td>4630</td>\n",
       "      <td>False</td>\n",
       "      <td>Zanze's Cheesecake</td>\n",
       "      <td>2405 Ocean Ave</td>\n",
       "      <td>zanze's cheesecake</td>\n",
       "    </tr>\n",
       "    <tr>\n",
       "      <th>7098</th>\n",
       "      <td>69753_20170508</td>\n",
       "      <td>05/08/2017 12:00:00 AM</td>\n",
       "      <td>98</td>\n",
       "      <td>Routine - Unscheduled</td>\n",
       "      <td>2017-05-08</td>\n",
       "      <td>69753</td>\n",
       "      <td>False</td>\n",
       "      <td>Sift Cupcake &amp; Dessert Bar</td>\n",
       "      <td>2411 California St</td>\n",
       "      <td>sift cupcake &amp; dessert bar</td>\n",
       "    </tr>\n",
       "    <tr>\n",
       "      <th>7372</th>\n",
       "      <td>71008_20161205</td>\n",
       "      <td>12/05/2016 12:00:00 AM</td>\n",
       "      <td>83</td>\n",
       "      <td>Routine - Unscheduled</td>\n",
       "      <td>2016-12-05</td>\n",
       "      <td>71008</td>\n",
       "      <td>False</td>\n",
       "      <td>House of Pancakes</td>\n",
       "      <td>937 TARAVAL</td>\n",
       "      <td>house of pancakes</td>\n",
       "    </tr>\n",
       "    <tr>\n",
       "      <th>7475</th>\n",
       "      <td>71576_20161220</td>\n",
       "      <td>12/20/2016 12:00:00 AM</td>\n",
       "      <td>89</td>\n",
       "      <td>Routine - Unscheduled</td>\n",
       "      <td>2016-12-20</td>\n",
       "      <td>71576</td>\n",
       "      <td>False</td>\n",
       "      <td>La Luna Cupcakes</td>\n",
       "      <td>50 Post St</td>\n",
       "      <td>la luna cupcakes</td>\n",
       "    </tr>\n",
       "    <tr>\n",
       "      <th>8518</th>\n",
       "      <td>7761_20170523</td>\n",
       "      <td>05/23/2017 12:00:00 AM</td>\n",
       "      <td>86</td>\n",
       "      <td>Routine - Unscheduled</td>\n",
       "      <td>2017-05-23</td>\n",
       "      <td>7761</td>\n",
       "      <td>False</td>\n",
       "      <td>LELENITA'S CAKES</td>\n",
       "      <td>3743 MISSION St</td>\n",
       "      <td>lelenita's cakes</td>\n",
       "    </tr>\n",
       "    <tr>\n",
       "      <th>2328</th>\n",
       "      <td>33084_20170815</td>\n",
       "      <td>08/15/2017 12:00:00 AM</td>\n",
       "      <td>96</td>\n",
       "      <td>Routine - Unscheduled</td>\n",
       "      <td>2017-08-15</td>\n",
       "      <td>33084</td>\n",
       "      <td>False</td>\n",
       "      <td>Miette Cakes, LLC</td>\n",
       "      <td>449 Octavia St</td>\n",
       "      <td>miette cakes, llc</td>\n",
       "    </tr>\n",
       "    <tr>\n",
       "      <th>8546</th>\n",
       "      <td>7768_20170303</td>\n",
       "      <td>03/03/2017 12:00:00 AM</td>\n",
       "      <td>100</td>\n",
       "      <td>Routine - Unscheduled</td>\n",
       "      <td>2017-03-03</td>\n",
       "      <td>7768</td>\n",
       "      <td>False</td>\n",
       "      <td>THE CAKEMAKER</td>\n",
       "      <td>509 LAGUNA St</td>\n",
       "      <td>the cakemaker</td>\n",
       "    </tr>\n",
       "    <tr>\n",
       "      <th>8507</th>\n",
       "      <td>7757_20170131</td>\n",
       "      <td>01/31/2017 12:00:00 AM</td>\n",
       "      <td>92</td>\n",
       "      <td>Routine - Unscheduled</td>\n",
       "      <td>2017-01-31</td>\n",
       "      <td>7757</td>\n",
       "      <td>False</td>\n",
       "      <td>CAKE GALLERY</td>\n",
       "      <td>290 09th St</td>\n",
       "      <td>cake gallery</td>\n",
       "    </tr>\n",
       "  </tbody>\n",
       "</table>\n",
       "</div>"
      ],
      "text/plain": [
       "                  iid                    date  score                   type  \\\n",
       "2172    3210_20170110  01/10/2017 12:00:00 AM     96  Routine - Unscheduled   \n",
       "1911    2898_20161103  11/03/2016 12:00:00 AM     94  Routine - Unscheduled   \n",
       "11313  88380_20170927  09/27/2017 12:00:00 AM     98  Routine - Unscheduled   \n",
       "3674    4630_20170304  03/04/2017 12:00:00 AM     96  Routine - Unscheduled   \n",
       "7098   69753_20170508  05/08/2017 12:00:00 AM     98  Routine - Unscheduled   \n",
       "7372   71008_20161205  12/05/2016 12:00:00 AM     83  Routine - Unscheduled   \n",
       "7475   71576_20161220  12/20/2016 12:00:00 AM     89  Routine - Unscheduled   \n",
       "8518    7761_20170523  05/23/2017 12:00:00 AM     86  Routine - Unscheduled   \n",
       "2328   33084_20170815  08/15/2017 12:00:00 AM     96  Routine - Unscheduled   \n",
       "8546    7768_20170303  03/03/2017 12:00:00 AM    100  Routine - Unscheduled   \n",
       "8507    7757_20170131  01/31/2017 12:00:00 AM     92  Routine - Unscheduled   \n",
       "\n",
       "       timestamp    bid Missing Score                             name  \\\n",
       "2172  2017-01-10   3210         False  International House of Pancakes   \n",
       "1911  2016-11-03   2898         False           The Cheesecake Factory   \n",
       "11313 2017-09-27  88380         False        SusieCakes Holdings, Inc.   \n",
       "3674  2017-03-04   4630         False               Zanze's Cheesecake   \n",
       "7098  2017-05-08  69753         False       Sift Cupcake & Dessert Bar   \n",
       "7372  2016-12-05  71008         False                House of Pancakes   \n",
       "7475  2016-12-20  71576         False                 La Luna Cupcakes   \n",
       "8518  2017-05-23   7761         False                 LELENITA'S CAKES   \n",
       "2328  2017-08-15  33084         False                Miette Cakes, LLC   \n",
       "8546  2017-03-03   7768         False                    THE CAKEMAKER   \n",
       "8507  2017-01-31   7757         False                     CAKE GALLERY   \n",
       "\n",
       "                       address                   lowercase_name  \n",
       "2172              200 Beach St  international house of pancakes  \n",
       "1911   251 Geary St, 8th Floor           the cheesecake factory  \n",
       "11313         2109 Chestnut St        susiecakes holdings, inc.  \n",
       "3674            2405 Ocean Ave               zanze's cheesecake  \n",
       "7098        2411 California St       sift cupcake & dessert bar  \n",
       "7372               937 TARAVAL                house of pancakes  \n",
       "7475                50 Post St                 la luna cupcakes  \n",
       "8518           3743 MISSION St                 lelenita's cakes  \n",
       "2328            449 Octavia St                miette cakes, llc  \n",
       "8546             509 LAGUNA St                    the cakemaker  \n",
       "8507               290 09th St                     cake gallery  "
      ]
     },
     "metadata": {},
     "output_type": "display_data"
    },
    {
     "data": {
      "text/plain": [
       "['International House of Pancakes', 'The Cheesecake Factory']"
      ]
     },
     "execution_count": 29,
     "metadata": {},
     "output_type": "execute_result"
    }
   ],
   "source": [
    "sorted_by_vowel_count = (cake_at_least_3\n",
    "                         .drop_duplicates(subset=[\"lowercase_name\"])\n",
    "                         .sort_values(\"lowercase_name\", key=count_vowels_series, ascending=False)\n",
    "                        )\n",
    "\n",
    "# sorted_by_vowel_count = (cake_at_least_3[[\"name\", \"lowercase_name\"]]\n",
    "#                          .groupby(\"name\")\n",
    "#                          .first()\n",
    "#                          .agg(count_vowels_series)\n",
    "#                          .reset_index()\n",
    "#                          .rename(columns={'lowercase_name':'num_vowels'})\n",
    "#                          .sort_values(by=['num_vowels', 'name'], ascending=False)\n",
    "#                         )\n",
    "display(sorted_by_vowel_count)\n",
    "\n",
    "top_2_cake = (sorted_by_vowel_count[\"name\"]\n",
    "              .iloc[0:2]\n",
    "              .tolist()\n",
    "             )\n",
    "\n",
    "top_2_cake"
   ]
  },
  {
   "cell_type": "code",
   "execution_count": 30,
   "metadata": {
    "deletable": false,
    "editable": false
   },
   "outputs": [
    {
     "data": {
      "text/html": [
       "<p><strong><pre style='display: inline;'>q3d</pre></strong> passed! 🙌</p>"
      ],
      "text/plain": [
       "q3d results: All test cases passed!"
      ]
     },
     "execution_count": 30,
     "metadata": {},
     "output_type": "execute_result"
    }
   ],
   "source": [
    "grader.check(\"q3d\")"
   ]
  },
  {
   "cell_type": "markdown",
   "metadata": {
    "deletable": false,
    "editable": false
   },
   "source": [
    "<!-- BEGIN QUESTION -->\n",
    "\n",
    "<br/>\n",
    "\n",
    "---\n",
    "## Question 3e\n",
    "\n",
    "Finally, to examine different parts of a chained `pandas` statement, describe the purpose of each of the functions used (`.loc`, `.groupby`, `idxmax()`) in words. \n",
    "\n",
    "Secondly, share what you think this line of code accomplishes. In other words, write a question that could be answered using this statement.\n",
    "\n",
    "While the first part of this question will be graded for correctness, the second part of this question is a bit more open-ended. Answers demonstrating your understanding will get full credit."
   ]
  },
  {
   "cell_type": "code",
   "execution_count": 31,
   "metadata": {
    "deletable": false,
    "editable": false,
    "scrolled": true
   },
   "outputs": [
    {
     "data": {
      "text/html": [
       "<div>\n",
       "<style scoped>\n",
       "    .dataframe tbody tr th:only-of-type {\n",
       "        vertical-align: middle;\n",
       "    }\n",
       "\n",
       "    .dataframe tbody tr th {\n",
       "        vertical-align: top;\n",
       "    }\n",
       "\n",
       "    .dataframe thead th {\n",
       "        text-align: right;\n",
       "    }\n",
       "</style>\n",
       "<table border=\"1\" class=\"dataframe\">\n",
       "  <thead>\n",
       "    <tr style=\"text-align: right;\">\n",
       "      <th></th>\n",
       "      <th>iid</th>\n",
       "      <th>date</th>\n",
       "      <th>score</th>\n",
       "      <th>type</th>\n",
       "      <th>timestamp</th>\n",
       "      <th>bid</th>\n",
       "      <th>Missing Score</th>\n",
       "      <th>name</th>\n",
       "      <th>address</th>\n",
       "      <th>lowercase_name</th>\n",
       "    </tr>\n",
       "  </thead>\n",
       "  <tbody>\n",
       "    <tr>\n",
       "      <th>1913</th>\n",
       "      <td>2898_20190816</td>\n",
       "      <td>08/16/2019 12:00:00 AM</td>\n",
       "      <td>96</td>\n",
       "      <td>Routine - Unscheduled</td>\n",
       "      <td>2019-08-16</td>\n",
       "      <td>2898</td>\n",
       "      <td>False</td>\n",
       "      <td>The Cheesecake Factory</td>\n",
       "      <td>251 Geary St, 8th Floor</td>\n",
       "      <td>the cheesecake factory</td>\n",
       "    </tr>\n",
       "    <tr>\n",
       "      <th>2173</th>\n",
       "      <td>3210_20170809</td>\n",
       "      <td>08/09/2017 12:00:00 AM</td>\n",
       "      <td>98</td>\n",
       "      <td>Routine - Unscheduled</td>\n",
       "      <td>2017-08-09</td>\n",
       "      <td>3210</td>\n",
       "      <td>False</td>\n",
       "      <td>International House of Pancakes</td>\n",
       "      <td>200 Beach St</td>\n",
       "      <td>international house of pancakes</td>\n",
       "    </tr>\n",
       "    <tr>\n",
       "      <th>3675</th>\n",
       "      <td>4630_20180629</td>\n",
       "      <td>06/29/2018 12:00:00 AM</td>\n",
       "      <td>100</td>\n",
       "      <td>Routine - Unscheduled</td>\n",
       "      <td>2018-06-29</td>\n",
       "      <td>4630</td>\n",
       "      <td>False</td>\n",
       "      <td>Zanze's Cheesecake</td>\n",
       "      <td>2405 Ocean Ave</td>\n",
       "      <td>zanze's cheesecake</td>\n",
       "    </tr>\n",
       "    <tr>\n",
       "      <th>8510</th>\n",
       "      <td>7757_20190829</td>\n",
       "      <td>08/29/2019 12:00:00 AM</td>\n",
       "      <td>94</td>\n",
       "      <td>Routine - Unscheduled</td>\n",
       "      <td>2019-08-29</td>\n",
       "      <td>7757</td>\n",
       "      <td>False</td>\n",
       "      <td>CAKE GALLERY</td>\n",
       "      <td>290 09th St</td>\n",
       "      <td>cake gallery</td>\n",
       "    </tr>\n",
       "    <tr>\n",
       "      <th>8520</th>\n",
       "      <td>7761_20190319</td>\n",
       "      <td>03/19/2019 12:00:00 AM</td>\n",
       "      <td>92</td>\n",
       "      <td>Routine - Unscheduled</td>\n",
       "      <td>2019-03-19</td>\n",
       "      <td>7761</td>\n",
       "      <td>False</td>\n",
       "      <td>LELENITA'S CAKES</td>\n",
       "      <td>3743 MISSION St</td>\n",
       "      <td>lelenita's cakes</td>\n",
       "    </tr>\n",
       "  </tbody>\n",
       "</table>\n",
       "</div>"
      ],
      "text/plain": [
       "                iid                    date  score                   type  \\\n",
       "1913  2898_20190816  08/16/2019 12:00:00 AM     96  Routine - Unscheduled   \n",
       "2173  3210_20170809  08/09/2017 12:00:00 AM     98  Routine - Unscheduled   \n",
       "3675  4630_20180629  06/29/2018 12:00:00 AM    100  Routine - Unscheduled   \n",
       "8510  7757_20190829  08/29/2019 12:00:00 AM     94  Routine - Unscheduled   \n",
       "8520  7761_20190319  03/19/2019 12:00:00 AM     92  Routine - Unscheduled   \n",
       "\n",
       "      timestamp   bid Missing Score                             name  \\\n",
       "1913 2019-08-16  2898         False           The Cheesecake Factory   \n",
       "2173 2017-08-09  3210         False  International House of Pancakes   \n",
       "3675 2018-06-29  4630         False               Zanze's Cheesecake   \n",
       "8510 2019-08-29  7757         False                     CAKE GALLERY   \n",
       "8520 2019-03-19  7761         False                 LELENITA'S CAKES   \n",
       "\n",
       "                      address                   lowercase_name  \n",
       "1913  251 Geary St, 8th Floor           the cheesecake factory  \n",
       "2173             200 Beach St  international house of pancakes  \n",
       "3675           2405 Ocean Ave               zanze's cheesecake  \n",
       "8510              290 09th St                     cake gallery  \n",
       "8520          3743 MISSION St                 lelenita's cakes  "
      ]
     },
     "execution_count": 31,
     "metadata": {},
     "output_type": "execute_result"
    }
   ],
   "source": [
    "cake_at_least_3.loc[cake_at_least_3.groupby(\"bid\")[\"score\"].idxmax()].head()"
   ]
  },
  {
   "cell_type": "markdown",
   "metadata": {},
   "source": [
    "## Part 1\n",
    "\n",
    "The `.loc` accessor allows us to select a subset of data from the `cake_at_least_3` dataframe. If only given one parameter, the `.loc` accessor will assume that that parameter corresponds to the labels of rows to select. The `.loc` accessor can take a single label, a list or array of labels, or a slice of labels. In this scenario, we will pass in a series of labels, which is essentially an array of labels, that corresponds to the labels of the rows (the index labels, not the actual numerical index) that we want.\n",
    "\n",
    "The `.groupby` function takes in a column as a parameter by which to organize the dataframe. It returns a `GroupBy` object, which cannot be visualized like a normal dataframe, but must instead have some aggregate function be performed on each grouped set to return a dataframe or series. In this case, we grouped by the `bid` column (business ID) of the dataframe.\n",
    "\n",
    "Next, we used the context-dependent accessor `[]`, which determines by context what subset of the data we wanted to retrieve (what rows, columns, or subset of rows/colummns). Here, we passed in the label of a column with `[\"score\"]`, indicating that we wanted only the inspection scores of for each group of business id's, and received a SeriesGroupBy object which contained only the scores for each group of business IDs. \n",
    "\n",
    "We called `.idxmax()` as the aggregate function over the GroupBy object of scores of the business IDs, which gives us the index label of the maximum of the series it is called on. In this case, because we called it as the aggregating function for the GroupBy object of scores of business IDs, it returns a series of the corresponding index label in `cake_at_least_3` of the highest score corresponding to each group of business IDs.\n",
    "\n",
    "Thus, a series of labels of indexes is passed to the `.loc[]` accessor, and is used to select from the `cake_at_least_3` dataframe a subset of cakeshops. Finally, `.head()` returns the first 5 rows of the new subset dataframe of `cake_at_least_3`.\n",
    "\n",
    "## Part 2\n",
    "\n",
    "What this overall code is doing is finding the inspection with the highest score for each of the businesses with at least 3 total inspections. We group by bid, find the index label corresponding to the highest score for each bid, and then filter the `cake_at_least_3` dataframe to only show those inspections (the highest-scored inspection for each unique BID with at least 3 inspections).\n"
   ]
  },
  {
   "cell_type": "code",
   "execution_count": 32,
   "metadata": {
    "tags": []
   },
   "outputs": [
    {
     "data": {
      "text/plain": [
       "<pandas.core.groupby.generic.DataFrameGroupBy object at 0x7ecd62a5d710>"
      ]
     },
     "metadata": {},
     "output_type": "display_data"
    },
    {
     "data": {
      "text/plain": [
       "<pandas.core.groupby.generic.SeriesGroupBy object at 0x7ecd62a5dbd0>"
      ]
     },
     "metadata": {},
     "output_type": "display_data"
    },
    {
     "data": {
      "text/plain": [
       "bid\n",
       "2898      1913\n",
       "3210      2173\n",
       "4630      3675\n",
       "7757      8510\n",
       "7761      8520\n",
       "7768      8546\n",
       "33084     2328\n",
       "69753     7098\n",
       "71008     7372\n",
       "71576     7476\n",
       "88380    11314\n",
       "Name: score, dtype: int64"
      ]
     },
     "metadata": {},
     "output_type": "display_data"
    }
   ],
   "source": [
    "# You may do some scratch work in this cell, however, only your written answer will be graded. \n",
    "# Any outputs or dataframes you generate here will not be counted as part of your explanation.\n",
    "display(cake_at_least_3.groupby(\"bid\"))\n",
    "display(cake_at_least_3.groupby(\"bid\")[\"score\"])\n",
    "display(cake_at_least_3.groupby(\"bid\")[\"score\"].idxmax())\n",
    "# cake_at_least_3.drop_duplicates(subset=\"bid\")\n"
   ]
  },
  {
   "cell_type": "markdown",
   "metadata": {
    "deletable": false,
    "editable": false
   },
   "source": [
    "<!-- END QUESTION -->\n",
    "\n",
    "<br/><br/>\n",
    "\n",
    "---\n",
    "\n",
    "# Question 4: Restaurant Ratings Over Time\n",
    "\n",
    "As a final challenge, we consider a scenario involving restaurants with multiple ratings over time.\n",
    "\n",
    "Let's see which restaurant location has had the most extreme improvement in its scores. Let the \"swing\" of a restaurant location be defined as the difference between its highest-ever and lowest-ever score. **Only consider restaurant locations with at least 3 scores—that is, restaurants that were rated at least 3 times.** Assign `max_swing` to the name of the restaurant that has the maximum swing. \n",
    "\n",
    "We have not provided any skeleton, as there are many paths to getting the correct answer. The recommended approach to solving this problem is to break it down into smaller chunks (e.g., first, ensure all restaurants have at least 3 scores; second, compute the swing, etc.). This will likely require more than one line, so feel free to add/remove columns and define new temporary variables. Remember to assign your solution - a string containing the `name` of the restaurant location that experienced the most extreme improvement - to `max_swing` after you do so. \n",
    "\n",
    "**Note**: The \"swing\" is of a specific restaurant location. There might be some restaurants with multiple locations; we are focusing on the swing of a particular restaurant as specified by its `name` and `address`."
   ]
  },
  {
   "cell_type": "code",
   "execution_count": 33,
   "metadata": {
    "tags": []
   },
   "outputs": [
    {
     "data": {
      "text/plain": [
       "bid\n",
       "86718    45\n",
       "66961    36\n",
       "81674    34\n",
       "80242    33\n",
       "78220    33\n",
       "         ..\n",
       "76574     0\n",
       "77004     0\n",
       "77543     0\n",
       "79346     0\n",
       "97064     0\n",
       "Name: score, Length: 2658, dtype: int64"
      ]
     },
     "metadata": {},
     "output_type": "display_data"
    },
    {
     "name": "stderr",
     "output_type": "stream",
     "text": [
      "/tmp/ipykernel_260/2388197754.py:23: UserWarning: Boolean Series key will be reindexed to match DataFrame index.\n",
      "  max_swing = (restAtLeast3.drop_duplicates(\"name\")\n"
     ]
    },
    {
     "data": {
      "text/plain": [
       "'Lollipot'"
      ]
     },
     "execution_count": 33,
     "metadata": {},
     "output_type": "execute_result"
    }
   ],
   "source": [
    "\"\"\"\n",
    "Starting from ins_named, filter using unique_counts to keep entries with bids >= 3.\n",
    "Groupby BID, find the lowest and highest score, and find the difference. (Probably use a new function called swing)\n",
    "Sort by swing, return the highest swing \n",
    "\"\"\"\n",
    "\n",
    "def computeSwing(GroupBySeries):\n",
    "    return GroupBySeries.max() - GroupBySeries.min()\n",
    "\n",
    "\n",
    "restAtLeast3 = ins_named.groupby(\"bid\").filter(lambda x: len(x) >= 3)\n",
    "\n",
    "swings = (restAtLeast3\n",
    "          .groupby(\"bid\")[\"score\"]\n",
    "          .agg(computeSwing)\n",
    "          .sort_values(ascending=False)\n",
    "         )\n",
    "\n",
    "display(swings)\n",
    "\n",
    "# swings = restAtLeast3.loc[restAtLeast3.groupby(\"bid\")[\"score\"].agg(computeSwing).idxmax()]\n",
    "\n",
    "max_swing = (restAtLeast3.drop_duplicates(\"name\")\n",
    "             [restAtLeast3[\"bid\"] == swings.idxmax()]\n",
    "             [\"name\"].iloc[0]\n",
    "            )\n",
    "\n",
    "max_swing"
   ]
  },
  {
   "cell_type": "code",
   "execution_count": 34,
   "metadata": {},
   "outputs": [
    {
     "data": {
      "text/plain": [
       "bid\n",
       "86718    45\n",
       "66961    36\n",
       "81674    34\n",
       "80242    33\n",
       "78220    33\n",
       "         ..\n",
       "76574     0\n",
       "77004     0\n",
       "77543     0\n",
       "79346     0\n",
       "97064     0\n",
       "Name: score, Length: 2658, dtype: int64"
      ]
     },
     "metadata": {},
     "output_type": "display_data"
    }
   ],
   "source": [
    "# display(restAtLeast3.head(10))\n",
    "# display(swings.shape)\n",
    "# display(restAtLeast3.drop_duplicates(\"bid\").shape)\n",
    "\n",
    "# maxScores = restAtLeast3.loc[restAtLeast3.groupby(\"bid\")[\"score\"].idxmax()]\n",
    "# display(maxScores.head(10))\n",
    "# minScores = restAtLeast3.loc[restAtLeast3.groupby(\"bid\")[\"score\"].idxmin()]\n",
    "# display(minScores.head(10))\n",
    "\n",
    "# display(restAtLeast3[restAtLeast3[\"bid\"]==24])\n",
    "display(swings)"
   ]
  },
  {
   "cell_type": "code",
   "execution_count": 35,
   "metadata": {
    "deletable": false,
    "editable": false
   },
   "outputs": [
    {
     "data": {
      "text/html": [
       "<p><strong><pre style='display: inline;'>q4</pre></strong> passed! 🚀</p>"
      ],
      "text/plain": [
       "q4 results: All test cases passed!"
      ]
     },
     "execution_count": 35,
     "metadata": {},
     "output_type": "execute_result"
    }
   ],
   "source": [
    "grader.check(\"q4\")"
   ]
  },
  {
   "cell_type": "markdown",
   "metadata": {},
   "source": [
    "## Summary of Inspections Data\n",
    "\n",
    "We have done a lot in this homework! \n",
    " \n",
    "- Broke down the inspection scores in detail using `.groupby` and `pivot_table`\n",
    "- Joined the business and inspection data and identified the name of the restaurant with the worst rating\n",
    "- Took a deep dive into the sweet world of cake and found the best spots under varying metrics\n",
    "- Took a swing at analyzing how restaurant inspection scores change over time!\n",
    "\n",
    "Over the course of this 2-part homework, we hope you have become more familiar with `pandas` - in terms of identifying when to use particular functions, how they work, when they can support EDA - as well as with EDA and Data Cleaning, as part of the broader Data Science Lifecycle. These tools will serve you well as a data scientist!"
   ]
  },
  {
   "cell_type": "markdown",
   "metadata": {},
   "source": [
    "<hr style=\"border: 5px solid #003262;\" />\n",
    "<hr style=\"border: 1px solid #fdb515;\" />"
   ]
  },
  {
   "cell_type": "markdown",
   "metadata": {},
   "source": [
    "## Congratulations! You have finished Homework 2B! ##"
   ]
  },
  {
   "cell_type": "markdown",
   "metadata": {},
   "source": [
    "Opal, Olive, and Brownie say hi :)\n",
    "\n",
    "<img src = \"pics/cats.jpg\" width = \"200\">"
   ]
  },
  {
   "cell_type": "markdown",
   "metadata": {},
   "source": [
    "### Course Content Feedback\n",
    "\n",
    "If you have any feedback about this assignment or about any of our other weekly, weekly assignments, lectures, or discussions, please fill out the [Course Content Feedback Form](https://docs.google.com/forms/d/e/1FAIpQLSe0fBEJwt6aEfZxU3fh3llNk8rSWHj6Umq0km3wPqmFu0MlGA/viewform). Your input is valuable in helping us improve the quality and relevance of our content to better meet your needs and expectations!"
   ]
  },
  {
   "cell_type": "markdown",
   "metadata": {},
   "source": [
    "### Submission Instructions\n",
    "\n",
    "Below, you will see a cell. Running this cell will automatically generate a zip file with your autograded answers. Once you submit this file to the HW 2B Coding assignment on Gradescope, Gradescope will automatically submit a PDF file with your written answers to the HW 2B Written assignment. If you run into any issues when running this cell, feel free to check this [section](https://ds100.org/debugging-guide/autograder_gradescope/autograder_gradescope.html#why-does-grader.exportrun_teststrue-fail-if-all-previous-tests-passed) in the Data 100 Debugging Guide.\n",
    "\n",
    "**Important**: Please check that your written responses were generated and submitted correctly to the HW 2B Written Assignment.\n",
    "\n",
    "**You are responsible for ensuring your submission follows our requirements and that the PDF for HW 2B written answers was generated/submitted correctly. We will not be granting regrade requests nor extensions to submissions that don't follow instructions.** If you encounter any difficulties with submission, please don't hesitate to reach out to staff prior to the deadline. "
   ]
  },
  {
   "cell_type": "markdown",
   "metadata": {
    "deletable": false,
    "editable": false
   },
   "source": [
    "## Submission\n",
    "\n",
    "Make sure you have run all cells in your notebook in order before running the cell below, so that all images/graphs appear in the output. The cell below will generate a zip file for you to submit. **Please save before exporting!**"
   ]
  },
  {
   "cell_type": "code",
   "execution_count": 36,
   "metadata": {
    "deletable": false,
    "editable": false
   },
   "outputs": [
    {
     "name": "stdout",
     "output_type": "stream",
     "text": [
      "Running your submission against local test cases...\n",
      "\n",
      "\n",
      "Your submission received the following results when run against available test cases:\n",
      "\n",
      "    q1a results: All test cases passed!\n",
      "\n",
      "    q1b results: All test cases passed!\n",
      "\n",
      "    q1c results: All test cases passed!\n",
      "\n",
      "    q2a results: All test cases passed!\n",
      "\n",
      "    q2b results: All test cases passed!\n",
      "\n",
      "    q2c results: All test cases passed!\n",
      "\n",
      "    q2d results: All test cases passed!\n",
      "\n",
      "    q3a results: All test cases passed!\n",
      "\n",
      "    q3b results: All test cases passed!\n",
      "\n",
      "    q3d results: All test cases passed!\n",
      "\n",
      "    q4 results: All test cases passed!\n"
     ]
    },
    {
     "data": {
      "text/html": [
       "\n",
       "                    <p>\n",
       "                        Your submission has been exported. Click\n",
       "                        <a href=\"hw02B_2024_02_09T03_51_21_900456.zip\" download=\"hw02B_2024_02_09T03_51_21_900456.zip\" target=\"_blank\">here</a> to download\n",
       "                        the zip file.\n",
       "                    </p>\n",
       "                "
      ],
      "text/plain": [
       "<IPython.core.display.HTML object>"
      ]
     },
     "metadata": {},
     "output_type": "display_data"
    }
   ],
   "source": [
    "# Save your notebook first, then run this cell to export your submission.\n",
    "grader.export(run_tests=True)"
   ]
  },
  {
   "cell_type": "markdown",
   "metadata": {},
   "source": [
    " "
   ]
  }
 ],
 "metadata": {
  "celltoolbar": "Create Assignment",
  "kernelspec": {
   "display_name": "Python 3 (ipykernel)",
   "language": "python",
   "name": "python3"
  },
  "language_info": {
   "codemirror_mode": {
    "name": "ipython",
    "version": 3
   },
   "file_extension": ".py",
   "mimetype": "text/x-python",
   "name": "python",
   "nbconvert_exporter": "python",
   "pygments_lexer": "ipython3",
   "version": "3.11.0"
  },
  "otter": {
   "OK_FORMAT": true,
   "require_no_pdf_confirmation": true,
   "tests": {
    "q1a": {
     "name": "q1a",
     "points": 2,
     "suites": [
      {
       "cases": [
        {
         "code": ">>> len(ins_score_by_type.columns) == 1\nTrue",
         "hidden": false,
         "locked": false
        },
        {
         "code": ">>> ins_score_by_type.columns[0] == 'max_score'\nTrue",
         "hidden": false,
         "locked": false
        },
        {
         "code": ">>> set(ins_score_by_type.index) == set(ins['type'].unique())\nTrue",
         "hidden": false,
         "locked": false
        }
       ],
       "scored": true,
       "setup": "",
       "teardown": "",
       "type": "doctest"
      }
     ]
    },
    "q1b": {
     "name": "q1b",
     "points": 3,
     "suites": [
      {
       "cases": [
        {
         "code": ">>> ins_missing_score_group.columns[0] == 'Count'\nTrue",
         "hidden": false,
         "locked": false
        },
        {
         "code": ">>> len(ins_missing_score_group) == 16\nTrue",
         "hidden": false,
         "locked": false
        }
       ],
       "scored": true,
       "setup": "",
       "teardown": "",
       "type": "doctest"
      }
     ]
    },
    "q1c": {
     "name": "q1c",
     "points": 3,
     "suites": [
      {
       "cases": [
        {
         "code": ">>> type(ins_missing_score_pivot) == pd.DataFrame\nTrue",
         "hidden": false,
         "locked": false
        }
       ],
       "scored": true,
       "setup": "",
       "teardown": "",
       "type": "doctest"
      }
     ]
    },
    "q2a": {
     "name": "q2a",
     "points": 2,
     "suites": [
      {
       "cases": [
        {
         "code": ">>> 'name' in ins_named and 'address' in ins_named\nTrue",
         "hidden": false,
         "locked": false
        },
        {
         "code": ">>> ins_named[ins_named['Missing Score'] == True].shape[0] == 0\nTrue",
         "hidden": false,
         "locked": false
        },
        {
         "code": ">>> ins_named.reset_index()['date'].equals(ins[ins['score'] > 0].reset_index()['date'])\nTrue",
         "hidden": false,
         "locked": false
        }
       ],
       "scored": true,
       "setup": "",
       "teardown": "",
       "type": "doctest"
      }
     ]
    },
    "q2b": {
     "name": "q2b",
     "points": 3,
     "suites": [
      {
       "cases": [
        {
         "code": ">>> assert twenty_lowest_scoring.shape == (20, 2)\n>>> assert len(twenty_lowest_scoring.index.names) == 1\n",
         "hidden": false,
         "locked": false
        },
        {
         "code": ">>> twenty_lowest_scoring.iloc[0][0] == 'Chaat Corner'\nTrue",
         "hidden": false,
         "locked": false
        }
       ],
       "scored": true,
       "setup": "",
       "teardown": "",
       "type": "doctest"
      }
     ]
    },
    "q2c": {
     "name": "q2c",
     "points": 1,
     "suites": [
      {
       "cases": [
        {
         "code": ">>> type(worst_restaurant) == str and len(worst_restaurant) > 0\nTrue",
         "hidden": false,
         "locked": false
        },
        {
         "code": ">>> ins_named[ins_named['name'] == worst_restaurant]['score'].min() != -1\nTrue",
         "hidden": false,
         "locked": false
        }
       ],
       "scored": true,
       "setup": "",
       "teardown": "",
       "type": "doctest"
      }
     ]
    },
    "q2d": {
     "name": "q2d",
     "points": 1,
     "suites": [
      {
       "cases": [
        {
         "code": ">>> cleaned_up in [True, False]\nTrue",
         "hidden": false,
         "locked": false
        }
       ],
       "scored": true,
       "setup": "",
       "teardown": "",
       "type": "doctest"
      }
     ]
    },
    "q3a": {
     "name": "q3a",
     "points": 1,
     "suites": [
      {
       "cases": [
        {
         "code": ">>> len(cake_shops) == 55\nTrue",
         "hidden": false,
         "locked": false
        },
        {
         "code": ">>> type(cake_shops) == pd.DataFrame\nTrue",
         "hidden": false,
         "locked": false
        }
       ],
       "scored": true,
       "setup": "",
       "teardown": "",
       "type": "doctest"
      }
     ]
    },
    "q3b": {
     "name": "q3b",
     "points": 2,
     "suites": [
      {
       "cases": [
        {
         "code": ">>> cake_at_least_3.shape[0] > 30 and cake_at_least_3.shape[0] < 50\nTrue",
         "hidden": false,
         "locked": false
        }
       ],
       "scored": true,
       "setup": "",
       "teardown": "",
       "type": "doctest"
      }
     ]
    },
    "q3d": {
     "name": "q3d",
     "points": 3,
     "suites": [
      {
       "cases": [
        {
         "code": ">>> len(cake_at_least_3.columns) == 10\nTrue",
         "hidden": false,
         "locked": false
        },
        {
         "code": ">>> type(top_2_cake) == list and len(top_2_cake) == 2\nTrue",
         "hidden": false,
         "locked": false
        },
        {
         "code": ">>> count_vowels(top_2_cake[0]) >= 8\nTrue",
         "hidden": false,
         "locked": false
        }
       ],
       "scored": true,
       "setup": "",
       "teardown": "",
       "type": "doctest"
      }
     ]
    },
    "q4": {
     "name": "q4",
     "points": 3,
     "suites": [
      {
       "cases": [
        {
         "code": ">>> max_swing in set(bus['name'])\nTrue",
         "hidden": false,
         "locked": false
        }
       ],
       "scored": true,
       "setup": "",
       "teardown": "",
       "type": "doctest"
      }
     ]
    }
   }
  }
 },
 "nbformat": 4,
 "nbformat_minor": 4
}
