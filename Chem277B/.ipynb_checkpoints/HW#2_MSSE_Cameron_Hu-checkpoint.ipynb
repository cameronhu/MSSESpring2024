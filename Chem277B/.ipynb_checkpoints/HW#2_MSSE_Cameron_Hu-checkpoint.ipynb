{
 "cells": [
  {
   "cell_type": "markdown",
   "metadata": {},
   "source": [
    "# 1. Debugging Outputs"
   ]
  },
  {
   "cell_type": "markdown",
   "metadata": {},
   "source": [
    "## Question 1\n",
    "(a) length of schedule: 5940 for 30K, 5980 for 10K. The function evaluation of your solution usually falls in the range of 3000-5000\n",
    "\n",
    "## Question 2\n",
    "- \"pairs\" refers to the pairing instruction in 1b, which you need to do every time the population changes\n",
    "- You can use the following to debug your cross-over and mutate operators"
   ]
  },
  {
   "cell_type": "code",
   "execution_count": 85,
   "metadata": {},
   "outputs": [],
   "source": [
    "import numpy as np\n",
    "\n",
    "def plot_surface(func,x_min=-2,x_max=2,y_min=-2,y_max=2):\n",
    "    x = np.linspace(x_min,x_max,100)\n",
    "    y = np.linspace(y_min,y_max,100)\n",
    "    X,Y = np.meshgrid(x,y)\n",
    "    Z = func([X,Y])\n",
    "    \n",
    "    fig = plt.figure(figsize=(6,3))\n",
    "    ax = fig.add_subplot(111, projection='3d')\n",
    "    ax.plot_surface(X,Y,Z, alpha=0.9)\n",
    "    ax.set_xlabel('x')\n",
    "    ax.set_ylabel('y')\n",
    "    # ax.view_init(60,60) # set angles for viewing\n",
    "    plt.tight_layout()\n",
    "    plt.show()"
   ]
  },
  {
   "cell_type": "markdown",
   "metadata": {},
   "source": [
    "## Simulated annealing code Q1"
   ]
  },
  {
   "cell_type": "code",
   "execution_count": 39,
   "metadata": {},
   "outputs": [],
   "source": [
    "def SA(solution,evaluation,delta,boundary,cooling_schedule,verbose=False):\n",
    "    \"\"\" Simulated Annealing for minimization\n",
    "    solution: np.array. Initial guess of solution\n",
    "    evaluation: func. Function to evaluate solution\n",
    "    delta: float. Magnitude of random displacement\n",
    "    boundary: array of int/float. [lowerbound,upperbound]\n",
    "    cooling_schedule: np.array. An array of temperatures for simulated annealing\n",
    "    \"\"\"\n",
    "    best_solution = solution.copy() \n",
    "    lowest_eval = evaluation(best_solution)\n",
    "    for idx,temp in enumerate(cooling_schedule):\n",
    "        if idx%500 == 0 and verbose:\n",
    "            print(f'{str(idx).zfill(len(str(len(cooling_schedule))))}/{len(cooling_schedule)}   temp:{temp:.1f}, lowest_eval:{lowest_eval:.3f}')\n",
    "        for n in range(len(solution)):\n",
    "            trial = solution.copy()\n",
    "            trial[n] += delta*(2*np.random.random()-1)\n",
    "            if trial[n] >= boundary[0] and trial[n] <= boundary[1]:\n",
    "                #fill in acceptance criterion\n",
    "                accepted = np.exp( - (evaluation(trial)-evaluation(solution) / temp))\n",
    "                if accepted > np.random.random():\n",
    "                    solution = trial\n",
    "                    if evaluation(solution) < lowest_eval:\n",
    "                        #update solution here\n",
    "                        lowest_eval = evaluation(solution)\n",
    "    return {\"solution\":best_solution, \"evaluation\":lowest_eval}"
   ]
  },
  {
   "cell_type": "markdown",
   "metadata": {},
   "source": [
    "# 1 a)"
   ]
  },
  {
   "cell_type": "code",
   "execution_count": 50,
   "metadata": {},
   "outputs": [
    {
     "name": "stdout",
     "output_type": "stream",
     "text": [
      "The length of the cooling schedule for 30K is : 5940.0\n",
      "The length of the cooling schedule for 10K is : 5980.0\n"
     ]
    }
   ],
   "source": [
    "def schwefel(x_vector):\n",
    "    return 418.9892 * len(x_vector) - np.sum(x_vector * np.sin(np.sqrt(np.abs(x_vector))))\n",
    "\n",
    "solution = np.random.uniform(-500, 500, 10)\n",
    "# evaluation = schwefel function\n",
    "delta = 0.5\n",
    "boundary = [-500, 500]\n",
    "TSA = 3000\n",
    "alpha = 0.5\n",
    "low_temp_30 = 30\n",
    "low_temp_10 = 10\n",
    "len_cool_30 = (TSA - low_temp_30) / alpha\n",
    "len_cool_10 = (TSA - low_temp_10) / alpha\n",
    "cooling_schedule_30 = np.linspace(start=TSA, stop=low_temp_30, num=int(len_cool_30))\n",
    "\n",
    "print(f\"The length of the cooling schedule for 30K is : {len_cool_30}\")\n",
    "print(f\"The length of the cooling schedule for 10K is : {len_cool_10}\")"
   ]
  },
  {
   "cell_type": "code",
   "execution_count": 47,
   "metadata": {},
   "outputs": [
    {
     "name": "stdout",
     "output_type": "stream",
     "text": [
      "4590.757346257131\n"
     ]
    }
   ],
   "source": [
    "result = SA(solution, schwefel, delta, boundary, cooling_schedule_30)\n",
    "print(result['evaluation'])"
   ]
  },
  {
   "cell_type": "code",
   "execution_count": 49,
   "metadata": {},
   "outputs": [
    {
     "name": "stdout",
     "output_type": "stream",
     "text": [
      "4431.18570896581\n"
     ]
    }
   ],
   "source": [
    "result = SA(solution, schwefel, delta, boundary, cooling_schedule_30)\n",
    "print(result['evaluation'])"
   ]
  },
  {
   "cell_type": "code",
   "execution_count": 51,
   "metadata": {},
   "outputs": [
    {
     "name": "stdout",
     "output_type": "stream",
     "text": [
      "4967.847171138068\n"
     ]
    }
   ],
   "source": [
    "result = SA(solution, schwefel, delta, boundary, cooling_schedule_30)\n",
    "print(result['evaluation'])"
   ]
  },
  {
   "cell_type": "markdown",
   "metadata": {},
   "source": [
    "The three results for the cooling schedule to 30K are shown above. The three results for the cooling schedule to 10K are shown below"
   ]
  },
  {
   "cell_type": "code",
   "execution_count": 64,
   "metadata": {},
   "outputs": [],
   "source": [
    "solution = np.random.uniform(-500, 500, 10)\n",
    "cooling_schedule_10 = np.linspace(start=TSA, stop=low_temp_10, num=int(len_cool_10))"
   ]
  },
  {
   "cell_type": "code",
   "execution_count": 61,
   "metadata": {},
   "outputs": [
    {
     "name": "stdout",
     "output_type": "stream",
     "text": [
      "4577.335779571215\n"
     ]
    }
   ],
   "source": [
    "result = SA(solution, schwefel, delta, boundary, cooling_schedule_10)\n",
    "print(result['evaluation'])"
   ]
  },
  {
   "cell_type": "code",
   "execution_count": 63,
   "metadata": {},
   "outputs": [
    {
     "name": "stdout",
     "output_type": "stream",
     "text": [
      "4173.545578788456\n"
     ]
    }
   ],
   "source": [
    "result = SA(solution, schwefel, delta, boundary, cooling_schedule_30)\n",
    "print(result['evaluation'])"
   ]
  },
  {
   "cell_type": "code",
   "execution_count": 65,
   "metadata": {},
   "outputs": [
    {
     "name": "stdout",
     "output_type": "stream",
     "text": [
      "3783.1700213887843\n"
     ]
    }
   ],
   "source": [
    "result = SA(solution, schwefel, delta, boundary, cooling_schedule_30)\n",
    "print(result['evaluation'])"
   ]
  },
  {
   "cell_type": "markdown",
   "metadata": {},
   "source": [
    "The results do look better when cooling to the lower temperature, as the global minima evaluation decreases (closer to the global minimum)"
   ]
  },
  {
   "cell_type": "markdown",
   "metadata": {},
   "source": [
    "# 1b)"
   ]
  },
  {
   "cell_type": "code",
   "execution_count": 79,
   "metadata": {},
   "outputs": [
    {
     "name": "stdout",
     "output_type": "stream",
     "text": [
      "The length of the log cooling schedule for 3000K is : 6000\n",
      "The length of the log cooling schedule for 6000K is : 6000\n",
      "3530.1512465460246\n"
     ]
    }
   ],
   "source": [
    "TSA_3k = 3000\n",
    "TSA_6k = 6000\n",
    "sigma = 1000\n",
    "k = 6000\n",
    "\n",
    "def create_logspace_cooling(TSA):\n",
    "    # [TSA / (1 + TSA * np.log(1 + i)/(3*sigma) for i in range(1, k+1)]\n",
    "    return np.array([TSA / (1 + TSA * np.log(1 + i)/(3*sigma) ) for i in range(1, k+1)])\n",
    "\n",
    "cooling_3k = create_logspace_cooling(TSA_3k)\n",
    "cooling_6k = create_logspace_cooling(TSA_6k)\n",
    "\n",
    "print(f\"The length of the log cooling schedule for 3000K is : {len(cooling_3k)}\")\n",
    "print(f\"The length of the log cooling schedule for 6000K is : {len(cooling_6k)}\")\n",
    "\n",
    "solution = np.random.uniform(-500, 500, 10)\n",
    "result = SA(solution, schwefel, delta, boundary, cooling_3k)\n",
    "print(result['evaluation'])"
   ]
  },
  {
   "cell_type": "code",
   "execution_count": 74,
   "metadata": {},
   "outputs": [
    {
     "name": "stdout",
     "output_type": "stream",
     "text": [
      "4199.608272639098\n"
     ]
    }
   ],
   "source": [
    "solution = np.random.uniform(-500, 500, 10)\n",
    "result = SA(solution, schwefel, delta, boundary, cooling_3k)\n",
    "print(result['evaluation'])"
   ]
  },
  {
   "cell_type": "code",
   "execution_count": 75,
   "metadata": {},
   "outputs": [
    {
     "name": "stdout",
     "output_type": "stream",
     "text": [
      "3450.8069313035544\n"
     ]
    }
   ],
   "source": [
    "solution = np.random.uniform(-500, 500, 10)\n",
    "result = SA(solution, schwefel, delta, boundary, cooling_3k)\n",
    "print(result['evaluation'])"
   ]
  },
  {
   "cell_type": "code",
   "execution_count": 76,
   "metadata": {},
   "outputs": [
    {
     "name": "stdout",
     "output_type": "stream",
     "text": [
      "4349.086270974157\n"
     ]
    }
   ],
   "source": [
    "solution = np.random.uniform(-500, 500, 10)\n",
    "result = SA(solution, schwefel, delta, boundary, cooling_6k)\n",
    "print(result['evaluation'])"
   ]
  },
  {
   "cell_type": "code",
   "execution_count": 77,
   "metadata": {},
   "outputs": [
    {
     "name": "stdout",
     "output_type": "stream",
     "text": [
      "3589.046116217409\n"
     ]
    }
   ],
   "source": [
    "solution = np.random.uniform(-500, 500, 10)\n",
    "result = SA(solution, schwefel, delta, boundary, cooling_6k)\n",
    "print(result['evaluation'])"
   ]
  },
  {
   "cell_type": "code",
   "execution_count": 78,
   "metadata": {},
   "outputs": [
    {
     "name": "stdout",
     "output_type": "stream",
     "text": [
      "2968.863431869962\n"
     ]
    }
   ],
   "source": [
    "solution = np.random.uniform(-500, 500, 10)\n",
    "result = SA(solution, schwefel, delta, boundary, cooling_6k)\n",
    "print(result['evaluation'])"
   ]
  },
  {
   "cell_type": "markdown",
   "metadata": {},
   "source": [
    "For both 3k and 6k, the cooling schedules converge better than linear cooling as they find a lower global minimum on average"
   ]
  },
  {
   "cell_type": "markdown",
   "metadata": {},
   "source": [
    "# 1 c)"
   ]
  },
  {
   "cell_type": "code",
   "execution_count": 95,
   "metadata": {},
   "outputs": [
    {
     "data": {
      "text/plain": [
       "array([3000.      , 1500.      ,  750.      ,  375.      ,  187.5     ,\n",
       "         93.75    ,   46.875   ,   23.4375  ,   11.71875 ,    5.859375])"
      ]
     },
     "execution_count": 95,
     "metadata": {},
     "output_type": "execute_result"
    }
   ],
   "source": [
    "geometric_cooling_3k = np.array([(alpha ** n) * 3000 for n in range(0, 10)])\n",
    "geometric_cooling_3k"
   ]
  },
  {
   "cell_type": "code",
   "execution_count": 97,
   "metadata": {},
   "outputs": [
    {
     "name": "stdout",
     "output_type": "stream",
     "text": [
      "4437.716582098562\n"
     ]
    }
   ],
   "source": [
    "solution = np.random.uniform(-500, 500, 10)\n",
    "result = SA(solution, schwefel, delta, boundary, geometric_cooling_3k)\n",
    "print(result['evaluation'])"
   ]
  },
  {
   "cell_type": "code",
   "execution_count": 98,
   "metadata": {},
   "outputs": [
    {
     "name": "stdout",
     "output_type": "stream",
     "text": [
      "5181.237499138457\n"
     ]
    }
   ],
   "source": [
    "solution = np.random.uniform(-500, 500, 10)\n",
    "result = SA(solution, schwefel, delta, boundary, geometric_cooling_3k)\n",
    "print(result['evaluation'])"
   ]
  },
  {
   "cell_type": "code",
   "execution_count": 99,
   "metadata": {},
   "outputs": [
    {
     "name": "stdout",
     "output_type": "stream",
     "text": [
      "4698.450759403982\n"
     ]
    }
   ],
   "source": [
    "solution = np.random.uniform(-500, 500, 10)\n",
    "result = SA(solution, schwefel, delta, boundary, geometric_cooling_3k)\n",
    "print(result['evaluation'])"
   ]
  },
  {
   "cell_type": "markdown",
   "metadata": {},
   "source": [
    "I implemented a Geometric annealing schedule, and it appears that this annealing schedule did not lead to increased convergence (the evaluations of the function on average were higher than when I used logarithmic or linear cooling schedules).  "
   ]
  },
  {
   "cell_type": "code",
   "execution_count": 88,
   "metadata": {},
   "outputs": [],
   "source": [
    "from scipy.optimize import minimize\n",
    "\n",
    "def save_step(*args):\n",
    "    for arg in args:\n",
    "        if type(arg) is np.ndarray:\n",
    "            steps.append(arg)\n",
    "\n",
    "def minimize_function(x0, func, method):\n",
    "    \"\"\"\n",
    "    Minimize a function\n",
    "    \n",
    "    Parameters\n",
    "    ---------\n",
    "    x0: np.ndarray\n",
    "        Starting point\n",
    "    func: function\n",
    "        Scalar function to minimize\n",
    "    method: str\n",
    "        Method for minimization\n",
    "    \n",
    "    Returns\n",
    "    ------\n",
    "    res: OptimzizeResult\n",
    "        Result object of scipy optimization\n",
    "    \"\"\"\n",
    "    res = minimize(\n",
    "        func,\n",
    "        x0,\n",
    "        method=method,\n",
    "        options={\"gtol\": 1e-5, \"disp\":True},\n",
    "        callback=save_step,\n",
    "    )\n",
    "    return res"
   ]
  },
  {
   "cell_type": "markdown",
   "metadata": {},
   "source": [
    "### Performing a Conjugate Gradient local optimization technique on my solution using a geometric cooling schedule"
   ]
  },
  {
   "cell_type": "code",
   "execution_count": 104,
   "metadata": {},
   "outputs": [
    {
     "name": "stdout",
     "output_type": "stream",
     "text": [
      "         Current function value: 2468.209950\n",
      "         Iterations: 19\n",
      "         Function evaluations: 638\n",
      "         Gradient evaluations: 58\n",
      "[ 203.81423992  203.81425178 -124.82936228 -124.82937266  -25.87741651\n",
      " -124.82933152   65.54786231    5.23919631 -559.14867017 -302.52492513]\n"
     ]
    },
    {
     "name": "stderr",
     "output_type": "stream",
     "text": [
      "/Users/chu/miniconda3/envs/chem277b/lib/python3.10/site-packages/scipy/optimize/_minimize.py:706: OptimizeWarning: Desired error not necessarily achieved due to precision loss.\n",
      "  res = _minimize_cg(fun, x0, args, jac, callback, **options)\n"
     ]
    }
   ],
   "source": [
    "steps = []\n",
    "res = minimize_function(result['solution'], schwefel, \"CG\")\n",
    "print(res.x)"
   ]
  },
  {
   "cell_type": "markdown",
   "metadata": {},
   "source": [
    "After performing local optimization (conjugate gradient), an even better solution was found with a function evaluation closer to 0. The function evaluation converged more closely, dropping from  4698.450759403982 to 2468.209950, so it improved!"
   ]
  },
  {
   "cell_type": "markdown",
   "metadata": {},
   "source": [
    "# 2 a)\n",
    "\n",
    "### Encoding A\n",
    "Solution 3 - Vector [1000]\n",
    "\n",
    "Solution 4 - Vector [0010]\n",
    "\n",
    "Solution 5 - Vector [0001]\n",
    "\n",
    "Schema: `[*0**]`\n",
    "Order = 1, Length: 2-2 = 0\n",
    "\n",
    "### Encoding B\n",
    "\n",
    "Solution 3 - Vector [1101]\n",
    "\n",
    "Solution 4 - Vector [1011]\n",
    "\n",
    "Solution 5 - Vector [1111]\n",
    "\n",
    "Schema: `[1**1]`\n",
    "Order = 2, \n",
    "Length: 4 -1 = 3\n",
    "\n",
    "We will choose Encoding A because for genetic algorithms, we want schema with low order and low length. This is because operations like crossing-over will often disrupt schema with high orders or length, preventing those positive traits from being retained. Instead we want low order and low length schema to decrease the chance of those positive encodings to be disrupted by crossing over\n"
   ]
  },
  {
   "cell_type": "code",
   "execution_count": 276,
   "metadata": {},
   "outputs": [
    {
     "name": "stdout",
     "output_type": "stream",
     "text": [
      "Well done!\n",
      "Well done\n",
      "Well done\n"
     ]
    }
   ],
   "source": [
    "def one_point_crossover(vec1, vec2, point):\n",
    "    new_vec1 = vec1[:point] + vec2[point:]\n",
    "    new_vec2 = vec2[:point] + vec1[point:]\n",
    "    return new_vec1, new_vec2\n",
    "    \n",
    "def mutate(vec, point):\n",
    "    binaryAtPoint = vec[point]\n",
    "    if binaryAtPoint == 0:\n",
    "        return vec[:point] + '1' + vec[point + 1:]\n",
    "    else:\n",
    "        return vec[:point] + '0' + vec[point + 1:]\n",
    "\n",
    "def two_point_crossover(vec1, vec2, point1, point2):\n",
    "    new_vec1 = vec1[:point1] + vec2[point1:point2] + vec1[point2:]\n",
    "    new_vec2 = vec2[:point1] + vec1[point1:point2] + vec2[point2:]\n",
    "    return new_vec1, new_vec2\n",
    "\n",
    "    \n",
    "def test_one_point_crossover():\n",
    "    c1, c2 = one_point_crossover(\"0000\", \"1111\", 1)\n",
    "    if {c1, c2} == {\"1000\", \"0111\"}:\n",
    "        print(\"Well done!\")\n",
    "    else:\n",
    "        raise Exception(\"Wrong implementation\")\n",
    "\n",
    "\n",
    "def test_mutate():\n",
    "    if \"0000\" == mutate(\"0100\", 1):\n",
    "        print(\"Well done\")\n",
    "    else:\n",
    "        raise Exception(\"Wrong implementation\")\n",
    "    \n",
    "    \n",
    "def test_two_point_crossover():\n",
    "    c1, c2 = two_point_crossover(\"0000\", \"1111\",1,3)\n",
    "    if {c1, c2} == {\"0110\", \"1001\"}:\n",
    "        print(\"Well done\")\n",
    "    else:\n",
    "        raise Exception(\"Wrong implementation\")\n",
    "\n",
    "test_one_point_crossover()\n",
    "test_mutate()\n",
    "test_two_point_crossover()"
   ]
  },
  {
   "cell_type": "markdown",
   "metadata": {},
   "source": [
    "## Population evaluation code Q2"
   ]
  },
  {
   "cell_type": "code",
   "execution_count": 270,
   "metadata": {},
   "outputs": [
    {
     "name": "stdout",
     "output_type": "stream",
     "text": [
      "Solutions    Vector      Fitness\n",
      "4            0010         31    \n",
      "7            1010         22    \n",
      "10           0101         -5    \n",
      "13           1101         -50   \n",
      "====================\n",
      "Total fitness: -2\n",
      "Best solution: 4 with fitness 31\n"
     ]
    }
   ],
   "source": [
    "# Complete the following code to get the below output\n",
    "\n",
    "def fitness(x):\n",
    "    return -(x**2) + 8 * x + 15\n",
    "    \n",
    "def evaluate_population(pop):\n",
    "    # sort polpulation by their fitness\n",
    "    pop_copy = pop.copy()\n",
    "    pop_copy.sort(key = fitness,reverse=True)\n",
    "    \n",
    "    print(\"Solutions    Vector      Fitness\")\n",
    "    for sol in pop_copy:\n",
    "        print(\"%-13d%-13s%-6d\"%(sol,vector_dict[sol],fitness(sol)))\n",
    "    print(\"=\"*20)\n",
    "    print(\"Total fitness:\",sum([fitness(sol) for sol in pop_copy]))\n",
    "    print(f'Best solution: {pop_copy[0]} with fitness {fitness(pop_copy[0])}')\n",
    "    \n",
    "# decoding based on encoding A: vector -> solution\n",
    "solution_dict = {\n",
    "    \"1011\": 0, \"0011\": 1, \"1001\": 2, \"1000\": 3,\n",
    "    \"0010\": 4, \"0001\": 5, \"0000\": 6, \"1010\": 7,\n",
    "    \"0100\": 8, \"1100\": 9, \"0101\":10, \"0110\":11,\n",
    "    \"0111\":12, \"1101\":13, \"1110\":14, \"1111\":15,\n",
    "}\n",
    "\n",
    "# encoding A: solution -> vector\n",
    "vector_dict = dict(zip(solution_dict.values(),solution_dict.keys()))\n",
    "\n",
    "# initial population\n",
    "pop = [4,7,13,10]\n",
    "evaluate_population(pop)"
   ]
  },
  {
   "cell_type": "code",
   "execution_count": 271,
   "metadata": {
    "scrolled": true
   },
   "outputs": [],
   "source": [
    "# you should get this"
   ]
  },
  {
   "cell_type": "markdown",
   "metadata": {},
   "source": [
    "# 2 b)"
   ]
  },
  {
   "cell_type": "code",
   "execution_count": 272,
   "metadata": {},
   "outputs": [
    {
     "data": {
      "text/plain": [
       "[15, 10, 9, 0, 1, 6]"
      ]
     },
     "execution_count": 272,
     "metadata": {},
     "output_type": "execute_result"
    }
   ],
   "source": [
    "pop = [10, 1, 15, 6, 0 , 9]\n",
    "pop.sort(key=fitness)\n",
    "pop"
   ]
  },
  {
   "cell_type": "code",
   "execution_count": 273,
   "metadata": {},
   "outputs": [
    {
     "name": "stdout",
     "output_type": "stream",
     "text": [
      "Solutions    Vector      Fitness\n",
      "6            0000         27    \n",
      "1            0011         22    \n",
      "0            1011         15    \n",
      "9            1100         6     \n",
      "10           0101         -5    \n",
      "15           1111         -90   \n",
      "====================\n",
      "Total fitness: -25\n",
      "Best solution: 6 with fitness 27\n"
     ]
    }
   ],
   "source": [
    "evaluate_population(pop)"
   ]
  },
  {
   "cell_type": "markdown",
   "metadata": {},
   "source": [
    "1. x = 10, Vector: [0101], Fitness: -5\n",
    "2. x = 1,  Vector: [0011], Fitness: 22\n",
    "3. x = 15, Vector: [1111], Fitness: -90\n",
    "4. x = 6,  Vector: [0000], Fitness: 27\n",
    "6. x = 0,  Vector: [1011], Fitness: 15\n",
    "7. x = 9,  Vector: [1100], Fitness: 6\n",
    "\n",
    "Pair 1: x = 15 and x = 6 \\\n",
    "Pair 2: x = 10 and x = 1 \\\n",
    "Pair 3: x = 0 and x = 9"
   ]
  },
  {
   "cell_type": "code",
   "execution_count": 274,
   "metadata": {},
   "outputs": [
    {
     "name": "stdout",
     "output_type": "stream",
     "text": [
      "[(15, 6), (10, 1), (9, 0)]\n"
     ]
    }
   ],
   "source": [
    "def generate_pairs(population):\n",
    "    #Takes a sorted list and returns pairings of least-best fit solutions\n",
    "    pairings = []\n",
    "    for i in range(int(len(population)/2)):\n",
    "        low = population[i]\n",
    "        high = population[len(population) - i - 1]\n",
    "        pair = (low, high)\n",
    "        pairings.append(pair)\n",
    "    return pairings\n",
    "\n",
    "b_pairs = generate_pairs(pop)\n",
    "print(b_pairs)"
   ]
  },
  {
   "cell_type": "markdown",
   "metadata": {},
   "source": [
    "# 2 c)"
   ]
  },
  {
   "cell_type": "code",
   "execution_count": 277,
   "metadata": {},
   "outputs": [
    {
     "name": "stdout",
     "output_type": "stream",
     "text": [
      "[12, 3]\n",
      "Solution x=6 is now 12 with fitness -33\n",
      "Solution x=15 is now 3 with fitness 30\n"
     ]
    }
   ],
   "source": [
    "pair1_1_vector, pair1_2_vector = one_point_crossover(\"0000\", \"1111\", 1)\n",
    "\n",
    "new_sol_1 = solution_dict[pair1_1]\n",
    "new_sol_2 = solution_dict[pair1_2]\n",
    "\n",
    "pair1 = [new_sol_1, new_sol_2]\n",
    "pair1_vectors = [pair1_1_vector, pair1_2_vector]\n",
    "print(pair1)\n",
    "\n",
    "print(f\"Solution x=6 is now {new_sol_1} with fitness {fitness(new_sol_1)}\")\n",
    "print(f\"Solution x=15 is now {new_sol_2} with fitness {fitness(new_sol_2)}\")"
   ]
  },
  {
   "cell_type": "code",
   "execution_count": 278,
   "metadata": {},
   "outputs": [
    {
     "name": "stdout",
     "output_type": "stream",
     "text": [
      "[10, 1]\n",
      "Solution x=1 is now 10 with fitness -5\n",
      "Solution x=10 is now 1 with fitness 22\n"
     ]
    }
   ],
   "source": [
    "pair2_1, pair2_2 = one_point_crossover(\"0011\", \"0101\", 1)\n",
    "\n",
    "new_sol_1 = solution_dict[pair2_1]\n",
    "new_sol_2 = solution_dict[pair2_2]\n",
    "\n",
    "pair2 = [new_sol_1, new_sol_2]\n",
    "pair2_vectors = [pair2_1, pair2_2]\n",
    "print(pair2)\n",
    "\n",
    "print(f\"Solution x=1 is now {new_sol_1} with fitness {fitness(new_sol_1)}\")\n",
    "print(f\"Solution x=10 is now {new_sol_2} with fitness {fitness(new_sol_2)}\")"
   ]
  },
  {
   "cell_type": "code",
   "execution_count": 250,
   "metadata": {},
   "outputs": [
    {
     "name": "stdout",
     "output_type": "stream",
     "text": [
      "[9, 0]\n",
      "Solution x=0 is now 9 with fitness 6\n",
      "Solution x=9 is now 0 with fitness 15\n"
     ]
    }
   ],
   "source": [
    "pair3_1, pair3_2 = one_point_crossover(\"1011\", \"1100\", 1)\n",
    "\n",
    "new_sol_1 = solution_dict[pair3_1]\n",
    "new_sol_2 = solution_dict[pair3_2]\n",
    "\n",
    "pair3 = [new_sol_1, new_sol_2]\n",
    "pair3_vectors = [pair3_1, pair3_2]\n",
    "print(pair3)\n",
    "\n",
    "print(f\"Solution x=0 is now {new_sol_1} with fitness {fitness(new_sol_1)}\")\n",
    "print(f\"Solution x=9 is now {new_sol_2} with fitness {fitness(new_sol_2)}\")"
   ]
  },
  {
   "cell_type": "code",
   "execution_count": 279,
   "metadata": {},
   "outputs": [
    {
     "name": "stdout",
     "output_type": "stream",
     "text": [
      "Population vectors from c) is: \n",
      " ['0111', '1000', '0101', '0011', '1100', '1011']\n"
     ]
    }
   ],
   "source": [
    "c_pop_vectors = [pair1_1, pair1_2, pair2_1, pair2_2, pair3_1, pair3_2]\n",
    "print(\"Population vectors from c) is: \\n\", c_pop_vectors)"
   ]
  },
  {
   "cell_type": "code",
   "execution_count": 280,
   "metadata": {},
   "outputs": [
    {
     "name": "stdout",
     "output_type": "stream",
     "text": [
      "Population solutions from c) is: \n",
      " [12, 3, 10, 1, 9, 0]\n"
     ]
    }
   ],
   "source": [
    "c_pop_solutions = [solution_dict[vector] for vector in c_pop_vectors]\n",
    "print(\"Population solutions from c) is: \\n\", c_pop_solutions)"
   ]
  },
  {
   "cell_type": "code",
   "execution_count": 281,
   "metadata": {
    "scrolled": true
   },
   "outputs": [
    {
     "name": "stdout",
     "output_type": "stream",
     "text": [
      "Solutions    Vector      Fitness\n",
      "3            1000         30    \n",
      "1            0011         22    \n",
      "0            1011         15    \n",
      "9            1100         6     \n",
      "10           0101         -5    \n",
      "12           0111         -33   \n",
      "====================\n",
      "Total fitness: 35\n",
      "Best solution: 3 with fitness 30\n"
     ]
    }
   ],
   "source": [
    "evaluate_population(c_pop_solutions)"
   ]
  },
  {
   "cell_type": "markdown",
   "metadata": {},
   "source": [
    "For pair 1, (x=15, x=6), one point crossover at position 1 created two new vectors, \"0111\" and \"1000\". These corresponded to the solutions 12 with fitness -33, and solution 3 with fitness 30.\n",
    "\n",
    "For pair 2, (x=1, x=10), the one point crossover just resulted in them swapping, so (x=10, x=1). No new strings/solutions were created.\n",
    "\n",
    "Finally, for pair 3, (x=0, x=9), the one point crossover changed x=0 into solution 9 with fitness 6, and changed x=9 into solution 0 with fitness 15; once again, no new vectors or solutions were created.\n",
    "\n",
    "**The fitness of the population did increase as a whole.** The total fitness after crossing over was 35, while the previous population had a total fitness of -25.\n",
    "\n",
    "**The best solution also changed to be x=3 with a fitness of 30**"
   ]
  },
  {
   "cell_type": "markdown",
   "metadata": {},
   "source": [
    "# 2 d)"
   ]
  },
  {
   "cell_type": "markdown",
   "metadata": {},
   "source": [
    "New pairs are generated from population c), pairing the best fit and least fit solutions:"
   ]
  },
  {
   "cell_type": "code",
   "execution_count": 282,
   "metadata": {},
   "outputs": [
    {
     "name": "stdout",
     "output_type": "stream",
     "text": [
      "[(12, 3), (10, 1), (9, 0)]\n"
     ]
    }
   ],
   "source": [
    "# Sort c_pop_solutions\n",
    "c_pop_solutions.sort(key=fitness)\n",
    "d_pairs = generate_pairs(c_pop_solutions)\n",
    "print(d_pairs)"
   ]
  },
  {
   "cell_type": "code",
   "execution_count": 283,
   "metadata": {},
   "outputs": [
    {
     "name": "stdout",
     "output_type": "stream",
     "text": [
      "Population d) vectors after mutating position 3 from population c)  is : \n",
      " ['0110', '1000', '0100', '0010', '1100', '1010']\n"
     ]
    }
   ],
   "source": [
    "d_pop_vectors = []\n",
    "\n",
    "for vector in c_pop_vectors:\n",
    "    d_pop_vectors.append(mutate(vector, 3))\n",
    "\n",
    "print(\"Population d) vectors after mutating position 3 from population c)  is : \\n\", d_pop_vectors)"
   ]
  },
  {
   "cell_type": "code",
   "execution_count": 284,
   "metadata": {},
   "outputs": [],
   "source": [
    "# d_pair1_vectors = []\n",
    "# d_pair2_vectors = []\n",
    "# d_pair3_vectors = []\n",
    "\n",
    "# d_pair1_solutions = []\n",
    "# d_pair2_solutions = []\n",
    "# d_pair3_solutions = []\n",
    "\n",
    "# for vector in pair1_vectors:\n",
    "#     mutated_vector = mutate(vector, 3) \n",
    "#     d_pair1_vectors.append(mutated_vector)\n",
    "#     d_pair1_solutions.append(solution_dict[mutated_vector])\n",
    "\n",
    "# for vector in pair2_vectors:\n",
    "#     mutated_vector = mutate(vector, 3) \n",
    "#     d_pair2_vectors.append(mutated_vector)\n",
    "#     d_pair2_solutions.append(solution_dict[mutated_vector])\n",
    "\n",
    "# for vector in pair3_vectors:\n",
    "#     mutated_vector = mutate(vector, 3) \n",
    "#     d_pair3_vectors.append(mutated_vector)\n",
    "#     d_pair3_solutions.append(solution_dict[mutated_vector])\n",
    "\n",
    "# print(\"New pair 1 for d): \", d_pair1_solutions, d_pair1_vectors)\n",
    "# print(\"New pair 2 for d): \", d_pair2_solutions, d_pair2_vectors)\n",
    "# print(\"New pair 3 for d): \", d_pair3_solutions, d_pair3_vectors)"
   ]
  },
  {
   "cell_type": "code",
   "execution_count": 285,
   "metadata": {},
   "outputs": [
    {
     "name": "stdout",
     "output_type": "stream",
     "text": [
      "Population solutions from d) is: \n",
      " [11, 3, 8, 4, 9, 7]\n",
      "Population solutions from b) is: \n",
      " [15, 10, 9, 0, 1, 6]\n",
      "Population solutions from c) is: \n",
      " [12, 10, 9, 0, 1, 3]\n"
     ]
    }
   ],
   "source": [
    "d_pop_solutions = [solution_dict[vector] for vector in d_pop_vectors]\n",
    "print(\"Population solutions from d) is: \\n\", d_pop_solutions)\n",
    "print(\"Population solutions from b) is: \\n\", pop)\n",
    "print(\"Population solutions from c) is: \\n\", c_pop_solutions)"
   ]
  },
  {
   "cell_type": "code",
   "execution_count": 286,
   "metadata": {},
   "outputs": [
    {
     "name": "stdout",
     "output_type": "stream",
     "text": [
      "Solutions    Vector      Fitness\n",
      "4            0010         31    \n",
      "3            1000         30    \n",
      "7            1010         22    \n",
      "8            0100         15    \n",
      "9            1100         6     \n",
      "11           0110         -18   \n",
      "====================\n",
      "Total fitness: 86\n",
      "Best solution: 4 with fitness 31\n"
     ]
    }
   ],
   "source": [
    "evaluate_population(d_pop_solutions)"
   ]
  },
  {
   "cell_type": "markdown",
   "metadata": {},
   "source": [
    "**We have new solutions after mutating population C.** The new solutions are 11, 8, 4, and 7. These are solutions that have not appeared before in either Population C) or the original Population from B).\n",
    "\n",
    "The fitness of solution 11 is -18. The fitness of solution 8 is 15. The fitness of solution 4 is 31, and the fitness of solution 7 is 22.\n",
    "\n",
    "**Mutation increased the total fitness of the population, as the total fitness is now 86. Mutation also found a better solution, as the best solution is now 4 with a fitness of 31, as opposed to the previous best fitness of 30.**\n",
    "\n",
    "Pairs were not really important in this step because only mutations occurred (pairs only relevant for crossing over)"
   ]
  },
  {
   "cell_type": "markdown",
   "metadata": {},
   "source": [
    "# 2 e)"
   ]
  },
  {
   "cell_type": "code",
   "execution_count": 287,
   "metadata": {},
   "outputs": [
    {
     "data": {
      "text/plain": [
       "[11, 9, 8, 7, 3, 4]"
      ]
     },
     "execution_count": 287,
     "metadata": {},
     "output_type": "execute_result"
    }
   ],
   "source": [
    "# Sort the population from d) in ascending order by fitness\n",
    "\n",
    "d_pop_solutions.sort(key=fitness)\n",
    "d_pop_solutions"
   ]
  },
  {
   "cell_type": "code",
   "execution_count": 288,
   "metadata": {},
   "outputs": [
    {
     "data": {
      "text/plain": [
       "[4, 9, 8, 7, 3, 4]"
      ]
     },
     "execution_count": 288,
     "metadata": {},
     "output_type": "execute_result"
    }
   ],
   "source": [
    "# Replace the least fit member with a clone of the best fit member\n",
    "e_pop_solutions = d_pop_solutions.copy()\n",
    "e_pop_solutions[0] = e_pop_solutions[len(e_pop_solutions)-1]\n",
    "e_pop_solutions"
   ]
  },
  {
   "cell_type": "code",
   "execution_count": 289,
   "metadata": {},
   "outputs": [
    {
     "name": "stdout",
     "output_type": "stream",
     "text": [
      "[9, 8, 7, 3, 4, 4]\n"
     ]
    },
    {
     "data": {
      "text/plain": [
       "[(9, 4), (8, 4), (7, 3)]"
      ]
     },
     "execution_count": 289,
     "metadata": {},
     "output_type": "execute_result"
    }
   ],
   "source": [
    "# Generate pairs of best-fit and least-fit solutions\n",
    "e_pop_solutions.sort(key=fitness)\n",
    "print(e_pop_solutions)\n",
    "e_pairs = generate_pairs(e_pop_solutions)\n",
    "e_pairs"
   ]
  },
  {
   "cell_type": "code",
   "execution_count": 300,
   "metadata": {},
   "outputs": [
    {
     "name": "stdout",
     "output_type": "stream",
     "text": [
      "Old Pair is:  (9, 4)\n",
      "New Pair is now: (7, 8)\n",
      "Old Pair is:  (8, 4)\n",
      "New Pair is now: (4, 8)\n",
      "Old Pair is:  (7, 3)\n",
      "New Pair is now: (3, 7)\n",
      "Population e) vectors after two point crossing over of population d): \n",
      " ['1010', '0100', '0010', '0100', '1000', '1010']\n"
     ]
    }
   ],
   "source": [
    "# Perform 2 point cross over for each pair, exchanging the inner two elements\n",
    "# point1 = 1, point2 = 3\n",
    "\n",
    "e_pop_vectors = []\n",
    "e_pop_solutions = []\n",
    "\n",
    "for pair in e_pairs:\n",
    "    print(\"Old Pair is: \", pair)\n",
    "    vec1 = vector_dict[pair[0]]\n",
    "    vec2 = vector_dict[pair[1]]\n",
    "    new_vec1, new_vec2 = two_point_crossover(vec1, vec2, 1, 3)\n",
    "    e_pop_vectors.append(new_vec1)\n",
    "    e_pop_vectors.append(new_vec2)\n",
    "\n",
    "    solution1 = solution_dict[new_vec1]\n",
    "    solution2 = solution_dict[new_vec2]\n",
    "    e_pop_solutions.append(solution1)\n",
    "    e_pop_solutions.append(solution2)\n",
    "    print(f\"New Pair is now: ({solution1}, {solution2})\")\n",
    "    \n",
    "print(\"Population e) vectors after two point crossing over of population d): \\n\", e_pop_vectors)"
   ]
  },
  {
   "cell_type": "code",
   "execution_count": 302,
   "metadata": {},
   "outputs": [
    {
     "name": "stdout",
     "output_type": "stream",
     "text": [
      "Population solutions from b) is: \n",
      " [15, 10, 9, 0, 1, 6]\n",
      "Population solutions from c) is: \n",
      " [12, 10, 9, 0, 1, 3]\n",
      "Population solutions from d) is: \n",
      " [11, 9, 8, 7, 3, 4] \n",
      "\n",
      "Population solutions from e) is: \n",
      " [7, 8, 4, 8, 3, 7]\n"
     ]
    }
   ],
   "source": [
    "print(\"Population solutions from b) is: \\n\", pop)\n",
    "print(\"Population solutions from c) is: \\n\", c_pop_solutions)\n",
    "print(\"Population solutions from d) is: \\n\", d_pop_solutions, \"\\n\")\n",
    "print(\"Population solutions from e) is: \\n\", e_pop_solutions)"
   ]
  },
  {
   "cell_type": "code",
   "execution_count": 303,
   "metadata": {
    "scrolled": true
   },
   "outputs": [
    {
     "name": "stdout",
     "output_type": "stream",
     "text": [
      "Solutions    Vector      Fitness\n",
      "4            0010         31    \n",
      "3            1000         30    \n",
      "7            1010         22    \n",
      "7            1010         22    \n",
      "8            0100         15    \n",
      "8            0100         15    \n",
      "====================\n",
      "Total fitness: 135\n",
      "Best solution: 4 with fitness 31\n"
     ]
    }
   ],
   "source": [
    "evaluate_population(e_pop_solutions)"
   ]
  },
  {
   "cell_type": "markdown",
   "metadata": {},
   "source": [
    "**We don't have any brand new solutions, but after two point crossing over, pair (9, 4) has been replaced by pair (7, 8).** The other stayed the same, but swapped places. We have increased the total population fitness, as it is now 135 as opposed to the previous 86. We have already found the best solution of 4 with fitness 31"
   ]
  },
  {
   "cell_type": "markdown",
   "metadata": {},
   "source": [
    "# 2 f)"
   ]
  },
  {
   "cell_type": "code",
   "execution_count": 293,
   "metadata": {},
   "outputs": [
    {
     "data": {
      "text/plain": [
       "[8, 8, 7, 7, 3, 4]"
      ]
     },
     "execution_count": 293,
     "metadata": {},
     "output_type": "execute_result"
    }
   ],
   "source": [
    "# Sort the population from e) in ascending order by fitness\n",
    "\n",
    "e_pop_solutions.sort(key=fitness)\n",
    "e_pop_solutions"
   ]
  },
  {
   "cell_type": "code",
   "execution_count": 294,
   "metadata": {},
   "outputs": [
    {
     "data": {
      "text/plain": [
       "[4, 8, 7, 7, 3, 4]"
      ]
     },
     "execution_count": 294,
     "metadata": {},
     "output_type": "execute_result"
    }
   ],
   "source": [
    "# Replace the least fit member with a clone of the best fit member\n",
    "f_pop_solutions = e_pop_solutions.copy()\n",
    "f_pop_solutions[0] = f_pop_solutions[len(f_pop_solutions)-1]\n",
    "f_pop_solutions"
   ]
  },
  {
   "cell_type": "code",
   "execution_count": 295,
   "metadata": {},
   "outputs": [
    {
     "name": "stdout",
     "output_type": "stream",
     "text": [
      "[8, 7, 7, 3, 4, 4]\n"
     ]
    },
    {
     "data": {
      "text/plain": [
       "[(8, 4), (7, 4), (7, 3)]"
      ]
     },
     "execution_count": 295,
     "metadata": {},
     "output_type": "execute_result"
    }
   ],
   "source": [
    "# Generate pairs of best-fit and least-fit solutions\n",
    "f_pop_solutions.sort(key=fitness)\n",
    "print(f_pop_solutions)\n",
    "f_pairs = generate_pairs(f_pop_solutions)\n",
    "f_pairs"
   ]
  },
  {
   "cell_type": "code",
   "execution_count": 298,
   "metadata": {},
   "outputs": [
    {
     "name": "stdout",
     "output_type": "stream",
     "text": [
      "Old Pair is:  (8, 4)\n",
      "New Pair is now: (8, 4)\n",
      "Old Pair is:  (7, 4)\n",
      "New Pair is now: (7, 4)\n",
      "Old Pair is:  (7, 3)\n",
      "New Pair is now: (7, 3)\n",
      "Population f) vectors after one point crossing over between 3rd and 4th element of population e): \n",
      " ['1010', '0100', '0010', '0100', '1000', '1010']\n"
     ]
    }
   ],
   "source": [
    "# Perform one point cross over for each pair, between the 3rd and 4th elements\n",
    "# and exchange the first 3 elements of each pair\n",
    "\n",
    "f_pop_vectors = []\n",
    "f_pop_solutions = []\n",
    "\n",
    "for pair in f_pairs:\n",
    "    print(\"Old Pair is: \", pair)\n",
    "    vec1 = vector_dict[pair[0]]\n",
    "    vec2 = vector_dict[pair[1]]\n",
    "    new_vec1, new_vec2 = one_point_crossover(vec1, vec2, 3)\n",
    "    f_pop_vectors.append(new_vec1)\n",
    "    f_pop_vectors.append(new_vec2)\n",
    "\n",
    "    solution1 = solution_dict[new_vec1]\n",
    "    solution2 = solution_dict[new_vec2]\n",
    "    f_pop_solutions.append(solution1)\n",
    "    f_pop_solutions.append(solution2)\n",
    "    print(f\"New Pair is now: ({solution1}, {solution2})\")\n",
    "    \n",
    "print(\"Population f) vectors after one point crossing over between 3rd and 4th element of population e): \\n\", e_pop_vectors)\n",
    "\n",
    "# Population d) vectors ['1010', '0100', '0010', '0100', '1000', '1010']"
   ]
  },
  {
   "cell_type": "code",
   "execution_count": 299,
   "metadata": {},
   "outputs": [
    {
     "name": "stdout",
     "output_type": "stream",
     "text": [
      "Population solutions from b) is: \n",
      " [15, 10, 9, 0, 1, 6]\n",
      "Population solutions from c) is: \n",
      " [12, 10, 9, 0, 1, 3]\n",
      "Population solutions from d) is: \n",
      " [11, 9, 8, 7, 3, 4]\n",
      "Population solutions from e) is: \n",
      " [8, 8, 7, 7, 3, 4] \n",
      "\n",
      "Population solutions from f) is: \n",
      " [8, 4, 7, 4, 7, 3]\n"
     ]
    }
   ],
   "source": [
    "print(\"Population solutions from b) is: \\n\", pop)\n",
    "print(\"Population solutions from c) is: \\n\", c_pop_solutions)\n",
    "print(\"Population solutions from d) is: \\n\", d_pop_solutions)\n",
    "print(\"Population solutions from e) is: \\n\", e_pop_solutions, \"\\n\")\n",
    "print(\"Population solutions from f) is: \\n\", f_pop_solutions)"
   ]
  },
  {
   "cell_type": "code",
   "execution_count": 305,
   "metadata": {
    "scrolled": true
   },
   "outputs": [
    {
     "name": "stdout",
     "output_type": "stream",
     "text": [
      "Solutions    Vector      Fitness\n",
      "4            0010         31    \n",
      "4            0010         31    \n",
      "3            1000         30    \n",
      "7            1010         22    \n",
      "7            1010         22    \n",
      "8            0100         15    \n",
      "====================\n",
      "Total fitness: 151\n",
      "Best solution: 4 with fitness 31\n"
     ]
    }
   ],
   "source": [
    "evaluate_population(f_pop_solutions)"
   ]
  },
  {
   "cell_type": "markdown",
   "metadata": {},
   "source": [
    "**No brand new solutions were generated, and no new solutions were generated from crossing-over. However, deleting the least fit solution 8 and replacing it with another 4 increased the total population fitness from 135 to 141.** We already found the best solution of 4 with fitness 31, so we did not improve upon that."
   ]
  },
  {
   "cell_type": "markdown",
   "metadata": {},
   "source": [
    "# 2 g)\n",
    "\n",
    "The encoding of the solution space was adequate. This is because crossing-over did not tend to lose the positive characteristics of the most fit solutions, while also introducing diversity into lesser fit solutions to make them more fit. A great example of this is in *f)*, where crossing over between the 3rd and 4th elements did not cause any of the already very fit solutions to be lost, but instead simply swapped their positions in the pair. Thus, this encoding is adequate for Genetic Algorithms, as it allows the introduction of diversity for lesser fit solutions while retaining the best fitness solutions. Eventually the lesser fit solutions are competed out by the best fitness solutions, ala Darwin's theory of natural selection. "
   ]
  },
  {
   "cell_type": "code",
   "execution_count": null,
   "metadata": {},
   "outputs": [],
   "source": []
  }
 ],
 "metadata": {
  "kernelspec": {
   "display_name": "chem277b",
   "language": "python",
   "name": "chem277b"
  },
  "language_info": {
   "codemirror_mode": {
    "name": "ipython",
    "version": 3
   },
   "file_extension": ".py",
   "mimetype": "text/x-python",
   "name": "python",
   "nbconvert_exporter": "python",
   "pygments_lexer": "ipython3",
   "version": "3.10.13"
  }
 },
 "nbformat": 4,
 "nbformat_minor": 4
}
