{
 "cells": [
  {
   "cell_type": "markdown",
   "id": "db250d63",
   "metadata": {},
   "source": [
    "# Chem 277B Spring 2024 Tutorial 6\n",
    "---\n",
    "# Outline\n",
    "\n",
    "+ Principal Component Analysis (PCA) in sklearn\n",
    "+ Dropout and L2 regularization in PyTorch\n",
    "+ Dataset and DataLoader in PyTorch"
   ]
  },
  {
   "cell_type": "markdown",
   "id": "4ce1d33d",
   "metadata": {},
   "source": [
    "## MNIST Dataset"
   ]
  },
  {
   "cell_type": "code",
   "execution_count": 2,
   "id": "6f47d2a6",
   "metadata": {},
   "outputs": [
    {
     "name": "stdout",
     "output_type": "stream",
     "text": [
      "X_train shape: torch.Size([60000, 32, 32])\n",
      "X_test shape: torch.Size([10000, 32, 32])\n",
      "y_train shape: torch.Size([60000])\n",
      "y_test shape: torch.Size([10000])\n"
     ]
    }
   ],
   "source": [
    "import pickle\n",
    "import torch\n",
    "\n",
    "def load_dataset(path):\n",
    "    with open(path, 'rb') as f:\n",
    "        train_data, test_data = pickle.load(f)\n",
    "    \n",
    "    X_train = torch.tensor(train_data[0], dtype=torch.float)\n",
    "    y_train = torch.tensor(train_data[1], dtype=torch.long)\n",
    "    X_test = torch.tensor(test_data[0], dtype=torch.float)\n",
    "    y_test = torch.tensor(test_data[1], dtype=torch.long)\n",
    "    return X_train, y_train, X_test, y_test\n",
    "\n",
    "X_train, y_train, X_test, y_test = load_dataset(\"mnist.pkl\")\n",
    "print(\"X_train shape:\", X_train.shape)\n",
    "print(\"X_test shape:\", X_test.shape)\n",
    "print(\"y_train shape:\", y_train.shape)\n",
    "print(\"y_test shape:\", y_test.shape)"
   ]
  },
  {
   "cell_type": "code",
   "execution_count": 12,
   "id": "ebdd7613-1193-411c-bd63-bd4697c146a5",
   "metadata": {},
   "outputs": [
    {
     "data": {
      "text/plain": [
       "tensor(255.)"
      ]
     },
     "execution_count": 12,
     "metadata": {},
     "output_type": "execute_result"
    }
   ],
   "source": [
    "X_train[10400].max()"
   ]
  },
  {
   "cell_type": "code",
   "execution_count": null,
   "id": "0d588320",
   "metadata": {
    "scrolled": true
   },
   "outputs": [],
   "source": [
    "import matplotlib.pyplot as plt\n",
    "\n",
    "fig, axes = plt.subplots(3, 3, figsize=(5, 5))\n",
    "for i, ax in enumerate(axes.flatten()):\n",
    "    ax.imshow(X_train[i], cmap='gray')"
   ]
  },
  {
   "cell_type": "markdown",
   "id": "a005f518",
   "metadata": {},
   "source": [
    "## Principal Component Analysis (PCA)"
   ]
  },
  {
   "cell_type": "code",
   "execution_count": 14,
   "id": "22d6eacf",
   "metadata": {
    "scrolled": true
   },
   "outputs": [
    {
     "name": "stdout",
     "output_type": "stream",
     "text": [
      "torch.Size([60000, 32, 32])\n",
      "torch.Size([60000, 32, 32])\n"
     ]
    }
   ],
   "source": [
    "# Flatten the inputs & normalization\n",
    "# X_train = X_train.reshape(X_train.shape[0], -1) / torch.max(X_train)\n",
    "# X_test = X_test.reshape(X_test.shape[0], -1) / torch.max(X_test)\n",
    "X_train = X_train / torch.max(X_train)\n",
    "X_test = X_test / torch.max(X_test)\n",
    "print(X_train.shape)\n",
    "print(X_train.shape)"
   ]
  },
  {
   "cell_type": "code",
   "execution_count": 4,
   "id": "44910f17",
   "metadata": {
    "scrolled": true
   },
   "outputs": [
    {
     "name": "stdout",
     "output_type": "stream",
     "text": [
      "(60000, 256) (10000, 256)\n"
     ]
    }
   ],
   "source": [
    "from sklearn.decomposition import PCA\n",
    "\n",
    "# keeping specific number of features\n",
    "pca = PCA(n_components=256)\n",
    "# fit\n",
    "pca.fit(X_train)\n",
    "# transform\n",
    "X_train_pca = pca.transform(X_train)\n",
    "X_test_pca = pca.transform(X_test)\n",
    "print(X_train_pca.shape, X_test_pca.shape)"
   ]
  },
  {
   "cell_type": "code",
   "execution_count": 5,
   "id": "3a8491c8",
   "metadata": {
    "scrolled": true
   },
   "outputs": [
    {
     "name": "stdout",
     "output_type": "stream",
     "text": [
      "(60000, 331) (10000, 331)\n"
     ]
    }
   ],
   "source": [
    "# keeping amount of variance\n",
    "pca = PCA(n_components=0.99)\n",
    "# fit\n",
    "pca.fit(X_train)\n",
    "# transform\n",
    "X_train_pca = pca.transform(X_train)\n",
    "X_test_pca = pca.transform(X_test)\n",
    "print(X_train_pca.shape, X_test_pca.shape)"
   ]
  },
  {
   "cell_type": "code",
   "execution_count": 6,
   "id": "4ada63b7",
   "metadata": {},
   "outputs": [],
   "source": [
    "X_train_pca = torch.tensor(X_train_pca, dtype=torch.float)\n",
    "X_test_pca = torch.tensor(X_test_pca, dtype=torch.float)"
   ]
  },
  {
   "cell_type": "code",
   "execution_count": 7,
   "id": "10d9bdde",
   "metadata": {},
   "outputs": [
    {
     "name": "stdout",
     "output_type": "stream",
     "text": [
      "torch.Size([60000, 331]) torch.Size([10000, 331])\n"
     ]
    }
   ],
   "source": [
    "print(X_train_pca.shape, X_test_pca.shape)"
   ]
  },
  {
   "cell_type": "code",
   "execution_count": 8,
   "id": "f274887c",
   "metadata": {
    "scrolled": true
   },
   "outputs": [
    {
     "data": {
      "text/plain": [
       "0.990012942492929"
      ]
     },
     "execution_count": 8,
     "metadata": {},
     "output_type": "execute_result"
    }
   ],
   "source": [
    "sum(pca.explained_variance_ratio_)"
   ]
  },
  {
   "cell_type": "markdown",
   "id": "5d1c291e",
   "metadata": {},
   "source": [
    "## Dropout & L2"
   ]
  },
  {
   "cell_type": "markdown",
   "id": "b88257a6",
   "metadata": {},
   "source": [
    "Use `nn.Dropout` layer:\n",
    "\n",
    "During training, randomly zeroes some of the elements of the input tensor with probability p."
   ]
  },
  {
   "cell_type": "code",
   "execution_count": 9,
   "id": "f4de4d78",
   "metadata": {
    "scrolled": true
   },
   "outputs": [],
   "source": [
    "import torch.nn as nn\n",
    "\n",
    "\n",
    "class NetDropout(nn.Module):\n",
    "    def __init__(self):\n",
    "        super().__init__()\n",
    "        self.layers = nn.Sequential(\n",
    "            nn.Linear(331, 100),\n",
    "            nn.Dropout(p=0.1),\n",
    "            nn.Sigmoid(),\n",
    "            nn.Linear(100, 10),\n",
    "            nn.Dropout(p=0.1),\n",
    "            nn.Sigmoid()\n",
    "        )\n",
    "    \n",
    "    def forward(self, x):\n",
    "        return self.layers(x)\n",
    "\n"
   ]
  },
  {
   "cell_type": "markdown",
   "id": "eaff5bda",
   "metadata": {},
   "source": [
    "Set `weight_decay` to use L2 regularization.\n",
    "\n",
    "$$\\mathrm{Loss\\_L2} = \\mathrm{Loss} + \\lambda\\sum\\theta_i^2 $$"
   ]
  },
  {
   "cell_type": "code",
   "execution_count": 10,
   "id": "adaf22ba",
   "metadata": {
    "scrolled": true
   },
   "outputs": [],
   "source": [
    "model = NetDropout()\n",
    "optimizer = torch.optim.Adam(model.parameters(), 1e-3, weight_decay=1e-5)"
   ]
  },
  {
   "cell_type": "markdown",
   "id": "19fbfa14",
   "metadata": {},
   "source": [
    "## Dataset & DataLoader"
   ]
  },
  {
   "cell_type": "code",
   "execution_count": 11,
   "id": "dfdca82d",
   "metadata": {
    "scrolled": true
   },
   "outputs": [],
   "source": [
    "from torch.utils.data import Dataset, DataLoader\n",
    "\n",
    "\n",
    "class MnistDataset(Dataset):\n",
    "    def __init__(self, X, y):\n",
    "        self.X = X\n",
    "        self.y = y\n",
    "        \n",
    "    def __len__(self):\n",
    "        return len(self.y)\n",
    "    \n",
    "    def __getitem__(self, idx):\n",
    "        return self.X[idx], self.y[idx]"
   ]
  },
  {
   "cell_type": "code",
   "execution_count": 16,
   "id": "08a6108a",
   "metadata": {
    "scrolled": true
   },
   "outputs": [],
   "source": [
    "train_data = MnistDataset(X_train_pca, y_train)\n",
    "test_data = MnistDataset(X_test_pca, y_test)\n",
    "train_loader = DataLoader(train_data, batch_size=128, shuffle=True)\n",
    "test_loader = DataLoader(test_data, batch_size=128, shuffle=True)"
   ]
  },
  {
   "cell_type": "code",
   "execution_count": 17,
   "id": "eb9b99be",
   "metadata": {
    "scrolled": true
   },
   "outputs": [
    {
     "name": "stdout",
     "output_type": "stream",
     "text": [
      "torch.Size([128, 331]) torch.Size([128])\n"
     ]
    }
   ],
   "source": [
    "for X_batch, y_batch in train_loader:\n",
    "    print(X_batch.shape, y_batch.shape)\n",
    "    break"
   ]
  },
  {
   "cell_type": "markdown",
   "id": "be2e4c45",
   "metadata": {},
   "source": [
    "## Trainer"
   ]
  },
  {
   "cell_type": "code",
   "execution_count": 26,
   "id": "6fa8a9ab",
   "metadata": {
    "scrolled": true
   },
   "outputs": [],
   "source": [
    "import numpy as np\n",
    "from tqdm import tqdm\n",
    "\n",
    "class Trainer:\n",
    "    \n",
    "    def __init__(self, model, opt_method, learning_rate, batch_size, epoch, l2):\n",
    "        self.model = model\n",
    "        \n",
    "        if opt_method == \"adam\":\n",
    "            self.optimizer = torch.optim.Adam(model.parameters(), learning_rate, weight_decay=l2)\n",
    "        else:\n",
    "            raise NotImplementedError(\"This optimization is not supported\")\n",
    "        \n",
    "        self.epoch = epoch\n",
    "        self.batch_size = batch_size\n",
    "    \n",
    "    def train(self, train_data, val_data, early_stop=True, verbose=True, draw_curve=True):\n",
    "        train_loader = DataLoader(train_data, batch_size=self.batch_size, shuffle=True)\n",
    "        \n",
    "        train_loss_list, train_acc_list = [], []\n",
    "        val_loss_list, val_acc_list = [], []\n",
    "        weights = self.model.state_dict()\n",
    "        lowest_val_loss = np.inf\n",
    "        loss_func = nn.CrossEntropyLoss()\n",
    "        for n in tqdm(range(self.epoch), leave=False):\n",
    "            # enable train mode\n",
    "            self.model.train()\n",
    "            epoch_loss, epoch_acc = 0.0, 0.0\n",
    "            for X_batch, y_batch in train_loader:\n",
    "                # batch_importance is the ratio of batch_size \n",
    "                batch_importance = y_batch.shape[0]/len(train_data)\n",
    "                y_pred = self.model(X_batch)\n",
    "                batch_loss = loss_func(y_pred, y_batch)\n",
    "                \n",
    "                self.optimizer.zero_grad()\n",
    "                batch_loss.backward()\n",
    "                self.optimizer.step()\n",
    "                \n",
    "                epoch_loss += batch_loss.detach().cpu().item() * batch_importance\n",
    "                batch_acc = torch.sum(torch.argmax(y_pred, axis=1) == y_batch)/y_batch.shape[0]\n",
    "                epoch_acc += batch_acc.detach().cpu().item() * batch_importance\n",
    "            train_loss_list.append(epoch_loss)\n",
    "            train_acc_list.append(epoch_acc)\n",
    "            val_loss, val_acc = self.evaluate(val_data)\n",
    "            val_loss_list.append(val_loss)\n",
    "            val_acc_list.append(val_acc)\n",
    "            \n",
    "            if early_stop:\n",
    "                if val_loss < lowest_val_loss:\n",
    "                    lowest_val_loss = val_loss\n",
    "                    weights = self.model.state_dict()\n",
    "            \n",
    "        if draw_curve:\n",
    "            x_axis = np.arange(self.epoch)\n",
    "            fig, axes = plt.subplots(1, 2, figsize=(10, 4))\n",
    "            axes[0].plot(x_axis, train_loss_list, label=\"Train\")\n",
    "            axes[0].plot(x_axis, val_loss_list, label=\"Validation\")\n",
    "            axes[0].set_title(\"Loss\")\n",
    "            axes[0].legend()\n",
    "            axes[1].plot(x_axis, train_acc_list, label='Train')\n",
    "            axes[1].plot(x_axis, val_acc_list, label='Validation')\n",
    "            axes[1].set_title(\"Accuracy\")\n",
    "            axes[1].legend()\n",
    "        \n",
    "        if early_stop:\n",
    "            self.model.load_state_dict(weights)\n",
    "        \n",
    "        return {\n",
    "            \"train_loss_list\": train_loss_list,\n",
    "            \"train_acc_list\": train_acc_list,\n",
    "            \"val_loss_list\": val_loss_list,\n",
    "            \"val_acc_list\": val_acc_list,\n",
    "        }\n",
    "    \n",
    "    def evaluate(self, data, print_acc=False):\n",
    "        # enable evaluation mode\n",
    "        self.model.eval()\n",
    "        loader = DataLoader(data, batch_size=self.batch_size, shuffle=True)\n",
    "        loss_func = nn.CrossEntropyLoss()\n",
    "        acc, loss = 0.0, 0.0\n",
    "        for X_batch, y_batch in loader:\n",
    "            with torch.no_grad():\n",
    "                batch_importance = y_batch.shape[0]/len(train_data)\n",
    "                y_pred = self.model(X_batch)\n",
    "                batch_loss = loss_func(y_pred, y_batch)\n",
    "                batch_acc = torch.sum(torch.argmax(y_pred, axis=1) == y_batch)/y_batch.shape[0]\n",
    "                acc += batch_acc.detach().cpu().item() * batch_importance\n",
    "                loss += batch_loss.detach().cpu().item() * batch_importance\n",
    "        if print_acc:\n",
    "            print(f\"Accuracy: {acc:.3f}\")\n",
    "        return loss, acc         "
   ]
  },
  {
   "cell_type": "code",
   "execution_count": 27,
   "id": "fdfa8335",
   "metadata": {},
   "outputs": [
    {
     "name": "stderr",
     "output_type": "stream",
     "text": [
      "                                               \r"
     ]
    },
    {
     "data": {
      "text/plain": [
       "{'train_loss_list': [1.6345654050827023,\n",
       "  1.6256413174947117,\n",
       "  1.619539224243165,\n",
       "  1.6178119778315228,\n",
       "  1.6122155399958304,\n",
       "  1.6093794220606485,\n",
       "  1.608482451057434,\n",
       "  1.6063486288070667,\n",
       "  1.6038572382609038,\n",
       "  1.6014241783142082,\n",
       "  1.6007745227177927,\n",
       "  1.599812180264789,\n",
       "  1.597846146583558,\n",
       "  1.5972427301406853,\n",
       "  1.5956069282531724,\n",
       "  1.5947243247985832,\n",
       "  1.5936766189575198,\n",
       "  1.593202598508199,\n",
       "  1.5918138434728,\n",
       "  1.5926415494918846,\n",
       "  1.5917330230712887,\n",
       "  1.5907306164423625,\n",
       "  1.5894648267745985,\n",
       "  1.5896575952529912,\n",
       "  1.5875960771560667,\n",
       "  1.58758466536204,\n",
       "  1.5862048535664877,\n",
       "  1.586286747423808,\n",
       "  1.5872448308308928,\n",
       "  1.585802490043641,\n",
       "  1.58577879892985,\n",
       "  1.5855446199417098,\n",
       "  1.5844957898457848,\n",
       "  1.5848428560892744,\n",
       "  1.5839182889938355,\n",
       "  1.5830990733464563,\n",
       "  1.5834927261988339,\n",
       "  1.5828149834314986,\n",
       "  1.5822036504745487,\n",
       "  1.5814984322230017,\n",
       "  1.58175454451243,\n",
       "  1.5815143378575645,\n",
       "  1.5822904492060332,\n",
       "  1.5805196723302206,\n",
       "  1.5810784157435107,\n",
       "  1.5812023804346726,\n",
       "  1.5794532040913887,\n",
       "  1.5800079744338982,\n",
       "  1.5792736788431794,\n",
       "  1.5789225581487012],\n",
       " 'train_acc_list': [0.8782166666984605,\n",
       "  0.8854500000000044,\n",
       "  0.8912833333333375,\n",
       "  0.89041666669846,\n",
       "  0.8952833333651263,\n",
       "  0.8975166666666704,\n",
       "  0.9000000000000036,\n",
       "  0.9019833333015477,\n",
       "  0.9049166666348809,\n",
       "  0.9064166666984592,\n",
       "  0.9075166666666697,\n",
       "  0.9104333333651254,\n",
       "  0.912983333301547,\n",
       "  0.9121833333015469,\n",
       "  0.9136833333015468,\n",
       "  0.9153333333651251,\n",
       "  0.9166333333333356,\n",
       "  0.91691666663488,\n",
       "  0.9181666666348799,\n",
       "  0.9188333333333355,\n",
       "  0.9206000000000022,\n",
       "  0.9186333333333355,\n",
       "  0.920966666698458,\n",
       "  0.9221666666666686,\n",
       "  0.922249999968213,\n",
       "  0.924400000031791,\n",
       "  0.9245166666984577,\n",
       "  0.9244666666666684,\n",
       "  0.9242666666666685,\n",
       "  0.9261833333651242,\n",
       "  0.9251666666984576,\n",
       "  0.9269000000000017,\n",
       "  0.9269833333651242,\n",
       "  0.9297333333333346,\n",
       "  0.9265166666666683,\n",
       "  0.9292500000000012,\n",
       "  0.9295500000000015,\n",
       "  0.9300333333333348,\n",
       "  0.9310166666666677,\n",
       "  0.9311499999682122,\n",
       "  0.9327333333333343,\n",
       "  0.9309333333333345,\n",
       "  0.9315333333333344,\n",
       "  0.9333333333651236,\n",
       "  0.9324833333333344,\n",
       "  0.9327666666666676,\n",
       "  0.9350000000000008,\n",
       "  0.9331666666348787,\n",
       "  0.934700000000001,\n",
       "  0.9350666666666676],\n",
       " 'val_loss_list': [0.2588511471748352,\n",
       "  0.25773222007751473,\n",
       "  0.25691719643274935,\n",
       "  0.2563522413253785,\n",
       "  0.2558027157147726,\n",
       "  0.25547989222208656,\n",
       "  0.2551308627128602,\n",
       "  0.2547252587318421,\n",
       "  0.25442750892639165,\n",
       "  0.25422911443710333,\n",
       "  0.2540464429219565,\n",
       "  0.2537937870661418,\n",
       "  0.2536431848526002,\n",
       "  0.2534067885080974,\n",
       "  0.25320728416442884,\n",
       "  0.25312399593989054,\n",
       "  0.25289309854507447,\n",
       "  0.2528072364171346,\n",
       "  0.25273120349248246,\n",
       "  0.25260152072906494,\n",
       "  0.25241151371002196,\n",
       "  0.252415691057841,\n",
       "  0.2522326436996459,\n",
       "  0.25216817359924315,\n",
       "  0.2520019748369852,\n",
       "  0.25197507321039825,\n",
       "  0.2518450228055318,\n",
       "  0.25169793780644745,\n",
       "  0.2516503425916036,\n",
       "  0.25158187856674197,\n",
       "  0.251466447766622,\n",
       "  0.2513963534673056,\n",
       "  0.25126730022430416,\n",
       "  0.2512035391171774,\n",
       "  0.2511685480117798,\n",
       "  0.2510992826461793,\n",
       "  0.251028265062968,\n",
       "  0.25103135042190555,\n",
       "  0.250923332309723,\n",
       "  0.2508750089009603,\n",
       "  0.25078297662734994,\n",
       "  0.25076765464146933,\n",
       "  0.2507223012606303,\n",
       "  0.2506392167091371,\n",
       "  0.2505964373906454,\n",
       "  0.25054782549540205,\n",
       "  0.25052587922414143,\n",
       "  0.2505193968772888,\n",
       "  0.25040930995941174,\n",
       "  0.25038921445210777],\n",
       " 'val_acc_list': [0.15325,\n",
       "  0.15410000000000004,\n",
       "  0.1544833333333334,\n",
       "  0.15483333333333338,\n",
       "  0.15510000000000002,\n",
       "  0.1554666666666667,\n",
       "  0.15543333333333334,\n",
       "  0.15590000000000004,\n",
       "  0.1562666666666667,\n",
       "  0.15631666666666674,\n",
       "  0.15641666666666665,\n",
       "  0.15664999999999996,\n",
       "  0.15681666666666666,\n",
       "  0.15701666666666658,\n",
       "  0.15715000000000007,\n",
       "  0.1573333333333333,\n",
       "  0.15738333333333332,\n",
       "  0.15756666666666666,\n",
       "  0.15773333333333336,\n",
       "  0.1577666666666667,\n",
       "  0.15793333333333331,\n",
       "  0.1580333333333333,\n",
       "  0.1580833333333333,\n",
       "  0.1581833333333333,\n",
       "  0.1584833333333333,\n",
       "  0.15844999999999995,\n",
       "  0.1587166666666666,\n",
       "  0.15891666666666665,\n",
       "  0.1589166666666666,\n",
       "  0.15886666666666663,\n",
       "  0.1592333333333333,\n",
       "  0.15909999999999996,\n",
       "  0.1593999999999999,\n",
       "  0.15936666666666663,\n",
       "  0.15944999999999995,\n",
       "  0.15958333333333322,\n",
       "  0.15973333333333328,\n",
       "  0.15969999999999995,\n",
       "  0.15981666666666666,\n",
       "  0.15978333333333328,\n",
       "  0.15981666666666663,\n",
       "  0.16001666666666658,\n",
       "  0.15984999999999996,\n",
       "  0.1598166666666666,\n",
       "  0.1599166666666666,\n",
       "  0.1599833333333333,\n",
       "  0.1601666666666666,\n",
       "  0.16008333333333322,\n",
       "  0.1601333333333333,\n",
       "  0.16018333333333332]}"
      ]
     },
     "execution_count": 27,
     "metadata": {},
     "output_type": "execute_result"
    },
    {
     "data": {
      "image/png": "[encoded data removed]",
      "text/plain": [
       "<Figure size 1000x400 with 2 Axes>"
      ]
     },
     "metadata": {},
     "output_type": "display_data"
    }
   ],
   "source": [
    "trainer = Trainer(model, \"adam\", 1e-3, 128, 50, 1e-5)\n",
    "trainer.train(train_data,test_data)"
   ]
  },
  {
   "cell_type": "code",
   "execution_count": null,
   "id": "68e8f898",
   "metadata": {},
   "outputs": [],
   "source": []
  }
 ],
 "metadata": {
  "kernelspec": {
   "display_name": "Python 3 (ipykernel)",
   "language": "python",
   "name": "python3"
  },
  "language_info": {
   "codemirror_mode": {
    "name": "ipython",
    "version": 3
   },
   "file_extension": ".py",
   "mimetype": "text/x-python",
   "name": "python",
   "nbconvert_exporter": "python",
   "pygments_lexer": "ipython3",
   "version": "3.10.13"
  }
 },
 "nbformat": 4,
 "nbformat_minor": 5
}
