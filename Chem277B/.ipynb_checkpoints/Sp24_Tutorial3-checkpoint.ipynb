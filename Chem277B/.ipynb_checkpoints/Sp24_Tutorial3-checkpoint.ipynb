{
 "cells": [
  {
   "cell_type": "markdown",
   "id": "3a69204e",
   "metadata": {},
   "source": [
    "# Chem 277B Spring 2024 Tutorial 3\n",
    "---\n",
    "# Outline\n",
    "\n",
    "- Scikit-learn:\n",
    "    - Data preprocessing\n",
    "    - Data splitting\n",
    "- Artificial Neural Network:\n",
    "    - Activation function\n",
    "---"
   ]
  },
  {
   "cell_type": "markdown",
   "id": "d5909a0d",
   "metadata": {},
   "source": [
    "# 1. Scikit-learn\n",
    "\n",
    "A package that provides implementation of various machine learning algorithms (including supervised learning and unsupervised learning), as well as tools for data preprocessing and analysis.\n",
    "\n",
    "Documentations:\n",
    "\n",
    "+ [Scikit-learn](https://scikit-learn.org/stable/)\n",
    "+ [StandardScaler](https://scikit-learn.org/stable/modules/generated/sklearn.preprocessing.StandardScaler.html)\n",
    "+ [OneHotEncoder](https://scikit-learn.org/stable/modules/generated/sklearn.preprocessing.OneHotEncoder.html#sklearn.preprocessing.OneHotEncoder)\n",
    "+ [KFold](https://scikit-learn.org/stable/modules/generated/sklearn.model_selection.KFold.html#sklearn.model_selection.KFold)"
   ]
  },
  {
   "cell_type": "code",
   "execution_count": 1,
   "id": "37787e59-34a7-4b79-ba4f-da2d41ab7756",
   "metadata": {},
   "outputs": [
    {
     "name": "stderr",
     "output_type": "stream",
     "text": [
      "/var/folders/k8/mg372j_55z30k1z4y_8mb0w00000gn/T/ipykernel_72213/1640840549.py:1: DeprecationWarning: \n",
      "Pyarrow will become a required dependency of pandas in the next major release of pandas (pandas 3.0),\n",
      "(to allow more performant data types, such as the Arrow string type, and better interoperability with other libraries)\n",
      "but was not found to be installed on your system.\n",
      "If this would cause problems for you,\n",
      "please provide us feedback at https://github.com/pandas-dev/pandas/issues/54466\n",
      "        \n",
      "  import numpy as np, pandas as pd\n"
     ]
    },
    {
     "data": {
      "text/html": [
       "<div>\n",
       "<style scoped>\n",
       "    .dataframe tbody tr th:only-of-type {\n",
       "        vertical-align: middle;\n",
       "    }\n",
       "\n",
       "    .dataframe tbody tr th {\n",
       "        vertical-align: top;\n",
       "    }\n",
       "\n",
       "    .dataframe thead th {\n",
       "        text-align: right;\n",
       "    }\n",
       "</style>\n",
       "<table border=\"1\" class=\"dataframe\">\n",
       "  <thead>\n",
       "    <tr style=\"text-align: right;\">\n",
       "      <th></th>\n",
       "      <th>Pclass</th>\n",
       "      <th>Sex</th>\n",
       "      <th>SibSp</th>\n",
       "      <th>Parch</th>\n",
       "      <th>Embarked</th>\n",
       "      <th>Age</th>\n",
       "      <th>Fare</th>\n",
       "      <th>Survived</th>\n",
       "    </tr>\n",
       "  </thead>\n",
       "  <tbody>\n",
       "    <tr>\n",
       "      <th>0</th>\n",
       "      <td>3</td>\n",
       "      <td>male</td>\n",
       "      <td>1</td>\n",
       "      <td>0</td>\n",
       "      <td>S</td>\n",
       "      <td>22.0</td>\n",
       "      <td>7.2500</td>\n",
       "      <td>0</td>\n",
       "    </tr>\n",
       "    <tr>\n",
       "      <th>1</th>\n",
       "      <td>1</td>\n",
       "      <td>female</td>\n",
       "      <td>1</td>\n",
       "      <td>0</td>\n",
       "      <td>C</td>\n",
       "      <td>38.0</td>\n",
       "      <td>71.2833</td>\n",
       "      <td>1</td>\n",
       "    </tr>\n",
       "    <tr>\n",
       "      <th>2</th>\n",
       "      <td>3</td>\n",
       "      <td>female</td>\n",
       "      <td>0</td>\n",
       "      <td>0</td>\n",
       "      <td>S</td>\n",
       "      <td>26.0</td>\n",
       "      <td>7.9250</td>\n",
       "      <td>1</td>\n",
       "    </tr>\n",
       "    <tr>\n",
       "      <th>3</th>\n",
       "      <td>1</td>\n",
       "      <td>female</td>\n",
       "      <td>1</td>\n",
       "      <td>0</td>\n",
       "      <td>S</td>\n",
       "      <td>35.0</td>\n",
       "      <td>53.1000</td>\n",
       "      <td>1</td>\n",
       "    </tr>\n",
       "    <tr>\n",
       "      <th>4</th>\n",
       "      <td>3</td>\n",
       "      <td>male</td>\n",
       "      <td>0</td>\n",
       "      <td>0</td>\n",
       "      <td>S</td>\n",
       "      <td>35.0</td>\n",
       "      <td>8.0500</td>\n",
       "      <td>0</td>\n",
       "    </tr>\n",
       "    <tr>\n",
       "      <th>...</th>\n",
       "      <td>...</td>\n",
       "      <td>...</td>\n",
       "      <td>...</td>\n",
       "      <td>...</td>\n",
       "      <td>...</td>\n",
       "      <td>...</td>\n",
       "      <td>...</td>\n",
       "      <td>...</td>\n",
       "    </tr>\n",
       "    <tr>\n",
       "      <th>885</th>\n",
       "      <td>3</td>\n",
       "      <td>female</td>\n",
       "      <td>0</td>\n",
       "      <td>5</td>\n",
       "      <td>Q</td>\n",
       "      <td>39.0</td>\n",
       "      <td>29.1250</td>\n",
       "      <td>0</td>\n",
       "    </tr>\n",
       "    <tr>\n",
       "      <th>886</th>\n",
       "      <td>2</td>\n",
       "      <td>male</td>\n",
       "      <td>0</td>\n",
       "      <td>0</td>\n",
       "      <td>S</td>\n",
       "      <td>27.0</td>\n",
       "      <td>13.0000</td>\n",
       "      <td>0</td>\n",
       "    </tr>\n",
       "    <tr>\n",
       "      <th>887</th>\n",
       "      <td>1</td>\n",
       "      <td>female</td>\n",
       "      <td>0</td>\n",
       "      <td>0</td>\n",
       "      <td>S</td>\n",
       "      <td>19.0</td>\n",
       "      <td>30.0000</td>\n",
       "      <td>1</td>\n",
       "    </tr>\n",
       "    <tr>\n",
       "      <th>889</th>\n",
       "      <td>1</td>\n",
       "      <td>male</td>\n",
       "      <td>0</td>\n",
       "      <td>0</td>\n",
       "      <td>C</td>\n",
       "      <td>26.0</td>\n",
       "      <td>30.0000</td>\n",
       "      <td>1</td>\n",
       "    </tr>\n",
       "    <tr>\n",
       "      <th>890</th>\n",
       "      <td>3</td>\n",
       "      <td>male</td>\n",
       "      <td>0</td>\n",
       "      <td>0</td>\n",
       "      <td>Q</td>\n",
       "      <td>32.0</td>\n",
       "      <td>7.7500</td>\n",
       "      <td>0</td>\n",
       "    </tr>\n",
       "  </tbody>\n",
       "</table>\n",
       "<p>712 rows × 8 columns</p>\n",
       "</div>"
      ],
      "text/plain": [
       "     Pclass     Sex  SibSp  Parch Embarked   Age     Fare  Survived\n",
       "0         3    male      1      0        S  22.0   7.2500         0\n",
       "1         1  female      1      0        C  38.0  71.2833         1\n",
       "2         3  female      0      0        S  26.0   7.9250         1\n",
       "3         1  female      1      0        S  35.0  53.1000         1\n",
       "4         3    male      0      0        S  35.0   8.0500         0\n",
       "..      ...     ...    ...    ...      ...   ...      ...       ...\n",
       "885       3  female      0      5        Q  39.0  29.1250         0\n",
       "886       2    male      0      0        S  27.0  13.0000         0\n",
       "887       1  female      0      0        S  19.0  30.0000         1\n",
       "889       1    male      0      0        C  26.0  30.0000         1\n",
       "890       3    male      0      0        Q  32.0   7.7500         0\n",
       "\n",
       "[712 rows x 8 columns]"
      ]
     },
     "execution_count": 1,
     "metadata": {},
     "output_type": "execute_result"
    }
   ],
   "source": [
    "import numpy as np, pandas as pd\n",
    "\n",
    "df = pd.read_csv('titanic.csv')\n",
    "\n",
    "# data cleaning\n",
    "df = df[[\"Pclass\", \"Sex\", \"SibSp\", \"Parch\", \"Embarked\", \"Age\", \"Fare\", \"Survived\"]].dropna()\n",
    "df"
   ]
  },
  {
   "cell_type": "code",
   "execution_count": 2,
   "id": "6a0559b3-3745-497d-9bb7-03f1f2f5e80d",
   "metadata": {},
   "outputs": [],
   "source": [
    "# Split into categorical and continuous features\n",
    "categorical_features = df[['Pclass', 'Sex', 'Embarked', 'SibSp','Parch']] # ...\n",
    "continuous_features = df[['Age','Fare']] #..."
   ]
  },
  {
   "cell_type": "markdown",
   "id": "35d85b8a",
   "metadata": {},
   "source": [
    "## 1.1 Data preprocessing\n",
    "### Normalize continuous features\n",
    "\n",
    "$$ X_\\mathrm{scale} = \\frac{X - \\mathrm{avg}(X)}{\\mathrm{std}(X)} $$"
   ]
  },
  {
   "cell_type": "code",
   "execution_count": 3,
   "id": "bb86f0bb-c913-4a6e-adc8-dc15a9bafcc4",
   "metadata": {},
   "outputs": [
    {
     "name": "stdout",
     "output_type": "stream",
     "text": [
      "(712, 2)\n",
      "Avg: [29.6420927 34.5672514]\n",
      "Std: [14.4827517 52.9014591]\n"
     ]
    }
   ],
   "source": [
    "X_cont = continuous_features.values # n_sample * n_feature\n",
    "print(X_cont.shape)\n",
    "\n",
    "# calculate avg. and std.\n",
    "print(\"Avg:\", np.mean(X_cont, axis=0))\n",
    "print(\"Std:\", np.std(X_cont, axis=0))"
   ]
  },
  {
   "cell_type": "markdown",
   "id": "4231bc7d-aad5-4817-b6e7-da7177e8f2d2",
   "metadata": {},
   "source": [
    "### *TODO*: Normalize manually"
   ]
  },
  {
   "cell_type": "code",
   "execution_count": 4,
   "id": "239a22cb-b068-4e2f-a6d0-fcf76e38afeb",
   "metadata": {},
   "outputs": [
    {
     "name": "stdout",
     "output_type": "stream",
     "text": [
      "After normalization:\n",
      "Avg: [ 2.94396218e-16 -6.73618464e-17]\n",
      "Std: [1. 1.]\n"
     ]
    }
   ],
   "source": [
    "X_cont_norm = (X_cont - X_cont.mean(0)) / X_cont.std(0)\n",
    "\n",
    "print(\"After normalization:\")\n",
    "print(\"Avg:\", X_cont_norm.mean(0))\n",
    "print(\"Std:\", X_cont_norm.std(0))"
   ]
  },
  {
   "cell_type": "markdown",
   "id": "012bb1f5-a56f-42d9-ba86-9d2bd2be56b6",
   "metadata": {},
   "source": [
    "But we can also do it through the sklearn package using [StandardScaler](https://scikit-learn.org/stable/modules/generated/sklearn.preprocessing.StandardScaler.html) funtion"
   ]
  },
  {
   "cell_type": "code",
   "execution_count": 5,
   "id": "06357933",
   "metadata": {},
   "outputs": [
    {
     "name": "stdout",
     "output_type": "stream",
     "text": [
      "After scaling:\n",
      "Avg: [ 2.94396218e-16 -6.73618464e-17]\n",
      "Std: [1. 1.]\n"
     ]
    }
   ],
   "source": [
    "from sklearn.preprocessing import StandardScaler\n",
    "\n",
    "# scale (or normalize)\n",
    "scaler = StandardScaler()\n",
    "X_norm = scaler.fit_transform(X_cont)\n",
    "\n",
    "# avg. and std. of scaled data\n",
    "print(\"After scaling:\")\n",
    "print(\"Avg:\", np.mean(X_norm, axis=0))\n",
    "print(\"Std:\", np.std(X_norm, axis=0))"
   ]
  },
  {
   "cell_type": "markdown",
   "id": "b6d64dfe",
   "metadata": {},
   "source": [
    "### OnehotEncoder\n",
    "\n",
    "Good approach to represent categorical features"
   ]
  },
  {
   "cell_type": "markdown",
   "id": "a43a7304",
   "metadata": {},
   "source": [
    "<table>\n",
    "    <tr><td>Fruits</td><td>Label Encoding</td><td>One-hot Encoding</td></tr>\n",
    "    <tr><td>Apple</td><td>1</td><td>[0, 1]</td></tr>\n",
    "    <tr><td>Banana</td><td>2</td><td>[1, 0]</td></tr>\n",
    "</table>"
   ]
  },
  {
   "cell_type": "code",
   "execution_count": 6,
   "id": "ab467b24",
   "metadata": {},
   "outputs": [
    {
     "data": {
      "text/html": [
       "<div>\n",
       "<style scoped>\n",
       "    .dataframe tbody tr th:only-of-type {\n",
       "        vertical-align: middle;\n",
       "    }\n",
       "\n",
       "    .dataframe tbody tr th {\n",
       "        vertical-align: top;\n",
       "    }\n",
       "\n",
       "    .dataframe thead th {\n",
       "        text-align: right;\n",
       "    }\n",
       "</style>\n",
       "<table border=\"1\" class=\"dataframe\">\n",
       "  <thead>\n",
       "    <tr style=\"text-align: right;\">\n",
       "      <th></th>\n",
       "      <th>Pclass</th>\n",
       "      <th>Sex</th>\n",
       "      <th>SibSp</th>\n",
       "      <th>Parch</th>\n",
       "      <th>Embarked</th>\n",
       "      <th>Age</th>\n",
       "      <th>Fare</th>\n",
       "      <th>Survived</th>\n",
       "    </tr>\n",
       "  </thead>\n",
       "  <tbody>\n",
       "    <tr>\n",
       "      <th>0</th>\n",
       "      <td>3</td>\n",
       "      <td>male</td>\n",
       "      <td>1</td>\n",
       "      <td>0</td>\n",
       "      <td>S</td>\n",
       "      <td>22.0</td>\n",
       "      <td>7.2500</td>\n",
       "      <td>0</td>\n",
       "    </tr>\n",
       "    <tr>\n",
       "      <th>1</th>\n",
       "      <td>1</td>\n",
       "      <td>female</td>\n",
       "      <td>1</td>\n",
       "      <td>0</td>\n",
       "      <td>C</td>\n",
       "      <td>38.0</td>\n",
       "      <td>71.2833</td>\n",
       "      <td>1</td>\n",
       "    </tr>\n",
       "    <tr>\n",
       "      <th>2</th>\n",
       "      <td>3</td>\n",
       "      <td>female</td>\n",
       "      <td>0</td>\n",
       "      <td>0</td>\n",
       "      <td>S</td>\n",
       "      <td>26.0</td>\n",
       "      <td>7.9250</td>\n",
       "      <td>1</td>\n",
       "    </tr>\n",
       "    <tr>\n",
       "      <th>3</th>\n",
       "      <td>1</td>\n",
       "      <td>female</td>\n",
       "      <td>1</td>\n",
       "      <td>0</td>\n",
       "      <td>S</td>\n",
       "      <td>35.0</td>\n",
       "      <td>53.1000</td>\n",
       "      <td>1</td>\n",
       "    </tr>\n",
       "    <tr>\n",
       "      <th>4</th>\n",
       "      <td>3</td>\n",
       "      <td>male</td>\n",
       "      <td>0</td>\n",
       "      <td>0</td>\n",
       "      <td>S</td>\n",
       "      <td>35.0</td>\n",
       "      <td>8.0500</td>\n",
       "      <td>0</td>\n",
       "    </tr>\n",
       "  </tbody>\n",
       "</table>\n",
       "</div>"
      ],
      "text/plain": [
       "   Pclass     Sex  SibSp  Parch Embarked   Age     Fare  Survived\n",
       "0       3    male      1      0        S  22.0   7.2500         0\n",
       "1       1  female      1      0        C  38.0  71.2833         1\n",
       "2       3  female      0      0        S  26.0   7.9250         1\n",
       "3       1  female      1      0        S  35.0  53.1000         1\n",
       "4       3    male      0      0        S  35.0   8.0500         0"
      ]
     },
     "execution_count": 6,
     "metadata": {},
     "output_type": "execute_result"
    }
   ],
   "source": [
    "df.head()"
   ]
  },
  {
   "cell_type": "code",
   "execution_count": 7,
   "id": "2da6347f",
   "metadata": {
    "tags": []
   },
   "outputs": [
    {
     "name": "stdout",
     "output_type": "stream",
     "text": [
      "All categories:\n",
      "\n",
      "[1 2 3]\n",
      "['female' 'male']\n",
      "['C' 'Q' 'S']\n",
      "[0 1 2 3 4 5]\n",
      "[0 1 2 3 4 5 6]\n",
      "shape of one hot encoded data (712, 21)\n"
     ]
    },
    {
     "data": {
      "text/plain": [
       "array([[0., 0., 1., ..., 0., 0., 0.],\n",
       "       [1., 0., 0., ..., 0., 0., 0.],\n",
       "       [0., 0., 1., ..., 0., 0., 0.],\n",
       "       ...,\n",
       "       [1., 0., 0., ..., 0., 0., 0.],\n",
       "       [1., 0., 0., ..., 0., 0., 0.],\n",
       "       [0., 0., 1., ..., 0., 0., 0.]])"
      ]
     },
     "execution_count": 7,
     "metadata": {},
     "output_type": "execute_result"
    }
   ],
   "source": [
    "from sklearn.preprocessing import OneHotEncoder\n",
    "\n",
    "X_cate = categorical_features.values\n",
    "\n",
    "print('All categories:\\n')\n",
    "for j in range(X_cate.shape[1]):\n",
    "    print(np.unique(X_cate[:,j]))\n",
    "    \n",
    "encoder = OneHotEncoder()\n",
    "encoder.fit(X_cate)\n",
    "X_onehot = encoder.transform(X_cate).toarray()\n",
    "print('shape of one hot encoded data',X_onehot.shape)\n",
    "X_onehot"
   ]
  },
  {
   "cell_type": "code",
   "execution_count": 8,
   "id": "c343bf19-89f6-4435-b8bf-ac831dc77ff5",
   "metadata": {},
   "outputs": [
    {
     "name": "stdout",
     "output_type": "stream",
     "text": [
      "[[3 'male' 'S' 1 0]\n",
      " [1 'female' 'C' 1 0]\n",
      " [3 'female' 'S' 0 0]\n",
      " ...\n",
      " [1 'female' 'S' 0 0]\n",
      " [1 'male' 'C' 0 0]\n",
      " [3 'male' 'Q' 0 0]]\n",
      "\n",
      "[[3 'male' 'S' 1 0]\n",
      " [1 'female' 'C' 1 0]\n",
      " [3 'female' 'S' 0 0]\n",
      " ...\n",
      " [1 'female' 'S' 0 0]\n",
      " [1 'male' 'C' 0 0]\n",
      " [3 'male' 'Q' 0 0]]\n"
     ]
    }
   ],
   "source": [
    "# Decode the onehot data\n",
    "print(encoder.inverse_transform(X_onehot))\n",
    "print()\n",
    "print(X_cate)"
   ]
  },
  {
   "cell_type": "markdown",
   "id": "1f65c3c4",
   "metadata": {},
   "source": [
    "## 1.2 Data splitting"
   ]
  },
  {
   "cell_type": "markdown",
   "id": "8fa9797b",
   "metadata": {},
   "source": [
    "### Overfitting\n",
    "\n",
    "<img src=\"overfit.png\" width=\"800\"/>\n",
    "\n",
    "Split data to Train/Validation/Test set can resolve this issue to some extent:\n",
    "\n",
    "<img src=\"train_test.png\" width=\"600\" />\n",
    "\n",
    "<img src=\"earlystop.png\" width=\"400\" />"
   ]
  },
  {
   "cell_type": "markdown",
   "id": "d61e14ff",
   "metadata": {},
   "source": [
    "Prepare the Titanic data:"
   ]
  },
  {
   "cell_type": "code",
   "execution_count": 9,
   "id": "822b7778",
   "metadata": {
    "tags": []
   },
   "outputs": [
    {
     "name": "stdout",
     "output_type": "stream",
     "text": [
      "(712, 23) (712, 1)\n"
     ]
    }
   ],
   "source": [
    "# combine categorical & continuous features\n",
    "X = np.hstack((X_norm, X_onehot))\n",
    "\n",
    "# it is recommended to reshape the outputs\n",
    "# to (n_samples, 1) in order to avoid unexpected broadcasting\n",
    "Y = df['Survived'].values.reshape(-1, 1)\n",
    "\n",
    "# print the dimensions\n",
    "print(X.shape, Y.shape)"
   ]
  },
  {
   "cell_type": "markdown",
   "id": "677612bb",
   "metadata": {},
   "source": [
    "### Train-test split"
   ]
  },
  {
   "cell_type": "code",
   "execution_count": 10,
   "id": "8c1b80cd",
   "metadata": {},
   "outputs": [
    {
     "name": "stdout",
     "output_type": "stream",
     "text": [
      "(569, 23) (569, 1)\n",
      "(143, 23) (143, 1)\n"
     ]
    }
   ],
   "source": [
    "from sklearn.model_selection import train_test_split\n",
    "\n",
    "X_train,X_test,Y_train,Y_test = train_test_split(X,Y,\n",
    "                                                 test_size=0.2,\n",
    "                                                 random_state=42)\n",
    "print(X_train.shape, Y_train.shape)\n",
    "print(X_test.shape, Y_test.shape)"
   ]
  },
  {
   "cell_type": "markdown",
   "id": "04d1c435",
   "metadata": {},
   "source": [
    "### K-Fold\n",
    "\n",
    "<img src=\"kfold.png\" width=\"600\" />"
   ]
  },
  {
   "cell_type": "code",
   "execution_count": 11,
   "id": "b193971a",
   "metadata": {},
   "outputs": [
    {
     "name": "stdout",
     "output_type": "stream",
     "text": [
      "\n",
      "Fold 1:\n",
      "  Train:       index=[ 0  1  2  3  4  5  8  9 10 11 12 13 15 16 18 19]\n",
      "  Validation:  index=[ 6  7 14 17]\n",
      "\n",
      "Fold 2:\n",
      "  Train:       index=[ 2  4  5  6  7  8  9 10 11 12 13 14 15 17 18 19]\n",
      "  Validation:  index=[ 0  1  3 16]\n",
      "\n",
      "Fold 3:\n",
      "  Train:       index=[ 0  1  3  5  6  7  9 10 12 13 14 15 16 17 18 19]\n",
      "  Validation:  index=[ 2  4  8 11]\n",
      "\n",
      "Fold 4:\n",
      "  Train:       index=[ 0  1  2  3  4  5  6  7  8 10 11 14 16 17 18 19]\n",
      "  Validation:  index=[ 9 12 13 15]\n",
      "\n",
      "Fold 5:\n",
      "  Train:       index=[ 0  1  2  3  4  6  7  8  9 11 12 13 14 15 16 17]\n",
      "  Validation:  index=[ 5 10 18 19]\n"
     ]
    }
   ],
   "source": [
    "from sklearn.model_selection import KFold\n",
    "\n",
    "kf = KFold(n_splits=5,shuffle=True)\n",
    "for i, (train_index, val_index) in enumerate(kf.split(X[:20])):\n",
    "    print(f\"\\nFold {i+1}:\")\n",
    "    print(f\"  Train:       index={train_index}\")\n",
    "    print(f\"  Validation:  index={val_index}\")"
   ]
  },
  {
   "cell_type": "markdown",
   "id": "c33ebd34",
   "metadata": {},
   "source": [
    "# 2. ANN\n",
    "\n",
    "<img src=\"http://colah.github.io/posts/2014-03-NN-Manifolds-Topology/img/example_network.svg\" width=\"500\" />"
   ]
  },
  {
   "cell_type": "code",
   "execution_count": 12,
   "id": "5a6273cc",
   "metadata": {},
   "outputs": [],
   "source": [
    "import matplotlib.pyplot as plt\n",
    "\n",
    "\n",
    "def plot(func, name):\n",
    "    x = np.linspace(-5, 5, 200)\n",
    "    y = func(x)\n",
    "    fig, ax = plt.subplots(1, 1, figsize=(4, 3))\n",
    "    ax.plot(x, y)\n",
    "    ax.grid(True)\n",
    "    ax.set_title(name)"
   ]
  },
  {
   "cell_type": "markdown",
   "id": "c18f3c19",
   "metadata": {},
   "source": [
    "## 2.1 Activation Function\n",
    "\n",
    "\n",
    "<img src=\"https://media.geeksforgeeks.org/wp-content/uploads/20190410161828/newContent12.png\" width=\"600\"/>\n",
    "\n",
    "### *TODO*: Fill in the following\n",
    "### Linear\n",
    "\n",
    "$$ z(x) = x $$\n",
    "\n",
    "$$ z'(x) = 1 $$"
   ]
  },
  {
   "cell_type": "code",
   "execution_count": 16,
   "id": "ab851e6c",
   "metadata": {},
   "outputs": [
    {
     "data": {
      "image/png": "[encoded data removed]",
      "text/plain": [
       "<Figure size 400x300 with 1 Axes>"
      ]
     },
     "metadata": {},
     "output_type": "display_data"
    }
   ],
   "source": [
    "plot(lambda x: x, \"Linear\")"
   ]
  },
  {
   "cell_type": "markdown",
   "id": "76a06373",
   "metadata": {},
   "source": [
    "### Tanh\n",
    "\n",
    "$$ z(x) = \\tanh x = \\frac{e^{x}-e^{-x}}{e^{x}+e^{-x}}$$\n",
    "\n",
    "$$ z'(x) = 1 - \\tanh^2 x $$\n"
   ]
  },
  {
   "cell_type": "code",
   "execution_count": 15,
   "id": "d622da8c",
   "metadata": {},
   "outputs": [
    {
     "data": {
      "image/png": "[encoded data removed]",
      "text/plain": [
       "<Figure size 400x300 with 1 Axes>"
      ]
     },
     "metadata": {},
     "output_type": "display_data"
    }
   ],
   "source": [
    "plot(lambda x: np.tanh(x), \"tanh\")"
   ]
  },
  {
   "cell_type": "markdown",
   "id": "824359a8",
   "metadata": {},
   "source": [
    "### Sigmoid\n",
    "\n",
    "$$ z(x) = \\frac{1}{1+e^{-x}} $$\n",
    "\n",
    "$$ z'(x) = \\frac{e^{-x}}{(1+e^{-x})^2} = z(x)[1-z(x)] $$\n",
    "\n",
    "*Hint for HW3*: You are going to use this in Logistic Regression"
   ]
  },
  {
   "cell_type": "code",
   "execution_count": 17,
   "id": "e8771338",
   "metadata": {},
   "outputs": [
    {
     "data": {
      "image/png": "[encoded data removed]",
      "text/plain": [
       "<Figure size 400x300 with 1 Axes>"
      ]
     },
     "metadata": {},
     "output_type": "display_data"
    }
   ],
   "source": [
    "def sigmoid(x):\n",
    "    return 1 / (1 + np.exp(-x))\n",
    "\n",
    "plot(sigmoid, \"sigmoid\")"
   ]
  },
  {
   "cell_type": "markdown",
   "id": "01861821",
   "metadata": {},
   "source": [
    "### ReLU\n",
    "\n",
    "$$ z(x) = \\max(0, x) $$\n",
    "\n",
    "$${z'(x) = \\begin{cases}\n",
    "1 & x > 0 \\\\\n",
    "0 & x < 0\n",
    "\\end{cases}}$$"
   ]
  },
  {
   "cell_type": "code",
   "execution_count": 20,
   "id": "aa5ea81c",
   "metadata": {
    "tags": []
   },
   "outputs": [
    {
     "data": {
      "image/png": "[encoded data removed]",
      "text/plain": [
       "<Figure size 400x300 with 1 Axes>"
      ]
     },
     "metadata": {},
     "output_type": "display_data"
    }
   ],
   "source": [
    "def relu(x):\n",
    "    # return np.maximum(0, x)\n",
    "    return x * (x > 0)\n",
    "\n",
    "plot(relu, \"ReLU\")"
   ]
  },
  {
   "cell_type": "markdown",
   "id": "e48c2faa",
   "metadata": {},
   "source": [
    "### More activation functions\n",
    "[Check here](https://en.wikipedia.org/wiki/Activation_function)"
   ]
  }
 ],
 "metadata": {
  "kernelspec": {
   "display_name": "Python 3 (ipykernel)",
   "language": "python",
   "name": "python3"
  },
  "language_info": {
   "codemirror_mode": {
    "name": "ipython",
    "version": 3
   },
   "file_extension": ".py",
   "mimetype": "text/x-python",
   "name": "python",
   "nbconvert_exporter": "python",
   "pygments_lexer": "ipython3",
   "version": "3.10.5"
  }
 },
 "nbformat": 4,
 "nbformat_minor": 5
}
