{
 "cells": [
  {
   "cell_type": "markdown",
   "metadata": {},
   "source": [
    "# Chem 277B Spring 2024 Tutorial 6\n",
    "---\n",
    "# Outline\n",
    "\n",
    "+ Principal Component Analysis (PCA) in sklearn\n",
    "+ Dropout and L2 regularization in PyTorch\n",
    "+ Dataset and DataLoader in PyTorch"
   ]
  },
  {
   "cell_type": "markdown",
   "metadata": {},
   "source": [
    "## MNIST Dataset"
   ]
  },
  {
   "cell_type": "code",
   "execution_count": 1,
   "metadata": {},
   "outputs": [
    {
     "name": "stdout",
     "output_type": "stream",
     "text": [
      "X_train shape: torch.Size([60000, 32, 32])\n",
      "X_test shape: torch.Size([10000, 32, 32])\n",
      "y_train shape: torch.Size([60000])\n",
      "y_test shape: torch.Size([10000])\n"
     ]
    }
   ],
   "source": [
    "import pickle\n",
    "import torch\n",
    "\n",
    "def load_dataset(path):\n",
    "    with open(path, 'rb') as f:\n",
    "        train_data, test_data = pickle.load(f)\n",
    "    \n",
    "    X_train = torch.tensor(train_data[0], dtype=torch.float)\n",
    "    y_train = torch.tensor(train_data[1], dtype=torch.long)\n",
    "    X_test = torch.tensor(test_data[0], dtype=torch.float)\n",
    "    y_test = torch.tensor(test_data[1], dtype=torch.long)\n",
    "    return X_train, y_train, X_test, y_test\n",
    "\n",
    "X_train, y_train, X_test, y_test = load_dataset(\"../../Datasets/mnist.pkl\")\n",
    "print(\"X_train shape:\", X_train.shape)\n",
    "print(\"X_test shape:\", X_test.shape)\n",
    "print(\"y_train shape:\", y_train.shape)\n",
    "print(\"y_test shape:\", y_test.shape)"
   ]
  },
  {
   "cell_type": "code",
   "execution_count": 2,
   "metadata": {},
   "outputs": [
    {
     "data": {
      "image/png": "[encoded data removed]",
      "text/plain": [
       "<Figure size 500x500 with 9 Axes>"
      ]
     },
     "metadata": {},
     "output_type": "display_data"
    }
   ],
   "source": [
    "import matplotlib.pyplot as plt\n",
    "\n",
    "fig, axes = plt.subplots(3, 3, figsize=(5, 5))\n",
    "for i, ax in enumerate(axes.flatten()):\n",
    "    ax.imshow(X_train[i], cmap='gray')"
   ]
  },
  {
   "cell_type": "markdown",
   "metadata": {},
   "source": [
    "## Principal Component Analysis (PCA)"
   ]
  },
  {
   "cell_type": "code",
   "execution_count": 3,
   "metadata": {},
   "outputs": [
    {
     "name": "stdout",
     "output_type": "stream",
     "text": [
      "torch.Size([60000, 1024])\n"
     ]
    }
   ],
   "source": [
    "# Flatten the inputs & normalization\n",
    "X_train = X_train.reshape(X_train.shape[0], -1) / torch.max(X_train)\n",
    "X_test = X_test.reshape(X_test.shape[0], -1) / torch.max(X_test)\n",
    "print(X_train.shape)"
   ]
  },
  {
   "cell_type": "code",
   "execution_count": 4,
   "metadata": {},
   "outputs": [
    {
     "name": "stdout",
     "output_type": "stream",
     "text": [
      "(60000, 256) (10000, 256)\n"
     ]
    }
   ],
   "source": [
    "from sklearn.decomposition import PCA\n",
    "\n",
    "# keeping specific number of features\n",
    "pca = PCA(n_components=256)\n",
    "# fit\n",
    "pca.fit(X_train)\n",
    "# transform\n",
    "X_train_pca = pca.transform(X_train)\n",
    "X_test_pca = pca.transform(X_test)\n",
    "print(X_train_pca.shape, X_test_pca.shape)"
   ]
  },
  {
   "cell_type": "code",
   "execution_count": 5,
   "metadata": {},
   "outputs": [
    {
     "name": "stdout",
     "output_type": "stream",
     "text": [
      "(60000, 44) (10000, 44)\n"
     ]
    }
   ],
   "source": [
    "# keeping amount of variance\n",
    "pca = PCA(n_components=0.8)\n",
    "# fit\n",
    "pca.fit(X_train)\n",
    "# transform\n",
    "X_train_pca = pca.transform(X_train)\n",
    "X_test_pca = pca.transform(X_test)\n",
    "print(X_train_pca.shape, X_test_pca.shape)"
   ]
  },
  {
   "cell_type": "code",
   "execution_count": 25,
   "metadata": {},
   "outputs": [
    {
     "name": "stdout",
     "output_type": "stream",
     "text": [
      "torch.Size([60000, 331]) torch.Size([10000, 331])\n"
     ]
    }
   ],
   "source": [
    "# keeping amount of variance\n",
    "pca = PCA(n_components=0.99)\n",
    "# fit\n",
    "pca.fit(X_train)\n",
    "# transform\n",
    "X_train_pca = torch.tensor(pca.transform(X_train), dtype=torch.float)\n",
    "X_test_pca = torch.tensor(pca.transform(X_test), dtype=torch.float)\n",
    "print(X_train_pca.shape, X_test_pca.shape)"
   ]
  },
  {
   "cell_type": "code",
   "execution_count": 7,
   "metadata": {},
   "outputs": [
    {
     "data": {
      "text/plain": [
       "0.990012942492928"
      ]
     },
     "execution_count": 7,
     "metadata": {},
     "output_type": "execute_result"
    }
   ],
   "source": [
    "sum(pca.explained_variance_ratio_)"
   ]
  },
  {
   "cell_type": "markdown",
   "metadata": {},
   "source": [
    "## Dropout & L2"
   ]
  },
  {
   "cell_type": "markdown",
   "metadata": {},
   "source": [
    "Use `nn.Dropout` layer:\n",
    "\n",
    "During training, randomly zeroes some of the elements of the input tensor with probability p."
   ]
  },
  {
   "cell_type": "code",
   "execution_count": 8,
   "metadata": {
    "scrolled": true
   },
   "outputs": [],
   "source": [
    "import torch.nn as nn\n",
    "\n",
    "\n",
    "class NetDropout(nn.Module):\n",
    "    def __init__(self):\n",
    "        super().__init__()\n",
    "        self.layers = nn.Sequential(\n",
    "            nn.Linear(331, 100),\n",
    "            nn.Dropout(p=0.1),\n",
    "            nn.Sigmoid(),\n",
    "            nn.Linear(100, 10),\n",
    "            nn.Dropout(p=0.1),\n",
    "            nn.Sigmoid()\n",
    "        )\n",
    "    \n",
    "    def forward(self, x):\n",
    "        return self.layers(x)\n",
    "\n"
   ]
  },
  {
   "cell_type": "markdown",
   "metadata": {},
   "source": [
    "Set `weight_decay` to use L2 regularization.\n",
    "\n",
    "$$\\mathrm{Loss\\_L2} = \\mathrm{Loss} + \\lambda\\sum\\theta_i^2 $$"
   ]
  },
  {
   "cell_type": "code",
   "execution_count": 9,
   "metadata": {
    "scrolled": true
   },
   "outputs": [],
   "source": [
    "model = NetDropout()\n",
    "optimizer = torch.optim.Adam(model.parameters(), 1e-3, weight_decay=1e-5)"
   ]
  },
  {
   "cell_type": "markdown",
   "metadata": {},
   "source": [
    "## Dataset & DataLoader"
   ]
  },
  {
   "cell_type": "code",
   "execution_count": 10,
   "metadata": {
    "scrolled": true
   },
   "outputs": [],
   "source": [
    "from torch.utils.data import Dataset, DataLoader\n",
    "\n",
    "\n",
    "class MnistDataset(Dataset):\n",
    "    def __init__(self, X, y):\n",
    "        self.X = X\n",
    "        self.y = y\n",
    "        \n",
    "    def __len__(self):\n",
    "        return len(self.y)\n",
    "    \n",
    "    def __getitem__(self, idx):\n",
    "        return self.X[idx], self.y[idx]"
   ]
  },
  {
   "cell_type": "code",
   "execution_count": 22,
   "metadata": {
    "scrolled": true
   },
   "outputs": [],
   "source": [
    "train_data = MnistDataset(X_train_pca, y_train)\n",
    "test_data = MnistDataset(X_test_pca, y_test)\n",
    "train_loader = DataLoader(train_data, batch_size=128, shuffle=True)\n",
    "test_loader = DataLoader(test_data, batch_size=128, shuffle=True)"
   ]
  },
  {
   "cell_type": "code",
   "execution_count": 23,
   "metadata": {},
   "outputs": [
    {
     "name": "stdout",
     "output_type": "stream",
     "text": [
      "torch.Size([128, 331]) torch.Size([128])\n"
     ]
    }
   ],
   "source": [
    "for X_batch, y_batch in train_loader:\n",
    "    print(X_batch.shape, y_batch.shape)\n",
    "    break"
   ]
  },
  {
   "cell_type": "markdown",
   "metadata": {},
   "source": [
    "## Trainer"
   ]
  },
  {
   "cell_type": "code",
   "execution_count": 13,
   "metadata": {
    "scrolled": true
   },
   "outputs": [],
   "source": [
    "import numpy as np\n",
    "from tqdm import tqdm\n",
    "\n",
    "class Trainer:\n",
    "    \n",
    "    def __init__(self, model, opt_method, learning_rate, batch_size, epoch, l2):\n",
    "        self.model = model\n",
    "        \n",
    "        if opt_method == \"adam\":\n",
    "            self.optimizer = torch.optim.Adam(model.parameters(), learning_rate, weight_decay=l2)\n",
    "        else:\n",
    "            raise NotImplementedError(\"This optimization is not supported\")\n",
    "        \n",
    "        self.epoch = epoch\n",
    "        self.batch_size = batch_size\n",
    "    \n",
    "    def train(self, train_data, val_data, early_stop=True, verbose=True, draw_curve=True):\n",
    "        train_loader = DataLoader(train_data, batch_size=self.batch_size, shuffle=True)\n",
    "        \n",
    "        train_loss_list, train_acc_list = [], []\n",
    "        val_loss_list, val_acc_list = [], []\n",
    "        weights = self.model.state_dict()\n",
    "        lowest_val_loss = np.inf\n",
    "        loss_func = nn.CrossEntropyLoss()\n",
    "        for n in tqdm(range(self.epoch), leave=False):\n",
    "            # enable train mode\n",
    "            self.model.train()\n",
    "            epoch_loss, epoch_acc = 0.0, 0.0\n",
    "            for X_batch, y_batch in train_loader:\n",
    "                # batch_importance is the ratio of batch_size \n",
    "                batch_importance = y_batch.shape[0]/len(train_data)\n",
    "                y_pred = self.model(X_batch)\n",
    "                batch_loss = loss_func(y_pred, y_batch)\n",
    "                \n",
    "                self.optimizer.zero_grad()\n",
    "                batch_loss.backward()\n",
    "                self.optimizer.step()\n",
    "                \n",
    "                epoch_loss += batch_loss.detach().cpu().item() * batch_importance\n",
    "                batch_acc = torch.sum(torch.argmax(y_pred, axis=1) == y_batch)/y_batch.shape[0]\n",
    "                epoch_acc += batch_acc.detach().cpu().item() * batch_importance\n",
    "            train_loss_list.append(epoch_loss)\n",
    "            train_acc_list.append(epoch_acc)\n",
    "            val_loss, val_acc = self.evaluate(val_data)\n",
    "            val_loss_list.append(val_loss)\n",
    "            val_acc_list.append(val_acc)\n",
    "            \n",
    "            if early_stop:\n",
    "                if val_loss < lowest_val_loss:\n",
    "                    lowest_val_loss = val_loss\n",
    "                    weights = self.model.state_dict()\n",
    "            \n",
    "        if draw_curve:\n",
    "            x_axis = np.arange(self.epoch)\n",
    "            fig, axes = plt.subplots(1, 2, figsize=(10, 4))\n",
    "            axes[0].plot(x_axis, train_loss_list, label=\"Train\")\n",
    "            axes[0].plot(x_axis, val_loss_list, label=\"Validation\")\n",
    "            axes[0].set_title(\"Loss\")\n",
    "            axes[0].legend()\n",
    "            axes[1].plot(x_axis, train_acc_list, label='Train')\n",
    "            axes[1].plot(x_axis, val_acc_list, label='Validation')\n",
    "            axes[1].set_title(\"Accuracy\")\n",
    "            axes[1].legend()\n",
    "        \n",
    "        if early_stop:\n",
    "            self.model.load_state_dict(weights)\n",
    "        \n",
    "        return {\n",
    "            \"train_loss_list\": train_loss_list,\n",
    "            \"train_acc_list\": train_acc_list,\n",
    "            \"val_loss_list\": val_loss_list,\n",
    "            \"val_acc_list\": val_acc_list,\n",
    "        }\n",
    "    \n",
    "    def evaluate(self, data, print_acc=False):\n",
    "        # enable evaluation mode\n",
    "        self.model.eval()\n",
    "        loader = DataLoader(data, batch_size=self.batch_size, shuffle=True)\n",
    "        loss_func = nn.CrossEntropyLoss()\n",
    "        acc, loss = 0.0, 0.0\n",
    "        for X_batch, y_batch in loader:\n",
    "            with torch.no_grad():\n",
    "                batch_importance = y_batch.shape[0]/len(data)\n",
    "                y_pred = self.model(X_batch)\n",
    "                batch_loss = loss_func(y_pred, y_batch)\n",
    "                batch_acc = torch.sum(torch.argmax(y_pred, axis=1) == y_batch)/y_batch.shape[0]\n",
    "                acc += batch_acc.detach().cpu().item() * batch_importance\n",
    "                loss += batch_loss.detach().cpu().item() * batch_importance\n",
    "        if print_acc:\n",
    "            print(f\"Accuracy: {acc:.3f}\")\n",
    "        return loss, acc"
   ]
  },
  {
   "cell_type": "code",
   "execution_count": 24,
   "metadata": {},
   "outputs": [
    {
     "name": "stderr",
     "output_type": "stream",
     "text": [
      "                                                                                \r"
     ]
    },
    {
     "data": {
      "text/plain": [
       "{'train_loss_list': [1.9589413508733136,\n",
       "  1.6979944529851292,\n",
       "  1.658417829577128,\n",
       "  1.642092372830709,\n",
       "  1.632489872932434,\n",
       "  1.6259483024597174,\n",
       "  1.6210288627624516,\n",
       "  1.6161642903645832,\n",
       "  1.6134175477981552,\n",
       "  1.609638556734719,\n",
       "  1.607713858032225,\n",
       "  1.6049483494440713,\n",
       "  1.6037984334309883,\n",
       "  1.6025093236923227,\n",
       "  1.6008947247823089,\n",
       "  1.600138322512309,\n",
       "  1.5975497162501022,\n",
       "  1.5968517132441198,\n",
       "  1.5948218993504835,\n",
       "  1.5943414415995283,\n",
       "  1.5934418781916295,\n",
       "  1.5928005577087405,\n",
       "  1.5907041383743283,\n",
       "  1.591365345827739,\n",
       "  1.5902844961166382,\n",
       "  1.5878885587692255,\n",
       "  1.588135248883565,\n",
       "  1.5882901247024537,\n",
       "  1.5869292039871215,\n",
       "  1.5874797349929817,\n",
       "  1.586511718940734,\n",
       "  1.586073890686033,\n",
       "  1.5854979916890457,\n",
       "  1.5845633853276573,\n",
       "  1.584440728060405,\n",
       "  1.5840272569656366,\n",
       "  1.5837036656697567,\n",
       "  1.5840109450658177,\n",
       "  1.58236079305013,\n",
       "  1.5823286705017106,\n",
       "  1.582614103698731,\n",
       "  1.5822245972315463,\n",
       "  1.5816539251327515,\n",
       "  1.5822423657099411,\n",
       "  1.5810553207397455,\n",
       "  1.5802618272781386,\n",
       "  1.5803362429300944,\n",
       "  1.5804167945861816,\n",
       "  1.5789853116353358,\n",
       "  1.5798378203709913],\n",
       " 'train_acc_list': [0.7219999999682137,\n",
       "  0.856283333365128,\n",
       "  0.868450000000005,\n",
       "  0.8765833333333382,\n",
       "  0.883566666634882,\n",
       "  0.8864666666984602,\n",
       "  0.8899666666666708,\n",
       "  0.8926666666984598,\n",
       "  0.8963166666348815,\n",
       "  0.9000833333651262,\n",
       "  0.9006500000000035,\n",
       "  0.9049333333333366,\n",
       "  0.9062166666984593,\n",
       "  0.9067666666984593,\n",
       "  0.9089833333651255,\n",
       "  0.9097666666348804,\n",
       "  0.9126166666666693,\n",
       "  0.9143333333015469,\n",
       "  0.9141666666348801,\n",
       "  0.9167666666666691,\n",
       "  0.9173666666984582,\n",
       "  0.9160166666984584,\n",
       "  0.9200333333015464,\n",
       "  0.9192000000000021,\n",
       "  0.9214333333333352,\n",
       "  0.9227166666984579,\n",
       "  0.9236666666984579,\n",
       "  0.9237666666666686,\n",
       "  0.9235333333333352,\n",
       "  0.9243500000000018,\n",
       "  0.9236666666348794,\n",
       "  0.9252166666984576,\n",
       "  0.925900000031791,\n",
       "  0.9275166666984573,\n",
       "  0.9273500000317908,\n",
       "  0.9271499999682123,\n",
       "  0.9278666666984573,\n",
       "  0.9279000000000016,\n",
       "  0.9299333333015456,\n",
       "  0.9298333333333346,\n",
       "  0.9297999999682123,\n",
       "  0.9300333333651238,\n",
       "  0.9320000000317904,\n",
       "  0.9312833333333346,\n",
       "  0.932116666698457,\n",
       "  0.9332500000317902,\n",
       "  0.9332000000317904,\n",
       "  0.9332833333015452,\n",
       "  0.9347333333333342,\n",
       "  0.9337333333333344],\n",
       " 'val_loss_list': [1.6825395107269285,\n",
       "  1.5998859077453618,\n",
       "  1.5742119609832763,\n",
       "  1.560438219070434,\n",
       "  1.5519224267959595,\n",
       "  1.54599686717987,\n",
       "  1.5414996337890625,\n",
       "  1.5378287067413334,\n",
       "  1.5347420581817632,\n",
       "  1.5329832056045534,\n",
       "  1.5299323440551764,\n",
       "  1.5283398324966433,\n",
       "  1.5262750133514407,\n",
       "  1.5244869960784915,\n",
       "  1.5233060842514041,\n",
       "  1.5214777755737303,\n",
       "  1.5202588891983027,\n",
       "  1.5190181997299195,\n",
       "  1.5178149936676018,\n",
       "  1.5168967687606814,\n",
       "  1.515754924774169,\n",
       "  1.5149665718078615,\n",
       "  1.5140233249664317,\n",
       "  1.513305109214783,\n",
       "  1.5125209014892587,\n",
       "  1.5121351181030265,\n",
       "  1.5113684818267825,\n",
       "  1.5106148666381838,\n",
       "  1.5100302768707274,\n",
       "  1.5097713462829596,\n",
       "  1.5092801120758053,\n",
       "  1.5088166391372677,\n",
       "  1.5083837080001834,\n",
       "  1.5074066080093385,\n",
       "  1.5070541458129882,\n",
       "  1.5063223505020142,\n",
       "  1.5058412117004394,\n",
       "  1.5058119077682492,\n",
       "  1.504970390129089,\n",
       "  1.5047411657333383,\n",
       "  1.5042339258193973,\n",
       "  1.5039004085540775,\n",
       "  1.5035349870681762,\n",
       "  1.5034018270492548,\n",
       "  1.5029593801498409,\n",
       "  1.5030474849700932,\n",
       "  1.5026525066375729,\n",
       "  1.5022851734161378,\n",
       "  1.5019335657119743,\n",
       "  1.5017608734130865],\n",
       " 'val_acc_list': [0.8959999999999996,\n",
       "  0.9087000000000003,\n",
       "  0.9143000000000006,\n",
       "  0.9187000000000005,\n",
       "  0.9214000000000006,\n",
       "  0.9240000000000004,\n",
       "  0.9262000000000006,\n",
       "  0.9287000000000003,\n",
       "  0.9315000000000003,\n",
       "  0.9322000000000003,\n",
       "  0.9342000000000005,\n",
       "  0.9357,\n",
       "  0.9369999999999999,\n",
       "  0.9384,\n",
       "  0.9400000000000001,\n",
       "  0.9415000000000003,\n",
       "  0.9427,\n",
       "  0.9437000000000001,\n",
       "  0.9452999999999999,\n",
       "  0.9466999999999997,\n",
       "  0.9469,\n",
       "  0.9479999999999997,\n",
       "  0.9485999999999997,\n",
       "  0.9488999999999999,\n",
       "  0.9503999999999996,\n",
       "  0.9514999999999997,\n",
       "  0.9511,\n",
       "  0.9519999999999994,\n",
       "  0.9523999999999996,\n",
       "  0.9529000000000001,\n",
       "  0.9529999999999998,\n",
       "  0.9538999999999997,\n",
       "  0.9538999999999996,\n",
       "  0.9557999999999994,\n",
       "  0.9551999999999996,\n",
       "  0.9560999999999995,\n",
       "  0.9567999999999994,\n",
       "  0.9561999999999997,\n",
       "  0.9585999999999992,\n",
       "  0.9574999999999997,\n",
       "  0.9590999999999992,\n",
       "  0.9587999999999997,\n",
       "  0.9586999999999994,\n",
       "  0.9595999999999996,\n",
       "  0.9595999999999996,\n",
       "  0.9604999999999999,\n",
       "  0.9602999999999993,\n",
       "  0.9601999999999996,\n",
       "  0.9612999999999992,\n",
       "  0.9616999999999998]}"
      ]
     },
     "execution_count": 24,
     "metadata": {},
     "output_type": "execute_result"
    },
    {
     "data": {
      "image/png": "[encoded data removed]",
      "text/plain": [
       "<Figure size 1000x400 with 2 Axes>"
      ]
     },
     "metadata": {},
     "output_type": "display_data"
    }
   ],
   "source": [
    "trainer = Trainer(model, \"adam\", 1e-3, 128, 50, 1e-5)\n",
    "trainer.train(train_data,test_data)"
   ]
  },
  {
   "cell_type": "code",
   "execution_count": null,
   "metadata": {},
   "outputs": [],
   "source": []
  }
 ],
 "metadata": {
  "kernelspec": {
   "display_name": "chem277b",
   "language": "python",
   "name": "chem277b"
  },
  "language_info": {
   "codemirror_mode": {
    "name": "ipython",
    "version": 3
   },
   "file_extension": ".py",
   "mimetype": "text/x-python",
   "name": "python",
   "nbconvert_exporter": "python",
   "pygments_lexer": "ipython3",
   "version": "3.10.13"
  }
 },
 "nbformat": 4,
 "nbformat_minor": 5
}
