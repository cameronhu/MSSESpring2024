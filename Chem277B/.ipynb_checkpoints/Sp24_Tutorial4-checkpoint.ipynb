{
 "cells": [
  {
   "cell_type": "markdown",
   "id": "6621c4f0",
   "metadata": {},
   "source": [
    "\n",
    "# Chem 277B Spring 2024 Tutorial 4\n",
    "---\n",
    "# Outline\n",
    "\n",
    "- Installation & Introduction\n",
    "- PyTorch Tensors and auto grads\n",
    "- Building up neural network\n",
    "- Optimizers\n"
   ]
  },
  {
   "cell_type": "markdown",
   "id": "704c979e",
   "metadata": {},
   "source": [
    "## Installation & Introduction\n",
    "\n",
    "+ [Official Web site](https://pytorch.org/)\n",
    "\n",
    "+ [Installation](https://pytorch.org/get-started/locally/)\n",
    "\n",
    "\n",
    "PyTorch is an open-source machine learning library widely used for deep learning applications. Developed by Facebook's AI Research lab (FAIR), it provides a flexible and intuitive framework for building and training neural networks. PyTorch is known for its ease of use, computational efficiency, and dynamic computational graph, making it a favorite among researchers and developers for both academic and industrial applications.\n",
    "\n",
    "### Key Features of PyTorch\n",
    "\n",
    "+ **Dynamic Computational Graph**: PyTorch uses a dynamic computation graph (also known as a define-by-run paradigm), meaning the graph is built on the fly as operations are performed. This makes it more intuitive and flexible, allowing for easy changes and debugging.\n",
    "\n",
    "+ **Eager Execution**: Operations in PyTorch are executed eagerly, meaning they are computed immediately without waiting for a compiled graph of operations. This allows for more interactive and dynamic development.\n",
    "\n",
    "+ **Pythonic Nature**: PyTorch is deeply integrated with Python, making it easy to use and familiar to those with Python experience. It leverages Python’s features and libraries, allowing for seamless integration with the Python data science stack (e.g., NumPy, SciPy, Pandas).\n",
    "\n",
    "+ **Extensive Library Support**: PyTorch provides a wide range of libraries and tools for various tasks in deep learning, including computer vision (TorchVision), natural language processing (TorchText), and more. This ecosystem supports a vast array of algorithms, pre-trained models, and datasets to facilitate development and experimentation.\n",
    "\n",
    "+ **GPU Acceleration**: It supports CUDA, enabling it to leverage Nvidia GPUs for accelerated tensor computations. This makes training deep neural networks significantly faster compared to CPU-based training.\n",
    "\n",
    "+ **Community and Support**: PyTorch has a large and active community, contributing to a growing ecosystem of tools, libraries, and resources. It also enjoys robust support from major tech companies, ensuring continuous development and improvement."
   ]
  },
  {
   "cell_type": "markdown",
   "id": "32624ad4",
   "metadata": {},
   "source": [
    "## Tensors\n",
    "\n",
    "Tensors are data structure in PyTorch to manipulate data. It is very similar to numpy.ndarray, but with support for automatic differentiation and hardware acceleration (Nvidia GPU, Apple silicon)"
   ]
  },
  {
   "cell_type": "code",
   "execution_count": 3,
   "id": "15a171bb",
   "metadata": {},
   "outputs": [],
   "source": [
    "import torch"
   ]
  },
  {
   "cell_type": "code",
   "execution_count": 4,
   "id": "1555437b",
   "metadata": {},
   "outputs": [
    {
     "name": "stdout",
     "output_type": "stream",
     "text": [
      "<class 'torch.Tensor'>\n"
     ]
    },
    {
     "data": {
      "text/plain": [
       "tensor([[1., 2.],\n",
       "        [3., 4.]])"
      ]
     },
     "execution_count": 4,
     "metadata": {},
     "output_type": "execute_result"
    }
   ],
   "source": [
    "a = torch.tensor([[1, 2], [3, 4]], dtype=torch.float)\n",
    "print(type(a))\n",
    "a"
   ]
  },
  {
   "cell_type": "markdown",
   "id": "ef6bb56f",
   "metadata": {},
   "source": [
    "Bridge with NumPy"
   ]
  },
  {
   "cell_type": "code",
   "execution_count": 5,
   "id": "ded319b1",
   "metadata": {},
   "outputs": [
    {
     "data": {
      "text/plain": [
       "tensor([[1., 2.],\n",
       "        [3., 4.]], dtype=torch.float64)"
      ]
     },
     "execution_count": 5,
     "metadata": {},
     "output_type": "execute_result"
    }
   ],
   "source": [
    "import numpy as np\n",
    "\n",
    "arr = np.array([[1., 2.], [3., 4.]])\n",
    "arr_torch = torch.from_numpy(arr)\n",
    "arr_torch"
   ]
  },
  {
   "cell_type": "code",
   "execution_count": 6,
   "id": "ba7ce52b",
   "metadata": {},
   "outputs": [],
   "source": [
    "# detach() stops a tensor from tracking history in automatic differentiation\n",
    "arr_np = arr_torch.detach().numpy()"
   ]
  },
  {
   "cell_type": "markdown",
   "id": "3abb57f2",
   "metadata": {},
   "source": [
    "Generate random numbers"
   ]
  },
  {
   "cell_type": "code",
   "execution_count": 7,
   "id": "53461fc7",
   "metadata": {},
   "outputs": [
    {
     "data": {
      "text/plain": [
       "tensor([[ 1.5061,  1.5521, -1.0470,  0.9524],\n",
       "        [ 0.1724, -0.8170, -0.4362, -1.7570],\n",
       "        [-0.9271,  0.5948,  0.5426,  0.6211],\n",
       "        [ 2.5317, -0.0726,  1.2755, -0.9024]])"
      ]
     },
     "execution_count": 7,
     "metadata": {},
     "output_type": "execute_result"
    }
   ],
   "source": [
    "# normal distribution\n",
    "torch.randn(4, 4)"
   ]
  },
  {
   "cell_type": "code",
   "execution_count": 8,
   "id": "7806fffd",
   "metadata": {
    "scrolled": true
   },
   "outputs": [
    {
     "data": {
      "text/plain": [
       "tensor([[0.4538, 0.1356, 0.3053, 0.3966],\n",
       "        [0.7942, 0.2810, 0.5078, 0.0802],\n",
       "        [0.2853, 0.4896, 0.2016, 0.0923],\n",
       "        [0.2763, 0.8430, 0.4971, 0.7215]])"
      ]
     },
     "execution_count": 8,
     "metadata": {},
     "output_type": "execute_result"
    }
   ],
   "source": [
    "# uniform distribution\n",
    "torch.rand(4, 4)"
   ]
  },
  {
   "cell_type": "markdown",
   "id": "65be6374",
   "metadata": {},
   "source": [
    "Others"
   ]
  },
  {
   "cell_type": "code",
   "execution_count": 9,
   "id": "7aa69bd9",
   "metadata": {},
   "outputs": [
    {
     "data": {
      "text/plain": [
       "tensor([0, 1, 2, 3, 4])"
      ]
     },
     "execution_count": 9,
     "metadata": {},
     "output_type": "execute_result"
    }
   ],
   "source": [
    "# arange\n",
    "torch.arange(5)"
   ]
  },
  {
   "cell_type": "code",
   "execution_count": 11,
   "id": "095bfd4c",
   "metadata": {},
   "outputs": [
    {
     "data": {
      "text/plain": [
       "tensor([-4.0000, -3.1111, -2.2222, -1.3333, -0.4444,  0.4444,  1.3333,  2.2222,\n",
       "         3.1111,  4.0000])"
      ]
     },
     "execution_count": 11,
     "metadata": {},
     "output_type": "execute_result"
    }
   ],
   "source": [
    "# linspace\n",
    "torch.linspace(-4, 4, 10)"
   ]
  },
  {
   "cell_type": "code",
   "execution_count": 12,
   "id": "a8086411",
   "metadata": {},
   "outputs": [
    {
     "data": {
      "text/plain": [
       "tensor([1., 1., 1., 1., 1., 1.])"
      ]
     },
     "execution_count": 12,
     "metadata": {},
     "output_type": "execute_result"
    }
   ],
   "source": [
    "# ones & zeros\n",
    "torch.ones(6)"
   ]
  },
  {
   "cell_type": "code",
   "execution_count": 15,
   "id": "67e901b5",
   "metadata": {},
   "outputs": [
    {
     "data": {
      "text/plain": [
       "tensor([0., 0., 0., 0., 0., 0.])"
      ]
     },
     "execution_count": 15,
     "metadata": {},
     "output_type": "execute_result"
    }
   ],
   "source": [
    "torch.zeros(6)"
   ]
  },
  {
   "cell_type": "markdown",
   "id": "92cfb6b7",
   "metadata": {},
   "source": [
    "Attributes of tensors"
   ]
  },
  {
   "cell_type": "code",
   "execution_count": 19,
   "id": "43992806",
   "metadata": {},
   "outputs": [
    {
     "name": "stdout",
     "output_type": "stream",
     "text": [
      "torch.Size([3, 4])\n",
      "torch.float32\n",
      "cpu\n"
     ]
    }
   ],
   "source": [
    "tensor = torch.rand(3,4)\n",
    "\n",
    "# shape, dtype, device\n",
    "print(tensor.shape)\n",
    "print(tensor.dtype)\n",
    "print(tensor.device)"
   ]
  },
  {
   "cell_type": "markdown",
   "id": "8d28d4ac",
   "metadata": {},
   "source": [
    "Single-element tensor can use `.item()` method to get a Python float object"
   ]
  },
  {
   "cell_type": "code",
   "execution_count": 20,
   "id": "f44dfe50",
   "metadata": {},
   "outputs": [
    {
     "name": "stdout",
     "output_type": "stream",
     "text": [
      "<class 'float'>\n"
     ]
    }
   ],
   "source": [
    "a = torch.tensor([4.])\n",
    "print(type(a.item()))"
   ]
  },
  {
   "cell_type": "markdown",
   "id": "fc72e276",
   "metadata": {},
   "source": [
    "**PyTorch** can work on different hardwares"
   ]
  },
  {
   "cell_type": "code",
   "execution_count": 22,
   "id": "30a01e09",
   "metadata": {},
   "outputs": [],
   "source": [
    "device = (\n",
    "    \"cuda\"\n",
    "    if torch.cuda.is_available()\n",
    "    else \"mps\"\n",
    "    if torch.backends.mps.is_available()\n",
    "    else \"cpu\"\n",
    ")\n",
    "\n",
    "# send the tensor to device\n",
    "tensor_device = tensor.to(device)\n",
    "\n",
    "# send the tensor back to cpu\n",
    "tensor_cpu = tensor.cpu()"
   ]
  },
  {
   "cell_type": "markdown",
   "id": "03ab2752",
   "metadata": {},
   "source": [
    "### Autograd"
   ]
  },
  {
   "cell_type": "code",
   "execution_count": 23,
   "id": "e8df3659",
   "metadata": {},
   "outputs": [
    {
     "data": {
      "text/plain": [
       "tensor([[2., 4.],\n",
       "        [6., 8.]])"
      ]
     },
     "execution_count": 23,
     "metadata": {},
     "output_type": "execute_result"
    }
   ],
   "source": [
    "x = torch.tensor([[1, 2], [3, 4]], dtype=torch.float, requires_grad=True)\n",
    "y = torch.sum(x ** 2)\n",
    "# backward\n",
    "y.backward()\n",
    "# get grad\n",
    "x.grad"
   ]
  },
  {
   "cell_type": "markdown",
   "id": "636afaa8",
   "metadata": {},
   "source": [
    "## Build Neural Network with PyTorch"
   ]
  },
  {
   "cell_type": "code",
   "execution_count": 24,
   "id": "26d9e72d",
   "metadata": {},
   "outputs": [],
   "source": [
    "import torch.nn as nn"
   ]
  },
  {
   "cell_type": "markdown",
   "id": "07984868",
   "metadata": {},
   "source": [
    "### Activation Functions"
   ]
  },
  {
   "cell_type": "code",
   "execution_count": 29,
   "id": "d9a2f0a8",
   "metadata": {},
   "outputs": [
    {
     "name": "stdout",
     "output_type": "stream",
     "text": [
      "tensor([[-4.4536, -3.6808],\n",
      "        [ 4.2285,  0.9234],\n",
      "        [-2.8912,  0.2049]])\n",
      "ReLU: tensor([[0.0000, 0.0000],\n",
      "        [4.2285, 0.9234],\n",
      "        [0.0000, 0.2049]])\n",
      "Tanh: tensor([[-0.9997, -0.9987],\n",
      "        [ 0.9996,  0.7275],\n",
      "        [-0.9939,  0.2021]])\n",
      "Sigmoid: tensor([[0.0115, 0.0246],\n",
      "        [0.9856, 0.7157],\n",
      "        [0.0526, 0.5510]])\n",
      "Softmax: tensor([[0.3159, 0.6841],\n",
      "        [0.9646, 0.0354],\n",
      "        [0.0433, 0.9567]])\n"
     ]
    }
   ],
   "source": [
    "tensor = 5 * (torch.rand(3, 2) * 2 - 1)\n",
    "print(tensor)\n",
    "\n",
    "# ReLU\n",
    "relu = nn.ReLU()\n",
    "print(\"ReLU:\", relu(tensor))\n",
    "\n",
    "# Tanh\n",
    "tanh = nn.Tanh()\n",
    "print(\"Tanh:\", tanh(tensor))\n",
    "\n",
    "# Sigmoid\n",
    "sigmoid = nn.Sigmoid()\n",
    "print(\"Sigmoid:\", sigmoid(tensor))\n",
    "\n",
    "# Softmax\n",
    "softmax = nn.Softmax(dim=1)\n",
    "print('Softmax:', softmax(tensor))"
   ]
  },
  {
   "cell_type": "markdown",
   "id": "cd30c557",
   "metadata": {},
   "source": [
    "### Loss functions"
   ]
  },
  {
   "cell_type": "code",
   "execution_count": 31,
   "id": "45f38ac9",
   "metadata": {},
   "outputs": [
    {
     "name": "stdout",
     "output_type": "stream",
     "text": [
      "tensor(0.0510)\n",
      "tensor(0.8622)\n"
     ]
    }
   ],
   "source": [
    "# mse\n",
    "mse = nn.MSELoss()\n",
    "a, b = torch.rand(5, 2), torch.rand(5, 2)\n",
    "print(mse(a, b))\n",
    "\n",
    "# cross-entropy\n",
    "cross_entropy = nn.CrossEntropyLoss()\n",
    "a = torch.rand(10, 2)\n",
    "b = torch.randint(2, (10,))\n",
    "print(cross_entropy(a, b))"
   ]
  },
  {
   "cell_type": "markdown",
   "id": "8de5605c",
   "metadata": {},
   "source": [
    "### Neural Network"
   ]
  },
  {
   "cell_type": "code",
   "execution_count": 33,
   "id": "32535670",
   "metadata": {},
   "outputs": [
    {
     "data": {
      "text/plain": [
       "Net(\n",
       "  (layers): Sequential(\n",
       "    (0): Linear(in_features=13, out_features=3, bias=True)\n",
       "    (1): ReLU()\n",
       "    (2): Linear(in_features=3, out_features=3, bias=True)\n",
       "    (3): Softmax(dim=1)\n",
       "  )\n",
       ")"
      ]
     },
     "execution_count": 33,
     "metadata": {},
     "output_type": "execute_result"
    }
   ],
   "source": [
    "class Net(nn.Module):\n",
    "    def __init__(self):\n",
    "        super().__init__()\n",
    "        # create a net with one hidden layer\n",
    "        # input_dim 13, hidden_dim 3, output_dim 3\n",
    "        # use ReLU and softmax activation func\n",
    "        self.layers = nn.Sequential(\n",
    "            nn.Linear(13, 3),\n",
    "            nn.ReLU(),\n",
    "            nn.Linear(3, 3),\n",
    "            nn.Softmax(dim=1)\n",
    "        )\n",
    "    \n",
    "    def forward(self, X):\n",
    "        return self.layers(X)\n",
    "    \n",
    "\n",
    "model = Net()\n",
    "model"
   ]
  },
  {
   "cell_type": "code",
   "execution_count": 34,
   "id": "a9fa2b16",
   "metadata": {},
   "outputs": [
    {
     "name": "stdout",
     "output_type": "stream",
     "text": [
      "Layer: layers.0.weight | Size: torch.Size([3, 13]) | Values : tensor([[ 1.4970e-01,  1.9379e-01, -9.0148e-03, -1.7468e-01, -7.0514e-03,\n",
      "          2.5876e-01, -1.6496e-01,  3.2200e-02,  2.7713e-01, -7.9044e-02,\n",
      "          2.1192e-01, -1.1687e-01, -9.4473e-02],\n",
      "        [-1.1988e-01,  2.6266e-01, -2.7326e-01,  3.7626e-02,  6.1010e-03,\n",
      "          1.1791e-01,  1.8273e-01,  2.6510e-02,  2.3690e-01,  1.5921e-01,\n",
      "         -1.0735e-01,  1.0431e-01, -1.3671e-01],\n",
      "        [-8.7143e-02,  6.0707e-02,  2.5314e-01, -1.8690e-04, -1.8122e-01,\n",
      "         -2.6005e-01,  8.0267e-03,  9.1560e-02,  3.6584e-02, -1.1889e-01,\n",
      "          2.4024e-01, -7.0544e-03, -6.0306e-02]]) \n",
      "\n",
      "Layer: layers.0.bias | Size: torch.Size([3]) | Values : tensor([0.1372, 0.1276, 0.1171]) \n",
      "\n",
      "Layer: layers.2.weight | Size: torch.Size([3, 3]) | Values : tensor([[ 0.2973,  0.2046,  0.2851],\n",
      "        [-0.1045, -0.3047, -0.0849],\n",
      "        [ 0.4997,  0.4337,  0.5680]]) \n",
      "\n",
      "Layer: layers.2.bias | Size: torch.Size([3]) | Values : tensor([0.0160, 0.3679, 0.2519]) \n",
      "\n"
     ]
    }
   ],
   "source": [
    "for name, param in model.named_parameters():\n",
    "    print(f\"Layer: {name} | Size: {param.size()} | Values : {param.data} \\n\")"
   ]
  },
  {
   "cell_type": "code",
   "execution_count": 35,
   "id": "d6a37984",
   "metadata": {},
   "outputs": [
    {
     "name": "stdout",
     "output_type": "stream",
     "text": [
      "tensor([[0.2821, 0.2517, 0.4662],\n",
      "        [0.2887, 0.2284, 0.4829],\n",
      "        [0.2880, 0.2503, 0.4617]], grad_fn=<SoftmaxBackward0>)\n"
     ]
    }
   ],
   "source": [
    "X = torch.rand(3, 13)\n",
    "y = model(X)\n",
    "print(y)"
   ]
  },
  {
   "cell_type": "markdown",
   "id": "6f280421",
   "metadata": {},
   "source": [
    "## Optimization"
   ]
  },
  {
   "cell_type": "code",
   "execution_count": 38,
   "id": "76945599",
   "metadata": {},
   "outputs": [
    {
     "data": {
      "text/html": [
       "<div>\n",
       "<style scoped>\n",
       "    .dataframe tbody tr th:only-of-type {\n",
       "        vertical-align: middle;\n",
       "    }\n",
       "\n",
       "    .dataframe tbody tr th {\n",
       "        vertical-align: top;\n",
       "    }\n",
       "\n",
       "    .dataframe thead th {\n",
       "        text-align: right;\n",
       "    }\n",
       "</style>\n",
       "<table border=\"1\" class=\"dataframe\">\n",
       "  <thead>\n",
       "    <tr style=\"text-align: right;\">\n",
       "      <th></th>\n",
       "      <th>Alcohol %</th>\n",
       "      <th>Malic Acid</th>\n",
       "      <th>Ash</th>\n",
       "      <th>Alkalinity</th>\n",
       "      <th>Mg</th>\n",
       "      <th>Phenols</th>\n",
       "      <th>Flavanoids</th>\n",
       "      <th>Phenols.1</th>\n",
       "      <th>Proantho-cyanins</th>\n",
       "      <th>Color intensity</th>\n",
       "      <th>Hue</th>\n",
       "      <th>OD280 315</th>\n",
       "      <th>Proline</th>\n",
       "      <th>Start assignment</th>\n",
       "      <th>ranking</th>\n",
       "    </tr>\n",
       "  </thead>\n",
       "  <tbody>\n",
       "    <tr>\n",
       "      <th>0</th>\n",
       "      <td>14.23</td>\n",
       "      <td>1.71</td>\n",
       "      <td>2.43</td>\n",
       "      <td>15.6</td>\n",
       "      <td>127</td>\n",
       "      <td>2.8</td>\n",
       "      <td>3.06</td>\n",
       "      <td>0.28</td>\n",
       "      <td>2.29</td>\n",
       "      <td>5.64</td>\n",
       "      <td>1.04</td>\n",
       "      <td>3.92</td>\n",
       "      <td>1065</td>\n",
       "      <td>1</td>\n",
       "      <td>1</td>\n",
       "    </tr>\n",
       "    <tr>\n",
       "      <th>1</th>\n",
       "      <td>13.24</td>\n",
       "      <td>2.59</td>\n",
       "      <td>2.87</td>\n",
       "      <td>21.0</td>\n",
       "      <td>118</td>\n",
       "      <td>2.8</td>\n",
       "      <td>2.69</td>\n",
       "      <td>0.39</td>\n",
       "      <td>1.82</td>\n",
       "      <td>4.32</td>\n",
       "      <td>1.04</td>\n",
       "      <td>2.93</td>\n",
       "      <td>735</td>\n",
       "      <td>1</td>\n",
       "      <td>1</td>\n",
       "    </tr>\n",
       "    <tr>\n",
       "      <th>2</th>\n",
       "      <td>14.83</td>\n",
       "      <td>1.64</td>\n",
       "      <td>2.17</td>\n",
       "      <td>14.0</td>\n",
       "      <td>97</td>\n",
       "      <td>2.8</td>\n",
       "      <td>2.98</td>\n",
       "      <td>0.29</td>\n",
       "      <td>1.98</td>\n",
       "      <td>5.20</td>\n",
       "      <td>1.08</td>\n",
       "      <td>2.85</td>\n",
       "      <td>1045</td>\n",
       "      <td>1</td>\n",
       "      <td>1</td>\n",
       "    </tr>\n",
       "    <tr>\n",
       "      <th>3</th>\n",
       "      <td>14.12</td>\n",
       "      <td>1.48</td>\n",
       "      <td>2.32</td>\n",
       "      <td>16.8</td>\n",
       "      <td>95</td>\n",
       "      <td>2.2</td>\n",
       "      <td>2.43</td>\n",
       "      <td>0.26</td>\n",
       "      <td>1.57</td>\n",
       "      <td>5.00</td>\n",
       "      <td>1.17</td>\n",
       "      <td>2.82</td>\n",
       "      <td>1280</td>\n",
       "      <td>1</td>\n",
       "      <td>1</td>\n",
       "    </tr>\n",
       "    <tr>\n",
       "      <th>4</th>\n",
       "      <td>13.75</td>\n",
       "      <td>1.73</td>\n",
       "      <td>2.41</td>\n",
       "      <td>16.0</td>\n",
       "      <td>89</td>\n",
       "      <td>2.6</td>\n",
       "      <td>2.76</td>\n",
       "      <td>0.29</td>\n",
       "      <td>1.81</td>\n",
       "      <td>5.60</td>\n",
       "      <td>1.15</td>\n",
       "      <td>2.90</td>\n",
       "      <td>1320</td>\n",
       "      <td>1</td>\n",
       "      <td>1</td>\n",
       "    </tr>\n",
       "  </tbody>\n",
       "</table>\n",
       "</div>"
      ],
      "text/plain": [
       "   Alcohol %  Malic Acid   Ash  Alkalinity   Mg  Phenols  Flavanoids  \\\n",
       "0      14.23        1.71  2.43        15.6  127      2.8        3.06   \n",
       "1      13.24        2.59  2.87        21.0  118      2.8        2.69   \n",
       "2      14.83        1.64  2.17        14.0   97      2.8        2.98   \n",
       "3      14.12        1.48  2.32        16.8   95      2.2        2.43   \n",
       "4      13.75        1.73  2.41        16.0   89      2.6        2.76   \n",
       "\n",
       "   Phenols.1  Proantho-cyanins  Color intensity   Hue  OD280 315  Proline  \\\n",
       "0       0.28              2.29             5.64  1.04       3.92     1065   \n",
       "1       0.39              1.82             4.32  1.04       2.93      735   \n",
       "2       0.29              1.98             5.20  1.08       2.85     1045   \n",
       "3       0.26              1.57             5.00  1.17       2.82     1280   \n",
       "4       0.29              1.81             5.60  1.15       2.90     1320   \n",
       "\n",
       "   Start assignment  ranking  \n",
       "0                 1        1  \n",
       "1                 1        1  \n",
       "2                 1        1  \n",
       "3                 1        1  \n",
       "4                 1        1  "
      ]
     },
     "execution_count": 38,
     "metadata": {},
     "output_type": "execute_result"
    }
   ],
   "source": [
    "import pandas as pd\n",
    "from sklearn.preprocessing import StandardScaler\n",
    "from sklearn.model_selection import train_test_split\n",
    "\n",
    "df = pd.read_csv(\"wines.csv\")\n",
    "df.head()"
   ]
  },
  {
   "cell_type": "code",
   "execution_count": 40,
   "id": "378c0482",
   "metadata": {
    "scrolled": true
   },
   "outputs": [
    {
     "name": "stdout",
     "output_type": "stream",
     "text": [
      "1.1370505094528198\n",
      "1.1359128952026367\n",
      "1.1347821950912476\n",
      "1.1336588859558105\n",
      "1.1325392723083496\n",
      "1.1313978433609009\n",
      "1.1302647590637207\n",
      "1.1291391849517822\n",
      "1.1280276775360107\n",
      "1.1269327402114868\n",
      "1.1258574724197388\n",
      "1.1247683763504028\n",
      "1.123687744140625\n",
      "1.1226146221160889\n",
      "1.1215488910675049\n",
      "1.120490550994873\n",
      "1.119441032409668\n",
      "1.1184029579162598\n",
      "1.1173787117004395\n",
      "1.1163653135299683\n",
      "1.115361213684082\n",
      "1.114367127418518\n",
      "1.113383412361145\n",
      "1.1123921871185303\n",
      "1.111432433128357\n",
      "1.1104927062988281\n",
      "1.1095753908157349\n",
      "1.108666181564331\n",
      "1.1077618598937988\n",
      "1.1068756580352783\n",
      "1.1060177087783813\n",
      "1.1051641702651978\n",
      "1.1042935848236084\n",
      "1.1034016609191895\n",
      "1.102513313293457\n",
      "1.1016294956207275\n",
      "1.1007494926452637\n",
      "1.09987211227417\n",
      "1.0990054607391357\n",
      "1.0981426239013672\n",
      "1.0972955226898193\n",
      "1.09645414352417\n",
      "1.0956145524978638\n",
      "1.0947521924972534\n",
      "1.0938698053359985\n",
      "1.0929876565933228\n",
      "1.0921039581298828\n",
      "1.0912169218063354\n",
      "1.0903290510177612\n",
      "1.0894485712051392\n"
     ]
    }
   ],
   "source": [
    "features = df.drop(['Start assignment', 'ranking'], axis=1).values\n",
    "X = StandardScaler().fit_transform(features)\n",
    "X = torch.tensor(X, dtype=torch.float32)\n",
    "y = torch.tensor(df['ranking'].values - 1)\n",
    "\n",
    "X_train, X_test, y_train, y_test = train_test_split(X, y, test_size=0.2)\n",
    "\n",
    "# define loss\n",
    "loss_func = nn.CrossEntropyLoss()\n",
    "\n",
    "# define optimizer\n",
    "optimizer = torch.optim.Adam(model.parameters(), lr=1E-3)\n",
    "\n",
    "epochs = 50\n",
    "for _ in range(epochs):\n",
    "    y_pred = model(X_train)\n",
    "    loss = loss_func(y_pred, y_train)\n",
    "    optimizer.zero_grad()\n",
    "    loss.backward()\n",
    "    optimizer.step()\n",
    "    \n",
    "    with torch.no_grad():\n",
    "        test_loss = loss_func(model(X_test), y_test)\n",
    "        print(test_loss.item())"
   ]
  },
  {
   "cell_type": "code",
   "execution_count": null,
   "id": "c7ad1056",
   "metadata": {},
   "outputs": [],
   "source": []
  }
 ],
 "metadata": {
  "kernelspec": {
   "display_name": "Python 3 (ipykernel)",
   "language": "python",
   "name": "python3"
  },
  "language_info": {
   "codemirror_mode": {
    "name": "ipython",
    "version": 3
   },
   "file_extension": ".py",
   "mimetype": "text/x-python",
   "name": "python",
   "nbconvert_exporter": "python",
   "pygments_lexer": "ipython3",
   "version": "3.10.13"
  }
 },
 "nbformat": 4,
 "nbformat_minor": 5
}
