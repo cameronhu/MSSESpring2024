{
 "cells": [
  {
   "cell_type": "markdown",
   "metadata": {},
   "source": [
    "# Chem 277B Spring 2024 Tutorial 7\n",
    "---\n",
    "# Outline\n",
    "\n",
    "+ Convolutional Neural Network (CNN):\n",
    "    + Hyperparamters in CNN: channels, padding, stride, dilation\n",
    "    + Pooling\n",
    "    + CNN in PyTorch\n",
    "+ Residual Network\n",
    "+ Batch Normalization"
   ]
  },
  {
   "cell_type": "markdown",
   "metadata": {},
   "source": [
    "# HW6 - Helper function\n",
    "\n",
    "\n",
    "You can use the following decorator to report time:"
   ]
  },
  {
   "cell_type": "code",
   "execution_count": null,
   "metadata": {},
   "outputs": [],
   "source": [
    "import time\n",
    "\n",
    "def timeit(f):\n",
    "\n",
    "    def timed(*args, **kw):\n",
    "\n",
    "        ts = time.time()\n",
    "        result = f(*args, **kw)\n",
    "        te = time.time()\n",
    "\n",
    "        print(f'func:{f.__name__} took: {te-ts:.4f} sec')\n",
    "        return result\n",
    "\n",
    "    return timed\n",
    "\n",
    "@timeit\n",
    "def sleep(sec):\n",
    "    return time.sleep(sec)\n",
    "\n",
    "sleep(0.1)"
   ]
  },
  {
   "cell_type": "code",
   "execution_count": null,
   "metadata": {},
   "outputs": [],
   "source": [
    "class Trainer:\n",
    "    \n",
    "    def __init__(self, model, opt_method, learning_rate, batch_size, epoch, l2):\n",
    "        self.model = model\n",
    "        \n",
    "        if opt_method == \"adam\":\n",
    "            self.optimizer = torch.optim.Adam(model.parameters(), learning_rate, weight_decay=l2)\n",
    "        else:\n",
    "            raise NotImplementedError(\"This optimization is not supported\")\n",
    "        \n",
    "        self.epoch = epoch\n",
    "        self.batch_size = batch_size\n",
    "    \n",
    "    @timeit\n",
    "    def train(self, train_data, val_data, early_stop=True, verbose=True, draw_curve=True):\n",
    "        train_loader = DataLoader(train_data, batch_size=self.batch_size, shuffle=True)\n",
    "        \n",
    "        train_loss_list, train_acc_list = [], []\n",
    "        val_loss_list, val_acc_list = [], []\n",
    "        weights = self.model.state_dict()\n",
    "        lowest_val_loss = np.inf\n",
    "        loss_func = nn.CrossEntropyLoss()\n",
    "        for n in tqdm(range(self.epoch), leave=False):\n",
    "            # enable train mode\n",
    "            self.model.train()\n",
    "            epoch_loss, epoch_acc = 0.0, 0.0\n",
    "            for X_batch, y_batch in train_loader:\n",
    "                # batch_importance is the ratio of batch_size \n",
    "                batch_importance = y_batch.shape[0]/len(train_data)\n",
    "                y_pred = self.model(X_batch)\n",
    "                batch_loss = loss_func(y_pred, y_batch)\n",
    "                \n",
    "                self.optimizer.zero_grad()\n",
    "                batch_loss.backward()\n",
    "                self.optimizer.step()\n",
    "                \n",
    "                epoch_loss += batch_loss.detach().cpu().item() * batch_importance\n",
    "                batch_acc = torch.sum(torch.argmax(y_pred, axis=1) == y_batch)/y_batch.shape[0]\n",
    "                epoch_acc += batch_acc.detach().cpu().item() * batch_importance\n",
    "                \n",
    "                \n",
    "#             train_loss_list.append(epoch_loss)\n",
    "#             train_acc_list.append(epoch_acc)\n",
    "            # previous way to report might get low acc due to dropout\n",
    "            train_loss, train_acc = self.evaluate(train_data)\n",
    "    \n",
    "            val_loss, val_acc = self.evaluate(val_data)\n",
    "            val_loss_list.append(val_loss)\n",
    "            val_acc_list.append(val_acc)\n",
    "            \n",
    "            if early_stop:\n",
    "                if val_loss < lowest_val_loss:\n",
    "                    lowest_val_loss = val_loss\n",
    "                    weights = self.model.state_dict()\n",
    "            \n",
    "        if draw_curve:\n",
    "            x_axis = np.arange(self.epoch)\n",
    "            fig, axes = plt.subplots(1, 2, figsize=(10, 4))\n",
    "            axes[0].plot(x_axis, train_loss_list, label=\"Train\")\n",
    "            axes[0].plot(x_axis, val_loss_list, label=\"Validation\")\n",
    "            axes[0].set_title(\"Loss\")\n",
    "            axes[0].legend()\n",
    "            axes[1].plot(x_axis, train_acc_list, label='Train')\n",
    "            axes[1].plot(x_axis, val_acc_list, label='Validation')\n",
    "            axes[1].set_title(\"Accuracy\")\n",
    "            axes[1].legend()\n",
    "        \n",
    "        if early_stop:\n",
    "            self.model.load_state_dict(weights)\n",
    "        \n",
    "        return {\n",
    "            \"train_loss_list\": train_loss_list,\n",
    "            \"train_acc_list\": train_acc_list,\n",
    "            \"val_loss_list\": val_loss_list,\n",
    "            \"val_acc_list\": val_acc_list,\n",
    "        }\n",
    "    \n",
    "    def evaluate(self, data, print_acc=False):\n",
    "        # enable evaluation mode\n",
    "        self.model.eval()\n",
    "        loader = DataLoader(data, batch_size=self.batch_size, shuffle=True)\n",
    "        loss_func = nn.CrossEntropyLoss()\n",
    "        acc, loss = 0.0, 0.0\n",
    "        for X_batch, y_batch in loader:\n",
    "            with torch.no_grad():\n",
    "                batch_importance = y_batch.shape[0]/len(data)\n",
    "                y_pred = self.model(X_batch)\n",
    "                batch_loss = loss_func(y_pred, y_batch)\n",
    "                batch_acc = torch.sum(torch.argmax(y_pred, axis=1) == y_batch)/y_batch.shape[0]\n",
    "                acc += batch_acc.detach().cpu().item() * batch_importance\n",
    "                loss += batch_loss.detach().cpu().item() * batch_importance\n",
    "        if print_acc:\n",
    "            print(f\"Accuracy: {acc:.3f}\")\n",
    "        return loss, acc"
   ]
  },
  {
   "cell_type": "markdown",
   "metadata": {},
   "source": [
    "## Convolutional Neural Netwok (CNN)\n",
    "\n",
    "### CNN general architechture\n",
    "![](https://cdn-images-1.medium.com/max/800/1*lvvWF48t7cyRWqct13eU0w.jpeg)  \n",
    "\n",
    "\n",
    "### Convolution Filters help extract features\n",
    "![](https://qph.fs.quoracdn.net/main-qimg-50915e66f98186a786b3d0344eea9aba-pjlq)  \n",
    "\n",
    "### Calculating convolution output shape\n",
    "Here is a [visualization](https://github.com/vdumoulin/conv_arithmetic/blob/master/README.md) for padding, stride and dilation\n",
    "\n",
    "$$H_{\\text {out }}=\\left[\\frac{H_{\\text {in }}+2 \\times \\text { padding }-\\operatorname{dilation} \\times(\\text { kernel size }-1)-1}{\\text { stride }}+1\\right]$$\n"
   ]
  },
  {
   "cell_type": "code",
   "execution_count": null,
   "metadata": {},
   "outputs": [],
   "source": [
    "import pickle\n",
    "import torch\n",
    "import torch.nn as nn"
   ]
  },
  {
   "cell_type": "code",
   "execution_count": null,
   "metadata": {
    "scrolled": true
   },
   "outputs": [],
   "source": [
    "# init a Conv2d layer\n",
    "conv = ...\n",
    "conv"
   ]
  },
  {
   "cell_type": "markdown",
   "metadata": {},
   "source": [
    "![](https://production-media.paperswithcode.com/methods/MaxpoolSample2.png)  "
   ]
  },
  {
   "cell_type": "code",
   "execution_count": null,
   "metadata": {},
   "outputs": [],
   "source": [
    "# init a MaxPool layer\n",
    "max_pool = ...\n",
    "max_pool"
   ]
  },
  {
   "cell_type": "code",
   "execution_count": null,
   "metadata": {},
   "outputs": [],
   "source": [
    "# init a Average Pool layer\n",
    "avg_pool = ...\n",
    "avg_pool"
   ]
  },
  {
   "cell_type": "code",
   "execution_count": null,
   "metadata": {},
   "outputs": [],
   "source": [
    "def out_dim(in_dim, kernel_size, padding, stride, dilation):\n",
    "    return (in_dim + 2 * padding - dilation * (kernel_size - 1) - 1) // stride + 1\n",
    "\n",
    "\n",
    "# data shape: (N, C, W, H)\n",
    "data = torch.rand(1, 1, 2, 2)\n",
    "conv(data)"
   ]
  },
  {
   "cell_type": "markdown",
   "metadata": {},
   "source": [
    "### LeNet architecture\n",
    "LeCun, Y.; Bottou, L.; Bengio, Y. & Haffner, P. (1998). Gradient-based learning applied to document recognition.Proceedings of the IEEE. 86(11): 2278 - 2324.\n",
    "\n",
    "|Layer No.|Layer type|#channels/#features|Kernel size|Stride|Activation|\n",
    "|---|---|---|---|---|---|\n",
    "|1|2D Convolution|6|5|1|tanh|\n",
    "|2|Average pooling|6|2|2|\\\\|\n",
    "|3|2D Convolution|16|5|1|tanh|\n",
    "|4|Average pooling|16|2|2|\\\\|\n",
    "|5|2D Convolution|120|5|1|tanh|\n",
    "|6|Flatten|\\\\|\\\\|\\\\|\\\\|\n",
    "|7|Fully connected|84|\\\\|\\\\|tanh|\n",
    "|8|Fully connected|10|\\\\|\\\\|softmax|"
   ]
  },
  {
   "cell_type": "code",
   "execution_count": null,
   "metadata": {},
   "outputs": [],
   "source": [
    "def load_dataset(path):\n",
    "    with open(path, 'rb') as f:\n",
    "        train_data, test_data = pickle.load(f)\n",
    "    \n",
    "    X_train = torch.tensor(train_data[0], dtype=torch.float).unsqueeze(1)\n",
    "    y_train = torch.tensor(train_data[1], dtype=torch.long)\n",
    "    X_test = torch.tensor(test_data[0], dtype=torch.float).unsqueeze(1)\n",
    "    y_test = torch.tensor(test_data[1], dtype=torch.long)\n",
    "    return X_train, y_train, X_test, y_test\n",
    "\n",
    "X_train, y_train, X_test, y_test = load_dataset(\"../../Datasets/mnist.pkl\")"
   ]
  },
  {
   "cell_type": "code",
   "execution_count": null,
   "metadata": {},
   "outputs": [],
   "source": [
    "class LeNet(nn.Module):\n",
    "    def __init__(self, in_channels=1):\n",
    "        super().__init__()\n",
    "        self.conv = nn.ModuleList([\n",
    "            ...\n",
    "        ])\n",
    "        self.pool = ...\n",
    "        self.activation = nn.Tanh()\n",
    "        self.fc = nn.ModuleList([\n",
    "            nn.Linear(120, 84),\n",
    "            nn.Linear(84, 10)\n",
    "        ])\n",
    "    \n",
    "    def forward(self, x):\n",
    "        for i in range(2):\n",
    "            x = self.pool(self.activation(self.conv[i](x)))\n",
    "        x = nn.Flatten()(self.activation(self.conv[2](x)))\n",
    "        x = self.activation(self.fc[0](x))\n",
    "        x = nn.Softmax(dim=-1)(self.fc[1](x))\n",
    "        return x\n",
    "\n",
    "net = LeNet()\n",
    "net"
   ]
  },
  {
   "cell_type": "code",
   "execution_count": null,
   "metadata": {},
   "outputs": [],
   "source": [
    "# Use torchsummary to print the architecture\n",
    "# ! pip install torchsummary\n",
    "from torchsummary import summary\n",
    "\n",
    "s = summary(net, (1, 32, 32))"
   ]
  },
  {
   "cell_type": "code",
   "execution_count": null,
   "metadata": {},
   "outputs": [],
   "source": [
    "net(X_train[:10])"
   ]
  },
  {
   "cell_type": "markdown",
   "metadata": {},
   "source": [
    "## Residual Network (ResNet)\n",
    "\n",
    "\n",
    "An example of residual block:\n",
    "\n",
    "<img src=\"https://miro.medium.com/v2/resize:fit:868/format:webp/0*sGlmENAXIZhSqyFZ\" width=\"400\" />"
   ]
  },
  {
   "cell_type": "code",
   "execution_count": null,
   "metadata": {},
   "outputs": [],
   "source": [
    "class ResBlock(nn.Module):\n",
    "    def __init__(self, dim):\n",
    "        super().__init__()\n",
    "        self.fc = nn.ModuleList([nn.Linear(dim, dim), nn.Linear(dim, dim)])\n",
    "        self.activation = nn.ReLU()\n",
    "    \n",
    "    def forward(self, x):\n",
    "        out = self.activation(self.fc[0](x))\n",
    "        out = self.fc[1](out)\n",
    "        out += x\n",
    "        out = self.activation(out)\n",
    "        return out\n",
    "    "
   ]
  },
  {
   "cell_type": "code",
   "execution_count": null,
   "metadata": {},
   "outputs": [],
   "source": [
    "# Let't modify the LeNet by adding a skip connection at the first fc layer\n",
    "class LeNetRes(nn.Module):\n",
    "    ..."
   ]
  },
  {
   "cell_type": "markdown",
   "metadata": {},
   "source": [
    "## Batch Normalization (BN)\n",
    "\n",
    "For a 4-D input data $X$ with shape $(N,C,W,H)$. For each channel, the data is normalized by:\n",
    "\n",
    "$$\\hat{X}_{ijkl}=\\frac{X_{ijkl}-\\mathrm{mean}(X_j)}{\\sqrt{\\mathrm{var}(X_j)+\\epsilon}} * \\gamma_j + \\beta_j$$\n",
    "\n",
    "where\n",
    "\n",
    "$$\\mathrm{mean}(X_j)=\\frac{1}{NWH}\\sum_{i}^N\\sum_k^W\\sum_l^H X_{ikl}$$\n",
    "$$\\mathrm{var}(X_j)=\\frac{1}{NWH}\\sum_{i}^N\\sum_k^W\\sum_l^H (X_{ikl}-\\mathrm{mean}(X_j))^2$$\n",
    "\n",
    "$\\epsilon$ is a small number (say, $10^{-5}$) to avoid numerical instability. $\\boldsymbol{\\gamma, \\beta}$ are learnable parameters"
   ]
  },
  {
   "cell_type": "code",
   "execution_count": null,
   "metadata": {
    "scrolled": true
   },
   "outputs": [],
   "source": [
    "batch_norm = ..."
   ]
  }
 ],
 "metadata": {
  "kernelspec": {
   "display_name": "c142",
   "language": "python",
   "name": "c142"
  },
  "language_info": {
   "codemirror_mode": {
    "name": "ipython",
    "version": 3
   },
   "file_extension": ".py",
   "mimetype": "text/x-python",
   "name": "python",
   "nbconvert_exporter": "python",
   "pygments_lexer": "ipython3",
   "version": "3.8.18"
  }
 },
 "nbformat": 4,
 "nbformat_minor": 5
}
