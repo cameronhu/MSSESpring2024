{
 "cells": [
  {
   "cell_type": "markdown",
   "id": "b284a650",
   "metadata": {},
   "source": [
    "# Chem 277B Spring 2024 Tutorial 10\n",
    "---\n",
    "## Outline\n",
    "\n",
    "1. Graph Neural Netork - Manipulating Graph Data with `torch_geometric`\n",
    "2. Get started with Savio (Berkeley HPC platform)\n",
    "3. Setting up ANI project"
   ]
  },
  {
   "cell_type": "markdown",
   "id": "c88cb9a5",
   "metadata": {},
   "source": [
    "# 1. Graph Neural Network\n",
    "\n",
    "<img src=\"./graph.png\" width=\"450\" />\n",
    "\n",
    "+ Nodes: $\\boldsymbol{v}_i$\n",
    "+ Edges: $\\boldsymbol{e}_{ij}$\n",
    "+ An example of message passing:\n",
    "\n",
    "$$\\boldsymbol{e}_{ij}^{(l+1)}=f_e(\\boldsymbol{e}_{ij}^{(l)},\\boldsymbol{v}_i^{(l)},\\boldsymbol{v}_j^{(l)})$$\n",
    "\n",
    "$$\\boldsymbol{v}_i^{(l+1)}=f_v(\\boldsymbol{v}_i^{(l)},\\{\\boldsymbol{e}_{ij}^{(l)}\\})$$\n",
    "\n",
    "## Manipulating Graph Data in PyTorch: PyG\n",
    "\n",
    "+ Documentation: https://pytorch-geometric.readthedocs.io/en/latest/\n",
    "+ Installation: https://pytorch-geometric.readthedocs.io/en/latest/install/installation.html\n",
    "\n",
    "```pip install torch_geometric```\n",
    "\n",
    "```conda install pyg -c pyg```\n",
    "\n",
    "## Usage: Take QM9 as an example\n",
    "\n",
    "QM9 is a dataset with 130,000 molecules with 19 regression targets, including dipole moments, atomization enthalpy, etc."
   ]
  },
  {
   "cell_type": "code",
   "execution_count": 1,
   "id": "000fda9d",
   "metadata": {},
   "outputs": [],
   "source": [
    "import itertools\n",
    "\n",
    "import torch\n",
    "import torch.nn as nn\n",
    "\n",
    "from torch_geometric.datasets import QM9\n",
    "\n",
    "import numpy as np\n",
    "from sklearn.model_selection import train_test_split"
   ]
  },
  {
   "cell_type": "markdown",
   "id": "706b790e",
   "metadata": {},
   "source": [
    "The `load_qm9` does the following things:\n",
    "\n",
    "1. Download the QM9 dataset\n",
    "2. Re-build the molecular graph: the original datasets add edges only for atoms connected by a chemical bond, however, here we create an edge between every pair of atoms\n",
    "3. Calculate edge feature: $1/r$\n",
    "4. Extract only atomization enthalpies as the target."
   ]
  },
  {
   "cell_type": "code",
   "execution_count": 2,
   "id": "d3350208",
   "metadata": {},
   "outputs": [
    {
     "name": "stderr",
     "output_type": "stream",
     "text": [
      "Downloading https://deepchemdata.s3-us-west-1.amazonaws.com/datasets/molnet_publish/qm9.zip\n",
      "Extracting ../../Datasets/QM9/raw/qm9.zip\n",
      "Downloading https://ndownloader.figshare.com/files/3195404\n",
      "Processing...\n",
      "100%|██████████| 133885/133885 [00:46<00:00, 2866.80it/s]\n",
      "Done!\n"
     ]
    },
    {
     "data": {
      "text/plain": [
       "QM9(130831)"
      ]
     },
     "execution_count": 2,
     "metadata": {},
     "output_type": "execute_result"
    }
   ],
   "source": [
    "def load_qm9(path=\"./QM9\"):\n",
    "    \n",
    "    def transform(data):\n",
    "        # re-build molecular graph\n",
    "        edge_index = torch.tensor(\n",
    "            list(itertools.permutations(range(data.x.shape[0]), 2)), \n",
    "            dtype=torch.long\n",
    "        ).T\n",
    "        data.edge_index = edge_index\n",
    "        # use 1/r as edge features\n",
    "        edge_feature = 1 / torch.sqrt(\n",
    "            torch.sum(\n",
    "                (data.pos[edge_index[0]] - data.pos[edge_index[1]]) ** 2, \n",
    "                axis=1, keepdim=True\n",
    "            )\n",
    "        )\n",
    "        data.edge_attr = edge_feature\n",
    "        # extract atomization enthalpies\n",
    "        data.y = data.y[:, [-7]]\n",
    "        return data\n",
    "    \n",
    "    qm9 = QM9(path, transform=transform)\n",
    "    return qm9\n",
    "\n",
    "qm9 = load_qm9(\"../../Datasets/QM9\")\n",
    "qm9"
   ]
  },
  {
   "cell_type": "markdown",
   "id": "f06ba50d",
   "metadata": {},
   "source": [
    "The dataset can be sliced."
   ]
  },
  {
   "cell_type": "code",
   "execution_count": 3,
   "id": "9056efd5",
   "metadata": {},
   "outputs": [
    {
     "data": {
      "text/plain": [
       "QM9(104664)"
      ]
     },
     "execution_count": 3,
     "metadata": {},
     "output_type": "execute_result"
    }
   ],
   "source": [
    "train_index, test_index = train_test_split(np.arange(len(qm9)), test_size=0.2)\n",
    "train_data = qm9[train_index]\n",
    "test_data = qm9[test_index]\n",
    "train_data"
   ]
  },
  {
   "cell_type": "markdown",
   "id": "bedaafa8",
   "metadata": {},
   "source": [
    "The dataset can be batched with data loader."
   ]
  },
  {
   "cell_type": "code",
   "execution_count": 4,
   "id": "37762520",
   "metadata": {},
   "outputs": [
    {
     "name": "stdout",
     "output_type": "stream",
     "text": [
      "DataBatch(x=[5, 11], edge_index=[2, 20], edge_attr=[20, 1], y=[1, 1], pos=[5, 3], z=[5], smiles=[1], name=[1], idx=[1], batch=[5], ptr=[2])\n"
     ]
    }
   ],
   "source": [
    "from torch_geometric.loader import DataLoader as GraphDataLoader\n",
    "\n",
    "dataloader = GraphDataLoader(qm9, batch_size=1)\n",
    "for data in dataloader:\n",
    "    print(data)\n",
    "    break"
   ]
  },
  {
   "cell_type": "markdown",
   "id": "5e60e33f",
   "metadata": {},
   "source": [
    "Node features"
   ]
  },
  {
   "cell_type": "code",
   "execution_count": 5,
   "id": "a420179a",
   "metadata": {},
   "outputs": [
    {
     "data": {
      "text/plain": [
       "torch.Size([5, 11])"
      ]
     },
     "execution_count": 5,
     "metadata": {},
     "output_type": "execute_result"
    }
   ],
   "source": [
    "data.x.shape"
   ]
  },
  {
   "cell_type": "markdown",
   "id": "34b33054",
   "metadata": {},
   "source": [
    "Edge features"
   ]
  },
  {
   "cell_type": "code",
   "execution_count": 6,
   "id": "8689e1ca",
   "metadata": {},
   "outputs": [
    {
     "data": {
      "text/plain": [
       "torch.Size([20, 1])"
      ]
     },
     "execution_count": 6,
     "metadata": {},
     "output_type": "execute_result"
    }
   ],
   "source": [
    "data.edge_attr.shape"
   ]
  },
  {
   "cell_type": "markdown",
   "id": "4af104bd",
   "metadata": {},
   "source": [
    "Edge index: a tensor with shape `(n_edge, 2)`"
   ]
  },
  {
   "cell_type": "code",
   "execution_count": 7,
   "id": "7c1ea6f7",
   "metadata": {
    "scrolled": true
   },
   "outputs": [
    {
     "data": {
      "text/plain": [
       "tensor([[0, 0, 0, 0, 1, 1, 1, 1, 2, 2, 2, 2, 3, 3, 3, 3, 4, 4, 4, 4],\n",
       "        [1, 2, 3, 4, 0, 2, 3, 4, 0, 1, 3, 4, 0, 1, 2, 4, 0, 1, 2, 3]])"
      ]
     },
     "execution_count": 7,
     "metadata": {},
     "output_type": "execute_result"
    }
   ],
   "source": [
    "data.edge_index"
   ]
  },
  {
   "cell_type": "markdown",
   "id": "6cc346d9",
   "metadata": {},
   "source": [
    "Batch: the node belongs to which graph"
   ]
  },
  {
   "cell_type": "code",
   "execution_count": 8,
   "id": "7dc29061",
   "metadata": {
    "scrolled": true
   },
   "outputs": [
    {
     "data": {
      "text/plain": [
       "tensor([0, 0, 0, 0, 0])"
      ]
     },
     "execution_count": 8,
     "metadata": {},
     "output_type": "execute_result"
    }
   ],
   "source": [
    "data.batch"
   ]
  },
  {
   "cell_type": "markdown",
   "id": "dc4457b9",
   "metadata": {},
   "source": [
    "### Useful function: `scatter`\n",
    "\n",
    "+ Documentation: https://pytorch-scatter.readthedocs.io/en/latest/functions/scatter.html\n",
    "\n",
    "<img src=\"https://raw.githubusercontent.com/rusty1s/pytorch_scatter/master/docs/source/_figures/add.svg\" width=\"350\" />\n",
    "\n",
    "$$\\mathrm{out}_i = \\mathrm{out}_i + \\sum_{j}\\mathrm{src}_j $$\n",
    "\n",
    "where $\\sum_j$  is over $j$ such that $\\mathrm{index}_j=i$."
   ]
  },
  {
   "cell_type": "code",
   "execution_count": 9,
   "id": "5648a8ab",
   "metadata": {
    "scrolled": true
   },
   "outputs": [
    {
     "data": {
      "text/plain": [
       "tensor([8., 7., 5., 4.])"
      ]
     },
     "execution_count": 9,
     "metadata": {},
     "output_type": "execute_result"
    }
   ],
   "source": [
    "from torch_geometric.utils import scatter\n",
    "\n",
    "inp = torch.tensor([5, 1, 7, 2, 3, 2, 1, 3], dtype=torch.float)\n",
    "index = torch.tensor([0, 0, 1, 0, 2, 2, 3, 3], dtype=torch.long)\n",
    "out = scatter(inp, index)\n",
    "out"
   ]
  },
  {
   "cell_type": "markdown",
   "id": "92168fb6",
   "metadata": {},
   "source": [
    "**Example**: aggregate edge features and concatenate with node features. i.e.\n",
    "\n",
    "$$v'_i=v_i\\oplus\\sum_{j\\in N(i)}e_{ij}$$\n",
    "\n",
    "$N(i)$ means the set of nodes that is directly connected with node $i$"
   ]
  },
  {
   "cell_type": "code",
   "execution_count": 11,
   "id": "f30df143",
   "metadata": {},
   "outputs": [
    {
     "data": {
      "text/plain": [
       "torch.Size([20, 1])"
      ]
     },
     "execution_count": 11,
     "metadata": {},
     "output_type": "execute_result"
    }
   ],
   "source": [
    "data.edge_attr.shape"
   ]
  },
  {
   "cell_type": "code",
   "execution_count": 12,
   "id": "156f9e9a",
   "metadata": {},
   "outputs": [
    {
     "data": {
      "text/plain": [
       "tensor([0, 0, 0, 0, 1, 1, 1, 1, 2, 2, 2, 2, 3, 3, 3, 3, 4, 4, 4, 4])"
      ]
     },
     "execution_count": 12,
     "metadata": {},
     "output_type": "execute_result"
    }
   ],
   "source": [
    "data.edge_index[0]"
   ]
  },
  {
   "cell_type": "code",
   "execution_count": 13,
   "id": "f1834d5c",
   "metadata": {},
   "outputs": [
    {
     "data": {
      "text/plain": [
       "torch.Size([5, 1])"
      ]
     },
     "execution_count": 13,
     "metadata": {},
     "output_type": "execute_result"
    }
   ],
   "source": [
    "edge_aggr = scatter(data.edge_attr, data.edge_index[0])\n",
    "edge_aggr.shape"
   ]
  },
  {
   "cell_type": "code",
   "execution_count": 10,
   "id": "04406bbf",
   "metadata": {
    "scrolled": true
   },
   "outputs": [
    {
     "name": "stdout",
     "output_type": "stream",
     "text": [
      "torch.Size([5, 12])\n"
     ]
    },
    {
     "data": {
      "text/plain": [
       "tensor([[0.0000, 1.0000, 0.0000, 0.0000, 0.0000, 6.0000, 0.0000, 0.0000, 0.0000,\n",
       "         0.0000, 4.0000, 3.6633],\n",
       "        [1.0000, 0.0000, 0.0000, 0.0000, 0.0000, 1.0000, 0.0000, 0.0000, 0.0000,\n",
       "         0.0000, 0.0000, 2.5983],\n",
       "        [1.0000, 0.0000, 0.0000, 0.0000, 0.0000, 1.0000, 0.0000, 0.0000, 0.0000,\n",
       "         0.0000, 0.0000, 2.5983],\n",
       "        [1.0000, 0.0000, 0.0000, 0.0000, 0.0000, 1.0000, 0.0000, 0.0000, 0.0000,\n",
       "         0.0000, 0.0000, 2.5983],\n",
       "        [1.0000, 0.0000, 0.0000, 0.0000, 0.0000, 1.0000, 0.0000, 0.0000, 0.0000,\n",
       "         0.0000, 0.0000, 2.5983]])"
      ]
     },
     "execution_count": 10,
     "metadata": {},
     "output_type": "execute_result"
    }
   ],
   "source": [
    "edge_aggr = scatter(data.edge_attr, data.edge_index[0])\n",
    "new_node = torch.cat([data.x, edge_aggr], dim=1)\n",
    "print(new_node.shape)\n",
    "new_node"
   ]
  },
  {
   "cell_type": "markdown",
   "id": "8062d41b",
   "metadata": {},
   "source": [
    "# 2. Savio\n",
    "\n",
    "## **Important**: always use scratch directory to avoid disk quota issues\n",
    "\n",
    "```cd /global/scratch/users/[USER_NAME]```\n",
    "\n",
    "```conda init bash```\n",
    "\n",
    "Replace `[USER_NAME]` with yours\n",
    "\n",
    "\n",
    "<!-- 1. Link the environment with Jupyter:\n",
    "    \n",
    "   Configure conda first with the following commands:\n",
    "   \n",
    "    ```bash\n",
    "    module load python\n",
    "    conda init bash\n",
    "    source ~/.bashrc\n",
    "    ```  -->\n",
    "   \n",
    "   \n",
    "## Use premade env\n",
    "It has all required dependencies for the ANI project (torch, torchani, numpy):\n",
    "   \n",
    "```conda activate /global/scratch/users/honamnguyen/chem277b/ani-env```\n",
    "\n",
    "```python -m ipykernel install --user --name=ani-env```\n",
    "\n",
    "## Set up your own env\n",
    "```conda create -p /global/scratch/users/[USER_NAME]/[ENV_NAME] python=3.10 ```\n",
    "\n",
    "```conda activate /global/scratch/users/[USER_NAME]/[ENV_NAME]```\n",
    "\n",
    "```conda install [PACKAGE_NAMES] # don't forget to install `ipykernel` here```\n",
    "\n",
    "```python -m ipykernel install --user --name=[ENV_NAME]```\n",
    "    \n",
    "    \n",
    "For example:\n",
    "\n",
    "```conda create -p /global/scratch/users/honamnguyen/chem277b/ani-env python=3.10```\n",
    "\n",
    "```conda activate /global/scratch/users/honamnguyen/chem277b/ani-env```\n",
    "    \n",
    "```pip install numpy scipy scikit-learn matplotlib pandas seaborn ipykernel h5py torchani```\n",
    "\n",
    "```python -m ipykernel install --user --name=ani-env```\n",
    "\n",
    "# ANI Project\n",
    "\n",
    "See: bCourses > Final Project for checkpoint templates"
   ]
  },
  {
   "cell_type": "code",
   "execution_count": null,
   "id": "e25157fa-10a3-4db7-9afd-42fa2d51789f",
   "metadata": {},
   "outputs": [],
   "source": []
  }
 ],
 "metadata": {
  "kernelspec": {
   "display_name": "chem277b",
   "language": "python",
   "name": "python3"
  },
  "language_info": {
   "codemirror_mode": {
    "name": "ipython",
    "version": 3
   },
   "file_extension": ".py",
   "mimetype": "text/x-python",
   "name": "python",
   "nbconvert_exporter": "python",
   "pygments_lexer": "ipython3",
   "version": "3.10.13"
  }
 },
 "nbformat": 4,
 "nbformat_minor": 5
}
