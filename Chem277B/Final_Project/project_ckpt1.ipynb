{
 "cells": [
  {
   "cell_type": "markdown",
   "id": "68e52649",
   "metadata": {},
   "source": [
    "# Final Project\n",
    "\n",
    "This notebook is adapted from here: https://aiqm.github.io/torchani/examples/nnp_training.html\n",
    "\n",
    "## Checkpoint 1: Data preparation\n",
    "\n",
    "1. Create a working directory: `/global/scratch/users/[USER_NAME]/[DIR_NAME]`. Replace the [USER_NAME] with yours and specify a [DIR_NAME] you like.\n",
    "2. Copy this Jupyter Notebook to the working directory\n",
    "3. Download the ANI dataset `ani_dataset_gdb_s01_to_s04.h5` from bCourses and upload it to the working directory\n",
    "4. Complete this notebook (can be worked on with your laptop, but **must be run on the cluster** for the final outputs)\n",
    "\n",
    "Hint: You can use ? to learn more about any python function, e.g. ?torch.nn.Linear"
   ]
  },
  {
   "cell_type": "code",
   "execution_count": null,
   "id": "23718a78-ee38-4c26-b98c-586c73a95d47",
   "metadata": {},
   "outputs": [],
   "source": [
    "!pwd"
   ]
  },
  {
   "cell_type": "code",
   "execution_count": null,
   "id": "a8233160",
   "metadata": {},
   "outputs": [],
   "source": [
    "import warnings\n",
    "warnings.filterwarnings(\"ignore\", category=UserWarning)\n",
    "import numpy as np\n",
    "from tqdm import tqdm\n",
    "import torch\n",
    "import torch.nn as nn\n",
    "import torchani"
   ]
  },
  {
   "cell_type": "markdown",
   "id": "1057c1fc",
   "metadata": {},
   "source": [
    "### Use GPU"
   ]
  },
  {
   "cell_type": "code",
   "execution_count": null,
   "id": "85bb962e",
   "metadata": {},
   "outputs": [],
   "source": [
    "device = torch.device('cuda' if torch.cuda.is_available() else 'cpu')\n",
    "print(device)"
   ]
  },
  {
   "cell_type": "markdown",
   "id": "e25f6a40",
   "metadata": {},
   "source": [
    "### Set up AEV computer\n",
    "\n",
    "#### AEV: Atomic Environment Vector (atomic features)\n",
    "\n",
    "Ref: Chem. Sci., 2017, 8, 3192"
   ]
  },
  {
   "cell_type": "code",
   "execution_count": null,
   "id": "5b6e3ad9",
   "metadata": {},
   "outputs": [],
   "source": [
    "def init_aev_computer():\n",
    "    Rcr = 5.2\n",
    "    Rca = 3.5\n",
    "    EtaR = torch.tensor([16], dtype=torch.float, device=device)\n",
    "    ShfR = torch.tensor([\n",
    "        0.900000, 1.168750, 1.437500, 1.706250, \n",
    "        1.975000, 2.243750, 2.512500, 2.781250, \n",
    "        3.050000, 3.318750, 3.587500, 3.856250, \n",
    "        4.125000, 4.393750, 4.662500, 4.931250\n",
    "    ], dtype=torch.float, device=device)\n",
    "\n",
    "\n",
    "    EtaA = torch.tensor([8], dtype=torch.float, device=device)\n",
    "    Zeta = torch.tensor([32], dtype=torch.float, device=device)\n",
    "    ShfA = torch.tensor([0.90, 1.55, 2.20, 2.85], dtype=torch.float, device=device)\n",
    "    ShfZ = torch.tensor([\n",
    "        0.19634954, 0.58904862, 0.9817477, 1.37444680, \n",
    "        1.76714590, 2.15984490, 2.5525440, 2.94524300\n",
    "    ], dtype=torch.float, device=device)\n",
    "\n",
    "    num_species = 4\n",
    "    aev_computer = torchani.AEVComputer(\n",
    "        Rcr, Rca, EtaR, ShfR, EtaA, Zeta, ShfA, ShfZ, num_species\n",
    "    )\n",
    "    return aev_computer\n",
    "\n",
    "aev_computer = init_aev_computer()\n",
    "aev_dim = aev_computer.aev_length\n",
    "print(aev_dim)"
   ]
  },
  {
   "cell_type": "markdown",
   "id": "bb2cb90c",
   "metadata": {},
   "source": [
    "### Prepare dataset & split"
   ]
  },
  {
   "cell_type": "code",
   "execution_count": null,
   "id": "92565c73",
   "metadata": {},
   "outputs": [],
   "source": [
    "def load_ani_dataset(dspath):\n",
    "    self_energies = torch.tensor([\n",
    "        0.500607632585, -37.8302333826,\n",
    "        -54.5680045287, -75.0362229210\n",
    "    ], dtype=torch.float, device=device)\n",
    "    energy_shifter = torchani.utils.EnergyShifter(None)\n",
    "    species_order = ['H', 'C', 'N', 'O']\n",
    "\n",
    "    dataset = torchani.data.load(dspath)\n",
    "    dataset = dataset.subtract_self_energies(energy_shifter, species_order)\n",
    "    dataset = dataset.species_to_indices(species_order)\n",
    "    dataset = dataset.shuffle()\n",
    "    return dataset\n",
    "\n",
    "dataset = load_ani_dataset(\"./ani_gdb_s01_to_s04.h5\")"
   ]
  },
  {
   "cell_type": "code",
   "execution_count": null,
   "id": "3bbd788b-a452-48c4-ae84-a50a31467f75",
   "metadata": {},
   "outputs": [],
   "source": [
    "# Use dataset.split method to do split\n",
    "train_data, val_data, test_data = ...\n",
    "\n",
    "# Show amount of training data vs total data\n",
    "..."
   ]
  },
  {
   "cell_type": "markdown",
   "id": "c425ec74",
   "metadata": {},
   "source": [
    "### Batching"
   ]
  },
  {
   "cell_type": "code",
   "execution_count": null,
   "id": "f410f80a",
   "metadata": {},
   "outputs": [],
   "source": [
    "batch_size = 8192\n",
    "# use dataset.collate(...).cache() method to do batching\n",
    "train_data_loader = ...\n",
    "val_data_loader = ...\n",
    "test_data_loader = ..."
   ]
  },
  {
   "cell_type": "code",
   "execution_count": null,
   "id": "e21ae884-3b4e-409f-b93f-8eb20e80e76d",
   "metadata": {},
   "outputs": [],
   "source": [
    "# Show that batching is working correctly\n",
    "..."
   ]
  },
  {
   "cell_type": "markdown",
   "id": "d0d32389",
   "metadata": {},
   "source": [
    "### Torchani API"
   ]
  },
  {
   "cell_type": "code",
   "execution_count": null,
   "id": "78e115d6",
   "metadata": {},
   "outputs": [],
   "source": [
    "class AtomicNet(nn.Module):\n",
    "    def __init__(self):\n",
    "        super().__init__()\n",
    "        self.layers = nn.Sequential(\n",
    "            nn.Linear(384, 128),\n",
    "            nn.ReLU(),\n",
    "            nn.Linear(128, 1)\n",
    "        )\n",
    "    \n",
    "    def forward(self, x):\n",
    "        return self.layers(x)\n",
    "\n",
    "net_H = AtomicNet()\n",
    "net_C = AtomicNet()\n",
    "net_N = AtomicNet()\n",
    "net_O = AtomicNet()\n",
    "\n",
    "# ANI model requires a network for each atom type\n",
    "# use torchani.ANIModel() to compile atomic networks\n",
    "ani_net = ...\n",
    "model = nn.Sequential(\n",
    "    aev_computer,\n",
    "    ani_net\n",
    ").to(device)"
   ]
  },
  {
   "cell_type": "code",
   "execution_count": null,
   "id": "ce9e6ff8",
   "metadata": {},
   "outputs": [],
   "source": [
    "train_data_batch = next(iter(train_data_loader))\n",
    "\n",
    "loss_func = nn.MSELoss()\n",
    "species = train_data_batch['species'].to(device)\n",
    "coords = train_data_batch['coordinates'].to(device)\n",
    "true_energies = train_data_batch['energies'].to(device).float()\n",
    "_, pred_energies = model((species, coords))\n",
    "loss = loss_func(true_energies, pred_energies)\n",
    "print(loss)"
   ]
  }
 ],
 "metadata": {
  "kernelspec": {
   "display_name": "chem277b",
   "language": "python",
   "name": "chem277b"
  },
  "language_info": {
   "codemirror_mode": {
    "name": "ipython",
    "version": 3
   },
   "file_extension": ".py",
   "mimetype": "text/x-python",
   "name": "python",
   "nbconvert_exporter": "python",
   "pygments_lexer": "ipython3",
   "version": "3.10.13"
  }
 },
 "nbformat": 4,
 "nbformat_minor": 5
}
