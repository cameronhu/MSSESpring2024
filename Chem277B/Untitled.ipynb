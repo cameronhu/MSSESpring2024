{
 "cells": [
  {
   "cell_type": "code",
   "execution_count": 19,
   "id": "5f0bac64-ff91-400b-a87d-4eb14bd6dd54",
   "metadata": {},
   "outputs": [
    {
     "data": {
      "text/plain": [
       "<re.Match object; span=(0, 2), match='go'>"
      ]
     },
     "execution_count": 19,
     "metadata": {},
     "output_type": "execute_result"
    }
   ],
   "source": [
    "import re\n",
    "pattern =   r'[go]*(go)'\n",
    "re.match(pattern, \"godoggogo100\")"
   ]
  },
  {
   "cell_type": "code",
   "execution_count": null,
   "id": "68d3bc52-2fc1-4ada-aa2f-e22fb500980d",
   "metadata": {},
   "outputs": [],
   "source": []
  }
 ],
 "metadata": {
  "kernelspec": {
   "display_name": "Python 3 (ipykernel)",
   "language": "python",
   "name": "python3"
  },
  "language_info": {
   "codemirror_mode": {
    "name": "ipython",
    "version": 3
   },
   "file_extension": ".py",
   "mimetype": "text/x-python",
   "name": "python",
   "nbconvert_exporter": "python",
   "pygments_lexer": "ipython3",
   "version": "3.10.13"
  }
 },
 "nbformat": 4,
 "nbformat_minor": 5
}
