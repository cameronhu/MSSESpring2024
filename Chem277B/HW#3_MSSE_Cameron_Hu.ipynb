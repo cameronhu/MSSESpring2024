{
 "cells": [
  {
   "cell_type": "markdown",
   "id": "fd387ef5",
   "metadata": {},
   "source": [
    "# Debugging Outputs\n",
    "\n",
    "## Question 1\n",
    "-  Please set the numpy random seed to 0 via `np.random.seed(0)`\n",
    "\n",
    "- In each layer, please initialize your weights first and then the biases both in Numpy array form to get the exact same behavior here.\n",
    "    - Initialized prediction: [0.64299999 0.79969983]\n",
    "    - Error in nodes: [array([0.05582764, 0.57265422]), array([0.96370331, 0.64875612])] \n",
    "    - Prediction after fitting once: [0.63303039 0.78480164]"
   ]
  },
  {
   "cell_type": "markdown",
   "id": "ea8d9a2b",
   "metadata": {},
   "source": [
    "# Q1 NN template"
   ]
  },
  {
   "cell_type": "code",
   "execution_count": 555,
   "id": "cbcb5ebd",
   "metadata": {},
   "outputs": [],
   "source": [
    "import numpy as np\n",
    "np.random.seed(0)\n",
    "\n",
    "def tanh(x):\n",
    "    return np.tanh(x)\n",
    "\n",
    "def tanh_grad(x):\n",
    "    return (1 - np.square(np.tanh(x)))\n",
    "\n",
    "class NN():\n",
    "    def __init__(self, architecture, learning_rate=0.01, activation=lambda x: x, activation_grad=lambda x: 1):\n",
    "        '''This is a fully connected NN. The architecture is a list, \n",
    "        with each element specifying the number of nodes in each layer'''\n",
    "        self.arch = architecture\n",
    "        self.activation = activation\n",
    "        self.activation_grad = activation_grad\n",
    "        self.lr = learning_rate\n",
    "        self.ffcount = len(self.arch) - 1 # number of feedforward step\n",
    "        self.initialized=False        \n",
    "        \n",
    "    def init_weights(self):\n",
    "        self.weights = []\n",
    "        self.biases= []\n",
    "        for n in range(1, self.ffcount + 1):\n",
    "            # Start from n+1 because the first n is the input layer\n",
    "            this_layer_weight = np.random.random([self.arch[n], self.arch[n-1]])\n",
    "            self.weights.append(this_layer_weight)\n",
    "            this_layer_bias = np.random.random(self.arch[n])\n",
    "            self.biases.append(this_layer_bias)\n",
    "        self.initialized = True\n",
    "\n",
    "    def feed_forward(self, x):\n",
    "        \"\"\"\n",
    "        Takes in an input layer x, and computes the corresponding weight * the input\n",
    "        plus the bias for every input in x. In other words, take the dot product of\n",
    "        the input layer with the weights layer, and add the bias.\n",
    "\n",
    "        Feed the dot product into the activation function, and set that output as the new input\n",
    "        \"\"\"\n",
    "        \n",
    "        if self.initialized:\n",
    "            input = x \n",
    "            self.activated_vectors = []\n",
    "            self.weighted_inputs = []\n",
    "            for n in range(self.ffcount):\n",
    "                # calculate dot product of weights with x\n",
    "                weighted_input = np.dot(self.weights[n], input) + self.biases[n]\n",
    "                self.weighted_inputs.append(weighted_input)\n",
    "                activated = self.activation(weighted_input)\n",
    "                self.activated_vectors.append(activated)\n",
    "                # print(f\"n is: {n} and input is {input} and activated is {activated}\")\n",
    "                input = activated\n",
    "            return input\n",
    "        else:\n",
    "            print(\"Please initialize the weights first!\")  \n",
    "            \n",
    "    def calc_errors(self, y):\n",
    "        # errors = []\n",
    "        # for activated_vector, weighted_input in zip(self.activated_vectors, self.weighted_inputs):\n",
    "        #     costs = (activated_vector - y) * self.activation_grad(weighted_input)\n",
    "        #     errors.append(costs)\n",
    "        # return errors\n",
    "\n",
    "        output_error = (self.activated_vectors[-1] - y) * self.activation_grad(self.weighted_inputs[-1])\n",
    "        self.errors = [output_error]\n",
    "        \n",
    "        for n in range(self.ffcount - 1):\n",
    "            this_weighted_input = self.weighted_inputs[-2 - n]\n",
    "            next_weights_transpose = np.transpose(self.weights[-1-n])\n",
    "            delta_l = np.dot(next_weights_transpose, self.errors[n]) * self.activation_grad(this_weighted_input)\n",
    "            self.errors.append(delta_l)\n",
    "\n",
    "        self.errors.reverse()\n",
    "        return self.errors\n",
    "            \n",
    "    \n",
    "    def calc_grads(self):\n",
    "        self.biases_grad = self.errors\n",
    "        self.weights_grad = [np.zeros(weight.shape) for weight in self.weights]\n",
    "        # for L in range(0, self.ffcount):\n",
    "        #     self.weights_grad.append(np.dot(self.biases_grad[- 1 - L], np.transpose(self.activated_vectors[-2-L])))\n",
    "        # return (self.biases_grad, self.weights_grad)\n",
    "\n",
    "        for n in range(self.ffcount - 1, 0, -1):\n",
    "                self.weights_grad[n] = np.dot(self.errors[n], np.transpose(self.activated_vectors[n - 1]))\n",
    "    \n",
    "        return self.biases_grad, self.weights_grad\n",
    "        \n",
    "    def back_prop(self):\n",
    "        for n in range (self.ffcount - 1, 0, -1):\n",
    "            self.weights[n] -= self.lr * self.weights_grad[n]\n",
    "            self.biases[n] -= self.lr * self.biases_grad[n]\n",
    "        \n",
    "    def fit(self, x, y):\n",
    "        self.feed_forward(x)\n",
    "        self.calc_errors(y)\n",
    "        self.calc_grads()\n",
    "        self.back_prop()\n",
    "        \n",
    "    def predict(self,x):\n",
    "        return self.feed_forward(x)\n",
    "    \n",
    "nn = NN([6,2,2],0.01,tanh,tanh_grad)\n"
   ]
  },
  {
   "cell_type": "markdown",
   "id": "42c6191c-6756-48bd-9b20-be0cc9ae19db",
   "metadata": {},
   "source": [
    "# 1a) and 1b)"
   ]
  },
  {
   "cell_type": "code",
   "execution_count": 556,
   "id": "5cff7f01-e2b5-491c-b90e-97062a608a10",
   "metadata": {
    "scrolled": true
   },
   "outputs": [
    {
     "data": {
      "text/plain": [
       "array([0.64299999, 0.79969983])"
      ]
     },
     "execution_count": 556,
     "metadata": {},
     "output_type": "execute_result"
    }
   ],
   "source": [
    "nn.init_weights()\n",
    "input = np.array([-1,1,-1,-1,1,-1])\n",
    "nn.predict(input)"
   ]
  },
  {
   "cell_type": "markdown",
   "id": "848eb838-4568-494d-a8e3-301b006168c9",
   "metadata": {},
   "source": [
    "# 1c)"
   ]
  },
  {
   "cell_type": "code",
   "execution_count": 557,
   "id": "d3ea1e79-c236-46d8-a552-79f13a3359e8",
   "metadata": {},
   "outputs": [
    {
     "data": {
      "text/plain": [
       "[array([0.05582764, 0.57265422]), array([0.96370331, 0.64875612])]"
      ]
     },
     "execution_count": 557,
     "metadata": {},
     "output_type": "execute_result"
    }
   ],
   "source": [
    "y = [-1, -1]\n",
    "nn.calc_errors(y)"
   ]
  },
  {
   "cell_type": "code",
   "execution_count": 558,
   "id": "84d09f33-0913-4f3e-9b84-39df7babdf6c",
   "metadata": {},
   "outputs": [
    {
     "name": "stdout",
     "output_type": "stream",
     "text": [
      "2\n",
      "2\n",
      "2\n",
      "2\n"
     ]
    }
   ],
   "source": [
    "print(len(nn.activated_vectors))\n",
    "print(len(nn.errors))\n",
    "# print(nn.ffcount)\n",
    "print(len(nn.weights))\n",
    "print(len(nn.biases))\n",
    "# nn.activated_vectors[-3]"
   ]
  },
  {
   "cell_type": "code",
   "execution_count": 559,
   "id": "68faee20-5b25-4e05-aecc-cd0f87191035",
   "metadata": {},
   "outputs": [
    {
     "data": {
      "text/plain": [
       "([array([0.05582764, 0.57265422]), array([0.96370331, 0.64875612])],\n",
       " [array([[0., 0., 0., 0., 0., 0.],\n",
       "         [0., 0., 0., 0., 0., 0.]]),\n",
       "  -0.35509187366406003])"
      ]
     },
     "execution_count": 559,
     "metadata": {},
     "output_type": "execute_result"
    }
   ],
   "source": [
    "nn.calc_grads()"
   ]
  },
  {
   "cell_type": "code",
   "execution_count": 560,
   "id": "a8df49c2-041f-4438-9236-65f3b1cbd7d7",
   "metadata": {},
   "outputs": [],
   "source": [
    "nn.fit(input, y)"
   ]
  },
  {
   "cell_type": "markdown",
   "id": "281f568e-3254-47fb-93c7-c33bc5b24c58",
   "metadata": {},
   "source": [
    "# 1d)"
   ]
  },
  {
   "cell_type": "code",
   "execution_count": 562,
   "id": "ecfb50c0-d098-4b4f-bda3-79beca774e75",
   "metadata": {},
   "outputs": [
    {
     "data": {
      "text/plain": [
       "array([0.6367329 , 0.79699359])"
      ]
     },
     "execution_count": 562,
     "metadata": {},
     "output_type": "execute_result"
    }
   ],
   "source": [
    "nn.predict(input)"
   ]
  },
  {
   "cell_type": "markdown",
   "id": "7e2c437b-b824-40fb-8ad8-13a5fab04b9b",
   "metadata": {},
   "source": [
    "The weight update for the wij values is given by this formula:\n",
    "$$ \\text{New Weight} = \\text{Old Weight} - \\text{Learning Rate} * \\delta ^ l * (a^{l-1})^T$$\n",
    "where $\\delta$ is the error, $l$ is the level (feed forward step), and $a$ is the output of the activation function. Note that $a$ needs to be the output of the activation of the previous level."
   ]
  },
  {
   "cell_type": "markdown",
   "id": "af1240ba",
   "metadata": {},
   "source": [
    "# Q2 simple perceptron + kfold templates"
   ]
  },
  {
   "cell_type": "code",
   "execution_count": 614,
   "id": "e9487480-da7e-4b39-a5ee-7228e03ac6db",
   "metadata": {},
   "outputs": [
    {
     "data": {
      "text/html": [
       "<div>\n",
       "<style scoped>\n",
       "    .dataframe tbody tr th:only-of-type {\n",
       "        vertical-align: middle;\n",
       "    }\n",
       "\n",
       "    .dataframe tbody tr th {\n",
       "        vertical-align: top;\n",
       "    }\n",
       "\n",
       "    .dataframe thead th {\n",
       "        text-align: right;\n",
       "    }\n",
       "</style>\n",
       "<table border=\"1\" class=\"dataframe\">\n",
       "  <thead>\n",
       "    <tr style=\"text-align: right;\">\n",
       "      <th></th>\n",
       "      <th>Pclass</th>\n",
       "      <th>Sex</th>\n",
       "      <th>SibSp</th>\n",
       "      <th>Parch</th>\n",
       "      <th>Embarked</th>\n",
       "      <th>Age</th>\n",
       "      <th>Fare</th>\n",
       "      <th>Survived</th>\n",
       "    </tr>\n",
       "  </thead>\n",
       "  <tbody>\n",
       "    <tr>\n",
       "      <th>0</th>\n",
       "      <td>3</td>\n",
       "      <td>male</td>\n",
       "      <td>1</td>\n",
       "      <td>0</td>\n",
       "      <td>S</td>\n",
       "      <td>22.0</td>\n",
       "      <td>7.2500</td>\n",
       "      <td>0</td>\n",
       "    </tr>\n",
       "    <tr>\n",
       "      <th>1</th>\n",
       "      <td>1</td>\n",
       "      <td>female</td>\n",
       "      <td>1</td>\n",
       "      <td>0</td>\n",
       "      <td>C</td>\n",
       "      <td>38.0</td>\n",
       "      <td>71.2833</td>\n",
       "      <td>1</td>\n",
       "    </tr>\n",
       "    <tr>\n",
       "      <th>2</th>\n",
       "      <td>3</td>\n",
       "      <td>female</td>\n",
       "      <td>0</td>\n",
       "      <td>0</td>\n",
       "      <td>S</td>\n",
       "      <td>26.0</td>\n",
       "      <td>7.9250</td>\n",
       "      <td>1</td>\n",
       "    </tr>\n",
       "    <tr>\n",
       "      <th>3</th>\n",
       "      <td>1</td>\n",
       "      <td>female</td>\n",
       "      <td>1</td>\n",
       "      <td>0</td>\n",
       "      <td>S</td>\n",
       "      <td>35.0</td>\n",
       "      <td>53.1000</td>\n",
       "      <td>1</td>\n",
       "    </tr>\n",
       "    <tr>\n",
       "      <th>4</th>\n",
       "      <td>3</td>\n",
       "      <td>male</td>\n",
       "      <td>0</td>\n",
       "      <td>0</td>\n",
       "      <td>S</td>\n",
       "      <td>35.0</td>\n",
       "      <td>8.0500</td>\n",
       "      <td>0</td>\n",
       "    </tr>\n",
       "  </tbody>\n",
       "</table>\n",
       "</div>"
      ],
      "text/plain": [
       "   Pclass     Sex  SibSp  Parch Embarked   Age     Fare  Survived\n",
       "0       3    male      1      0        S  22.0   7.2500         0\n",
       "1       1  female      1      0        C  38.0  71.2833         1\n",
       "2       3  female      0      0        S  26.0   7.9250         1\n",
       "3       1  female      1      0        S  35.0  53.1000         1\n",
       "4       3    male      0      0        S  35.0   8.0500         0"
      ]
     },
     "execution_count": 614,
     "metadata": {},
     "output_type": "execute_result"
    }
   ],
   "source": [
    "import pandas as pd\n",
    "df = pd.read_csv('titanic.csv')\n",
    "\n",
    "# data cleaning\n",
    "df = df[[\"Pclass\", \"Sex\", \"SibSp\", \"Parch\", \"Embarked\", \"Age\", \"Fare\", 'Survived']].dropna()\n",
    "df.head()"
   ]
  },
  {
   "cell_type": "code",
   "execution_count": 615,
   "id": "0b9311fd-ded1-4451-a9c6-94a923152868",
   "metadata": {},
   "outputs": [],
   "source": [
    "# Split into categorical and continuous features\n",
    "categorical_features = df[['Pclass', 'Sex', 'Embarked', 'SibSp','Parch']] \n",
    "continuous_features = df[['Age','Fare']] "
   ]
  },
  {
   "cell_type": "code",
   "execution_count": 616,
   "id": "539f4f8f-cd51-4159-bddd-35a23d91ce7b",
   "metadata": {},
   "outputs": [
    {
     "name": "stdout",
     "output_type": "stream",
     "text": [
      "All categories:\n",
      "\n",
      "[1 2 3]\n",
      "['female' 'male']\n",
      "['C' 'Q' 'S']\n",
      "[0 1 2 3 4 5]\n",
      "[0 1 2 3 4 5 6]\n",
      "shape of one hot encoded data (712, 21)\n"
     ]
    },
    {
     "data": {
      "text/plain": [
       "array([[0., 0., 1., ..., 0., 0., 0.],\n",
       "       [1., 0., 0., ..., 0., 0., 0.],\n",
       "       [0., 0., 1., ..., 0., 0., 0.],\n",
       "       ...,\n",
       "       [1., 0., 0., ..., 0., 0., 0.],\n",
       "       [1., 0., 0., ..., 0., 0., 0.],\n",
       "       [0., 0., 1., ..., 0., 0., 0.]])"
      ]
     },
     "execution_count": 616,
     "metadata": {},
     "output_type": "execute_result"
    }
   ],
   "source": [
    "from sklearn.preprocessing import OneHotEncoder\n",
    "\n",
    "X_cate = categorical_features.values\n",
    "\n",
    "print('All categories:\\n')\n",
    "for j in range(X_cate.shape[1]):\n",
    "    print(np.unique(X_cate[:,j]))\n",
    "    \n",
    "encoder = OneHotEncoder()\n",
    "encoder.fit(X_cate)\n",
    "X_onehot = encoder.transform(X_cate).toarray()\n",
    "print('shape of one hot encoded data',X_onehot.shape)\n",
    "X_onehot"
   ]
  },
  {
   "cell_type": "code",
   "execution_count": 617,
   "id": "f505e590-86ad-4ab1-b0fd-52673f51115b",
   "metadata": {},
   "outputs": [
    {
     "name": "stdout",
     "output_type": "stream",
     "text": [
      "[[3 'male' 'S' 1 0]\n",
      " [1 'female' 'C' 1 0]\n",
      " [3 'female' 'S' 0 0]\n",
      " ...\n",
      " [1 'female' 'S' 0 0]\n",
      " [1 'male' 'C' 0 0]\n",
      " [3 'male' 'Q' 0 0]]\n",
      "\n",
      "[[3 'male' 'S' 1 0]\n",
      " [1 'female' 'C' 1 0]\n",
      " [3 'female' 'S' 0 0]\n",
      " ...\n",
      " [1 'female' 'S' 0 0]\n",
      " [1 'male' 'C' 0 0]\n",
      " [3 'male' 'Q' 0 0]]\n"
     ]
    }
   ],
   "source": [
    "# Decode the onehot data\n",
    "print(encoder.inverse_transform(X_onehot))\n",
    "print()\n",
    "print(X_cate)"
   ]
  },
  {
   "cell_type": "code",
   "execution_count": 618,
   "id": "ce0be9dd-93f1-4dec-adb0-f798b053c98c",
   "metadata": {},
   "outputs": [
    {
     "name": "stdout",
     "output_type": "stream",
     "text": [
      "shape of one hot encoded data (712, 2)\n"
     ]
    },
    {
     "data": {
      "text/plain": [
       "array([[1., 0.],\n",
       "       [0., 1.],\n",
       "       [0., 1.],\n",
       "       ...,\n",
       "       [0., 1.],\n",
       "       [0., 1.],\n",
       "       [1., 0.]])"
      ]
     },
     "execution_count": 618,
     "metadata": {},
     "output_type": "execute_result"
    }
   ],
   "source": [
    "survival_df = df['Survived']\n",
    "survival = survival_df.values.reshape(-1, 1)\n",
    "encoder = OneHotEncoder()\n",
    "encoder.fit(survival)\n",
    "survival_onehot = encoder.transform(survival).toarray()\n",
    "print('shape of one hot encoded data',survival_onehot.shape)\n",
    "survival_onehot"
   ]
  },
  {
   "cell_type": "code",
   "execution_count": 609,
   "id": "b046c210-afe6-4e2d-88f0-4a8647f3dee3",
   "metadata": {},
   "outputs": [
    {
     "name": "stdout",
     "output_type": "stream",
     "text": [
      "\n"
     ]
    }
   ],
   "source": [
    "# print(encoder.inverse_transform(survival_onehot))\n",
    "print();"
   ]
  },
  {
   "cell_type": "code",
   "execution_count": 842,
   "id": "e904b5c4",
   "metadata": {},
   "outputs": [],
   "source": [
    "import numpy as np\n",
    "import matplotlib.pyplot as plt\n",
    "from sklearn.preprocessing import StandardScaler\n",
    "import random\n",
    "import math\n",
    "\n",
    "class simple_perceptron():\n",
    "    def __init__(self,input_dim,output_dim,learning_rate=0.0001,activation=lambda x:x,activation_grad=lambda x:1):\n",
    "        \n",
    "        self.input_dim=input_dim\n",
    "        self.output_dim=output_dim\n",
    "        self.activation=activation\n",
    "        self.activation_grad=activation_grad\n",
    "        self.lr=learning_rate\n",
    "        ### initialize parameters ###\n",
    "        self.weights=np.random.rand(output_dim, input_dim) * .05 \n",
    "        self.biases=np.random.rand(output_dim) * .05\n",
    "\n",
    "    def predict(self,X):\n",
    "        if len(X.shape)==1:\n",
    "            X=X.reshape((-1,1))\n",
    "        dim=X.shape[1]\n",
    "        # Check that the dimension of accepted input data is the same as expected\n",
    "        if not dim==self.input_dim:\n",
    "            raise Exception(\"Expected input size %d, accepted %d!\"%(self.input_dim,dim))\n",
    "        ### Calculate logit and activation ###\n",
    "\n",
    "        # My z and a code from above\n",
    "        # weighted_input = np.dot(self.weights[n], input) + self.biases[n]\n",
    "        # activated = self.activation(weighted_input)\n",
    "\n",
    "        # print(X.shape)\n",
    "        # print(self.weights.shape)\n",
    "        self.z = (np.dot(self.weights, X.T) + self.biases).T             #shape(X.shape[0],1)\n",
    "        # print(self.z.shape)\n",
    "        self.a = self.activation(self.z)            #shape(X.shape[0],1)\n",
    "        return self.a\n",
    "    \n",
    "    def fit(self,X,y):\n",
    "        # Transform the single-sample data into 2-dimensional, for the convenience of matrix multiplication\n",
    "        if len(X.shape)==1:\n",
    "            X=X.reshape((-1,1))\n",
    "        if len(y.shape)==1:\n",
    "            y=y.reshape((-1,1))\n",
    "        self.predict(X)\n",
    "        errors=(self.a-y)*self.activation_grad(self.z)\n",
    "        print(self.a.shape)\n",
    "        weights_grad=errors.T.dot(X)\n",
    "        bias_grad=np.sum(errors,axis=0)\n",
    "        ### Update weights and biases from the gradient ###\n",
    "        self.weights -= self.lr * weights_grad\n",
    "        self.biases -= self.lr * bias_grad\n",
    "\n",
    "        \n",
    "    def train_on_epoch(self,X,y,batch_size=32):\n",
    "        # Every time select batch_size samples from the training set, until all data in the training set has been trained once\n",
    "        order=list(range(X.shape[0]))\n",
    "        random.shuffle(order)\n",
    "        n=0\n",
    "        while n<math.ceil(len(order)/batch_size)-1: # Parts that can fill one batch\n",
    "            self.fit(X[order[n*batch_size:(n+1)*batch_size]],y[order[n*batch_size:(n+1)*batch_size]])\n",
    "            n+=1\n",
    "        # Parts that cannot fill one batch\n",
    "        self.fit(X[order[n*batch_size:]],y[order[n*batch_size:]])\n",
    "        \n",
    "    def evaluate(self,X,y):\n",
    "         # Transform the single-sample data into 2-dimensional\n",
    "        if len(X.shape)==1:\n",
    "            X=X.reshape((1,-1))\n",
    "        if len(y.shape)==1:\n",
    "            y=y.reshape((1,-1))\n",
    "        ### means square error ###\n",
    "        return np.mean(np.square(self.predict(X) - y))\n",
    "    \n",
    "    def get_weights(self):\n",
    "        return (self.weights,self.biases)\n",
    "    \n",
    "    def set_weights(self,weights):\n",
    "        self.weights=weights[0]\n",
    "        self.biases=weights[1]"
   ]
  },
  {
   "cell_type": "code",
   "execution_count": 849,
   "id": "7cf211e7",
   "metadata": {},
   "outputs": [],
   "source": [
    "from sklearn.model_selection import train_test_split,KFold\n",
    "\n",
    "\n",
    "def Kfold(k,Xs,ys,epochs,learning_rate=0.0001,draw_curve=True):\n",
    "    # The total number of examples for training the network\n",
    "    total_num=len(Xs)\n",
    "    \n",
    "    # Built in K-fold function in Sci-Kit Learn\n",
    "    kf=KFold(n_splits=k,shuffle=True)\n",
    "    # record error for each model\n",
    "    train_error_all=[]\n",
    "    test_error_all=[]\n",
    "    \n",
    "    for train_selector,test_selector in kf.split(range(total_num)):\n",
    "        ### Decide training examples and testing examples for this fold ###\n",
    "        train_Xs=Xs[train_selector]\n",
    "        test_Xs=Xs[test_selector]\n",
    "        train_ys=ys[train_selector]\n",
    "        test_ys=ys[test_selector]\n",
    "\n",
    "        val_array=[]\n",
    "        # Split training examples further into training and validation\n",
    "        train_in,val_in,train_real,val_real=train_test_split(train_Xs,train_ys)\n",
    "        \n",
    "        ### Establish the model for simple perceptron here ###\n",
    "        model=simple_perceptron(input_dim=train_in.shape[1], output_dim=1, learning_rate=learning_rate)\n",
    "        \n",
    "        # Save the lowest weights, so that we can recover the best model\n",
    "        weights = model.get_weights()\n",
    "        lowest_val_err = np.inf\n",
    "        for _ in range(epochs):\n",
    "            # Train model on a number of epochs, and test performance in the validation set\n",
    "            model.train_on_epoch(train_in,train_real)\n",
    "            val_err = model.evaluate(val_in,val_real)\n",
    "            val_array.append(val_err)\n",
    "            if val_err < lowest_val_err:\n",
    "                lowest_val_err = val_err\n",
    "                weights = model.get_weights()\n",
    "\n",
    "        # The final number of epochs is when the minimum error in validation set occurs    \n",
    "        final_epochs=val_array.index(lowest_val_err)\n",
    "        print(\"Number of epochs with lowest validation:\",final_epochs)\n",
    "        # Recover the model weight\n",
    "        model.set_weights(weights)\n",
    "\n",
    "        # Report result for this fold\n",
    "        train_error= model.evaluate(train_Xs, train_ys)\n",
    "        train_error_all.append(train_error)\n",
    "        test_error= model.evaluate(testXs, test_ys)\n",
    "        test_error_all.append(test_error)\n",
    "        print(\"Train error:\",train_error)\n",
    "        print(\"Test error:\",test_error)\n",
    "        \n",
    "        if draw_curve:\n",
    "            plt.figure()\n",
    "            plt.plot(np.arange(len(val_array))+1,val_array,label='Validation loss')\n",
    "            plt.xlabel('Epochs')\n",
    "            plt.ylabel('Loss')\n",
    "            plt.legend()\n",
    "            \n",
    "    print(\"Final results:\")\n",
    "    print(\"Training error:%f+-%f\"%(np.average(train_error_all),np.std(train_error_all)))\n",
    "    print(\"Testing error:%f+-%f\"%(np.average(test_error_all),np.std(test_error_all)))\n",
    "    \n",
    "    # return the last model\n",
    "    return model\n"
   ]
  },
  {
   "cell_type": "code",
   "execution_count": 850,
   "id": "a6654ab9-97a4-485a-963a-298e0c55135f",
   "metadata": {},
   "outputs": [
    {
     "data": {
      "text/plain": [
       "(712, 2)"
      ]
     },
     "execution_count": 850,
     "metadata": {},
     "output_type": "execute_result"
    }
   ],
   "source": [
    "survival_onehot.shape"
   ]
  },
  {
   "cell_type": "code",
   "execution_count": 851,
   "id": "3a54be04-56ad-40c0-b47e-ca2411f8a1d8",
   "metadata": {},
   "outputs": [
    {
     "name": "stdout",
     "output_type": "stream",
     "text": [
      "(32, 1)\n"
     ]
    },
    {
     "ename": "ValueError",
     "evalue": "non-broadcastable output operand with shape (1,21) doesn't match the broadcast shape (2,21)",
     "output_type": "error",
     "traceback": [
      "\u001b[0;31m---------------------------------------------------------------------------\u001b[0m",
      "\u001b[0;31mValueError\u001b[0m                                Traceback (most recent call last)",
      "Cell \u001b[0;32mIn[851], line 1\u001b[0m\n\u001b[0;32m----> 1\u001b[0m titanic_NN \u001b[38;5;241m=\u001b[39m \u001b[43mKfold\u001b[49m\u001b[43m(\u001b[49m\u001b[38;5;241;43m5\u001b[39;49m\u001b[43m,\u001b[49m\u001b[43m \u001b[49m\u001b[43mX_onehot\u001b[49m\u001b[43m,\u001b[49m\u001b[43m \u001b[49m\u001b[43msurvival_onehot\u001b[49m\u001b[43m,\u001b[49m\u001b[43m \u001b[49m\u001b[38;5;241;43m1000\u001b[39;49m\u001b[43m)\u001b[49m\n",
      "Cell \u001b[0;32mIn[849], line 33\u001b[0m, in \u001b[0;36mKfold\u001b[0;34m(k, Xs, ys, epochs, learning_rate, draw_curve)\u001b[0m\n\u001b[1;32m     30\u001b[0m lowest_val_err \u001b[38;5;241m=\u001b[39m np\u001b[38;5;241m.\u001b[39minf\n\u001b[1;32m     31\u001b[0m \u001b[38;5;28;01mfor\u001b[39;00m _ \u001b[38;5;129;01min\u001b[39;00m \u001b[38;5;28mrange\u001b[39m(epochs):\n\u001b[1;32m     32\u001b[0m     \u001b[38;5;66;03m# Train model on a number of epochs, and test performance in the validation set\u001b[39;00m\n\u001b[0;32m---> 33\u001b[0m     \u001b[43mmodel\u001b[49m\u001b[38;5;241;43m.\u001b[39;49m\u001b[43mtrain_on_epoch\u001b[49m\u001b[43m(\u001b[49m\u001b[43mtrain_in\u001b[49m\u001b[43m,\u001b[49m\u001b[43mtrain_real\u001b[49m\u001b[43m)\u001b[49m\n\u001b[1;32m     34\u001b[0m     val_err \u001b[38;5;241m=\u001b[39m model\u001b[38;5;241m.\u001b[39mevaluate(val_in,val_real)\n\u001b[1;32m     35\u001b[0m     val_array\u001b[38;5;241m.\u001b[39mappend(val_err)\n",
      "Cell \u001b[0;32mIn[842], line 61\u001b[0m, in \u001b[0;36msimple_perceptron.train_on_epoch\u001b[0;34m(self, X, y, batch_size)\u001b[0m\n\u001b[1;32m     59\u001b[0m n\u001b[38;5;241m=\u001b[39m\u001b[38;5;241m0\u001b[39m\n\u001b[1;32m     60\u001b[0m \u001b[38;5;28;01mwhile\u001b[39;00m n\u001b[38;5;241m<\u001b[39mmath\u001b[38;5;241m.\u001b[39mceil(\u001b[38;5;28mlen\u001b[39m(order)\u001b[38;5;241m/\u001b[39mbatch_size)\u001b[38;5;241m-\u001b[39m\u001b[38;5;241m1\u001b[39m: \u001b[38;5;66;03m# Parts that can fill one batch\u001b[39;00m\n\u001b[0;32m---> 61\u001b[0m     \u001b[38;5;28;43mself\u001b[39;49m\u001b[38;5;241;43m.\u001b[39;49m\u001b[43mfit\u001b[49m\u001b[43m(\u001b[49m\u001b[43mX\u001b[49m\u001b[43m[\u001b[49m\u001b[43morder\u001b[49m\u001b[43m[\u001b[49m\u001b[43mn\u001b[49m\u001b[38;5;241;43m*\u001b[39;49m\u001b[43mbatch_size\u001b[49m\u001b[43m:\u001b[49m\u001b[43m(\u001b[49m\u001b[43mn\u001b[49m\u001b[38;5;241;43m+\u001b[39;49m\u001b[38;5;241;43m1\u001b[39;49m\u001b[43m)\u001b[49m\u001b[38;5;241;43m*\u001b[39;49m\u001b[43mbatch_size\u001b[49m\u001b[43m]\u001b[49m\u001b[43m]\u001b[49m\u001b[43m,\u001b[49m\u001b[43my\u001b[49m\u001b[43m[\u001b[49m\u001b[43morder\u001b[49m\u001b[43m[\u001b[49m\u001b[43mn\u001b[49m\u001b[38;5;241;43m*\u001b[39;49m\u001b[43mbatch_size\u001b[49m\u001b[43m:\u001b[49m\u001b[43m(\u001b[49m\u001b[43mn\u001b[49m\u001b[38;5;241;43m+\u001b[39;49m\u001b[38;5;241;43m1\u001b[39;49m\u001b[43m)\u001b[49m\u001b[38;5;241;43m*\u001b[39;49m\u001b[43mbatch_size\u001b[49m\u001b[43m]\u001b[49m\u001b[43m]\u001b[49m\u001b[43m)\u001b[49m\n\u001b[1;32m     62\u001b[0m     n\u001b[38;5;241m+\u001b[39m\u001b[38;5;241m=\u001b[39m\u001b[38;5;241m1\u001b[39m\n\u001b[1;32m     63\u001b[0m \u001b[38;5;66;03m# Parts that cannot fill one batch\u001b[39;00m\n",
      "Cell \u001b[0;32mIn[842], line 51\u001b[0m, in \u001b[0;36msimple_perceptron.fit\u001b[0;34m(self, X, y)\u001b[0m\n\u001b[1;32m     49\u001b[0m bias_grad\u001b[38;5;241m=\u001b[39mnp\u001b[38;5;241m.\u001b[39msum(errors,axis\u001b[38;5;241m=\u001b[39m\u001b[38;5;241m0\u001b[39m)\n\u001b[1;32m     50\u001b[0m \u001b[38;5;66;03m### Update weights and biases from the gradient ###\u001b[39;00m\n\u001b[0;32m---> 51\u001b[0m \u001b[38;5;28mself\u001b[39m\u001b[38;5;241m.\u001b[39mweights \u001b[38;5;241m-\u001b[39m\u001b[38;5;241m=\u001b[39m \u001b[38;5;28mself\u001b[39m\u001b[38;5;241m.\u001b[39mlr \u001b[38;5;241m*\u001b[39m weights_grad\n\u001b[1;32m     52\u001b[0m \u001b[38;5;28mself\u001b[39m\u001b[38;5;241m.\u001b[39mbiases \u001b[38;5;241m-\u001b[39m\u001b[38;5;241m=\u001b[39m \u001b[38;5;28mself\u001b[39m\u001b[38;5;241m.\u001b[39mlr \u001b[38;5;241m*\u001b[39m bias_grad\n",
      "\u001b[0;31mValueError\u001b[0m: non-broadcastable output operand with shape (1,21) doesn't match the broadcast shape (2,21)"
     ]
    }
   ],
   "source": [
    "titanic_NN = Kfold(5, X_onehot, survival_onehot, 1000)"
   ]
  },
  {
   "cell_type": "code",
   "execution_count": 686,
   "id": "4ec50d73",
   "metadata": {},
   "outputs": [],
   "source": [
    "# A funtion that plots the correlation \n",
    "# between your prediction and the ground truth\n",
    "def show_correlation(xs,ys):\n",
    "    plt.figure()\n",
    "    plt.scatter(xs,ys,s=0.5)\n",
    "    r = [np.min([np.min(xs),np.min(ys)]),np.max([np.max(xs),np.max(ys)])]\n",
    "    plt.plot(r,r,'r')\n",
    "    plt.xlabel(\"Predictions\")\n",
    "    plt.ylabel(\"Ground truth\")\n",
    "    corr=np.corrcoef([xs,ys])[1,0]\n",
    "    print(\"Correlation coefficient:\",corr)\n",
    "\n"
   ]
  },
  {
   "cell_type": "code",
   "execution_count": 687,
   "id": "8f534c14-e328-4699-ae03-d00a3f096ea7",
   "metadata": {},
   "outputs": [
    {
     "data": {
      "text/plain": [
       "(570, 21)"
      ]
     },
     "execution_count": 687,
     "metadata": {},
     "output_type": "execute_result"
    }
   ],
   "source": [
    "Xs = X_onehot\n",
    "ys = survival_onehot\n",
    "total_num=len(Xs)\n",
    "    \n",
    "# Built in K-fold function in Sci-Kit Learn\n",
    "kf=KFold(n_splits=5,shuffle=True)\n",
    "\n",
    "for train_selector,test_selector in kf.split(range(total_num)):\n",
    "        ### Decide training examples and testing examples for this fold ###\n",
    "        train_Xs=Xs[train_selector]\n",
    "        test_Xs=Xs[test_selector]\n",
    "        train_ys=ys[train_selector]\n",
    "        test_ys=ys[test_selector]\n",
    "\n",
    "train_Xs.shape"
   ]
  },
  {
   "cell_type": "code",
   "execution_count": 693,
   "id": "744b8f9e-e349-4907-b37b-6de2d3c1de61",
   "metadata": {},
   "outputs": [
    {
     "ename": "ValueError",
     "evalue": "non-broadcastable output operand with shape (1,21) doesn't match the broadcast shape (2,21)",
     "output_type": "error",
     "traceback": [
      "\u001b[0;31m---------------------------------------------------------------------------\u001b[0m",
      "\u001b[0;31mValueError\u001b[0m                                Traceback (most recent call last)",
      "Cell \u001b[0;32mIn[693], line 1\u001b[0m\n\u001b[0;32m----> 1\u001b[0m titanic_NN \u001b[38;5;241m=\u001b[39m \u001b[43mKfold\u001b[49m\u001b[43m(\u001b[49m\u001b[38;5;241;43m5\u001b[39;49m\u001b[43m,\u001b[49m\u001b[43m \u001b[49m\u001b[43mX_onehot\u001b[49m\u001b[43m,\u001b[49m\u001b[43m \u001b[49m\u001b[43msurvival_onehot\u001b[49m\u001b[43m,\u001b[49m\u001b[43m \u001b[49m\u001b[38;5;241;43m1000\u001b[39;49m\u001b[43m)\u001b[49m\n",
      "Cell \u001b[0;32mIn[690], line 33\u001b[0m, in \u001b[0;36mKfold\u001b[0;34m(k, Xs, ys, epochs, learning_rate, draw_curve)\u001b[0m\n\u001b[1;32m     30\u001b[0m lowest_val_err \u001b[38;5;241m=\u001b[39m np\u001b[38;5;241m.\u001b[39minf\n\u001b[1;32m     31\u001b[0m \u001b[38;5;28;01mfor\u001b[39;00m _ \u001b[38;5;129;01min\u001b[39;00m \u001b[38;5;28mrange\u001b[39m(epochs):\n\u001b[1;32m     32\u001b[0m     \u001b[38;5;66;03m# Train model on a number of epochs, and test performance in the validation set\u001b[39;00m\n\u001b[0;32m---> 33\u001b[0m     \u001b[43mmodel\u001b[49m\u001b[38;5;241;43m.\u001b[39;49m\u001b[43mtrain_on_epoch\u001b[49m\u001b[43m(\u001b[49m\u001b[43mtrain_in\u001b[49m\u001b[43m,\u001b[49m\u001b[43mtrain_real\u001b[49m\u001b[43m)\u001b[49m\n\u001b[1;32m     34\u001b[0m     val_err \u001b[38;5;241m=\u001b[39m model\u001b[38;5;241m.\u001b[39mevaluate(val_in,val_real)\n\u001b[1;32m     35\u001b[0m     val_array\u001b[38;5;241m.\u001b[39mappend(val_err)\n",
      "Cell \u001b[0;32mIn[692], line 59\u001b[0m, in \u001b[0;36msimple_perceptron.train_on_epoch\u001b[0;34m(self, X, y, batch_size)\u001b[0m\n\u001b[1;32m     57\u001b[0m n\u001b[38;5;241m=\u001b[39m\u001b[38;5;241m0\u001b[39m\n\u001b[1;32m     58\u001b[0m \u001b[38;5;28;01mwhile\u001b[39;00m n\u001b[38;5;241m<\u001b[39mmath\u001b[38;5;241m.\u001b[39mceil(\u001b[38;5;28mlen\u001b[39m(order)\u001b[38;5;241m/\u001b[39mbatch_size)\u001b[38;5;241m-\u001b[39m\u001b[38;5;241m1\u001b[39m: \u001b[38;5;66;03m# Parts that can fill one batch\u001b[39;00m\n\u001b[0;32m---> 59\u001b[0m     \u001b[38;5;28;43mself\u001b[39;49m\u001b[38;5;241;43m.\u001b[39;49m\u001b[43mfit\u001b[49m\u001b[43m(\u001b[49m\u001b[43mX\u001b[49m\u001b[43m[\u001b[49m\u001b[43morder\u001b[49m\u001b[43m[\u001b[49m\u001b[43mn\u001b[49m\u001b[38;5;241;43m*\u001b[39;49m\u001b[43mbatch_size\u001b[49m\u001b[43m:\u001b[49m\u001b[43m(\u001b[49m\u001b[43mn\u001b[49m\u001b[38;5;241;43m+\u001b[39;49m\u001b[38;5;241;43m1\u001b[39;49m\u001b[43m)\u001b[49m\u001b[38;5;241;43m*\u001b[39;49m\u001b[43mbatch_size\u001b[49m\u001b[43m]\u001b[49m\u001b[43m]\u001b[49m\u001b[43m,\u001b[49m\u001b[43my\u001b[49m\u001b[43m[\u001b[49m\u001b[43morder\u001b[49m\u001b[43m[\u001b[49m\u001b[43mn\u001b[49m\u001b[38;5;241;43m*\u001b[39;49m\u001b[43mbatch_size\u001b[49m\u001b[43m:\u001b[49m\u001b[43m(\u001b[49m\u001b[43mn\u001b[49m\u001b[38;5;241;43m+\u001b[39;49m\u001b[38;5;241;43m1\u001b[39;49m\u001b[43m)\u001b[49m\u001b[38;5;241;43m*\u001b[39;49m\u001b[43mbatch_size\u001b[49m\u001b[43m]\u001b[49m\u001b[43m]\u001b[49m\u001b[43m)\u001b[49m\n\u001b[1;32m     60\u001b[0m     n\u001b[38;5;241m+\u001b[39m\u001b[38;5;241m=\u001b[39m\u001b[38;5;241m1\u001b[39m\n\u001b[1;32m     61\u001b[0m \u001b[38;5;66;03m# Parts that cannot fill one batch\u001b[39;00m\n",
      "Cell \u001b[0;32mIn[692], line 48\u001b[0m, in \u001b[0;36msimple_perceptron.fit\u001b[0;34m(self, X, y)\u001b[0m\n\u001b[1;32m     45\u001b[0m bias_grad\u001b[38;5;241m=\u001b[39mnp\u001b[38;5;241m.\u001b[39msum(errors,axis\u001b[38;5;241m=\u001b[39m\u001b[38;5;241m0\u001b[39m)\n\u001b[1;32m     46\u001b[0m \u001b[38;5;66;03m### Update weights and biases from the gradient ###\u001b[39;00m\n\u001b[1;32m     47\u001b[0m \u001b[38;5;66;03m# self.weights -= self.lr * weights_grad.T / X.shape[0]\u001b[39;00m\n\u001b[0;32m---> 48\u001b[0m \u001b[38;5;28mself\u001b[39m\u001b[38;5;241m.\u001b[39mweights \u001b[38;5;241m-\u001b[39m\u001b[38;5;241m=\u001b[39m \u001b[38;5;28mself\u001b[39m\u001b[38;5;241m.\u001b[39mlr \u001b[38;5;241m*\u001b[39m weights_grad\n\u001b[1;32m     49\u001b[0m \u001b[38;5;28mself\u001b[39m\u001b[38;5;241m.\u001b[39mbiases \u001b[38;5;241m-\u001b[39m\u001b[38;5;241m=\u001b[39m \u001b[38;5;28mself\u001b[39m\u001b[38;5;241m.\u001b[39mlr \u001b[38;5;241m*\u001b[39m bias_grad\n",
      "\u001b[0;31mValueError\u001b[0m: non-broadcastable output operand with shape (1,21) doesn't match the broadcast shape (2,21)"
     ]
    }
   ],
   "source": [
    "titanic_NN = Kfold(5, X_onehot, survival_onehot, 1000)"
   ]
  },
  {
   "cell_type": "markdown",
   "id": "17d7d371",
   "metadata": {},
   "source": [
    "# Q3"
   ]
  },
  {
   "cell_type": "code",
   "execution_count": 668,
   "id": "2049e5c2",
   "metadata": {},
   "outputs": [
    {
     "data": {
      "image/png": "[encoded data removed]",
      "text/plain": [
       "<Figure size 640x480 with 1 Axes>"
      ]
     },
     "metadata": {},
     "output_type": "display_data"
    }
   ],
   "source": [
    "import numpy as np, matplotlib.pyplot as plt\n",
    "\n",
    "def generate_X(number):\n",
    "    xs=(np.random.random(number)*2-1)*10\n",
    "    return xs\n",
    "    \n",
    "def generate_data(number,stochascity=0.05):\n",
    "    xs=generate_X(number)\n",
    "    fs=3*np.sin(xs)-5\n",
    "    stochastic_ratio=(np.random.random(number)*2-1)*stochascity+1\n",
    "    return xs,fs*stochastic_ratio\n",
    "\n",
    "x,y=generate_data(5000,0.1)\n",
    "plt.scatter(x,y,s=0.1)\n",
    "plt.tight_layout()"
   ]
  },
  {
   "cell_type": "markdown",
   "id": "31d33846-1473-4385-b5c1-70bd467a98f9",
   "metadata": {},
   "source": [
    "# 3a)"
   ]
  },
  {
   "cell_type": "code",
   "execution_count": 669,
   "id": "4a47522c-225f-4465-b0cf-6225c66bf87b",
   "metadata": {},
   "outputs": [
    {
     "ename": "ValueError",
     "evalue": "non-broadcastable output operand with shape (1,1) doesn't match the broadcast shape (32,1)",
     "output_type": "error",
     "traceback": [
      "\u001b[0;31m---------------------------------------------------------------------------\u001b[0m",
      "\u001b[0;31mValueError\u001b[0m                                Traceback (most recent call last)",
      "Cell \u001b[0;32mIn[669], line 1\u001b[0m\n\u001b[0;32m----> 1\u001b[0m model \u001b[38;5;241m=\u001b[39m \u001b[43mKfold\u001b[49m\u001b[43m(\u001b[49m\u001b[43mk\u001b[49m\u001b[38;5;241;43m=\u001b[39;49m\u001b[38;5;241;43m5\u001b[39;49m\u001b[43m,\u001b[49m\u001b[43m \u001b[49m\u001b[43mXs\u001b[49m\u001b[38;5;241;43m=\u001b[39;49m\u001b[43mx\u001b[49m\u001b[38;5;241;43m.\u001b[39;49m\u001b[43mreshape\u001b[49m\u001b[43m(\u001b[49m\u001b[43m(\u001b[49m\u001b[38;5;241;43m-\u001b[39;49m\u001b[38;5;241;43m1\u001b[39;49m\u001b[43m,\u001b[49m\u001b[43m \u001b[49m\u001b[38;5;241;43m1\u001b[39;49m\u001b[43m)\u001b[49m\u001b[43m)\u001b[49m\u001b[43m,\u001b[49m\u001b[43m \u001b[49m\u001b[43mys\u001b[49m\u001b[38;5;241;43m=\u001b[39;49m\u001b[43my\u001b[49m\u001b[38;5;241;43m.\u001b[39;49m\u001b[43mreshape\u001b[49m\u001b[43m(\u001b[49m\u001b[43m(\u001b[49m\u001b[38;5;241;43m-\u001b[39;49m\u001b[38;5;241;43m1\u001b[39;49m\u001b[43m,\u001b[49m\u001b[38;5;241;43m1\u001b[39;49m\u001b[43m)\u001b[49m\u001b[43m)\u001b[49m\u001b[43m,\u001b[49m\u001b[43m \u001b[49m\u001b[43mepochs\u001b[49m\u001b[38;5;241;43m=\u001b[39;49m\u001b[38;5;241;43m50\u001b[39;49m\u001b[43m,\u001b[49m\u001b[43m \u001b[49m\u001b[43mlearning_rate\u001b[49m\u001b[38;5;241;43m=\u001b[39;49m\u001b[38;5;241;43m0.001\u001b[39;49m\u001b[43m)\u001b[49m\n",
      "Cell \u001b[0;32mIn[655], line 33\u001b[0m, in \u001b[0;36mKfold\u001b[0;34m(k, Xs, ys, epochs, learning_rate, draw_curve)\u001b[0m\n\u001b[1;32m     30\u001b[0m lowest_val_err \u001b[38;5;241m=\u001b[39m np\u001b[38;5;241m.\u001b[39minf\n\u001b[1;32m     31\u001b[0m \u001b[38;5;28;01mfor\u001b[39;00m _ \u001b[38;5;129;01min\u001b[39;00m \u001b[38;5;28mrange\u001b[39m(epochs):\n\u001b[1;32m     32\u001b[0m     \u001b[38;5;66;03m# Train model on a number of epochs, and test performance in the validation set\u001b[39;00m\n\u001b[0;32m---> 33\u001b[0m     \u001b[43mmodel\u001b[49m\u001b[38;5;241;43m.\u001b[39;49m\u001b[43mtrain_on_epoch\u001b[49m\u001b[43m(\u001b[49m\u001b[43mtrain_in\u001b[49m\u001b[43m,\u001b[49m\u001b[43mtrain_real\u001b[49m\u001b[43m)\u001b[49m\n\u001b[1;32m     34\u001b[0m     val_err \u001b[38;5;241m=\u001b[39m model\u001b[38;5;241m.\u001b[39mevaluate(val_in,val_real)\n\u001b[1;32m     35\u001b[0m     val_array\u001b[38;5;241m.\u001b[39mappend(val_err)\n",
      "Cell \u001b[0;32mIn[654], line 59\u001b[0m, in \u001b[0;36msimple_perceptron.train_on_epoch\u001b[0;34m(self, X, y, batch_size)\u001b[0m\n\u001b[1;32m     57\u001b[0m n\u001b[38;5;241m=\u001b[39m\u001b[38;5;241m0\u001b[39m\n\u001b[1;32m     58\u001b[0m \u001b[38;5;28;01mwhile\u001b[39;00m n\u001b[38;5;241m<\u001b[39mmath\u001b[38;5;241m.\u001b[39mceil(\u001b[38;5;28mlen\u001b[39m(order)\u001b[38;5;241m/\u001b[39mbatch_size)\u001b[38;5;241m-\u001b[39m\u001b[38;5;241m1\u001b[39m: \u001b[38;5;66;03m# Parts that can fill one batch\u001b[39;00m\n\u001b[0;32m---> 59\u001b[0m     \u001b[38;5;28;43mself\u001b[39;49m\u001b[38;5;241;43m.\u001b[39;49m\u001b[43mfit\u001b[49m\u001b[43m(\u001b[49m\u001b[43mX\u001b[49m\u001b[43m[\u001b[49m\u001b[43morder\u001b[49m\u001b[43m[\u001b[49m\u001b[43mn\u001b[49m\u001b[38;5;241;43m*\u001b[39;49m\u001b[43mbatch_size\u001b[49m\u001b[43m:\u001b[49m\u001b[43m(\u001b[49m\u001b[43mn\u001b[49m\u001b[38;5;241;43m+\u001b[39;49m\u001b[38;5;241;43m1\u001b[39;49m\u001b[43m)\u001b[49m\u001b[38;5;241;43m*\u001b[39;49m\u001b[43mbatch_size\u001b[49m\u001b[43m]\u001b[49m\u001b[43m]\u001b[49m\u001b[43m,\u001b[49m\u001b[43my\u001b[49m\u001b[43m[\u001b[49m\u001b[43morder\u001b[49m\u001b[43m[\u001b[49m\u001b[43mn\u001b[49m\u001b[38;5;241;43m*\u001b[39;49m\u001b[43mbatch_size\u001b[49m\u001b[43m:\u001b[49m\u001b[43m(\u001b[49m\u001b[43mn\u001b[49m\u001b[38;5;241;43m+\u001b[39;49m\u001b[38;5;241;43m1\u001b[39;49m\u001b[43m)\u001b[49m\u001b[38;5;241;43m*\u001b[39;49m\u001b[43mbatch_size\u001b[49m\u001b[43m]\u001b[49m\u001b[43m]\u001b[49m\u001b[43m)\u001b[49m\n\u001b[1;32m     60\u001b[0m     n\u001b[38;5;241m+\u001b[39m\u001b[38;5;241m=\u001b[39m\u001b[38;5;241m1\u001b[39m\n\u001b[1;32m     61\u001b[0m \u001b[38;5;66;03m# Parts that cannot fill one batch\u001b[39;00m\n",
      "Cell \u001b[0;32mIn[654], line 48\u001b[0m, in \u001b[0;36msimple_perceptron.fit\u001b[0;34m(self, X, y)\u001b[0m\n\u001b[1;32m     45\u001b[0m bias_grad\u001b[38;5;241m=\u001b[39mnp\u001b[38;5;241m.\u001b[39msum(errors,axis\u001b[38;5;241m=\u001b[39m\u001b[38;5;241m0\u001b[39m)\n\u001b[1;32m     46\u001b[0m \u001b[38;5;66;03m### Update weights and biases from the gradient ###\u001b[39;00m\n\u001b[1;32m     47\u001b[0m \u001b[38;5;66;03m# self.weights -= self.lr * weights_grad.T / X.shape[0]\u001b[39;00m\n\u001b[0;32m---> 48\u001b[0m \u001b[38;5;28mself\u001b[39m\u001b[38;5;241m.\u001b[39mweights \u001b[38;5;241m-\u001b[39m\u001b[38;5;241m=\u001b[39m \u001b[38;5;28mself\u001b[39m\u001b[38;5;241m.\u001b[39mlr \u001b[38;5;241m*\u001b[39mweights_grad\n\u001b[1;32m     49\u001b[0m \u001b[38;5;28mself\u001b[39m\u001b[38;5;241m.\u001b[39mbiases \u001b[38;5;241m-\u001b[39m\u001b[38;5;241m=\u001b[39m \u001b[38;5;28mself\u001b[39m\u001b[38;5;241m.\u001b[39mlr \u001b[38;5;241m*\u001b[39m bias_grad\n",
      "\u001b[0;31mValueError\u001b[0m: non-broadcastable output operand with shape (1,1) doesn't match the broadcast shape (32,1)"
     ]
    }
   ],
   "source": [
    "model = Kfold(k=5, Xs=x.reshape((-1, 1)), ys=y.reshape((-1,1)), epochs=50, learning_rate=0.001)"
   ]
  },
  {
   "cell_type": "markdown",
   "id": "c72ffe88",
   "metadata": {},
   "source": [
    "Here we use the Multi-layer Perceptron regressor built-in from sklearn as a simple ANN <br>\n",
    "[MLP regressor](https://scikit-learn.org/stable/modules/generated/sklearn.neural_network.MLPRegressor.html)"
   ]
  },
  {
   "cell_type": "code",
   "execution_count": null,
   "id": "0acf7f0d",
   "metadata": {},
   "outputs": [],
   "source": [
    "from sklearn.neural_network import MLPRegressor\n",
    "\n",
    "def KFold_NN(k,Xs,ys,hidden_layers,epochs=1000,lr=0.001,):\n",
    "    # The total number of examples for training the network\n",
    "    total_num=len(Xs)\n",
    "\n",
    "    # Built in K-fold function in Sci-Kit Learn\n",
    "    kf=KFold(n_splits=k,shuffle=True)\n",
    "    train_error_all=[]\n",
    "    test_error_all=[]\n",
    "    for train_selector,test_selector in kf.split(range(total_num)):\n",
    "        # Decide training examples and testing examples for this fold\n",
    "        ...\n",
    "        \n",
    "        # Establish the model here\n",
    "        model = MLPRegressor(max_iter=epochs, activation='tanh', early_stopping=True, \n",
    "                             validation_fraction=0.25, learning_rate='constant', learning_rate_init=lr,\n",
    "                             hidden_layer_sizes=hidden_layers).fit(train_Xs, train_ys)\n",
    "        \n",
    "        ### Report result for this fold ##\n",
    "        train_error=...\n",
    "        train_error_all.append(train_error)\n",
    "        test_error=...\n",
    "        test_error_all.append(test_error)\n",
    "        print(\"Train error:\",train_error)\n",
    "        print(\"Test error:\",test_error)\n",
    "\n",
    "    print(\"Final results:\")\n",
    "    print(\"Training error:%f+-%f\"%(np.average(train_error_all),np.std(train_error_all)))\n",
    "    print(\"Testing error:%f+-%f\"%(np.average(test_error_all),np.std(test_error_all)))\n",
    "    \n",
    "    # return the last model\n",
    "    return model\n"
   ]
  }
 ],
 "metadata": {
  "kernelspec": {
   "display_name": "chem277b",
   "language": "python",
   "name": "chem277b"
  },
  "language_info": {
   "codemirror_mode": {
    "name": "ipython",
    "version": 3
   },
   "file_extension": ".py",
   "mimetype": "text/x-python",
   "name": "python",
   "nbconvert_exporter": "python",
   "pygments_lexer": "ipython3",
   "version": "3.10.13"
  }
 },
 "nbformat": 4,
 "nbformat_minor": 5
}
