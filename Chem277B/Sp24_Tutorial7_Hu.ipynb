{
 "cells": [
  {
   "cell_type": "markdown",
   "id": "10d97232",
   "metadata": {},
   "source": [
    "# Chem 277B Spring 2024 Tutorial 7\n",
    "---\n",
    "# Outline\n",
    "\n",
    "+ Convolutional Neural Network (CNN):\n",
    "    + Hyperparamters in CNN: channels, padding, stride, dilation\n",
    "    + Pooling\n",
    "    + CNN in PyTorch\n",
    "+ Residual Network\n",
    "+ Batch Normalization"
   ]
  },
  {
   "cell_type": "markdown",
   "id": "8a3ae7b1",
   "metadata": {},
   "source": [
    "# HW6 - Helper function\n",
    "\n",
    "\n",
    "You can use the following decorator to report time:"
   ]
  },
  {
   "cell_type": "code",
   "execution_count": 1,
   "id": "10004dad",
   "metadata": {},
   "outputs": [
    {
     "name": "stdout",
     "output_type": "stream",
     "text": [
      "func:sleep took: 0.1050 sec\n"
     ]
    }
   ],
   "source": [
    "import time\n",
    "\n",
    "def timeit(f):\n",
    "\n",
    "    def timed(*args, **kw):\n",
    "\n",
    "        ts = time.time()\n",
    "        result = f(*args, **kw)\n",
    "        te = time.time()\n",
    "\n",
    "        print(f'func:{f.__name__} took: {te-ts:.4f} sec')\n",
    "        return result\n",
    "\n",
    "    return timed\n",
    "\n",
    "@timeit\n",
    "def sleep(sec):\n",
    "    return time.sleep(sec)\n",
    "\n",
    "sleep(0.1)"
   ]
  },
  {
   "cell_type": "code",
   "execution_count": 2,
   "id": "d9f32cd1",
   "metadata": {},
   "outputs": [],
   "source": [
    "class Trainer:\n",
    "    \n",
    "    def __init__(self, model, opt_method, learning_rate, batch_size, epoch, l2):\n",
    "        self.model = model\n",
    "        \n",
    "        if opt_method == \"adam\":\n",
    "            self.optimizer = torch.optim.Adam(model.parameters(), learning_rate, weight_decay=l2)\n",
    "        else:\n",
    "            raise NotImplementedError(\"This optimization is not supported\")\n",
    "        \n",
    "        self.epoch = epoch\n",
    "        self.batch_size = batch_size\n",
    "    \n",
    "    @timeit\n",
    "    def train(self, train_data, val_data, early_stop=True, verbose=True, draw_curve=True):\n",
    "        train_loader = DataLoader(train_data, batch_size=self.batch_size, shuffle=True)\n",
    "        \n",
    "        train_loss_list, train_acc_list = [], []\n",
    "        val_loss_list, val_acc_list = [], []\n",
    "        weights = self.model.state_dict()\n",
    "        lowest_val_loss = np.inf\n",
    "        loss_func = nn.CrossEntropyLoss()\n",
    "        for n in tqdm(range(self.epoch), leave=False):\n",
    "            # enable train mode\n",
    "            self.model.train()\n",
    "            epoch_loss, epoch_acc = 0.0, 0.0\n",
    "            for X_batch, y_batch in train_loader:\n",
    "                # batch_importance is the ratio of batch_size \n",
    "                batch_importance = y_batch.shape[0]/len(train_data)\n",
    "                y_pred = self.model(X_batch)\n",
    "                batch_loss = loss_func(y_pred, y_batch)\n",
    "                \n",
    "                self.optimizer.zero_grad()\n",
    "                batch_loss.backward()\n",
    "                self.optimizer.step()\n",
    "                \n",
    "                epoch_loss += batch_loss.detach().cpu().item() * batch_importance\n",
    "                batch_acc = torch.sum(torch.argmax(y_pred, axis=1) == y_batch)/y_batch.shape[0]\n",
    "                epoch_acc += batch_acc.detach().cpu().item() * batch_importance\n",
    "                \n",
    "                \n",
    "#             train_loss_list.append(epoch_loss)\n",
    "#             train_acc_list.append(epoch_acc)\n",
    "            # previous way to report might get low acc due to dropout\n",
    "            train_loss, train_acc = self.evaluate(train_data)\n",
    "    \n",
    "            val_loss, val_acc = self.evaluate(val_data)\n",
    "            val_loss_list.append(val_loss)\n",
    "            val_acc_list.append(val_acc)\n",
    "            \n",
    "            if early_stop:\n",
    "                if val_loss < lowest_val_loss:\n",
    "                    lowest_val_loss = val_loss\n",
    "                    weights = self.model.state_dict()\n",
    "            \n",
    "        if draw_curve:\n",
    "            x_axis = np.arange(self.epoch)\n",
    "            fig, axes = plt.subplots(1, 2, figsize=(10, 4))\n",
    "            axes[0].plot(x_axis, train_loss_list, label=\"Train\")\n",
    "            axes[0].plot(x_axis, val_loss_list, label=\"Validation\")\n",
    "            axes[0].set_title(\"Loss\")\n",
    "            axes[0].legend()\n",
    "            axes[1].plot(x_axis, train_acc_list, label='Train')\n",
    "            axes[1].plot(x_axis, val_acc_list, label='Validation')\n",
    "            axes[1].set_title(\"Accuracy\")\n",
    "            axes[1].legend()\n",
    "        \n",
    "        if early_stop:\n",
    "            self.model.load_state_dict(weights)\n",
    "        \n",
    "        return {\n",
    "            \"train_loss_list\": train_loss_list,\n",
    "            \"train_acc_list\": train_acc_list,\n",
    "            \"val_loss_list\": val_loss_list,\n",
    "            \"val_acc_list\": val_acc_list,\n",
    "        }\n",
    "    \n",
    "    def evaluate(self, data, print_acc=False):\n",
    "        # enable evaluation mode\n",
    "        self.model.eval()\n",
    "        loader = DataLoader(data, batch_size=self.batch_size, shuffle=True)\n",
    "        loss_func = nn.CrossEntropyLoss()\n",
    "        acc, loss = 0.0, 0.0\n",
    "        for X_batch, y_batch in loader:\n",
    "            with torch.no_grad():\n",
    "                batch_importance = y_batch.shape[0]/len(data)\n",
    "                y_pred = self.model(X_batch)\n",
    "                batch_loss = loss_func(y_pred, y_batch)\n",
    "                batch_acc = torch.sum(torch.argmax(y_pred, axis=1) == y_batch)/y_batch.shape[0]\n",
    "                acc += batch_acc.detach().cpu().item() * batch_importance\n",
    "                loss += batch_loss.detach().cpu().item() * batch_importance\n",
    "        if print_acc:\n",
    "            print(f\"Accuracy: {acc:.3f}\")\n",
    "        return loss, acc"
   ]
  },
  {
   "cell_type": "markdown",
   "id": "0d81a1c0",
   "metadata": {},
   "source": [
    "## Convolutional Neural Netwok (CNN)\n",
    "\n",
    "### CNN general architechture\n",
    "![](https://cdn-images-1.medium.com/max/800/1*lvvWF48t7cyRWqct13eU0w.jpeg)  \n",
    "\n",
    "\n",
    "### Convolution Filters help extract features\n",
    "![](https://qph.fs.quoracdn.net/main-qimg-50915e66f98186a786b3d0344eea9aba-pjlq)  \n",
    "\n",
    "### Calculating convolution output shape\n",
    "Here is a [visualization](https://github.com/vdumoulin/conv_arithmetic/blob/master/README.md) for padding, stride and dilation\n",
    "\n",
    "$$H_{\\text {out }}=\\left[\\frac{H_{\\text {in }}+2 \\times \\text { padding }-\\operatorname{dilation} \\times(\\text { kernel size }-1)-1}{\\text { stride }}+1\\right]$$\n"
   ]
  },
  {
   "cell_type": "code",
   "execution_count": 3,
   "id": "49c4e5ab",
   "metadata": {},
   "outputs": [],
   "source": [
    "import pickle\n",
    "import torch\n",
    "import torch.nn as nn"
   ]
  },
  {
   "cell_type": "code",
   "execution_count": 8,
   "id": "022358f7",
   "metadata": {
    "scrolled": true
   },
   "outputs": [
    {
     "data": {
      "text/plain": [
       "Conv2d(1, 1, kernel_size=(2, 2), stride=(1, 1))"
      ]
     },
     "execution_count": 8,
     "metadata": {},
     "output_type": "execute_result"
    }
   ],
   "source": [
    "# init a Conv2d layer\n",
    "conv = nn.Conv2d(1, 1, kernel_size=(2,2))\n",
    "conv"
   ]
  },
  {
   "cell_type": "markdown",
   "id": "6b001b61",
   "metadata": {},
   "source": [
    "![](https://production-media.paperswithcode.com/methods/MaxpoolSample2.png)  "
   ]
  },
  {
   "cell_type": "code",
   "execution_count": 9,
   "id": "1891de12",
   "metadata": {},
   "outputs": [
    {
     "data": {
      "text/plain": [
       "MaxPool2d(kernel_size=2, stride=2, padding=0, dilation=1, ceil_mode=False)"
      ]
     },
     "execution_count": 9,
     "metadata": {},
     "output_type": "execute_result"
    }
   ],
   "source": [
    "# init a MaxPool layer\n",
    "max_pool = nn.MaxPool2d(2)\n",
    "max_pool"
   ]
  },
  {
   "cell_type": "code",
   "execution_count": 10,
   "id": "73593cd0",
   "metadata": {},
   "outputs": [
    {
     "data": {
      "text/plain": [
       "AvgPool2d(kernel_size=2, stride=2, padding=0)"
      ]
     },
     "execution_count": 10,
     "metadata": {},
     "output_type": "execute_result"
    }
   ],
   "source": [
    "# init a Average Pool layer\n",
    "avg_pool = nn.AvgPool2d(2)\n",
    "avg_pool"
   ]
  },
  {
   "cell_type": "code",
   "execution_count": 11,
   "id": "7a1bb55f",
   "metadata": {},
   "outputs": [
    {
     "data": {
      "text/plain": [
       "tensor([[[[-0.4292]]]], grad_fn=<ConvolutionBackward0>)"
      ]
     },
     "execution_count": 11,
     "metadata": {},
     "output_type": "execute_result"
    }
   ],
   "source": [
    "def out_dim(in_dim, kernel_size, padding, stride, dilation):\n",
    "    return (in_dim + 2 * padding - dilation * (kernel_size - 1) - 1) // stride + 1\n",
    "\n",
    "\n",
    "# data shape: (N, C, W, H)\n",
    "data = torch.rand(1, 1, 2, 2)\n",
    "conv(data)"
   ]
  },
  {
   "cell_type": "markdown",
   "id": "938a270a",
   "metadata": {},
   "source": [
    "### LeNet architecture\n",
    "LeCun, Y.; Bottou, L.; Bengio, Y. & Haffner, P. (1998). Gradient-based learning applied to document recognition.Proceedings of the IEEE. 86(11): 2278 - 2324.\n",
    "\n",
    "|Layer No.|Layer type|#channels/#features|Kernel size|Stride|Activation|\n",
    "|---|---|---|---|---|---|\n",
    "|1|2D Convolution|6|5|1|tanh|\n",
    "|2|Average pooling|6|2|2|\\\\|\n",
    "|3|2D Convolution|16|5|1|tanh|\n",
    "|4|Average pooling|16|2|2|\\\\|\n",
    "|5|2D Convolution|120|5|1|tanh|\n",
    "|6|Flatten|\\\\|\\\\|\\\\|\\\\|\n",
    "|7|Fully connected|84|\\\\|\\\\|tanh|\n",
    "|8|Fully connected|10|\\\\|\\\\|softmax|"
   ]
  },
  {
   "cell_type": "code",
   "execution_count": 13,
   "id": "ef8045e3",
   "metadata": {},
   "outputs": [],
   "source": [
    "def load_dataset(path):\n",
    "    with open(path, 'rb') as f:\n",
    "        train_data, test_data = pickle.load(f)\n",
    "    \n",
    "    X_train = torch.tensor(train_data[0], dtype=torch.float).unsqueeze(1)\n",
    "    y_train = torch.tensor(train_data[1], dtype=torch.long)\n",
    "    X_test = torch.tensor(test_data[0], dtype=torch.float).unsqueeze(1)\n",
    "    y_test = torch.tensor(test_data[1], dtype=torch.long)\n",
    "    return X_train, y_train, X_test, y_test\n",
    "\n",
    "X_train, y_train, X_test, y_test = load_dataset(\"mnist.pkl\")"
   ]
  },
  {
   "cell_type": "code",
   "execution_count": 14,
   "id": "50d37ffc",
   "metadata": {},
   "outputs": [
    {
     "data": {
      "text/plain": [
       "LeNet(\n",
       "  (conv): ModuleList(\n",
       "    (0): Conv2d(1, 6, kernel_size=(5, 5), stride=(1, 1))\n",
       "    (1): Conv2d(6, 16, kernel_size=(5, 5), stride=(1, 1))\n",
       "    (2): Conv2d(16, 120, kernel_size=(5, 5), stride=(1, 1))\n",
       "  )\n",
       "  (pool): AvgPool2d(kernel_size=2, stride=2, padding=0)\n",
       "  (activation): Tanh()\n",
       "  (fc): ModuleList(\n",
       "    (0): Linear(in_features=120, out_features=84, bias=True)\n",
       "    (1): Linear(in_features=84, out_features=10, bias=True)\n",
       "  )\n",
       ")"
      ]
     },
     "execution_count": 14,
     "metadata": {},
     "output_type": "execute_result"
    }
   ],
   "source": [
    "class LeNet(nn.Module):\n",
    "    def __init__(self, in_channels=1):\n",
    "        super().__init__()\n",
    "        self.conv = nn.ModuleList([\n",
    "            nn.Conv2d(in_channels, 6, kernel_size=5, stride=1),\n",
    "            nn.Conv2d(6, 16, kernel_size=5, stride=1),\n",
    "            nn.Conv2d(16, 120, kernel_size=5, stride=1)\n",
    "        ])\n",
    "        self.pool = nn.AvgPool2d(2)\n",
    "        self.activation = nn.Tanh()\n",
    "        self.fc = nn.ModuleList([\n",
    "            nn.Linear(120, 84),\n",
    "            nn.Linear(84, 10)\n",
    "        ])\n",
    "    \n",
    "    def forward(self, x):\n",
    "        for i in range(2):\n",
    "            x = self.pool(self.activation(self.conv[i](x)))\n",
    "        x = nn.Flatten()(self.activation(self.conv[2](x)))\n",
    "        x = self.activation(self.fc[0](x))\n",
    "        x = nn.Softmax(dim=-1)(self.fc[1](x))\n",
    "        return x\n",
    "\n",
    "net = LeNet()\n",
    "net"
   ]
  },
  {
   "cell_type": "code",
   "execution_count": 15,
   "id": "40029f0a",
   "metadata": {},
   "outputs": [
    {
     "name": "stdout",
     "output_type": "stream",
     "text": [
      "----------------------------------------------------------------\n",
      "        Layer (type)               Output Shape         Param #\n",
      "================================================================\n",
      "            Conv2d-1            [-1, 6, 28, 28]             156\n",
      "              Tanh-2            [-1, 6, 28, 28]               0\n",
      "         AvgPool2d-3            [-1, 6, 14, 14]               0\n",
      "            Conv2d-4           [-1, 16, 10, 10]           2,416\n",
      "              Tanh-5           [-1, 16, 10, 10]               0\n",
      "         AvgPool2d-6             [-1, 16, 5, 5]               0\n",
      "            Conv2d-7            [-1, 120, 1, 1]          48,120\n",
      "              Tanh-8            [-1, 120, 1, 1]               0\n",
      "            Linear-9                   [-1, 84]          10,164\n",
      "             Tanh-10                   [-1, 84]               0\n",
      "           Linear-11                   [-1, 10]             850\n",
      "================================================================\n",
      "Total params: 61,706\n",
      "Trainable params: 61,706\n",
      "Non-trainable params: 0\n",
      "----------------------------------------------------------------\n",
      "Input size (MB): 0.00\n",
      "Forward/backward pass size (MB): 0.11\n",
      "Params size (MB): 0.24\n",
      "Estimated Total Size (MB): 0.35\n",
      "----------------------------------------------------------------\n"
     ]
    }
   ],
   "source": [
    "# Use torchsummary to print the architecture\n",
    "# ! pip install torchsummary\n",
    "from torchsummary import summary\n",
    "\n",
    "s = summary(net, (1, 32, 32))"
   ]
  },
  {
   "cell_type": "code",
   "execution_count": 16,
   "id": "274b84cb",
   "metadata": {},
   "outputs": [
    {
     "data": {
      "text/plain": [
       "tensor([[0.0852, 0.0939, 0.0924, 0.0957, 0.0943, 0.1224, 0.0921, 0.0951, 0.1162,\n",
       "         0.1127],\n",
       "        [0.0886, 0.0982, 0.0959, 0.0981, 0.0989, 0.1172, 0.0908, 0.0948, 0.1115,\n",
       "         0.1060],\n",
       "        [0.0857, 0.0923, 0.0987, 0.0914, 0.0947, 0.1241, 0.1011, 0.0948, 0.1085,\n",
       "         0.1088],\n",
       "        [0.0866, 0.0932, 0.0929, 0.1049, 0.0901, 0.1173, 0.1016, 0.0951, 0.1060,\n",
       "         0.1124],\n",
       "        [0.0814, 0.0931, 0.0989, 0.1023, 0.0948, 0.1180, 0.0936, 0.0964, 0.1132,\n",
       "         0.1083],\n",
       "        [0.0857, 0.0949, 0.0938, 0.1034, 0.0925, 0.1185, 0.0992, 0.0949, 0.1068,\n",
       "         0.1102],\n",
       "        [0.0846, 0.0943, 0.0928, 0.0976, 0.0920, 0.1193, 0.0957, 0.1011, 0.1092,\n",
       "         0.1133],\n",
       "        [0.0861, 0.0948, 0.0940, 0.0980, 0.0971, 0.1200, 0.0924, 0.0957, 0.1109,\n",
       "         0.1110],\n",
       "        [0.0840, 0.0929, 0.0944, 0.0982, 0.0943, 0.1147, 0.1005, 0.1016, 0.1086,\n",
       "         0.1107],\n",
       "        [0.0867, 0.0931, 0.0925, 0.1038, 0.0950, 0.1199, 0.0986, 0.0930, 0.1104,\n",
       "         0.1069]], grad_fn=<SoftmaxBackward0>)"
      ]
     },
     "execution_count": 16,
     "metadata": {},
     "output_type": "execute_result"
    }
   ],
   "source": [
    "net(X_train[:10])"
   ]
  },
  {
   "cell_type": "markdown",
   "id": "656e6aa5",
   "metadata": {},
   "source": [
    "## Residual Network (ResNet)\n",
    "\n",
    "\n",
    "An example of residual block:\n",
    "\n",
    "<img src=\"https://miro.medium.com/v2/resize:fit:868/format:webp/0*sGlmENAXIZhSqyFZ\" width=\"400\" />"
   ]
  },
  {
   "cell_type": "code",
   "execution_count": 17,
   "id": "86aa2f59",
   "metadata": {},
   "outputs": [],
   "source": [
    "class ResBlock(nn.Module):\n",
    "    def __init__(self, dim):\n",
    "        super().__init__()\n",
    "        self.fc = nn.ModuleList([nn.Linear(dim, dim), nn.Linear(dim, dim)])\n",
    "        self.activation = nn.ReLU()\n",
    "    \n",
    "    def forward(self, x):\n",
    "        out = self.activation(self.fc[0](x))\n",
    "        out = self.fc[1](out)\n",
    "        out += x\n",
    "        out = self.activation(out)\n",
    "        return out\n",
    "    "
   ]
  },
  {
   "cell_type": "code",
   "execution_count": 22,
   "id": "79dee9ca",
   "metadata": {},
   "outputs": [
    {
     "data": {
      "text/plain": [
       "LeNetRes(\n",
       "  (conv): ModuleList(\n",
       "    (0): Conv2d(1, 6, kernel_size=(5, 5), stride=(1, 1))\n",
       "    (1): Conv2d(6, 16, kernel_size=(5, 5), stride=(1, 1))\n",
       "    (2): Conv2d(16, 120, kernel_size=(5, 5), stride=(1, 1))\n",
       "  )\n",
       "  (pool): AvgPool2d(kernel_size=2, stride=2, padding=0)\n",
       "  (activation): Tanh()\n",
       "  (fc): ModuleList(\n",
       "    (0): Linear(in_features=120, out_features=120, bias=True)\n",
       "    (1): Linear(in_features=120, out_features=84, bias=True)\n",
       "    (2): Linear(in_features=84, out_features=10, bias=True)\n",
       "  )\n",
       ")"
      ]
     },
     "execution_count": 22,
     "metadata": {},
     "output_type": "execute_result"
    }
   ],
   "source": [
    "class LeNetRes(nn.Module):\n",
    "    def __init__(self, in_channels=1):\n",
    "        super().__init__()\n",
    "        self.conv = nn.ModuleList([\n",
    "            nn.Conv2d(in_channels, 6, kernel_size=5, stride=1),\n",
    "            nn.Conv2d(6, 16, kernel_size=5, stride=1),\n",
    "            nn.Conv2d(16, 120, kernel_size=5, stride=1)\n",
    "        ])\n",
    "        self.pool = nn.AvgPool2d(2)\n",
    "        self.activation = nn.Tanh()\n",
    "        self.fc = nn.ModuleList([\n",
    "            nn.Linear(120, 120),\n",
    "            nn.Linear(120, 84),\n",
    "            nn.Linear(84, 10)\n",
    "        ])\n",
    "    \n",
    "    def forward(self, x):\n",
    "        for i in range(2):\n",
    "            x = self.pool(self.activation(self.conv[i](x)))\n",
    "        x = nn.Flatten()(self.activation(self.conv[2](x)))\n",
    "        x = self.activation(x + self.fc[0](x))\n",
    "        x = self.activation(self.fc[0](x))\n",
    "        x = nn.Softmax(dim=-1)(self.fc[1](x))\n",
    "        return x\n",
    "\n",
    "net = LeNetRes()\n",
    "net"
   ]
  },
  {
   "cell_type": "code",
   "execution_count": 23,
   "id": "96a1c85f",
   "metadata": {},
   "outputs": [
    {
     "name": "stdout",
     "output_type": "stream",
     "text": [
      "----------------------------------------------------------------\n",
      "        Layer (type)               Output Shape         Param #\n",
      "================================================================\n",
      "            Conv2d-1            [-1, 6, 28, 28]             156\n",
      "              Tanh-2            [-1, 6, 28, 28]               0\n",
      "         AvgPool2d-3            [-1, 6, 14, 14]               0\n",
      "            Conv2d-4           [-1, 16, 10, 10]           2,416\n",
      "              Tanh-5           [-1, 16, 10, 10]               0\n",
      "         AvgPool2d-6             [-1, 16, 5, 5]               0\n",
      "            Conv2d-7            [-1, 120, 1, 1]          48,120\n",
      "              Tanh-8            [-1, 120, 1, 1]               0\n",
      "            Linear-9                  [-1, 120]          14,520\n",
      "             Tanh-10                  [-1, 120]               0\n",
      "           Linear-11                  [-1, 120]          14,520\n",
      "             Tanh-12                  [-1, 120]               0\n",
      "           Linear-13                   [-1, 84]          10,164\n",
      "================================================================\n",
      "Total params: 89,896\n",
      "Trainable params: 89,896\n",
      "Non-trainable params: 0\n",
      "----------------------------------------------------------------\n",
      "Input size (MB): 0.00\n",
      "Forward/backward pass size (MB): 0.11\n",
      "Params size (MB): 0.34\n",
      "Estimated Total Size (MB): 0.46\n",
      "----------------------------------------------------------------\n"
     ]
    }
   ],
   "source": [
    "s = summary(net, (1, 32, 32))"
   ]
  },
  {
   "cell_type": "markdown",
   "id": "3c59e8cd",
   "metadata": {},
   "source": [
    "## Batch Normalization (BN)\n",
    "\n",
    "For a 4-D input data $X$ with shape $(N,C,W,H)$. For each channel, the data is normalized by:\n",
    "\n",
    "$$\\hat{X}_{ijkl}=\\frac{X_{ijkl}-\\mathrm{mean}(X_j)}{\\sqrt{\\mathrm{var}(X_j)+\\epsilon}} * \\gamma_j + \\beta_j$$\n",
    "\n",
    "where\n",
    "\n",
    "$$\\mathrm{mean}(X_j)=\\frac{1}{NWH}\\sum_{i}^N\\sum_k^W\\sum_l^H X_{ikl}$$\n",
    "$$\\mathrm{var}(X_j)=\\frac{1}{NWH}\\sum_{i}^N\\sum_k^W\\sum_l^H (X_{ikl}-\\mathrm{mean}(X_j))^2$$\n",
    "\n",
    "$\\epsilon$ is a small number (say, $10^{-5}$) to avoid numerical instability. $\\boldsymbol{\\gamma, \\beta}$ are learnable parameters"
   ]
  },
  {
   "cell_type": "code",
   "execution_count": 20,
   "id": "e731ade8",
   "metadata": {
    "scrolled": true
   },
   "outputs": [
    {
     "data": {
      "text/plain": [
       "BatchNorm2d(120, eps=1e-05, momentum=0.1, affine=True, track_running_stats=True)"
      ]
     },
     "execution_count": 20,
     "metadata": {},
     "output_type": "execute_result"
    }
   ],
   "source": [
    "batch_norm = nn.BatchNorm2d(120)\n",
    "batch_norm"
   ]
  },
  {
   "cell_type": "code",
   "execution_count": 24,
   "id": "8263ff49",
   "metadata": {},
   "outputs": [
    {
     "data": {
      "text/plain": [
       "LeNetResNorm(\n",
       "  (conv): ModuleList(\n",
       "    (0): Conv2d(1, 6, kernel_size=(5, 5), stride=(1, 1))\n",
       "    (1): Conv2d(6, 16, kernel_size=(5, 5), stride=(1, 1))\n",
       "    (2): Conv2d(16, 120, kernel_size=(5, 5), stride=(1, 1))\n",
       "  )\n",
       "  (bn): ModuleList(\n",
       "    (0): BatchNorm2d(6, eps=1e-05, momentum=0.1, affine=True, track_running_stats=True)\n",
       "    (1): BatchNorm2d(16, eps=1e-05, momentum=0.1, affine=True, track_running_stats=True)\n",
       "  )\n",
       "  (pool): AvgPool2d(kernel_size=2, stride=2, padding=0)\n",
       "  (activation): Tanh()\n",
       "  (fc): ModuleList(\n",
       "    (0): Linear(in_features=120, out_features=120, bias=True)\n",
       "    (1): Linear(in_features=120, out_features=84, bias=True)\n",
       "    (2): Linear(in_features=84, out_features=10, bias=True)\n",
       "  )\n",
       ")"
      ]
     },
     "execution_count": 24,
     "metadata": {},
     "output_type": "execute_result"
    }
   ],
   "source": [
    "class LeNetResNorm(nn.Module):\n",
    "    def __init__(self, in_channels=1):\n",
    "        super().__init__()\n",
    "        self.conv = nn.ModuleList([\n",
    "            nn.Conv2d(in_channels, 6, kernel_size=5, stride=1),\n",
    "            nn.Conv2d(6, 16, kernel_size=5, stride=1),\n",
    "            nn.Conv2d(16, 120, kernel_size=5, stride=1)\n",
    "        ])\n",
    "        self.bn = nn.ModuleList([\n",
    "            nn.BatchNorm2d(6),\n",
    "            nn.BatchNorm2d(16),\n",
    "        ])\n",
    "        self.pool = nn.AvgPool2d(2)\n",
    "        self.activation = nn.Tanh()\n",
    "        self.fc = nn.ModuleList([\n",
    "            nn.Linear(120, 120),\n",
    "            nn.Linear(120, 84),\n",
    "            nn.Linear(84, 10)\n",
    "        ])\n",
    "    \n",
    "    def forward(self, x):\n",
    "        for i in range(2):\n",
    "            x = self.bn[i](self.pool(self.activation(self.conv[i](x))))\n",
    "        x = nn.Flatten()(self.activation(self.conv[2](x)))\n",
    "        x = self.activation(x + self.fc[0](x))\n",
    "        x = self.activation(self.fc[0](x))\n",
    "        x = nn.Softmax(dim=-1)(self.fc[1](x))\n",
    "        return x\n",
    "\n",
    "net = LeNetResNorm()\n",
    "net"
   ]
  },
  {
   "cell_type": "code",
   "execution_count": null,
   "id": "0417845b",
   "metadata": {},
   "outputs": [],
   "source": []
  }
 ],
 "metadata": {
  "kernelspec": {
   "display_name": "Python 3 (ipykernel)",
   "language": "python",
   "name": "python3"
  },
  "language_info": {
   "codemirror_mode": {
    "name": "ipython",
    "version": 3
   },
   "file_extension": ".py",
   "mimetype": "text/x-python",
   "name": "python",
   "nbconvert_exporter": "python",
   "pygments_lexer": "ipython3",
   "version": "3.10.13"
  }
 },
 "nbformat": 4,
 "nbformat_minor": 5
}
